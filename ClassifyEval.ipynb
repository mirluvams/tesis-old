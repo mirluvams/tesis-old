{
 "cells": [
  {
   "cell_type": "code",
   "execution_count": 1,
   "id": "a573c662-410a-479c-a59a-52e4b5e5e590",
   "metadata": {},
   "outputs": [],
   "source": [
    "import pandas as pd\n",
    "import numpy as np\n",
    "import torch.nn as nn\n",
    "from guizero import *\n",
    "import PIL\n",
    "from PIL import ImageFile\n",
    "ImageFile.LOAD_TRUNCATED_IMAGES = True #imagenes ligeramente corruptas OK\n",
    "from transformers import AutoImageProcessor\n",
    "from transformers import AutoModelForImageClassification"
   ]
  },
  {
   "cell_type": "code",
   "execution_count": 2,
   "id": "eb850511-a57b-4a1e-8ef4-22771b43c06e",
   "metadata": {},
   "outputs": [],
   "source": [
    "#datos"
   ]
  },
  {
   "cell_type": "code",
   "execution_count": 3,
   "id": "debf2fb4-a702-4fac-8b78-d30ee1b275a9",
   "metadata": {},
   "outputs": [],
   "source": [
    "data=None\n",
    "try:\n",
    "    data=pd.read_feather(\"eval_set.feather\")\n",
    "except:\n",
    "    data=pd.read_feather(\"eval_set.bak.feather\")"
   ]
  },
  {
   "cell_type": "code",
   "execution_count": 4,
   "id": "bb7b9f43-60e6-4ac2-8f90-3c5721407f2b",
   "metadata": {},
   "outputs": [
    {
     "data": {
      "text/html": [
       "<div>\n",
       "<style scoped>\n",
       "    .dataframe tbody tr th:only-of-type {\n",
       "        vertical-align: middle;\n",
       "    }\n",
       "\n",
       "    .dataframe tbody tr th {\n",
       "        vertical-align: top;\n",
       "    }\n",
       "\n",
       "    .dataframe thead th {\n",
       "        text-align: right;\n",
       "    }\n",
       "</style>\n",
       "<table border=\"1\" class=\"dataframe\">\n",
       "  <thead>\n",
       "    <tr style=\"text-align: right;\">\n",
       "      <th></th>\n",
       "      <th>Path</th>\n",
       "      <th>auto_labels</th>\n",
       "      <th>labels</th>\n",
       "    </tr>\n",
       "  </thead>\n",
       "  <tbody>\n",
       "    <tr>\n",
       "      <th>count</th>\n",
       "      <td>270</td>\n",
       "      <td>270</td>\n",
       "      <td>270</td>\n",
       "    </tr>\n",
       "    <tr>\n",
       "      <th>unique</th>\n",
       "      <td>270</td>\n",
       "      <td>1</td>\n",
       "      <td>1</td>\n",
       "    </tr>\n",
       "    <tr>\n",
       "      <th>top</th>\n",
       "      <td>images/2024/image_1.jpg</td>\n",
       "      <td></td>\n",
       "      <td></td>\n",
       "    </tr>\n",
       "    <tr>\n",
       "      <th>freq</th>\n",
       "      <td>1</td>\n",
       "      <td>270</td>\n",
       "      <td>270</td>\n",
       "    </tr>\n",
       "  </tbody>\n",
       "</table>\n",
       "</div>"
      ],
      "text/plain": [
       "                           Path auto_labels labels\n",
       "count                       270         270    270\n",
       "unique                      270           1      1\n",
       "top     images/2024/image_1.jpg                   \n",
       "freq                          1         270    270"
      ]
     },
     "execution_count": 4,
     "metadata": {},
     "output_type": "execute_result"
    }
   ],
   "source": [
    "data.describe()"
   ]
  },
  {
   "cell_type": "code",
   "execution_count": 5,
   "id": "5b5e80e5-61c8-4ffd-b8a8-93968b6255f9",
   "metadata": {},
   "outputs": [],
   "source": [
    "# utils"
   ]
  },
  {
   "cell_type": "code",
   "execution_count": 6,
   "id": "7dca5294-ee6a-4897-a23d-a4d5b84ec445",
   "metadata": {},
   "outputs": [],
   "source": [
    "def load_image(path):\n",
    "    return PIL.Image.open(path)"
   ]
  },
  {
   "cell_type": "code",
   "execution_count": 7,
   "id": "c2eb0bb3-524a-4b95-84bf-e09a62b5c596",
   "metadata": {},
   "outputs": [],
   "source": [
    "def save(backup):\n",
    "    data.to_feather(f\"eval_set{'.bak' if backup else ''}.feather\")"
   ]
  },
  {
   "cell_type": "code",
   "execution_count": null,
   "id": "2d987362-243f-488c-a008-601fd09ae44c",
   "metadata": {},
   "outputs": [],
   "source": []
  },
  {
   "cell_type": "code",
   "execution_count": 8,
   "id": "48c41756-6bda-4380-a36c-f6512c8fc41a",
   "metadata": {},
   "outputs": [],
   "source": [
    "def get_next(col=\"labels\"):\n",
    "    f=data[data[col]==\"\"]\n",
    "    if(f.shape[0]==0):\n",
    "        return None\n",
    "    return f.iloc[0]"
   ]
  },
  {
   "cell_type": "code",
   "execution_count": 9,
   "id": "d2685fc8-5c8b-45c0-8296-0450c6479fbc",
   "metadata": {},
   "outputs": [],
   "source": [
    "def set_label(idx,label,col=\"labels\"):\n",
    "    data.iloc[idx][col]=label"
   ]
  },
  {
   "cell_type": "code",
   "execution_count": null,
   "id": "8ce2e6f6-6d9f-4c7e-ac70-39a5481a4bd1",
   "metadata": {},
   "outputs": [],
   "source": []
  },
  {
   "cell_type": "code",
   "execution_count": 10,
   "id": "0c84c428-8816-4de8-9bd3-32fa93f58bcc",
   "metadata": {},
   "outputs": [],
   "source": [
    "# classifier"
   ]
  },
  {
   "cell_type": "code",
   "execution_count": 17,
   "id": "2d144d7d-8421-4dc7-bfdb-1e168f1e5929",
   "metadata": {},
   "outputs": [],
   "source": [
    "model_name=\"MimModels/swinv2-base-patch4-window16-256-popo\""
   ]
  },
  {
   "cell_type": "code",
   "execution_count": 18,
   "id": "9bee08c8-15fd-41a5-8b94-f14ff982c827",
   "metadata": {},
   "outputs": [],
   "source": [
    "device=\"cuda\""
   ]
  },
  {
   "cell_type": "code",
   "execution_count": 19,
   "id": "05d73fb7-75ed-49fb-a518-6d16a3bbfa8f",
   "metadata": {},
   "outputs": [],
   "source": [
    "model = AutoModelForImageClassification.from_pretrained(model_name).to(device)"
   ]
  },
  {
   "cell_type": "code",
   "execution_count": 20,
   "id": "d9d3ca6a-4697-4e23-90e5-9f2304159b70",
   "metadata": {
    "tags": []
   },
   "outputs": [],
   "source": [
    "image_processor = AutoImageProcessor.from_pretrained(model_name)"
   ]
  },
  {
   "cell_type": "code",
   "execution_count": 21,
   "id": "c5a2d481-5ca4-41a8-8042-caf3e337c1c5",
   "metadata": {},
   "outputs": [],
   "source": [
    "def process(image):\n",
    "    return image_processor(images=image, return_tensors=\"pt\").to(model.device)[\"pixel_values\"]"
   ]
  },
  {
   "cell_type": "code",
   "execution_count": 22,
   "id": "a24df990-e08b-44c2-b03a-bf606e83745b",
   "metadata": {},
   "outputs": [],
   "source": [
    "def consume(pixels):\n",
    "    logits=model(pixel_values=pixels).logits\n",
    "    return nn.functional.softmax(logits, dim=-1).detach().cpu().numpy().flatten()"
   ]
  },
  {
   "cell_type": "code",
   "execution_count": 23,
   "id": "e61be0a9-0004-42a1-8ced-5b18d17d2b4f",
   "metadata": {},
   "outputs": [],
   "source": [
    "#p=consume(process(load_image(data.iloc[0][\"Path\"])))\n",
    "#p"
   ]
  },
  {
   "cell_type": "code",
   "execution_count": 24,
   "id": "802f606d-dc56-4aff-a3c6-b18c70eef600",
   "metadata": {},
   "outputs": [],
   "source": [
    "def classify(probabilities):\n",
    "    idx=probabilities.argmax(-1).item()\n",
    "    return model.config.id2label[idx]"
   ]
  },
  {
   "cell_type": "code",
   "execution_count": 25,
   "id": "52a53e44-f60e-441b-8b83-2c8dd96ad370",
   "metadata": {},
   "outputs": [],
   "source": [
    "#model.config.id2label"
   ]
  },
  {
   "cell_type": "code",
   "execution_count": 26,
   "id": "ccb7e4f1-0e85-40b0-8acb-77bd4939ea46",
   "metadata": {},
   "outputs": [],
   "source": [
    "#model.config.id2label[4],data.iloc[0][\"y\"]"
   ]
  },
  {
   "cell_type": "code",
   "execution_count": 27,
   "id": "0fe79000-5264-4ae9-a1fe-d0a119406ee1",
   "metadata": {},
   "outputs": [
    {
     "name": "stdout",
     "output_type": "stream",
     "text": [
      "Remaining: 0 (0.00%)))))\r"
     ]
    }
   ],
   "source": [
    "while(True):\n",
    "    r_count=data[data[\"auto_labels\"]==\"\"].shape[0]\n",
    "    print(f\"Remaining: {r_count} ({r_count/data.shape[0]*100:.02f}%)\",end=\"\\r\")\n",
    "    nxt=get_next(col=\"auto_labels\")\n",
    "    if nxt is None:\n",
    "        break\n",
    "    try:\n",
    "        probs=consume(process(load_image(nxt[\"Path\"])))\n",
    "        cl=classify(probs)\n",
    "    except:\n",
    "        cl=\"UNK\"\n",
    "    save(True)\n",
    "    data.loc[nxt.name,\"auto_labels\"]=cl\n",
    "    save(False)\n",
    "    "
   ]
  },
  {
   "cell_type": "code",
   "execution_count": 28,
   "id": "55431950-f189-4120-aaa8-f89a5bad24f7",
   "metadata": {},
   "outputs": [],
   "source": [
    "#data[\"ny\"]=np.where(data[\"y\"]!=data[\"my\"],\"\",data[\"y\"])"
   ]
  },
  {
   "cell_type": "code",
   "execution_count": 29,
   "id": "7279b535-f1ef-4981-a2b4-3102fefb6871",
   "metadata": {},
   "outputs": [],
   "source": [
    "#save(True)"
   ]
  },
  {
   "cell_type": "code",
   "execution_count": 30,
   "id": "09ed4d31-b992-4609-8aaa-780dc38680b0",
   "metadata": {},
   "outputs": [],
   "source": [
    "#save(False)"
   ]
  },
  {
   "cell_type": "code",
   "execution_count": 31,
   "id": "9e6995d1-cb79-4d9e-8729-a25b03e941af",
   "metadata": {},
   "outputs": [],
   "source": [
    "# initial state"
   ]
  },
  {
   "cell_type": "code",
   "execution_count": 32,
   "id": "06ca1e37-0f20-40de-a39c-64bc8f7e80fb",
   "metadata": {},
   "outputs": [],
   "source": [
    "r_count=data[data[\"labels\"]==\"\"].shape[0]\n",
    "m_count=r_count\n",
    "nxt=get_next()\n",
    "if nxt is None:\n",
    "    raise \"You're done, go home!\""
   ]
  },
  {
   "cell_type": "code",
   "execution_count": 33,
   "id": "e66e027f-134b-4bf3-848e-aa69053198d0",
   "metadata": {},
   "outputs": [],
   "source": [
    "# interface"
   ]
  },
  {
   "cell_type": "code",
   "execution_count": 34,
   "id": "8088d050-f6fa-494e-9fa3-51769b2407dd",
   "metadata": {},
   "outputs": [
    {
     "name": "stdout",
     "output_type": "stream",
     "text": [
      "EXP+FUM pressed\n",
      "UNK pressed\n",
      "UNK pressed\n",
      "UNK pressed\n",
      "FUM pressed\n",
      "INA pressed\n",
      "INA pressed\n",
      "EXP+FUM pressed\n",
      "EXP+FUM pressed\n",
      "EXP+FUM pressed\n",
      "EXP+FUM pressed\n",
      "FUM pressed\n",
      "FUM pressed\n",
      "FUM pressed\n",
      "EXP+FUM pressed\n",
      "EXP+FUM pressed\n",
      "UNK pressed\n",
      "FUM pressed\n",
      "EXP+FUM pressed\n",
      "FUM pressed\n",
      "EXP+FUM pressed\n",
      "INA pressed\n",
      "EXP+FUM pressed\n",
      "FUM pressed\n",
      "FUM pressed\n",
      "EXP+FUM pressed\n",
      "UNK pressed\n",
      "EXP+FUM pressed\n",
      "FUM pressed\n",
      "UNK pressed\n",
      "EXP+FUM pressed\n",
      "EXP+FUM pressed\n",
      "EXP+FUM pressed\n",
      "FUM pressed\n",
      "EXP+FUM pressed\n",
      "FUM pressed\n",
      "FUM pressed\n",
      "EXP+FUM pressed\n",
      "EXP+FUM pressed\n",
      "EXP+FUM pressed\n",
      "FUM pressed\n",
      "EXP+FUM pressed\n",
      "EXP+FUM pressed\n",
      "EXP+FUM pressed\n",
      "EXP+FUM pressed\n",
      "FUM pressed\n",
      "FUM pressed\n",
      "FUM pressed\n",
      "EXP+FUM pressed\n",
      "EXP+FUM pressed\n",
      "UNK pressed\n",
      "FUM pressed\n",
      "FUM pressed\n",
      "FUM pressed\n",
      "FUM pressed\n",
      "EXP+FUM pressed\n",
      "UNK pressed\n",
      "FUM pressed\n",
      "FUM pressed\n",
      "EXP+FUM pressed\n",
      "EXP+FUM pressed\n",
      "UNK pressed\n",
      "FUM pressed\n",
      "UNK pressed\n",
      "FUM pressed\n",
      "INA pressed\n",
      "EXP+FUM pressed\n",
      "FUM pressed\n",
      "EXP+FUM pressed\n",
      "INA pressed\n",
      "EXP+FUM pressed\n",
      "FUM pressed\n",
      "EXP+FUM pressed\n",
      "EXP+FUM pressed\n",
      "EXP+FUM pressed\n",
      "FUM pressed\n",
      "INA pressed\n",
      "UNK pressed\n",
      "EXP+FUM pressed\n",
      "FUM pressed\n",
      "UNK pressed\n",
      "EXP+FUM pressed\n",
      "INA pressed\n",
      "FUM pressed\n",
      "EXP+FUM pressed\n",
      "EXP+FUM pressed\n",
      "EXP+FUM pressed\n",
      "EXP+FUM pressed\n",
      "FUM pressed\n",
      "UNK pressed\n",
      "UNK pressed\n",
      "FUM pressed\n",
      "UNK pressed\n",
      "EXP+FUM pressed\n",
      "EXP+FUM pressed\n",
      "EXP+FUM pressed\n",
      "UNK pressed\n",
      "UNK pressed\n",
      "EXP+FUM pressed\n",
      "FUM pressed\n",
      "FUM pressed\n",
      "EXP+FUM pressed\n",
      "EXP+FUM pressed\n",
      "FUM pressed\n",
      "EXP+FUM pressed\n",
      "EXP+FUM pressed\n",
      "FUM pressed\n",
      "EXP+FUM pressed\n",
      "UNK pressed\n",
      "EXP+FUM pressed\n",
      "EXP+FUM pressed\n",
      "EXP+FUM pressed\n",
      "FUM pressed\n",
      "UNK pressed\n",
      "EXP+FUM pressed\n",
      "EXP+FUM pressed\n",
      "EXP+FUM pressed\n",
      "EXP+FUM pressed\n",
      "UNK pressed\n",
      "UNK pressed\n",
      "EXP+FUM pressed\n",
      "EXP+FUM pressed\n",
      "EXP+FUM pressed\n",
      "FUM pressed\n",
      "EXP+FUM pressed\n",
      "EXP+FUM pressed\n",
      "EXP+FUM pressed\n",
      "EXP+FUM pressed\n",
      "EXP+FUM pressed\n",
      "EXP+FUM pressed\n",
      "EXP+FUM pressed\n",
      "EXP+FUM pressed\n",
      "EXP+FUM pressed\n",
      "EXP+FUM pressed\n",
      "EXP+FUM pressed\n",
      "EXP+FUM pressed\n",
      "EXP+FUM pressed\n",
      "EXP+FUM pressed\n",
      "EXP+FUM pressed\n",
      "FUM pressed\n",
      "EXP+FUM pressed\n",
      "EXP+FUM pressed\n",
      "UNK pressed\n",
      "EXP+FUM pressed\n",
      "FUM pressed\n",
      "FUM pressed\n"
     ]
    },
    {
     "name": "stderr",
     "output_type": "stream",
     "text": [
      "Exception in Tkinter callback\n",
      "Traceback (most recent call last):\n",
      "  File \"C:\\Users\\alexi\\mambaforge\\lib\\tkinter\\__init__.py\", line 1921, in __call__\n",
      "    return self.func(*args)\n",
      "  File \"C:\\Users\\alexi\\mambaforge\\lib\\site-packages\\guizero\\PushButton.py\", line 206, in _command_callback\n",
      "    self._command()\n",
      "  File \"C:\\Users\\alexi\\mambaforge\\lib\\site-packages\\guizero\\utilities.py\", line 364, in <lambda>\n",
      "    return lambda: func_name(*args)\n",
      "  File \"C:\\Users\\alexi\\AppData\\Local\\Temp\\ipykernel_2120\\4194483799.py\", line 22, in buttonPressed\n",
      "    save(False)\n",
      "  File \"C:\\Users\\alexi\\AppData\\Local\\Temp\\ipykernel_2120\\4216359964.py\", line 2, in save\n",
      "    data.to_feather(f\"eval_set{'.bak' if backup else ''}.feather\")\n",
      "  File \"C:\\Users\\alexi\\mambaforge\\lib\\site-packages\\pandas\\core\\frame.py\", line 2714, in to_feather\n",
      "    to_feather(self, path, **kwargs)\n",
      "  File \"C:\\Users\\alexi\\mambaforge\\lib\\site-packages\\pandas\\io\\feather_format.py\", line 93, in to_feather\n",
      "    with get_handle(\n",
      "  File \"C:\\Users\\alexi\\mambaforge\\lib\\site-packages\\pandas\\io\\common.py\", line 868, in get_handle\n",
      "    handle = open(handle, ioargs.mode)\n",
      "PermissionError: [Errno 13] Permission denied: 'eval_set.feather'\n"
     ]
    },
    {
     "name": "stdout",
     "output_type": "stream",
     "text": [
      "FUM pressed\n",
      "UNK pressed\n",
      "EXP+FUM pressed\n",
      "EXP+FUM pressed\n",
      "UNK pressed\n",
      "UNK pressed\n",
      "FUM pressed\n",
      "EXP+FUM pressed\n",
      "EXP+FUM pressed\n",
      "FUM pressed\n",
      "EXP+FUM pressed\n",
      "EXP+FUM pressed\n",
      "EXP+FUM pressed\n",
      "EXP+FUM pressed\n",
      "EXP+FUM pressed\n",
      "FUM pressed\n",
      "UNK pressed\n",
      "EXP+FUM pressed\n",
      "EXP+FUM pressed\n",
      "UNK pressed\n",
      "EXP+FUM pressed\n",
      "EXP+FUM pressed\n",
      "UNK pressed\n",
      "EXP+FUM pressed\n",
      "EXP+FUM pressed\n",
      "EXP+FUM pressed\n",
      "FUM pressed\n",
      "FUM pressed\n",
      "FUM pressed\n",
      "EXP+FUM pressed\n",
      "EXP+FUM pressed\n",
      "EXP+FUM pressed\n",
      "FUM pressed\n",
      "FUM pressed\n",
      "EXP+FUM pressed\n",
      "EXP+FUM pressed\n",
      "EXP+FUM pressed\n",
      "EXP+FUM pressed\n",
      "EXP+FUM pressed\n",
      "EXP+FUM pressed\n",
      "EXP+FUM pressed\n",
      "EXP+FUM pressed\n",
      "EXP+FUM pressed\n",
      "EXP+FUM pressed\n",
      "FUM pressed\n",
      "EXP+FUM pressed\n",
      "EXP+FUM pressed\n",
      "EXP+FUM pressed\n",
      "INA pressed\n",
      "FUM pressed\n",
      "UNK pressed\n",
      "FUM pressed\n",
      "EXP+FUM pressed\n",
      "UNK pressed\n",
      "FUM pressed\n",
      "FUM pressed\n",
      "FUM pressed\n",
      "EXP+FUM pressed\n",
      "EXP+FUM pressed\n",
      "UNK pressed\n",
      "INA pressed\n",
      "FUM pressed\n",
      "FUM pressed\n",
      "FUM pressed\n",
      "EXP+FUM pressed\n",
      "FUM pressed\n",
      "EXP+FUM pressed\n",
      "FUM pressed\n",
      "FUM pressed\n",
      "FUM pressed\n",
      "FUM pressed\n",
      "FUM pressed\n",
      "FUM pressed\n",
      "FUM pressed\n",
      "EXP+FUM pressed\n",
      "FUM pressed\n",
      "UNK pressed\n",
      "FUM pressed\n",
      "EXP+FUM pressed\n",
      "FUM pressed\n",
      "EXP+FUM pressed\n",
      "UNK pressed\n",
      "FUM pressed\n",
      "FUM pressed\n",
      "UNK pressed\n",
      "FUM pressed\n",
      "EXP+FUM pressed\n",
      "UNK pressed\n",
      "UNK pressed\n",
      "FUM pressed\n",
      "UNK pressed\n",
      "UNK pressed\n",
      "FUM pressed\n",
      "EXP+FUM pressed\n",
      "FUM pressed\n",
      "FUM pressed\n",
      "UNK pressed\n",
      "FUM pressed\n",
      "FUM pressed\n",
      "EXP+FUM pressed\n",
      "FUM pressed\n",
      "EXP+FUM pressed\n",
      "FUM pressed\n",
      "EXP+FUM pressed\n",
      "UNK pressed\n",
      "UNK pressed\n",
      "EXP pressed\n",
      "EXP+FUM pressed\n",
      "FUM pressed\n",
      "INA pressed\n",
      "EXP+FUM pressed\n",
      "UNK pressed\n",
      "EXP+FUM pressed\n",
      "EXP+FUM pressed\n",
      "FUM pressed\n",
      "EXP+FUM pressed\n",
      "FUM pressed\n",
      "FUM pressed\n",
      "FUM pressed\n",
      "EXP+FUM pressed\n",
      "FUM pressed\n",
      "UNK pressed\n",
      "FUM pressed\n",
      "FUM pressed\n",
      "FUM pressed\n"
     ]
    },
    {
     "name": "stderr",
     "output_type": "stream",
     "text": [
      "Exception in Tkinter callback\n",
      "Traceback (most recent call last):\n",
      "  File \"C:\\Users\\alexi\\mambaforge\\lib\\tkinter\\__init__.py\", line 1921, in __call__\n",
      "    return self.func(*args)\n",
      "  File \"C:\\Users\\alexi\\mambaforge\\lib\\site-packages\\guizero\\PushButton.py\", line 206, in _command_callback\n",
      "    self._command()\n",
      "  File \"C:\\Users\\alexi\\mambaforge\\lib\\site-packages\\guizero\\utilities.py\", line 364, in <lambda>\n",
      "    return lambda: func_name(*args)\n",
      "  File \"C:\\Users\\alexi\\AppData\\Local\\Temp\\ipykernel_2120\\4194483799.py\", line 27, in buttonPressed\n",
      "    info.value=f\"Model says: {nxt['auto_labels']}\"\n",
      "TypeError: 'NoneType' object is not subscriptable\n"
     ]
    },
    {
     "name": "stdout",
     "output_type": "stream",
     "text": [
      "FUM pressed\n"
     ]
    },
    {
     "name": "stderr",
     "output_type": "stream",
     "text": [
      "Exception in Tkinter callback\n",
      "Traceback (most recent call last):\n",
      "  File \"C:\\Users\\alexi\\mambaforge\\lib\\tkinter\\__init__.py\", line 1921, in __call__\n",
      "    return self.func(*args)\n",
      "  File \"C:\\Users\\alexi\\mambaforge\\lib\\site-packages\\guizero\\PushButton.py\", line 206, in _command_callback\n",
      "    self._command()\n",
      "  File \"C:\\Users\\alexi\\mambaforge\\lib\\site-packages\\guizero\\utilities.py\", line 364, in <lambda>\n",
      "    return lambda: func_name(*args)\n",
      "  File \"C:\\Users\\alexi\\AppData\\Local\\Temp\\ipykernel_2120\\4194483799.py\", line 21, in buttonPressed\n",
      "    data.loc[nxt.name,\"labels\"]=model.config.id2label[i]\n",
      "AttributeError: 'NoneType' object has no attribute 'name'\n"
     ]
    },
    {
     "name": "stdout",
     "output_type": "stream",
     "text": [
      "FUM pressed\n"
     ]
    },
    {
     "name": "stderr",
     "output_type": "stream",
     "text": [
      "Exception in Tkinter callback\n",
      "Traceback (most recent call last):\n",
      "  File \"C:\\Users\\alexi\\mambaforge\\lib\\tkinter\\__init__.py\", line 1921, in __call__\n",
      "    return self.func(*args)\n",
      "  File \"C:\\Users\\alexi\\mambaforge\\lib\\site-packages\\guizero\\PushButton.py\", line 206, in _command_callback\n",
      "    self._command()\n",
      "  File \"C:\\Users\\alexi\\mambaforge\\lib\\site-packages\\guizero\\utilities.py\", line 364, in <lambda>\n",
      "    return lambda: func_name(*args)\n",
      "  File \"C:\\Users\\alexi\\AppData\\Local\\Temp\\ipykernel_2120\\4194483799.py\", line 21, in buttonPressed\n",
      "    data.loc[nxt.name,\"labels\"]=model.config.id2label[i]\n",
      "AttributeError: 'NoneType' object has no attribute 'name'\n"
     ]
    },
    {
     "name": "stdout",
     "output_type": "stream",
     "text": [
      "FUM pressed\n"
     ]
    },
    {
     "name": "stderr",
     "output_type": "stream",
     "text": [
      "Exception in Tkinter callback\n",
      "Traceback (most recent call last):\n",
      "  File \"C:\\Users\\alexi\\mambaforge\\lib\\tkinter\\__init__.py\", line 1921, in __call__\n",
      "    return self.func(*args)\n",
      "  File \"C:\\Users\\alexi\\mambaforge\\lib\\site-packages\\guizero\\PushButton.py\", line 206, in _command_callback\n",
      "    self._command()\n",
      "  File \"C:\\Users\\alexi\\mambaforge\\lib\\site-packages\\guizero\\utilities.py\", line 364, in <lambda>\n",
      "    return lambda: func_name(*args)\n",
      "  File \"C:\\Users\\alexi\\AppData\\Local\\Temp\\ipykernel_2120\\4194483799.py\", line 21, in buttonPressed\n",
      "    data.loc[nxt.name,\"labels\"]=model.config.id2label[i]\n",
      "AttributeError: 'NoneType' object has no attribute 'name'\n"
     ]
    }
   ],
   "source": [
    "app = App(bg=\"black\")\n",
    "app.set_full_screen()\n",
    "w,h=app.width,app.height\n",
    "r_count=data[data[\"labels\"]==\"\"].shape[0]\n",
    "current_img=load_image(nxt[\"Path\"])\n",
    "scaled_w=current_img.size[0]/current_img.size[1]*h*.6\n",
    "pic=Picture(app, image=current_img, width=int(scaled_w), height=int(h*.6))\n",
    "progress=Text(app, text=f\"Remaining: {r_count} ({100-r_count/m_count*100:.02f}% complete)\", width=\"fill\", height=1,  )\n",
    "progress.text_size*=3\n",
    "progress.text_color=\"white\"\n",
    "info=Text(app, text=f\"Model says: {nxt['auto_labels']}\", width=\"fill\", height=1,  )\n",
    "info.text_size*=3\n",
    "info.text_color=\"white\"\n",
    "bottom=Box(app, layout=\"grid\", width=\"fill\", height=\"fill\")\n",
    "buttons=None\n",
    "\n",
    "def buttonPressed(i):\n",
    "    global r_count, nxt, current_img\n",
    "    print(model.config.id2label[i],\"pressed\")\n",
    "    save(True)\n",
    "    data.loc[nxt.name,\"labels\"]=model.config.id2label[i]\n",
    "    save(False)\n",
    "\n",
    "    r_count=data[data[\"labels\"]==\"\"].shape[0]\n",
    "    nxt=get_next(col=\"labels\")\n",
    "    progress.value=f\"Remaining: {r_count} ({100-r_count/m_count*100:.02f}% complete)\"\n",
    "    info.value=f\"Model says: {nxt['auto_labels']}\"\n",
    "    current_img=load_image(nxt[\"Path\"])\n",
    "    pic.image=current_img\n",
    "    scaled_w=current_img.size[0]/current_img.size[1]*h*.7\n",
    "    pic.resize(int(scaled_w), int(h*.8))\n",
    "    \n",
    "def makeButton(i):\n",
    "    label=model.config.id2label[i]\n",
    "    b=PushButton(bottom, text=label, grid=[i,0], padx=0, pady=0, width=w//int(5*20), height=2, command=buttonPressed, args=[i])\n",
    "    b.bg=\"white\"\n",
    "    b.text_size*=3\n",
    "    return b\n",
    "buttons=[makeButton(i) for i in range(5)]\n",
    "\n",
    "app.focus()\n",
    "app.display()"
   ]
  },
  {
   "cell_type": "code",
   "execution_count": 38,
   "id": "5cb628bb-1c94-4479-8e7b-d9f795836a42",
   "metadata": {},
   "outputs": [
    {
     "data": {
      "text/plain": [
       "labels\n",
       "EXP+FUM    128\n",
       "FUM         88\n",
       "UNK         43\n",
       "INA         10\n",
       "EXP          1\n",
       "Name: count, dtype: int64"
      ]
     },
     "execution_count": 38,
     "metadata": {},
     "output_type": "execute_result"
    }
   ],
   "source": [
    "data[\"labels\"].value_counts()"
   ]
  },
  {
   "cell_type": "code",
   "execution_count": 40,
   "id": "393ac1aa-04a1-4497-9de2-acf3d432f64f",
   "metadata": {},
   "outputs": [],
   "source": [
    "save(False)"
   ]
  },
  {
   "cell_type": "code",
   "execution_count": null,
   "id": "1e01d77e-debe-45d7-906e-625fbf16bb5e",
   "metadata": {},
   "outputs": [],
   "source": []
  }
 ],
 "metadata": {
  "kernelspec": {
   "display_name": "Python 3 (ipykernel)",
   "language": "python",
   "name": "python3"
  },
  "language_info": {
   "codemirror_mode": {
    "name": "ipython",
    "version": 3
   },
   "file_extension": ".py",
   "mimetype": "text/x-python",
   "name": "python",
   "nbconvert_exporter": "python",
   "pygments_lexer": "ipython3",
   "version": "3.10.12"
  }
 },
 "nbformat": 4,
 "nbformat_minor": 5
}
