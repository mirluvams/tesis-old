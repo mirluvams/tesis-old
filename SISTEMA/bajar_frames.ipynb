{
 "cells": [
  {
   "cell_type": "code",
   "execution_count": 1,
   "id": "a08a3d01-5e7b-481c-9bf2-e02e2969af8c",
   "metadata": {},
   "outputs": [],
   "source": [
    "import os\n",
    "import yt_dlp\n",
    "import cv2\n",
    "from datetime import datetime"
   ]
  },
  {
   "cell_type": "code",
   "execution_count": 4,
   "id": "f6313e40-8c5f-494e-a6b6-f82846a0e4b4",
   "metadata": {},
   "outputs": [
    {
     "name": "stdout",
     "output_type": "stream",
     "text": [
      "[youtube] Extracting URL: https://www.youtube.com/watch?v=4DJUOw-LFHE\n",
      "[youtube] 4DJUOw-LFHE: Downloading webpage\n",
      "[youtube] 4DJUOw-LFHE: Downloading ios player API JSON\n",
      "[youtube] 4DJUOw-LFHE: Downloading android player API JSON\n"
     ]
    },
    {
     "name": "stderr",
     "output_type": "stream",
     "text": [
      "WARNING: [youtube] Skipping player responses from android clients (got player responses for video \"aQvGIIdgFDM\" instead of \"4DJUOw-LFHE\")\n",
      "ERROR: [youtube] 4DJUOw-LFHE: This live stream recording is not available.\n"
     ]
    },
    {
     "name": "stdout",
     "output_type": "stream",
     "text": [
      "Error al obtener info del video: ERROR: [youtube] 4DJUOw-LFHE: This live stream recording is not available.. IGNORANDO esta URL.\n",
      "[youtube] Extracting URL: https://www.youtube.com/watch?v=k8lfQpJRAkY\n",
      "[youtube] k8lfQpJRAkY: Downloading webpage\n",
      "[youtube] k8lfQpJRAkY: Downloading ios player API JSON\n",
      "[youtube] k8lfQpJRAkY: Downloading android player API JSON\n"
     ]
    },
    {
     "name": "stderr",
     "output_type": "stream",
     "text": [
      "WARNING: [youtube] Skipping player responses from android clients (got player responses for video \"aQvGIIdgFDM\" instead of \"k8lfQpJRAkY\")\n"
     ]
    },
    {
     "name": "stdout",
     "output_type": "stream",
     "text": [
      "[youtube] k8lfQpJRAkY: Downloading m3u8 information\n",
      "[youtube] k8lfQpJRAkY: Downloading m3u8 information\n",
      "Último frame capturado y guardado como 2024\\5\\02-34-41_amecameca.png\n",
      "[youtube] Extracting URL: https://www.youtube.com/watch?v=4GHVptzyc7g\n",
      "[youtube] 4GHVptzyc7g: Downloading webpage\n",
      "[youtube] 4GHVptzyc7g: Downloading ios player API JSON\n",
      "[youtube] 4GHVptzyc7g: Downloading android player API JSON\n"
     ]
    },
    {
     "name": "stderr",
     "output_type": "stream",
     "text": [
      "WARNING: [youtube] Skipping player responses from android clients (got player responses for video \"aQvGIIdgFDM\" instead of \"4GHVptzyc7g\")\n"
     ]
    },
    {
     "name": "stdout",
     "output_type": "stream",
     "text": [
      "[youtube] 4GHVptzyc7g: Downloading m3u8 information\n",
      "[youtube] 4GHVptzyc7g: Downloading m3u8 information\n",
      "Último frame capturado y guardado como 2024\\5\\02-34-44_hpanoaya.png\n",
      "[youtube] Extracting URL: https://www.youtube.com/watch?v=KaJQhswU8i8\n",
      "[youtube] KaJQhswU8i8: Downloading webpage\n",
      "[youtube] KaJQhswU8i8: Downloading ios player API JSON\n",
      "[youtube] KaJQhswU8i8: Downloading android player API JSON\n"
     ]
    },
    {
     "name": "stderr",
     "output_type": "stream",
     "text": [
      "WARNING: [youtube] Skipping player responses from android clients (got player responses for video \"aQvGIIdgFDM\" instead of \"KaJQhswU8i8\")\n",
      "ERROR: [youtube] KaJQhswU8i8: This live stream recording is not available.\n"
     ]
    },
    {
     "name": "stdout",
     "output_type": "stream",
     "text": [
      "Error al obtener info del video: ERROR: [youtube] KaJQhswU8i8: This live stream recording is not available.. IGNORANDO esta URL.\n",
      "[youtube] Extracting URL: https://www.youtube.com/watch?v=517W6mhzPRE\n",
      "[youtube] 517W6mhzPRE: Downloading webpage\n",
      "[youtube] 517W6mhzPRE: Downloading ios player API JSON\n",
      "[youtube] 517W6mhzPRE: Downloading android player API JSON\n"
     ]
    },
    {
     "name": "stderr",
     "output_type": "stream",
     "text": [
      "WARNING: [youtube] Skipping player responses from android clients (got player responses for video \"aQvGIIdgFDM\" instead of \"517W6mhzPRE\")\n"
     ]
    },
    {
     "name": "stdout",
     "output_type": "stream",
     "text": [
      "[youtube] 517W6mhzPRE: Downloading m3u8 information\n",
      "[youtube] 517W6mhzPRE: Downloading m3u8 information\n",
      "Último frame capturado y guardado como 2024\\5\\02-34-48_tianguismanalco.png\n",
      "[youtube] Extracting URL: https://www.youtube.com/watch?v=uMqMPorl7Xs\n",
      "[youtube] uMqMPorl7Xs: Downloading webpage\n",
      "[youtube] uMqMPorl7Xs: Downloading ios player API JSON\n",
      "[youtube] uMqMPorl7Xs: Downloading android player API JSON\n"
     ]
    },
    {
     "name": "stderr",
     "output_type": "stream",
     "text": [
      "WARNING: [youtube] Skipping player responses from android clients (got player responses for video \"aQvGIIdgFDM\" instead of \"uMqMPorl7Xs\")\n"
     ]
    },
    {
     "name": "stdout",
     "output_type": "stream",
     "text": [
      "[youtube] uMqMPorl7Xs: Downloading m3u8 information\n",
      "[youtube] uMqMPorl7Xs: Downloading m3u8 information\n",
      "Último frame capturado y guardado como 2024\\5\\02-34-51_altzomoni.png\n"
     ]
    }
   ],
   "source": [
    "# year/month/hour-min-sec_cameraname\n",
    "#example: 2024/5/14-44-12_altzomoni\n",
    "\n",
    "def capture_last_frame(url, name, output_folder):\n",
    "    try:\n",
    "        #info del video    \n",
    "        def get_vid_info(url):\n",
    "            ydl_opts = {}\n",
    "            with yt_dlp.YoutubeDL(ydl_opts) as ydl:\n",
    "                info = ydl.extract_info(url, download=False)\n",
    "                return ydl.sanitize_info(info)\n",
    "\n",
    "        info = get_vid_info(url)\n",
    "        \n",
    "        #verificar si el video está en vivo\n",
    "        if info.get('is_live', False):\n",
    "            #9btener el mejor formato disponible\n",
    "            best_format = info[\"formats\"][-1]\n",
    "            \n",
    "            #crear un objeto de captura de video\n",
    "            cap = cv2.VideoCapture(best_format[\"url\"])\n",
    "            \n",
    "            #ultimo frame del video\n",
    "            cap.set(cv2.CAP_PROP_POS_AVI_RATIO, 1)\n",
    "            _, frame = cap.read()\n",
    "            \n",
    "            #guardar el ultimo frame como una imagen\n",
    "            if frame is not None:\n",
    "                #mes actual\n",
    "                current_month = datetime.now().month\n",
    "                \n",
    "                #carpeta de salida (mes actual)\n",
    "                output_folder_month = os.path.join(output_folder, str(current_month))\n",
    "                os.makedirs(output_folder_month, exist_ok=True)\n",
    "                \n",
    "                #nombre del archivo (hora de descarga y nombre de camara/ubicacion)\n",
    "                filename = f\"{datetime.now().strftime('%H-%M-%S')}_{name}.png\"\n",
    "                \n",
    "                output_file = os.path.join(output_folder_month, filename)\n",
    "                cv2.imwrite(output_file, frame)\n",
    "                print(f\"Último frame capturado y guardado como {output_file}\")\n",
    "            else:\n",
    "                print(\"Error al capturar el último frame\")\n",
    "        else:\n",
    "            print(\"El video no está en vivo\")\n",
    "    except yt_dlp.utils.DownloadError as e:\n",
    "        print(f\"Error al obtener info del video: {e}. IGNORANDO esta URL.\") #se deben actualizar cada que se comience un nuevo en vivo\n",
    "\n",
    "#carpeta de salida para las imágenes (año actual)\n",
    "output_folder = str(datetime.now().year)\n",
    "\n",
    "#cámaras\n",
    "names = {\n",
    "    'https://www.youtube.com/watch?v=4DJUOw-LFHE': 'sannicolas',\n",
    "    'https://www.youtube.com/watch?v=k8lfQpJRAkY': 'amecameca',\n",
    "    'https://www.youtube.com/watch?v=4GHVptzyc7g': 'hpanoaya',\n",
    "    'https://www.youtube.com/watch?v=KaJQhswU8i8': 'tlamacas',\n",
    "    'https://www.youtube.com/watch?v=517W6mhzPRE': 'tianguismanalco',\n",
    "    'https://www.youtube.com/watch?v=uMqMPorl7Xs': 'altzomoni'\n",
    "}\n",
    "\n",
    "# URLs de las cámaras web\n",
    "urls_camaras_web = list(names.keys())\n",
    "\n",
    "# Procesar cada URL de la cámara web\n",
    "for url in urls_camaras_web:\n",
    "    name = names[url]\n",
    "    capture_last_frame(url, name, output_folder)"
   ]
  },
  {
   "cell_type": "code",
   "execution_count": 8,
   "id": "a0f880c0-9e07-4a5c-ba2a-f1b971e73d92",
   "metadata": {},
   "outputs": [],
   "source": [
    "# revisar lo de modificaciones de imagenes en el codigo de transformers (aumento de datos)"
   ]
  },
  {
   "cell_type": "code",
   "execution_count": null,
   "id": "c0407fbe-5dba-441a-96e1-c48c56498cfa",
   "metadata": {},
   "outputs": [],
   "source": []
  },
  {
   "cell_type": "code",
   "execution_count": null,
   "id": "8a310427-e206-4a78-ac5e-9149fbf81d3a",
   "metadata": {},
   "outputs": [],
   "source": []
  }
 ],
 "metadata": {
  "kernelspec": {
   "display_name": "Python 3 (ipykernel)",
   "language": "python",
   "name": "python3"
  },
  "language_info": {
   "codemirror_mode": {
    "name": "ipython",
    "version": 3
   },
   "file_extension": ".py",
   "mimetype": "text/x-python",
   "name": "python",
   "nbconvert_exporter": "python",
   "pygments_lexer": "ipython3",
   "version": "3.10.12"
  }
 },
 "nbformat": 4,
 "nbformat_minor": 5
}
