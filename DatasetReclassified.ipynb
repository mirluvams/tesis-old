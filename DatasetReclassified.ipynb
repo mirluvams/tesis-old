{
 "cells": [
  {
   "cell_type": "code",
   "execution_count": 1,
   "id": "dea7cd93-3777-4aa4-be93-7900475a8ef4",
   "metadata": {},
   "outputs": [],
   "source": [
    "import pandas as pd\n",
    "import numpy as np"
   ]
  },
  {
   "cell_type": "code",
   "execution_count": 2,
   "id": "cef5e264-3883-4f5d-8c3b-c07690f07b08",
   "metadata": {},
   "outputs": [],
   "source": [
    "from datasets import Dataset, Image as dsImage, load_from_disk, ClassLabel"
   ]
  },
  {
   "cell_type": "code",
   "execution_count": 3,
   "id": "9813ca71-80a1-4281-bad5-239f45018fb8",
   "metadata": {},
   "outputs": [],
   "source": [
    "from PIL import Image, ImageFile\n",
    "ImageFile.LOAD_TRUNCATED_IMAGES = True #imagenes ligeramente corruptas OK"
   ]
  },
  {
   "cell_type": "code",
   "execution_count": null,
   "id": "36597a38-694b-4acd-9e6b-92d928345c92",
   "metadata": {},
   "outputs": [],
   "source": []
  },
  {
   "cell_type": "code",
   "execution_count": 4,
   "id": "c678ae9c-ddb1-403e-96b9-608c0c31574e",
   "metadata": {},
   "outputs": [],
   "source": [
    "df=pd.read_feather(\"Reclassified.feather\")"
   ]
  },
  {
   "cell_type": "code",
   "execution_count": 5,
   "id": "6dacba7d-fc0e-44a3-8c21-b00e1d054f26",
   "metadata": {},
   "outputs": [
    {
     "data": {
      "text/html": [
       "<div>\n",
       "<style scoped>\n",
       "    .dataframe tbody tr th:only-of-type {\n",
       "        vertical-align: middle;\n",
       "    }\n",
       "\n",
       "    .dataframe tbody tr th {\n",
       "        vertical-align: top;\n",
       "    }\n",
       "\n",
       "    .dataframe thead th {\n",
       "        text-align: right;\n",
       "    }\n",
       "</style>\n",
       "<table border=\"1\" class=\"dataframe\">\n",
       "  <thead>\n",
       "    <tr style=\"text-align: right;\">\n",
       "      <th></th>\n",
       "      <th>Path</th>\n",
       "      <th>y</th>\n",
       "      <th>ny</th>\n",
       "      <th>my</th>\n",
       "    </tr>\n",
       "  </thead>\n",
       "  <tbody>\n",
       "    <tr>\n",
       "      <th>0</th>\n",
       "      <td>images/2000/abr/p0423001.jpg</td>\n",
       "      <td>INA</td>\n",
       "      <td>INA</td>\n",
       "      <td>INA</td>\n",
       "    </tr>\n",
       "    <tr>\n",
       "      <th>1</th>\n",
       "      <td>images/2000/abr/p0423002.jpg</td>\n",
       "      <td>FUM</td>\n",
       "      <td>FUM</td>\n",
       "      <td>FUM</td>\n",
       "    </tr>\n",
       "    <tr>\n",
       "      <th>2</th>\n",
       "      <td>images/2000/abr/p0423003.jpg</td>\n",
       "      <td>FUM</td>\n",
       "      <td>FUM</td>\n",
       "      <td>FUM</td>\n",
       "    </tr>\n",
       "    <tr>\n",
       "      <th>3</th>\n",
       "      <td>images/2000/abr/p0424001.jpg</td>\n",
       "      <td>FUM</td>\n",
       "      <td>FUM</td>\n",
       "      <td>FUM</td>\n",
       "    </tr>\n",
       "    <tr>\n",
       "      <th>4</th>\n",
       "      <td>images/2000/abr/p0424002.jpg</td>\n",
       "      <td>FUM</td>\n",
       "      <td>FUM</td>\n",
       "      <td>FUM</td>\n",
       "    </tr>\n",
       "  </tbody>\n",
       "</table>\n",
       "</div>"
      ],
      "text/plain": [
       "                           Path    y   ny   my\n",
       "0  images/2000/abr/p0423001.jpg  INA  INA  INA\n",
       "1  images/2000/abr/p0423002.jpg  FUM  FUM  FUM\n",
       "2  images/2000/abr/p0423003.jpg  FUM  FUM  FUM\n",
       "3  images/2000/abr/p0424001.jpg  FUM  FUM  FUM\n",
       "4  images/2000/abr/p0424002.jpg  FUM  FUM  FUM"
      ]
     },
     "execution_count": 5,
     "metadata": {},
     "output_type": "execute_result"
    }
   ],
   "source": [
    "df.head(5)"
   ]
  },
  {
   "cell_type": "code",
   "execution_count": 6,
   "id": "db3f2b08-b171-4ce0-b3e9-78cd5efda570",
   "metadata": {},
   "outputs": [
    {
     "data": {
      "text/plain": [
       "DatasetDict({\n",
       "    train: Dataset({\n",
       "        features: ['image', 'labels'],\n",
       "        num_rows: 18632\n",
       "    })\n",
       "    test: Dataset({\n",
       "        features: ['image', 'labels'],\n",
       "        num_rows: 3289\n",
       "    })\n",
       "})"
      ]
     },
     "execution_count": 6,
     "metadata": {},
     "output_type": "execute_result"
    }
   ],
   "source": [
    "def generate():\n",
    "    for i, row in df.iterrows():\n",
    "        try:\n",
    "            Image.open(row[\"Path\"])\n",
    "            yield {\n",
    "                \"image\":row[\"Path\"],\n",
    "                \"labels\":row[\"ny\"],\n",
    "            }\n",
    "        except:\n",
    "            print(row[\"Path\"])\n",
    "            continue\n",
    "\n",
    "dataset=Dataset.from_generator(generate).cast_column(\"image\",dsImage()).cast_column(\"labels\",ClassLabel(names=df[\"ny\"].unique().tolist())).train_test_split(test_size=.15, seed=36918, stratify_by_column=\"labels\")\n",
    "dataset"
   ]
  },
  {
   "cell_type": "code",
   "execution_count": 7,
   "id": "cd83581f-bf58-4c9a-a327-d33da4a6e8fe",
   "metadata": {},
   "outputs": [
    {
     "data": {
      "text/plain": [
       "(array([0, 1, 2, 3, 4]), array([2562, 7628, 1312,  238, 6892]))"
      ]
     },
     "execution_count": 7,
     "metadata": {},
     "output_type": "execute_result"
    }
   ],
   "source": [
    "np.unique(dataset[\"train\"][\"labels\"], return_counts=True)"
   ]
  },
  {
   "cell_type": "code",
   "execution_count": 8,
   "id": "c3cf1162-a054-4465-b254-d0a5f79f1eec",
   "metadata": {},
   "outputs": [
    {
     "data": {
      "text/plain": [
       "(array([0, 1, 2, 3, 4]), array([ 452, 1346,  232,   42, 1217]))"
      ]
     },
     "execution_count": 8,
     "metadata": {},
     "output_type": "execute_result"
    }
   ],
   "source": [
    "np.unique(dataset[\"test\"][\"labels\"], return_counts=True)"
   ]
  },
  {
   "cell_type": "code",
   "execution_count": 9,
   "id": "f198165f-e981-4a53-8492-e43826e5750c",
   "metadata": {},
   "outputs": [
    {
     "data": {
      "application/vnd.jupyter.widget-view+json": {
       "model_id": "edfccdce985a49d9bc52ff3fc9fce41f",
       "version_major": 2,
       "version_minor": 0
      },
      "text/plain": [
       "Saving the dataset (0/12 shards):   0%|          | 0/18632 [00:00<?, ? examples/s]"
      ]
     },
     "metadata": {},
     "output_type": "display_data"
    },
    {
     "data": {
      "application/vnd.jupyter.widget-view+json": {
       "model_id": "d3c3befc44bd4a2db041b483a7db4114",
       "version_major": 2,
       "version_minor": 0
      },
      "text/plain": [
       "Saving the dataset (0/12 shards):   0%|          | 0/3289 [00:00<?, ? examples/s]"
      ]
     },
     "metadata": {},
     "output_type": "display_data"
    }
   ],
   "source": [
    "dataset.save_to_disk(\"popocatepetl-dataset/\",num_proc=12)"
   ]
  },
  {
   "cell_type": "code",
   "execution_count": 12,
   "id": "f3a48538-9109-4f99-b393-cc6e38e55d2e",
   "metadata": {},
   "outputs": [
    {
     "data": {
      "text/plain": [
       "['INA', 'FUM', 'UNK', 'EXP', 'EXP+FUM']"
      ]
     },
     "execution_count": 12,
     "metadata": {},
     "output_type": "execute_result"
    }
   ],
   "source": [
    "dataset[\"train\"].features[\"labels\"].names"
   ]
  },
  {
   "cell_type": "code",
   "execution_count": null,
   "id": "6d78a6f6-744f-4b0a-9963-4a0d4d83534f",
   "metadata": {},
   "outputs": [],
   "source": []
  }
 ],
 "metadata": {
  "kernelspec": {
   "display_name": "Python 3 (ipykernel)",
   "language": "python",
   "name": "python3"
  },
  "language_info": {
   "codemirror_mode": {
    "name": "ipython",
    "version": 3
   },
   "file_extension": ".py",
   "mimetype": "text/x-python",
   "name": "python",
   "nbconvert_exporter": "python",
   "pygments_lexer": "ipython3",
   "version": "3.10.12"
  }
 },
 "nbformat": 4,
 "nbformat_minor": 5
}
