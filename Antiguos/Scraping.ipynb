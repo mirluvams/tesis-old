{
 "cells": [
  {
   "cell_type": "markdown",
   "id": "966f999c-f239-4557-9673-116420a8c4a1",
   "metadata": {
    "tags": []
   },
   "source": [
    "## Scrape reports"
   ]
  },
  {
   "cell_type": "code",
   "execution_count": 1,
   "id": "3e20d07e-f617-4844-a23f-6952a16c296c",
   "metadata": {},
   "outputs": [],
   "source": [
    "from bs4 import BeautifulSoup, Comment\n",
    "import requests\n",
    "import pandas as pd\n",
    "import numpy as np"
   ]
  },
  {
   "cell_type": "code",
   "execution_count": 4,
   "id": "b68776d0-a14b-456a-a2f3-5d22eef28b8f",
   "metadata": {},
   "outputs": [],
   "source": [
    "base=9500\n",
    "def get_page(page_id:int):\n",
    "    src=requests.get(f\"https://www.cenapred.unam.mx/reportesVolcanGobMX/Procesos?tipoProceso=detallesReporteVolcan&id_registro={base+page_id:04d}&caso_reporte=0\")\n",
    "    r=BeautifulSoup(src.text)\n",
    "    return r"
   ]
  },
  {
   "cell_type": "code",
   "execution_count": 3,
   "id": "e700ab09-3458-402e-bd74-e5cfd9312465",
   "metadata": {},
   "outputs": [],
   "source": [
    "datos={}\n",
    "datos[\"id_reporte\"]=[]\n",
    "datos[\"url\"]=[]\n",
    "datos[\"year\"]=[]\n",
    "datos[\"month\"]=[]\n",
    "datos[\"filename\"]=[]\n",
    "datos[\"ext\"]=[]\n",
    "datos[\"date\"]=[]\n",
    "datos[\"text\"]=[]\n",
    "last_success=0"
   ]
  },
  {
   "cell_type": "code",
   "execution_count": 95,
   "id": "00bb9698-7a50-40aa-b9be-e6a04ed9175a",
   "metadata": {},
   "outputs": [
    {
     "data": {
      "text/html": [
       "\n",
       "<style>\n",
       "    /* Turns off some styling */\n",
       "    progress {\n",
       "        /* gets rid of default border in Firefox and Opera. */\n",
       "        border: none;\n",
       "        /* Needs to be in here for Safari polyfill so background images work as expected. */\n",
       "        background-size: auto;\n",
       "    }\n",
       "    progress:not([value]), progress:not([value])::-webkit-progress-bar {\n",
       "        background: repeating-linear-gradient(45deg, #7e7e7e, #7e7e7e 10px, #5c5c5c 10px, #5c5c5c 20px);\n",
       "    }\n",
       "    .progress-bar-interrupted, .progress-bar-interrupted::-webkit-progress-bar {\n",
       "        background: #F44336;\n",
       "    }\n",
       "</style>\n"
      ],
      "text/plain": [
       "<IPython.core.display.HTML object>"
      ]
     },
     "metadata": {},
     "output_type": "display_data"
    },
    {
     "data": {
      "text/html": [
       "\n",
       "    <div>\n",
       "      <progress value='5702' class='' max='5702' style='width:300px; height:20px; vertical-align: middle;'></progress>\n",
       "      100.00% [5702/5702 51:51&lt;00:00]\n",
       "    </div>\n",
       "    "
      ],
      "text/plain": [
       "<IPython.core.display.HTML object>"
      ]
     },
     "metadata": {},
     "output_type": "display_data"
    }
   ],
   "source": [
    "import time\n",
    "from fastprogress import progress_bar\n",
    "\n",
    "page_range=9500\n",
    "for p_idx in progress_bar(range(last_success,page_range)):\n",
    "    try:\n",
    "        page=get_page(p_idx)\n",
    "        img_header=\"https://www.cenapred.unam.mx/popo/\"\n",
    "        img_count=0\n",
    "        for img in page.find_all(\"img\"):\n",
    "            if img[\"src\"][:len(img_header)]==img_header:\n",
    "                folder_structure=img[\"src\"][len(img_header):].split(\"/\")\n",
    "                folder_structure[-1]=folder_structure[-1].strip()\n",
    "                try:\n",
    "                    fullname=folder_structure.pop()\n",
    "                    fn,ext=fullname.split(\".\")[:2]\n",
    "                except Exception as E:\n",
    "                    print(fullname)\n",
    "                    raise E\n",
    "                year,month=folder_structure\n",
    "\n",
    "                datos[\"id_reporte\"].append(p_idx+base)\n",
    "                datos[\"url\"].append(img[\"src\"])\n",
    "                datos[\"year\"].append(year)\n",
    "                datos[\"month\"].append(month)\n",
    "                datos[\"filename\"].append(fn)\n",
    "                datos[\"ext\"].append(ext)\n",
    "                datos[\"date\"].append(\"EMPTY\")\n",
    "                datos[\"text\"].append(\"EMPTY\")\n",
    "                img_count+=1\n",
    "        comments = page.find_all(string=lambda text: isinstance(text, Comment))\n",
    "        section=None\n",
    "        for c in comments:\n",
    "            if c==\"-SECCION DE CONTENIDO-\":\n",
    "                section=c.parent\n",
    "                break\n",
    "        if section!=None:\n",
    "            span=section.find_all(align=\"justify\")[0].span\n",
    "            date=\"EMPTY\"\n",
    "            try:\n",
    "                date=span.b.text[:-1]\n",
    "            except Exception as e:\n",
    "                pass#print(\"WARN: \",p_idx+base,e)\n",
    "            \n",
    "            text=[]\n",
    "            for c in span.contents:\n",
    "                text.append(str(c).strip())\n",
    "            text=\"\\n\".join(text)\n",
    "            for i in range(img_count):\n",
    "                datos[\"date\"][-i-1]=date\n",
    "                datos[\"text\"][-i-1]=text\n",
    "        last_success=p_idx+1\n",
    "        #time.sleep(.25)\n",
    "    except KeyboardInterrupt as e:\n",
    "        print(\"User interruption\")\n",
    "        break\n",
    "    #except Exception as e:\n",
    "    #    print(\"FAIL:\",p_idx+base,e)\n",
    "    #    time.sleep(2)\n",
    "    #if p_idx%100==0:\n",
    "    #    print(f\"DONE: {100*p_idx/9500:.02f}%\")"
   ]
  },
  {
   "cell_type": "code",
   "execution_count": 156,
   "id": "948ba76f-55fc-49bf-947b-01d6720ea2df",
   "metadata": {},
   "outputs": [
    {
     "data": {
      "text/plain": [
       "(7774,)"
      ]
     },
     "execution_count": 156,
     "metadata": {},
     "output_type": "execute_result"
    }
   ],
   "source": [
    "df=pd.DataFrame(datos)\n",
    "df[\"id_reporte\"].unique().shape"
   ]
  },
  {
   "cell_type": "code",
   "execution_count": 157,
   "id": "a4e7011c-92b0-4e36-aa90-ff350062622b",
   "metadata": {},
   "outputs": [
    {
     "data": {
      "text/html": [
       "<div>\n",
       "<style scoped>\n",
       "    .dataframe tbody tr th:only-of-type {\n",
       "        vertical-align: middle;\n",
       "    }\n",
       "\n",
       "    .dataframe tbody tr th {\n",
       "        vertical-align: top;\n",
       "    }\n",
       "\n",
       "    .dataframe thead th {\n",
       "        text-align: right;\n",
       "    }\n",
       "</style>\n",
       "<table border=\"1\" class=\"dataframe\">\n",
       "  <thead>\n",
       "    <tr style=\"text-align: right;\">\n",
       "      <th></th>\n",
       "      <th>id_reporte</th>\n",
       "      <th>url</th>\n",
       "      <th>year</th>\n",
       "      <th>month</th>\n",
       "      <th>filename</th>\n",
       "      <th>ext</th>\n",
       "      <th>date</th>\n",
       "      <th>text</th>\n",
       "    </tr>\n",
       "  </thead>\n",
       "  <tbody>\n",
       "    <tr>\n",
       "      <th>0</th>\n",
       "      <td>959</td>\n",
       "      <td>https://www.cenapred.unam.mx/popo/2000/abr/p04...</td>\n",
       "      <td>2000</td>\n",
       "      <td>abr</td>\n",
       "      <td>p0423001</td>\n",
       "      <td>jpg</td>\n",
       "      <td>11:00 (16:00 GMT, Abril 23)</td>\n",
       "      <td>\\n&lt;b&gt;11:00 (16:00 GMT, Abril 23):&lt;/b&gt;\\n\\n&lt;br/&gt;...</td>\n",
       "    </tr>\n",
       "    <tr>\n",
       "      <th>1</th>\n",
       "      <td>959</td>\n",
       "      <td>https://www.cenapred.unam.mx/popo/2000/abr/p04...</td>\n",
       "      <td>2000</td>\n",
       "      <td>abr</td>\n",
       "      <td>p0423002</td>\n",
       "      <td>jpg</td>\n",
       "      <td>11:00 (16:00 GMT, Abril 23)</td>\n",
       "      <td>\\n&lt;b&gt;11:00 (16:00 GMT, Abril 23):&lt;/b&gt;\\n\\n&lt;br/&gt;...</td>\n",
       "    </tr>\n",
       "    <tr>\n",
       "      <th>2</th>\n",
       "      <td>959</td>\n",
       "      <td>https://www.cenapred.unam.mx/popo/2000/abr/p04...</td>\n",
       "      <td>2000</td>\n",
       "      <td>abr</td>\n",
       "      <td>p0423003</td>\n",
       "      <td>jpg</td>\n",
       "      <td>11:00 (16:00 GMT, Abril 23)</td>\n",
       "      <td>\\n&lt;b&gt;11:00 (16:00 GMT, Abril 23):&lt;/b&gt;\\n\\n&lt;br/&gt;...</td>\n",
       "    </tr>\n",
       "    <tr>\n",
       "      <th>3</th>\n",
       "      <td>960</td>\n",
       "      <td>https://www.cenapred.unam.mx/popo/2000/abr/p04...</td>\n",
       "      <td>2000</td>\n",
       "      <td>abr</td>\n",
       "      <td>p0424001</td>\n",
       "      <td>jpg</td>\n",
       "      <td>11:00 (16:00 GMT, Abril 24)</td>\n",
       "      <td>\\n&lt;b&gt;11:00 (16:00 GMT, Abril 24):&lt;/b&gt;\\n\\n&lt;br/&gt;...</td>\n",
       "    </tr>\n",
       "    <tr>\n",
       "      <th>4</th>\n",
       "      <td>960</td>\n",
       "      <td>https://www.cenapred.unam.mx/popo/2000/abr/p04...</td>\n",
       "      <td>2000</td>\n",
       "      <td>abr</td>\n",
       "      <td>p0424002</td>\n",
       "      <td>jpg</td>\n",
       "      <td>11:00 (16:00 GMT, Abril 24)</td>\n",
       "      <td>\\n&lt;b&gt;11:00 (16:00 GMT, Abril 24):&lt;/b&gt;\\n\\n&lt;br/&gt;...</td>\n",
       "    </tr>\n",
       "    <tr>\n",
       "      <th>...</th>\n",
       "      <td>...</td>\n",
       "      <td>...</td>\n",
       "      <td>...</td>\n",
       "      <td>...</td>\n",
       "      <td>...</td>\n",
       "      <td>...</td>\n",
       "      <td>...</td>\n",
       "      <td>...</td>\n",
       "    </tr>\n",
       "    <tr>\n",
       "      <th>22187</th>\n",
       "      <td>9501</td>\n",
       "      <td>https://www.cenapred.unam.mx/popo/2023/mar/p03...</td>\n",
       "      <td>2023</td>\n",
       "      <td>mar</td>\n",
       "      <td>p0316234</td>\n",
       "      <td>jpeg</td>\n",
       "      <td>Marzo 16, 11:00 h (Marzo 16, 17:00 GMT)</td>\n",
       "      <td>\\n&lt;br/&gt;\\n&lt;b&gt; Marzo 16, 11:00 h (Marzo 16, 17:0...</td>\n",
       "    </tr>\n",
       "    <tr>\n",
       "      <th>22188</th>\n",
       "      <td>9502</td>\n",
       "      <td>https://www.cenapred.unam.mx/popo/2023/mar/p03...</td>\n",
       "      <td>2023</td>\n",
       "      <td>mar</td>\n",
       "      <td>p0317231</td>\n",
       "      <td>jpeg</td>\n",
       "      <td>Marzo 17, 11:00 h (Marzo 17, 17:00 GMT)</td>\n",
       "      <td>\\n&lt;br/&gt;\\n&lt;b&gt; Marzo 17, 11:00 h (Marzo 17, 17:0...</td>\n",
       "    </tr>\n",
       "    <tr>\n",
       "      <th>22189</th>\n",
       "      <td>9502</td>\n",
       "      <td>https://www.cenapred.unam.mx/popo/2023/mar/p03...</td>\n",
       "      <td>2023</td>\n",
       "      <td>mar</td>\n",
       "      <td>p0317232</td>\n",
       "      <td>jpeg</td>\n",
       "      <td>Marzo 17, 11:00 h (Marzo 17, 17:00 GMT)</td>\n",
       "      <td>\\n&lt;br/&gt;\\n&lt;b&gt; Marzo 17, 11:00 h (Marzo 17, 17:0...</td>\n",
       "    </tr>\n",
       "    <tr>\n",
       "      <th>22190</th>\n",
       "      <td>9502</td>\n",
       "      <td>https://www.cenapred.unam.mx/popo/2023/mar/p03...</td>\n",
       "      <td>2023</td>\n",
       "      <td>mar</td>\n",
       "      <td>p0317233</td>\n",
       "      <td>jpeg</td>\n",
       "      <td>Marzo 17, 11:00 h (Marzo 17, 17:00 GMT)</td>\n",
       "      <td>\\n&lt;br/&gt;\\n&lt;b&gt; Marzo 17, 11:00 h (Marzo 17, 17:0...</td>\n",
       "    </tr>\n",
       "    <tr>\n",
       "      <th>22191</th>\n",
       "      <td>9502</td>\n",
       "      <td>https://www.cenapred.unam.mx/popo/2023/mar/p03...</td>\n",
       "      <td>2023</td>\n",
       "      <td>mar</td>\n",
       "      <td>p0317234</td>\n",
       "      <td>jpeg</td>\n",
       "      <td>Marzo 17, 11:00 h (Marzo 17, 17:00 GMT)</td>\n",
       "      <td>\\n&lt;br/&gt;\\n&lt;b&gt; Marzo 17, 11:00 h (Marzo 17, 17:0...</td>\n",
       "    </tr>\n",
       "  </tbody>\n",
       "</table>\n",
       "<p>22192 rows × 8 columns</p>\n",
       "</div>"
      ],
      "text/plain": [
       "       id_reporte                                                url  year  \\\n",
       "0             959  https://www.cenapred.unam.mx/popo/2000/abr/p04...  2000   \n",
       "1             959  https://www.cenapred.unam.mx/popo/2000/abr/p04...  2000   \n",
       "2             959  https://www.cenapred.unam.mx/popo/2000/abr/p04...  2000   \n",
       "3             960  https://www.cenapred.unam.mx/popo/2000/abr/p04...  2000   \n",
       "4             960  https://www.cenapred.unam.mx/popo/2000/abr/p04...  2000   \n",
       "...           ...                                                ...   ...   \n",
       "22187        9501  https://www.cenapred.unam.mx/popo/2023/mar/p03...  2023   \n",
       "22188        9502  https://www.cenapred.unam.mx/popo/2023/mar/p03...  2023   \n",
       "22189        9502  https://www.cenapred.unam.mx/popo/2023/mar/p03...  2023   \n",
       "22190        9502  https://www.cenapred.unam.mx/popo/2023/mar/p03...  2023   \n",
       "22191        9502  https://www.cenapred.unam.mx/popo/2023/mar/p03...  2023   \n",
       "\n",
       "      month  filename   ext                                      date  \\\n",
       "0       abr  p0423001   jpg               11:00 (16:00 GMT, Abril 23)   \n",
       "1       abr  p0423002   jpg               11:00 (16:00 GMT, Abril 23)   \n",
       "2       abr  p0423003   jpg               11:00 (16:00 GMT, Abril 23)   \n",
       "3       abr  p0424001   jpg               11:00 (16:00 GMT, Abril 24)   \n",
       "4       abr  p0424002   jpg               11:00 (16:00 GMT, Abril 24)   \n",
       "...     ...       ...   ...                                       ...   \n",
       "22187   mar  p0316234  jpeg   Marzo 16, 11:00 h (Marzo 16, 17:00 GMT)   \n",
       "22188   mar  p0317231  jpeg   Marzo 17, 11:00 h (Marzo 17, 17:00 GMT)   \n",
       "22189   mar  p0317232  jpeg   Marzo 17, 11:00 h (Marzo 17, 17:00 GMT)   \n",
       "22190   mar  p0317233  jpeg   Marzo 17, 11:00 h (Marzo 17, 17:00 GMT)   \n",
       "22191   mar  p0317234  jpeg   Marzo 17, 11:00 h (Marzo 17, 17:00 GMT)   \n",
       "\n",
       "                                                    text  \n",
       "0      \\n<b>11:00 (16:00 GMT, Abril 23):</b>\\n\\n<br/>...  \n",
       "1      \\n<b>11:00 (16:00 GMT, Abril 23):</b>\\n\\n<br/>...  \n",
       "2      \\n<b>11:00 (16:00 GMT, Abril 23):</b>\\n\\n<br/>...  \n",
       "3      \\n<b>11:00 (16:00 GMT, Abril 24):</b>\\n\\n<br/>...  \n",
       "4      \\n<b>11:00 (16:00 GMT, Abril 24):</b>\\n\\n<br/>...  \n",
       "...                                                  ...  \n",
       "22187  \\n<br/>\\n<b> Marzo 16, 11:00 h (Marzo 16, 17:0...  \n",
       "22188  \\n<br/>\\n<b> Marzo 17, 11:00 h (Marzo 17, 17:0...  \n",
       "22189  \\n<br/>\\n<b> Marzo 17, 11:00 h (Marzo 17, 17:0...  \n",
       "22190  \\n<br/>\\n<b> Marzo 17, 11:00 h (Marzo 17, 17:0...  \n",
       "22191  \\n<br/>\\n<b> Marzo 17, 11:00 h (Marzo 17, 17:0...  \n",
       "\n",
       "[22192 rows x 8 columns]"
      ]
     },
     "execution_count": 157,
     "metadata": {},
     "output_type": "execute_result"
    }
   ],
   "source": [
    "df"
   ]
  },
  {
   "cell_type": "code",
   "execution_count": 158,
   "id": "01624528-0d4e-4156-8739-c1482ae119e8",
   "metadata": {},
   "outputs": [
    {
     "data": {
      "text/plain": [
       "<AxesSubplot: >"
      ]
     },
     "execution_count": 158,
     "metadata": {},
     "output_type": "execute_result"
    },
    {
     "data": {
      "image/png": "[encoded data removed]",
      "text/plain": [
       "<Figure size 640x480 with 1 Axes>"
      ]
     },
     "metadata": {},
     "output_type": "display_data"
    }
   ],
   "source": [
    "df[[\"id_reporte\"]].plot()"
   ]
  },
  {
   "cell_type": "code",
   "execution_count": 159,
   "id": "a606ab63-5e79-446c-bbe3-c2d8382abb7a",
   "metadata": {},
   "outputs": [
    {
     "name": "stdout",
     "output_type": "stream",
     "text": [
      "<class 'pandas.core.frame.DataFrame'>\n",
      "RangeIndex: 22192 entries, 0 to 22191\n",
      "Data columns (total 8 columns):\n",
      " #   Column      Non-Null Count  Dtype \n",
      "---  ------      --------------  ----- \n",
      " 0   id_reporte  22192 non-null  int64 \n",
      " 1   url         22192 non-null  object\n",
      " 2   year        22192 non-null  object\n",
      " 3   month       22192 non-null  object\n",
      " 4   filename    22192 non-null  object\n",
      " 5   ext         22192 non-null  object\n",
      " 6   date        22192 non-null  object\n",
      " 7   text        22192 non-null  object\n",
      "dtypes: int64(1), object(7)\n",
      "memory usage: 1.4+ MB\n"
     ]
    }
   ],
   "source": [
    "df.info()"
   ]
  },
  {
   "cell_type": "code",
   "execution_count": 160,
   "id": "f0d5b983-2be4-4261-890a-74ff847036a2",
   "metadata": {},
   "outputs": [],
   "source": [
    "df.to_feather(\"miri_raw_data.feather\")"
   ]
  },
  {
   "cell_type": "markdown",
   "id": "9c211f1b-31f1-4e75-8889-eb70daef59a7",
   "metadata": {
    "tags": []
   },
   "source": [
    "## Scrape Images"
   ]
  },
  {
   "cell_type": "code",
   "execution_count": 161,
   "id": "97fbf7c4-77b5-4899-9947-db9abf9b39fc",
   "metadata": {},
   "outputs": [],
   "source": [
    "df=pd.read_feather(\"miri_raw_data.feather\")"
   ]
  },
  {
   "cell_type": "code",
   "execution_count": 162,
   "id": "1fae055d-6f35-46f3-92c8-514ff114478d",
   "metadata": {},
   "outputs": [
    {
     "data": {
      "text/html": [
       "<div>\n",
       "<style scoped>\n",
       "    .dataframe tbody tr th:only-of-type {\n",
       "        vertical-align: middle;\n",
       "    }\n",
       "\n",
       "    .dataframe tbody tr th {\n",
       "        vertical-align: top;\n",
       "    }\n",
       "\n",
       "    .dataframe thead th {\n",
       "        text-align: right;\n",
       "    }\n",
       "</style>\n",
       "<table border=\"1\" class=\"dataframe\">\n",
       "  <thead>\n",
       "    <tr style=\"text-align: right;\">\n",
       "      <th></th>\n",
       "      <th>id_reporte</th>\n",
       "      <th>url</th>\n",
       "      <th>year</th>\n",
       "      <th>month</th>\n",
       "      <th>filename</th>\n",
       "      <th>ext</th>\n",
       "      <th>date</th>\n",
       "      <th>text</th>\n",
       "    </tr>\n",
       "  </thead>\n",
       "  <tbody>\n",
       "    <tr>\n",
       "      <th>0</th>\n",
       "      <td>959</td>\n",
       "      <td>https://www.cenapred.unam.mx/popo/2000/abr/p04...</td>\n",
       "      <td>2000</td>\n",
       "      <td>abr</td>\n",
       "      <td>p0423001</td>\n",
       "      <td>jpg</td>\n",
       "      <td>11:00 (16:00 GMT, Abril 23)</td>\n",
       "      <td>\\n&lt;b&gt;11:00 (16:00 GMT, Abril 23):&lt;/b&gt;\\n\\n&lt;br/&gt;...</td>\n",
       "    </tr>\n",
       "    <tr>\n",
       "      <th>1</th>\n",
       "      <td>959</td>\n",
       "      <td>https://www.cenapred.unam.mx/popo/2000/abr/p04...</td>\n",
       "      <td>2000</td>\n",
       "      <td>abr</td>\n",
       "      <td>p0423002</td>\n",
       "      <td>jpg</td>\n",
       "      <td>11:00 (16:00 GMT, Abril 23)</td>\n",
       "      <td>\\n&lt;b&gt;11:00 (16:00 GMT, Abril 23):&lt;/b&gt;\\n\\n&lt;br/&gt;...</td>\n",
       "    </tr>\n",
       "    <tr>\n",
       "      <th>2</th>\n",
       "      <td>959</td>\n",
       "      <td>https://www.cenapred.unam.mx/popo/2000/abr/p04...</td>\n",
       "      <td>2000</td>\n",
       "      <td>abr</td>\n",
       "      <td>p0423003</td>\n",
       "      <td>jpg</td>\n",
       "      <td>11:00 (16:00 GMT, Abril 23)</td>\n",
       "      <td>\\n&lt;b&gt;11:00 (16:00 GMT, Abril 23):&lt;/b&gt;\\n\\n&lt;br/&gt;...</td>\n",
       "    </tr>\n",
       "    <tr>\n",
       "      <th>3</th>\n",
       "      <td>960</td>\n",
       "      <td>https://www.cenapred.unam.mx/popo/2000/abr/p04...</td>\n",
       "      <td>2000</td>\n",
       "      <td>abr</td>\n",
       "      <td>p0424001</td>\n",
       "      <td>jpg</td>\n",
       "      <td>11:00 (16:00 GMT, Abril 24)</td>\n",
       "      <td>\\n&lt;b&gt;11:00 (16:00 GMT, Abril 24):&lt;/b&gt;\\n\\n&lt;br/&gt;...</td>\n",
       "    </tr>\n",
       "    <tr>\n",
       "      <th>4</th>\n",
       "      <td>960</td>\n",
       "      <td>https://www.cenapred.unam.mx/popo/2000/abr/p04...</td>\n",
       "      <td>2000</td>\n",
       "      <td>abr</td>\n",
       "      <td>p0424002</td>\n",
       "      <td>jpg</td>\n",
       "      <td>11:00 (16:00 GMT, Abril 24)</td>\n",
       "      <td>\\n&lt;b&gt;11:00 (16:00 GMT, Abril 24):&lt;/b&gt;\\n\\n&lt;br/&gt;...</td>\n",
       "    </tr>\n",
       "  </tbody>\n",
       "</table>\n",
       "</div>"
      ],
      "text/plain": [
       "   id_reporte                                                url  year month  \\\n",
       "0         959  https://www.cenapred.unam.mx/popo/2000/abr/p04...  2000   abr   \n",
       "1         959  https://www.cenapred.unam.mx/popo/2000/abr/p04...  2000   abr   \n",
       "2         959  https://www.cenapred.unam.mx/popo/2000/abr/p04...  2000   abr   \n",
       "3         960  https://www.cenapred.unam.mx/popo/2000/abr/p04...  2000   abr   \n",
       "4         960  https://www.cenapred.unam.mx/popo/2000/abr/p04...  2000   abr   \n",
       "\n",
       "   filename  ext                         date  \\\n",
       "0  p0423001  jpg  11:00 (16:00 GMT, Abril 23)   \n",
       "1  p0423002  jpg  11:00 (16:00 GMT, Abril 23)   \n",
       "2  p0423003  jpg  11:00 (16:00 GMT, Abril 23)   \n",
       "3  p0424001  jpg  11:00 (16:00 GMT, Abril 24)   \n",
       "4  p0424002  jpg  11:00 (16:00 GMT, Abril 24)   \n",
       "\n",
       "                                                text  \n",
       "0  \\n<b>11:00 (16:00 GMT, Abril 23):</b>\\n\\n<br/>...  \n",
       "1  \\n<b>11:00 (16:00 GMT, Abril 23):</b>\\n\\n<br/>...  \n",
       "2  \\n<b>11:00 (16:00 GMT, Abril 23):</b>\\n\\n<br/>...  \n",
       "3  \\n<b>11:00 (16:00 GMT, Abril 24):</b>\\n\\n<br/>...  \n",
       "4  \\n<b>11:00 (16:00 GMT, Abril 24):</b>\\n\\n<br/>...  "
      ]
     },
     "execution_count": 162,
     "metadata": {},
     "output_type": "execute_result"
    }
   ],
   "source": [
    "df.head()"
   ]
  },
  {
   "cell_type": "code",
   "execution_count": 163,
   "id": "7540bc8d-9d8e-42b3-b585-a5d331229d26",
   "metadata": {},
   "outputs": [
    {
     "name": "stderr",
     "output_type": "stream",
     "text": [
      "/tmp/ipykernel_66132/1040708776.py:1: FutureWarning: In a future version of pandas all arguments of DataFrame.any and Series.any will be keyword-only.\n",
      "  df[df.isnull().any(1)]\n"
     ]
    },
    {
     "data": {
      "text/html": [
       "<div>\n",
       "<style scoped>\n",
       "    .dataframe tbody tr th:only-of-type {\n",
       "        vertical-align: middle;\n",
       "    }\n",
       "\n",
       "    .dataframe tbody tr th {\n",
       "        vertical-align: top;\n",
       "    }\n",
       "\n",
       "    .dataframe thead th {\n",
       "        text-align: right;\n",
       "    }\n",
       "</style>\n",
       "<table border=\"1\" class=\"dataframe\">\n",
       "  <thead>\n",
       "    <tr style=\"text-align: right;\">\n",
       "      <th></th>\n",
       "      <th>id_reporte</th>\n",
       "      <th>url</th>\n",
       "      <th>year</th>\n",
       "      <th>month</th>\n",
       "      <th>filename</th>\n",
       "      <th>ext</th>\n",
       "      <th>date</th>\n",
       "      <th>text</th>\n",
       "    </tr>\n",
       "  </thead>\n",
       "  <tbody>\n",
       "  </tbody>\n",
       "</table>\n",
       "</div>"
      ],
      "text/plain": [
       "Empty DataFrame\n",
       "Columns: [id_reporte, url, year, month, filename, ext, date, text]\n",
       "Index: []"
      ]
     },
     "execution_count": 163,
     "metadata": {},
     "output_type": "execute_result"
    }
   ],
   "source": [
    "df[df.isnull().any(1)]"
   ]
  },
  {
   "cell_type": "code",
   "execution_count": 184,
   "id": "7907f286-d6c4-4705-8c44-ee04d912854e",
   "metadata": {},
   "outputs": [],
   "source": [
    "import requests\n",
    "import shutil\n",
    "import os\n",
    "\n",
    "last_success=0"
   ]
  },
  {
   "cell_type": "code",
   "execution_count": 186,
   "id": "c8746e98-755d-4e12-a5c1-57497548ff59",
   "metadata": {},
   "outputs": [
    {
     "data": {
      "text/html": [
       "\n",
       "<style>\n",
       "    /* Turns off some styling */\n",
       "    progress {\n",
       "        /* gets rid of default border in Firefox and Opera. */\n",
       "        border: none;\n",
       "        /* Needs to be in here for Safari polyfill so background images work as expected. */\n",
       "        background-size: auto;\n",
       "    }\n",
       "    progress:not([value]), progress:not([value])::-webkit-progress-bar {\n",
       "        background: repeating-linear-gradient(45deg, #7e7e7e, #7e7e7e 10px, #5c5c5c 10px, #5c5c5c 20px);\n",
       "    }\n",
       "    .progress-bar-interrupted, .progress-bar-interrupted::-webkit-progress-bar {\n",
       "        background: #F44336;\n",
       "    }\n",
       "</style>\n"
      ],
      "text/plain": [
       "<IPython.core.display.HTML object>"
      ]
     },
     "metadata": {},
     "output_type": "display_data"
    },
    {
     "data": {
      "text/html": [
       "\n",
       "    <div>\n",
       "      <progress value='16535' class='' max='16535' style='width:300px; height:20px; vertical-align: middle;'></progress>\n",
       "      100.00% [16535/16535 2:08:18&lt;00:00]\n",
       "    </div>\n",
       "    "
      ],
      "text/plain": [
       "<IPython.core.display.HTML object>"
      ]
     },
     "metadata": {},
     "output_type": "display_data"
    }
   ],
   "source": [
    "for img_idx in progress_bar(range(last_success,df.shape[0])):\n",
    "    img_row=df.iloc[img_idx][[\"url\",\"year\",\"month\",\"filename\",\"ext\"]]\n",
    "    url,year,month,filename,ext=img_row\n",
    "    #print(url,year,month,filename,ext)\n",
    "    r = requests.get(url.strip(), stream=True)\n",
    "    path=f\"{year}/{month}\"\n",
    "    \n",
    "    os.system(f\"mkdir {year} > /dev/null 2>&1\")\n",
    "    os.system(f\"mkdir {year}/{month} > /dev/null 2>&1\")\n",
    "    \n",
    "    fullpath=path+f\"/{filename}.{ext}\"\n",
    "    if r.status_code == 200:\n",
    "        with open(fullpath, 'wb') as f:\n",
    "            r.raw.decode_content = True\n",
    "            shutil.copyfileobj(r.raw, f)\n",
    "    last_success=img_idx"
   ]
  },
  {
   "cell_type": "code",
   "execution_count": null,
   "id": "f7edf8ef-6f23-40df-a110-0b020211b507",
   "metadata": {},
   "outputs": [],
   "source": []
  }
 ],
 "metadata": {
  "kernelspec": {
   "display_name": "Python 3 (ipykernel)",
   "language": "python",
   "name": "python3"
  },
  "language_info": {
   "codemirror_mode": {
    "name": "ipython",
    "version": 3
   },
   "file_extension": ".py",
   "mimetype": "text/x-python",
   "name": "python",
   "nbconvert_exporter": "python",
   "pygments_lexer": "ipython3",
   "version": "3.10.12"
  }
 },
 "nbformat": 4,
 "nbformat_minor": 5
}
