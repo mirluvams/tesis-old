{
 "cells": [
  {
   "cell_type": "code",
   "execution_count": 43,
   "id": "3cc62f62-5c34-40d3-a9d6-a62b3272e07b",
   "metadata": {},
   "outputs": [],
   "source": [
    "import json\n",
    "import yt_dlp\n",
    "import cv2"
   ]
  },
  {
   "cell_type": "code",
   "execution_count": 44,
   "id": "71c2aee8-8c31-4f14-9f39-e7c178ff7413",
   "metadata": {},
   "outputs": [],
   "source": [
    "# URLs de las cámaras web\n",
    "sannicolas = 'https://www.youtube.com/watch?v=Y7kTLS81HvA'\n",
    "amecameca = 'https://youtu.be/efse7JYcKIY'\n",
    "hpanoaya = 'https://www.youtube.com/watch?v=GXtLlR0Ew70'\n",
    "tlamacas = 'https://www.youtube.com/watch?v=EMMbImhfLIk'\n",
    "tianguismanalco = 'https://www.youtube.com/watch?v=pzZCk3jkViI'\n",
    "altzomoni = 'https://www.youtube.com/watch?v=lEn95DZB664'\n",
    "urls_camaras_web = [sannicolas, amecameca, hpanoaya, tlamacas, tianguismanalco, altzomoni]"
   ]
  },
  {
   "cell_type": "code",
   "execution_count": 45,
   "id": "b6c47f8a-d98b-498a-8040-c3aaf2d325bc",
   "metadata": {},
   "outputs": [],
   "source": [
    "def get_vid_info(url):\n",
    "    ydl_opts={}\n",
    "    with yt_dlp.YoutubeDL(ydl_opts) as ydl:\n",
    "        info = ydl.extract_info(url, download=False)\n",
    "        return ydl.sanitize_info(info)"
   ]
  },
  {
   "cell_type": "code",
   "execution_count": 46,
   "id": "edc9f781-778c-47e5-b4bd-015d5286d8f5",
   "metadata": {},
   "outputs": [
    {
     "name": "stdout",
     "output_type": "stream",
     "text": [
      "[youtube] Extracting URL: https://www.youtube.com/watch?v=EMMbImhfLIk\n",
      "[youtube] EMMbImhfLIk: Downloading webpage\n",
      "[youtube] EMMbImhfLIk: Downloading ios player API JSON\n",
      "[youtube] EMMbImhfLIk: Downloading android player API JSON\n"
     ]
    },
    {
     "name": "stderr",
     "output_type": "stream",
     "text": [
      "WARNING: [youtube] Skipping player responses from android clients (got player responses for video \"aQvGIIdgFDM\" instead of \"EMMbImhfLIk\")\n"
     ]
    },
    {
     "name": "stdout",
     "output_type": "stream",
     "text": [
      "[youtube] EMMbImhfLIk: Downloading m3u8 information\n",
      "[youtube] EMMbImhfLIk: Downloading m3u8 information\n"
     ]
    }
   ],
   "source": [
    "info=get_vid_info(urls_camaras_web[3]) # Can throw -> its dead."
   ]
  },
  {
   "cell_type": "code",
   "execution_count": 37,
   "id": "a505dd16-4ef9-4a43-b5b3-469117034b8a",
   "metadata": {},
   "outputs": [
    {
     "data": {
      "text/plain": [
       "dict_keys(['id', 'title', 'formats', 'thumbnails', 'thumbnail', 'description', 'channel_id', 'channel_url', 'view_count', 'average_rating', 'age_limit', 'webpage_url', 'categories', 'tags', 'playable_in_embed', 'live_status', 'release_timestamp', '_format_sort_fields', 'automatic_captions', 'subtitles', 'comment_count', 'chapters', 'heatmap', 'like_count', 'concurrent_view_count', 'channel', 'channel_follower_count', 'channel_is_verified', 'uploader', 'uploader_id', 'uploader_url', 'upload_date', 'availability', 'original_url', 'webpage_url_basename', 'webpage_url_domain', 'extractor', 'extractor_key', 'playlist', 'playlist_index', 'display_id', 'fulltitle', 'release_date', 'release_year', 'is_live', 'was_live', 'requested_subtitles', '_has_drm', 'epoch', 'format_id', 'format_index', 'url', 'manifest_url', 'tbr', 'ext', 'fps', 'protocol', 'preference', 'quality', 'has_drm', 'width', 'height', 'vcodec', 'acodec', 'dynamic_range', 'source_preference', 'resolution', 'aspect_ratio', 'http_headers', 'video_ext', 'audio_ext', 'vbr', 'abr', 'format', '_type', '_version'])"
      ]
     },
     "execution_count": 37,
     "metadata": {},
     "output_type": "execute_result"
    }
   ],
   "source": [
    "info.keys()"
   ]
  },
  {
   "cell_type": "code",
   "execution_count": 38,
   "id": "367515c9-64e0-4e2e-b9f6-dfcc06356977",
   "metadata": {},
   "outputs": [
    {
     "data": {
      "text/plain": [
       "True"
      ]
     },
     "execution_count": 38,
     "metadata": {},
     "output_type": "execute_result"
    }
   ],
   "source": [
    "info[\"is_live\"] # Not live -> It's dead"
   ]
  },
  {
   "cell_type": "code",
   "execution_count": 39,
   "id": "f854a37f-84be-445c-96b6-d4908ae7c274",
   "metadata": {},
   "outputs": [],
   "source": [
    "format = info[\"formats\"][-1] #last is usually the best"
   ]
  },
  {
   "cell_type": "code",
   "execution_count": 40,
   "id": "a7e862d5-dab5-494f-8356-d78629db4956",
   "metadata": {},
   "outputs": [
    {
     "data": {
      "text/plain": [
       "{'format_id': '94',\n",
       " 'format_index': None,\n",
       " 'url': 'https://manifest.googlevideo.com/api/manifest/hls_playlist/expire/1714224830/ei/XqosZuGsEJCK2_gP7Yax8AQ/ip/2806:266:488:8c38:1c9e:f61e:8e24:75c2/id/EMMbImhfLIk.1/itag/94/source/yt_live_broadcast/requiressl/yes/ratebypass/yes/live/1/sgoap/gir%3Dyes%3Bitag%3D140/sgovp/gir%3Dyes%3Bitag%3D135/rqh/1/hdlc/1/hls_chunk_host/rr5---sn-9gv7ened.googlevideo.com/xpc/EgVo2aDSNQ%3D%3D/playlist_duration/30/manifest_duration/30/spc/UWF9fwsb2Orsdrbeh-KFbH1YEpSjr-BavpkROQyawmOIMhwd474CnACaxGK7/vprv/1/playlist_type/DVR/initcwndbps/1507500/mh/oU/mm/44/mn/sn-9gv7ened/ms/lva/mv/m/mvi/5/pl/55/dover/11/pacing/0/keepalive/yes/mt/1714202436/sparams/expire,ei,ip,id,itag,source,requiressl,ratebypass,live,sgoap,sgovp,rqh,hdlc,xpc,playlist_duration,manifest_duration,spc,vprv,playlist_type/sig/AJfQdSswRQIgN_TevfPx1ILrGxOsefBIUb4m3-bBcUrJkrE413_olZQCIQCAhBQMR4yOUbszO4Uni1xR_xgmRZHdZr_jvoZ3Abdh1g%3D%3D/lsparams/hls_chunk_host,initcwndbps,mh,mm,mn,ms,mv,mvi,pl/lsig/AHWaYeowRAIgPqtIkcgbdg2VnBjFtTGmP7_lTTdrzMNVR9tBvsgPxQACIA8_4-9ylz82MKehH-2mnZc9Nuj3x4QTp6lGbyJyyDZB/playlist/index.m3u8',\n",
       " 'manifest_url': 'https://manifest.googlevideo.com/api/manifest/hls_variant/expire/1714224830/ei/XqosZuGsEJCK2_gP7Yax8AQ/ip/2806%3A266%3A488%3A8c38%3A1c9e%3Af61e%3A8e24%3A75c2/id/EMMbImhfLIk.1/source/yt_live_broadcast/requiressl/yes/xpc/EgVo2aDSNQ%3D%3D/hfr/1/playlist_duration/30/manifest_duration/30/maudio/1/spc/UWF9fwsb2Orsdrbeh-KFbH1YEpSjr-BavpkROQyawmOIMhwd474CnACaxGK7/vprv/1/go/1/pacing/0/nvgoi/1/keepalive/yes/dover/11/itag/0/playlist_type/DVR/sparams/expire%2Cei%2Cip%2Cid%2Csource%2Crequiressl%2Cxpc%2Chfr%2Cplaylist_duration%2Cmanifest_duration%2Cmaudio%2Cspc%2Cvprv%2Cgo%2Citag%2Cplaylist_type/sig/AJfQdSswRAIgKBiX-nc9JyO9Np9s7JXuxqZZJtalmjeXefiMSXc5ihkCIA5UDdo8Eg4azzitd4ktgsL4Wi9tzu1BVtY1vDkhrky-/file/index.m3u8',\n",
       " 'tbr': 1568.726,\n",
       " 'ext': 'mp4',\n",
       " 'fps': 30.0,\n",
       " 'protocol': 'm3u8_native',\n",
       " 'preference': None,\n",
       " 'quality': -1,\n",
       " 'has_drm': False,\n",
       " 'width': 640,\n",
       " 'height': 480,\n",
       " 'vcodec': 'avc1.4d401e',\n",
       " 'acodec': 'mp4a.40.2',\n",
       " 'dynamic_range': 'SDR',\n",
       " 'source_preference': -1,\n",
       " 'resolution': '640x480',\n",
       " 'aspect_ratio': 1.33,\n",
       " 'http_headers': {'User-Agent': 'Mozilla/5.0 (Windows NT 10.0; Win64; x64) AppleWebKit/537.36 (KHTML, like Gecko) Chrome/91.0.4472.124 Safari/537.36',\n",
       "  'Accept': 'text/html,application/xhtml+xml,application/xml;q=0.9,*/*;q=0.8',\n",
       "  'Accept-Language': 'en-us,en;q=0.5',\n",
       "  'Sec-Fetch-Mode': 'navigate'},\n",
       " 'video_ext': 'mp4',\n",
       " 'audio_ext': 'none',\n",
       " 'vbr': None,\n",
       " 'abr': None,\n",
       " 'format': '94 - 640x480'}"
      ]
     },
     "execution_count": 40,
     "metadata": {},
     "output_type": "execute_result"
    }
   ],
   "source": [
    "format # note how url is now a .m3u8 file, that's video. "
   ]
  },
  {
   "cell_type": "code",
   "execution_count": 41,
   "id": "22bd99b3-5fd5-4920-8a1c-513ebea7beeb",
   "metadata": {},
   "outputs": [],
   "source": [
    "cap = cv2.VideoCapture(format[\"url\"]) #video reader\n",
    "cap.set(cv2.CAP_PROP_POS_AVI_RATIO, 1) #this is essentially saying: go to last frame\n",
    "_, frame = cap.read()\n",
    "filename =r\"output.png\"\n",
    "cv2.imwrite(filename, frame)\n",
    "cap.release()"
   ]
  },
  {
   "cell_type": "code",
   "execution_count": null,
   "id": "e994087b-67ab-4b76-840b-4eaffe536030",
   "metadata": {},
   "outputs": [],
   "source": []
  }
 ],
 "metadata": {
  "kernelspec": {
   "display_name": "Python 3 (ipykernel)",
   "language": "python",
   "name": "python3"
  },
  "language_info": {
   "codemirror_mode": {
    "name": "ipython",
    "version": 3
   },
   "file_extension": ".py",
   "mimetype": "text/x-python",
   "name": "python",
   "nbconvert_exporter": "python",
   "pygments_lexer": "ipython3",
   "version": "3.10.12"
  }
 },
 "nbformat": 4,
 "nbformat_minor": 5
}
