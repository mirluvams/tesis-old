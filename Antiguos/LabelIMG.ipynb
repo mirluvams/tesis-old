{
 "cells": [
  {
   "cell_type": "code",
   "execution_count": 3,
   "id": "28beca86-a126-4396-b5d3-c6e281e6868b",
   "metadata": {},
   "outputs": [
    {
     "name": "stdout",
     "output_type": "stream",
     "text": [
      "Collecting guizero\n",
      "  Downloading guizero-1.4.0-py3-none-any.whl (44 kB)\n",
      "     ---------------------------------------- 0.0/44.5 kB ? eta -:--:--\n",
      "     ----------------- -------------------- 20.5/44.5 kB 320.0 kB/s eta 0:00:01\n",
      "     -------------------------------------- 44.5/44.5 kB 439.2 kB/s eta 0:00:00\n",
      "Installing collected packages: guizero\n",
      "Successfully installed guizero-1.4.0\n"
     ]
    }
   ],
   "source": [
    "!pip install guizero"
   ]
  },
  {
   "cell_type": "code",
   "execution_count": 4,
   "id": "f1039f44-d1b5-45d7-abe9-159287891345",
   "metadata": {
    "tags": []
   },
   "outputs": [],
   "source": [
    "import pandas as pd\n",
    "import numpy as np\n",
    "from guizero import *\n",
    "import PIL"
   ]
  },
  {
   "cell_type": "code",
   "execution_count": 5,
   "id": "a59d973c-7155-4ab1-9dbc-00f5f83dca58",
   "metadata": {
    "tags": []
   },
   "outputs": [
    {
     "name": "stdout",
     "output_type": "stream",
     "text": [
      "Requirement already satisfied: pyarrow in c:\\users\\alexi\\mambaforge\\lib\\site-packages (13.0.0)\n",
      "Requirement already satisfied: numpy>=1.16.6 in c:\\users\\alexi\\mambaforge\\lib\\site-packages (from pyarrow) (1.23.5)\n"
     ]
    }
   ],
   "source": [
    "!pip install pyarrow"
   ]
  },
  {
   "cell_type": "code",
   "execution_count": 6,
   "id": "de58e2c6-e942-47e5-8b80-6c1d46009c82",
   "metadata": {
    "tags": []
   },
   "outputs": [],
   "source": [
    "try:\n",
    "    df=pd.read_feather(\"miri_raw_data.feather\")\n",
    "except Exception as E:\n",
    "    print(E)\n",
    "    df=pd.read_feather(\"miri_raw_data.backup.feather\")"
   ]
  },
  {
   "cell_type": "code",
   "execution_count": 7,
   "id": "eecbd0dc-6b04-4d06-9a77-776f0193e699",
   "metadata": {
    "tags": []
   },
   "outputs": [
    {
     "data": {
      "text/html": [
       "<div>\n",
       "<style scoped>\n",
       "    .dataframe tbody tr th:only-of-type {\n",
       "        vertical-align: middle;\n",
       "    }\n",
       "\n",
       "    .dataframe tbody tr th {\n",
       "        vertical-align: top;\n",
       "    }\n",
       "\n",
       "    .dataframe thead th {\n",
       "        text-align: right;\n",
       "    }\n",
       "</style>\n",
       "<table border=\"1\" class=\"dataframe\">\n",
       "  <thead>\n",
       "    <tr style=\"text-align: right;\">\n",
       "      <th></th>\n",
       "      <th>id_reporte</th>\n",
       "      <th>url</th>\n",
       "      <th>year</th>\n",
       "      <th>month</th>\n",
       "      <th>filename</th>\n",
       "      <th>ext</th>\n",
       "      <th>date</th>\n",
       "      <th>text</th>\n",
       "      <th>y</th>\n",
       "      <th>y2</th>\n",
       "      <th>yf</th>\n",
       "    </tr>\n",
       "  </thead>\n",
       "  <tbody>\n",
       "    <tr>\n",
       "      <th>0</th>\n",
       "      <td>959</td>\n",
       "      <td>https://www.cenapred.unam.mx/popo/2000/abr/p04...</td>\n",
       "      <td>2000</td>\n",
       "      <td>abr</td>\n",
       "      <td>p0423001</td>\n",
       "      <td>jpg</td>\n",
       "      <td>11:00 (16:00 GMT, Abril 23)</td>\n",
       "      <td>\\n&lt;b&gt;11:00 (16:00 GMT, Abril 23):&lt;/b&gt;\\n\\n&lt;br/&gt;...</td>\n",
       "      <td>1</td>\n",
       "      <td>1</td>\n",
       "      <td></td>\n",
       "    </tr>\n",
       "    <tr>\n",
       "      <th>1</th>\n",
       "      <td>959</td>\n",
       "      <td>https://www.cenapred.unam.mx/popo/2000/abr/p04...</td>\n",
       "      <td>2000</td>\n",
       "      <td>abr</td>\n",
       "      <td>p0423002</td>\n",
       "      <td>jpg</td>\n",
       "      <td>11:00 (16:00 GMT, Abril 23)</td>\n",
       "      <td>\\n&lt;b&gt;11:00 (16:00 GMT, Abril 23):&lt;/b&gt;\\n\\n&lt;br/&gt;...</td>\n",
       "      <td>1</td>\n",
       "      <td>1</td>\n",
       "      <td></td>\n",
       "    </tr>\n",
       "    <tr>\n",
       "      <th>2</th>\n",
       "      <td>959</td>\n",
       "      <td>https://www.cenapred.unam.mx/popo/2000/abr/p04...</td>\n",
       "      <td>2000</td>\n",
       "      <td>abr</td>\n",
       "      <td>p0423003</td>\n",
       "      <td>jpg</td>\n",
       "      <td>11:00 (16:00 GMT, Abril 23)</td>\n",
       "      <td>\\n&lt;b&gt;11:00 (16:00 GMT, Abril 23):&lt;/b&gt;\\n\\n&lt;br/&gt;...</td>\n",
       "      <td>3</td>\n",
       "      <td>3</td>\n",
       "      <td></td>\n",
       "    </tr>\n",
       "    <tr>\n",
       "      <th>3</th>\n",
       "      <td>960</td>\n",
       "      <td>https://www.cenapred.unam.mx/popo/2000/abr/p04...</td>\n",
       "      <td>2000</td>\n",
       "      <td>abr</td>\n",
       "      <td>p0424001</td>\n",
       "      <td>jpg</td>\n",
       "      <td>11:00 (16:00 GMT, Abril 24)</td>\n",
       "      <td>\\n&lt;b&gt;11:00 (16:00 GMT, Abril 24):&lt;/b&gt;\\n\\n&lt;br/&gt;...</td>\n",
       "      <td>3</td>\n",
       "      <td>3</td>\n",
       "      <td></td>\n",
       "    </tr>\n",
       "    <tr>\n",
       "      <th>4</th>\n",
       "      <td>960</td>\n",
       "      <td>https://www.cenapred.unam.mx/popo/2000/abr/p04...</td>\n",
       "      <td>2000</td>\n",
       "      <td>abr</td>\n",
       "      <td>p0424002</td>\n",
       "      <td>jpg</td>\n",
       "      <td>11:00 (16:00 GMT, Abril 24)</td>\n",
       "      <td>\\n&lt;b&gt;11:00 (16:00 GMT, Abril 24):&lt;/b&gt;\\n\\n&lt;br/&gt;...</td>\n",
       "      <td>3</td>\n",
       "      <td>3</td>\n",
       "      <td></td>\n",
       "    </tr>\n",
       "  </tbody>\n",
       "</table>\n",
       "</div>"
      ],
      "text/plain": [
       "   id_reporte                                                url  year month  \\\n",
       "0         959  https://www.cenapred.unam.mx/popo/2000/abr/p04...  2000   abr   \n",
       "1         959  https://www.cenapred.unam.mx/popo/2000/abr/p04...  2000   abr   \n",
       "2         959  https://www.cenapred.unam.mx/popo/2000/abr/p04...  2000   abr   \n",
       "3         960  https://www.cenapred.unam.mx/popo/2000/abr/p04...  2000   abr   \n",
       "4         960  https://www.cenapred.unam.mx/popo/2000/abr/p04...  2000   abr   \n",
       "\n",
       "   filename  ext                         date  \\\n",
       "0  p0423001  jpg  11:00 (16:00 GMT, Abril 23)   \n",
       "1  p0423002  jpg  11:00 (16:00 GMT, Abril 23)   \n",
       "2  p0423003  jpg  11:00 (16:00 GMT, Abril 23)   \n",
       "3  p0424001  jpg  11:00 (16:00 GMT, Abril 24)   \n",
       "4  p0424002  jpg  11:00 (16:00 GMT, Abril 24)   \n",
       "\n",
       "                                                text  y y2 yf  \n",
       "0  \\n<b>11:00 (16:00 GMT, Abril 23):</b>\\n\\n<br/>...  1  1     \n",
       "1  \\n<b>11:00 (16:00 GMT, Abril 23):</b>\\n\\n<br/>...  1  1     \n",
       "2  \\n<b>11:00 (16:00 GMT, Abril 23):</b>\\n\\n<br/>...  3  3     \n",
       "3  \\n<b>11:00 (16:00 GMT, Abril 24):</b>\\n\\n<br/>...  3  3     \n",
       "4  \\n<b>11:00 (16:00 GMT, Abril 24):</b>\\n\\n<br/>...  3  3     "
      ]
     },
     "execution_count": 7,
     "metadata": {},
     "output_type": "execute_result"
    }
   ],
   "source": [
    "df.head()"
   ]
  },
  {
   "cell_type": "code",
   "execution_count": 8,
   "id": "5c3deba0-5fef-4c13-b4ac-7bc2106c0903",
   "metadata": {
    "tags": []
   },
   "outputs": [],
   "source": [
    "\n",
    "\n",
    "if \"y\" not in list(df.columns):\n",
    "    df[\"y\"]=[\"\"]*df.shape[0]\n",
    "    df.to_feather(\"miri_raw_data.feather\")\n",
    "    \n",
    "if \"y2\" not in list(df.columns):\n",
    "    df[\"y2\"]=[\"\"]*df.shape[0]\n",
    "    df.to_feather(\"miri_raw_data.feather\")\n",
    "    \n",
    "if \"yf\" not in list(df.columns):\n",
    "    df[\"yf\"]=[\"\"]*df.shape[0]\n",
    "    df.to_feather(\"miri_raw_data.feather\")"
   ]
  },
  {
   "cell_type": "code",
   "execution_count": 9,
   "id": "f504aee3-49a7-47a4-a11d-dec2321a83f0",
   "metadata": {
    "tags": []
   },
   "outputs": [
    {
     "ename": "TypeError",
     "evalue": "DataFrame.any() takes 1 positional argument but 2 were given",
     "output_type": "error",
     "traceback": [
      "\u001b[1;31m---------------------------------------------------------------------------\u001b[0m",
      "\u001b[1;31mTypeError\u001b[0m                                 Traceback (most recent call last)",
      "Cell \u001b[1;32mIn[9], line 1\u001b[0m\n\u001b[1;32m----> 1\u001b[0m df[\u001b[43mdf\u001b[49m\u001b[38;5;241;43m.\u001b[39;49m\u001b[43misnull\u001b[49m\u001b[43m(\u001b[49m\u001b[43m)\u001b[49m\u001b[38;5;241;43m.\u001b[39;49m\u001b[43many\u001b[49m\u001b[43m(\u001b[49m\u001b[38;5;241;43m1\u001b[39;49m\u001b[43m)\u001b[49m]\n",
      "\u001b[1;31mTypeError\u001b[0m: DataFrame.any() takes 1 positional argument but 2 were given"
     ]
    }
   ],
   "source": [
    "df[df.isnull().any(1)]"
   ]
  },
  {
   "cell_type": "code",
   "execution_count": 10,
   "id": "7e366a4a-a2fc-41d0-bec4-ad6a144f1d78",
   "metadata": {
    "tags": []
   },
   "outputs": [
    {
     "name": "stdout",
     "output_type": "stream",
     "text": [
      "2000/abr/p0424001.jpg\n"
     ]
    }
   ],
   "source": [
    "def path_of(i:int)->str:\n",
    "    y,m,f,e=df.iloc[i][[\"year\",\"month\",\"filename\",\"ext\"]]\n",
    "    return f\"{y}/{m}/{f}.{e}\"\n",
    "print(path_of(3))"
   ]
  },
  {
   "cell_type": "code",
   "execution_count": 11,
   "id": "ab138290-b28a-4eb6-985f-b2de8f6aafd9",
   "metadata": {
    "tags": []
   },
   "outputs": [],
   "source": [
    "current_image_idx=None\n",
    "def get_next_image():\n",
    "    global current_image_idx\n",
    "    current_image_idx=df.y2.eq(\"\").idxmax()\n",
    "    return path_of(current_image_idx)\n"
   ]
  },
  {
   "cell_type": "code",
   "execution_count": 12,
   "id": "3afbf07d-2b90-4673-91ce-f4b3f4b94df0",
   "metadata": {
    "tags": []
   },
   "outputs": [],
   "source": [
    "def get_size(path:str) -> tuple[int, int]:\n",
    "    im = PIL.Image.open(path)\n",
    "    return im.size"
   ]
  },
  {
   "cell_type": "code",
   "execution_count": 10,
   "id": "987dfbb2-47d0-43a9-9fff-f0a6c7640b62",
   "metadata": {
    "tags": []
   },
   "outputs": [],
   "source": [
    "path=get_next_image()\n",
    "w,h=get_size(path)\n",
    "app = App(\n",
    "    height=h+25*5,\n",
    "    width=w, \n",
    "    bg=\"white\"\n",
    ")\n",
    "\n",
    "\n",
    "pic = Picture(app, image=path)\n",
    "TL1 = Text(app, text=\"[1]=No Activo\")\n",
    "TL2 = Text(app, text=\"[2]=Explosión\")\n",
    "TL3 = Text(app, text=\"[3]=Fumarola\")\n",
    "TL4 = Text(app, text=\"[4]=No sé\")\n",
    "\n",
    "\n",
    "Input= TextBox(app, width=\"fill\", multiline=False)\n",
    "#Input.bg=\"black\"\n",
    "\n",
    "Barrier=False\n",
    "def textupdate():\n",
    "    global Barrier\n",
    "    if Barrier:\n",
    "        return\n",
    "    value=Input.value.strip()\n",
    "    Input.value=value\n",
    "    if len(value)==0 or value[-1]!=\".\":\n",
    "        return\n",
    "    Barrier=True\n",
    "    \n",
    "    filtered=[] #filter out the numbers exclusively\n",
    "    for c in value[:-1]:\n",
    "        try:\n",
    "            int(c)\n",
    "        except:\n",
    "            continue\n",
    "        filtered.append(c)\n",
    "    \n",
    "    #print(\"prev_y\",df.iloc[current_image_idx,-2])\n",
    "    df.to_feather(\"miri_raw_data.backup.feather\")\n",
    "    df.iloc[current_image_idx,-2]=\" \".join(filtered)\n",
    "    df.to_feather(\"miri_raw_data.feather\")\n",
    "        \n",
    "    #Load another image and reset the input\n",
    "    pic.image=get_next_image()\n",
    "\n",
    "    app.title=f'{df[df[\"y2\"]!=\"\"].shape[0]/df.shape[0]*100:.03f}% complete.'\n",
    "    Input.value=\"\"\n",
    "    Barrier=False\n",
    "Input.update_command(textupdate)\n",
    "Input.focus()\n",
    "\n",
    "    \n",
    "app.display()\n"
   ]
  },
  {
   "cell_type": "code",
   "execution_count": 13,
   "id": "5fe24884-f071-46c6-bf02-d3089b4cd8d9",
   "metadata": {
    "tags": []
   },
   "outputs": [],
   "source": [
    "# df[df[\"y\"]!=\"\"].shape[0]/df.shape[0]*100"
   ]
  },
  {
   "cell_type": "code",
   "execution_count": 14,
   "id": "42289150-133d-4403-aedc-30ada2dc82f0",
   "metadata": {
    "tags": []
   },
   "outputs": [
    {
     "data": {
      "text/plain": [
       "9.805335255948089"
      ]
     },
     "execution_count": 14,
     "metadata": {},
     "output_type": "execute_result"
    }
   ],
   "source": [
    "df[df[\"y2\"]!=\"\"].shape[0]/df.shape[0]*100"
   ]
  },
  {
   "cell_type": "code",
   "execution_count": 15,
   "id": "6041186a-fe27-4201-a5f1-f1d2c5e08130",
   "metadata": {
    "tags": []
   },
   "outputs": [
    {
     "data": {
      "text/plain": [
       "0.0"
      ]
     },
     "execution_count": 15,
     "metadata": {},
     "output_type": "execute_result"
    }
   ],
   "source": [
    "df[df[\"yf\"]!=\"\"].shape[0]/df.shape[0]*100"
   ]
  },
  {
   "cell_type": "code",
   "execution_count": 16,
   "id": "695c62a9-f1ed-4e43-91b2-710a8f6852de",
   "metadata": {},
   "outputs": [
    {
     "data": {
      "text/html": [
       "<div>\n",
       "<style scoped>\n",
       "    .dataframe tbody tr th:only-of-type {\n",
       "        vertical-align: middle;\n",
       "    }\n",
       "\n",
       "    .dataframe tbody tr th {\n",
       "        vertical-align: top;\n",
       "    }\n",
       "\n",
       "    .dataframe thead th {\n",
       "        text-align: right;\n",
       "    }\n",
       "</style>\n",
       "<table border=\"1\" class=\"dataframe\">\n",
       "  <thead>\n",
       "    <tr style=\"text-align: right;\">\n",
       "      <th></th>\n",
       "      <th>id_reporte</th>\n",
       "      <th>url</th>\n",
       "      <th>year</th>\n",
       "      <th>month</th>\n",
       "      <th>filename</th>\n",
       "      <th>ext</th>\n",
       "      <th>date</th>\n",
       "      <th>text</th>\n",
       "      <th>y</th>\n",
       "      <th>y2</th>\n",
       "      <th>yf</th>\n",
       "    </tr>\n",
       "  </thead>\n",
       "  <tbody>\n",
       "    <tr>\n",
       "      <th>0</th>\n",
       "      <td>959</td>\n",
       "      <td>https://www.cenapred.unam.mx/popo/2000/abr/p04...</td>\n",
       "      <td>2000</td>\n",
       "      <td>abr</td>\n",
       "      <td>p0423001</td>\n",
       "      <td>jpg</td>\n",
       "      <td>11:00 (16:00 GMT, Abril 23)</td>\n",
       "      <td>\\n&lt;b&gt;11:00 (16:00 GMT, Abril 23):&lt;/b&gt;\\n\\n&lt;br/&gt;...</td>\n",
       "      <td>1</td>\n",
       "      <td>1</td>\n",
       "      <td></td>\n",
       "    </tr>\n",
       "    <tr>\n",
       "      <th>1</th>\n",
       "      <td>959</td>\n",
       "      <td>https://www.cenapred.unam.mx/popo/2000/abr/p04...</td>\n",
       "      <td>2000</td>\n",
       "      <td>abr</td>\n",
       "      <td>p0423002</td>\n",
       "      <td>jpg</td>\n",
       "      <td>11:00 (16:00 GMT, Abril 23)</td>\n",
       "      <td>\\n&lt;b&gt;11:00 (16:00 GMT, Abril 23):&lt;/b&gt;\\n\\n&lt;br/&gt;...</td>\n",
       "      <td>1</td>\n",
       "      <td>1</td>\n",
       "      <td></td>\n",
       "    </tr>\n",
       "    <tr>\n",
       "      <th>2</th>\n",
       "      <td>959</td>\n",
       "      <td>https://www.cenapred.unam.mx/popo/2000/abr/p04...</td>\n",
       "      <td>2000</td>\n",
       "      <td>abr</td>\n",
       "      <td>p0423003</td>\n",
       "      <td>jpg</td>\n",
       "      <td>11:00 (16:00 GMT, Abril 23)</td>\n",
       "      <td>\\n&lt;b&gt;11:00 (16:00 GMT, Abril 23):&lt;/b&gt;\\n\\n&lt;br/&gt;...</td>\n",
       "      <td>3</td>\n",
       "      <td>3</td>\n",
       "      <td></td>\n",
       "    </tr>\n",
       "    <tr>\n",
       "      <th>3</th>\n",
       "      <td>960</td>\n",
       "      <td>https://www.cenapred.unam.mx/popo/2000/abr/p04...</td>\n",
       "      <td>2000</td>\n",
       "      <td>abr</td>\n",
       "      <td>p0424001</td>\n",
       "      <td>jpg</td>\n",
       "      <td>11:00 (16:00 GMT, Abril 24)</td>\n",
       "      <td>\\n&lt;b&gt;11:00 (16:00 GMT, Abril 24):&lt;/b&gt;\\n\\n&lt;br/&gt;...</td>\n",
       "      <td>3</td>\n",
       "      <td>3</td>\n",
       "      <td></td>\n",
       "    </tr>\n",
       "    <tr>\n",
       "      <th>4</th>\n",
       "      <td>960</td>\n",
       "      <td>https://www.cenapred.unam.mx/popo/2000/abr/p04...</td>\n",
       "      <td>2000</td>\n",
       "      <td>abr</td>\n",
       "      <td>p0424002</td>\n",
       "      <td>jpg</td>\n",
       "      <td>11:00 (16:00 GMT, Abril 24)</td>\n",
       "      <td>\\n&lt;b&gt;11:00 (16:00 GMT, Abril 24):&lt;/b&gt;\\n\\n&lt;br/&gt;...</td>\n",
       "      <td>3</td>\n",
       "      <td>3</td>\n",
       "      <td></td>\n",
       "    </tr>\n",
       "    <tr>\n",
       "      <th>5</th>\n",
       "      <td>961</td>\n",
       "      <td>https://www.cenapred.unam.mx/popo/2000/abr/p04...</td>\n",
       "      <td>2000</td>\n",
       "      <td>abr</td>\n",
       "      <td>p0425001</td>\n",
       "      <td>jpg</td>\n",
       "      <td>11:00 (16:00 GMT, Abril 25)</td>\n",
       "      <td>\\n&lt;b&gt;11:00 (16:00 GMT, Abril 25):&lt;/b&gt;\\n\\n&lt;br/&gt;...</td>\n",
       "      <td>3</td>\n",
       "      <td>3</td>\n",
       "      <td></td>\n",
       "    </tr>\n",
       "    <tr>\n",
       "      <th>6</th>\n",
       "      <td>961</td>\n",
       "      <td>https://www.cenapred.unam.mx/popo/2000/abr/p04...</td>\n",
       "      <td>2000</td>\n",
       "      <td>abr</td>\n",
       "      <td>p0425002</td>\n",
       "      <td>jpg</td>\n",
       "      <td>11:00 (16:00 GMT, Abril 25)</td>\n",
       "      <td>\\n&lt;b&gt;11:00 (16:00 GMT, Abril 25):&lt;/b&gt;\\n\\n&lt;br/&gt;...</td>\n",
       "      <td>3</td>\n",
       "      <td>3</td>\n",
       "      <td></td>\n",
       "    </tr>\n",
       "    <tr>\n",
       "      <th>7</th>\n",
       "      <td>962</td>\n",
       "      <td>https://www.cenapred.unam.mx/popo/2000/abr/p04...</td>\n",
       "      <td>2000</td>\n",
       "      <td>abr</td>\n",
       "      <td>p0427001</td>\n",
       "      <td>jpg</td>\n",
       "      <td>11:00 (16:00 GMT, Abril 27)</td>\n",
       "      <td>\\n&lt;b&gt;11:00 (16:00 GMT, Abril 27):&lt;/b&gt;\\n\\n&lt;br/&gt;...</td>\n",
       "      <td>3</td>\n",
       "      <td>1</td>\n",
       "      <td></td>\n",
       "    </tr>\n",
       "    <tr>\n",
       "      <th>8</th>\n",
       "      <td>962</td>\n",
       "      <td>https://www.cenapred.unam.mx/popo/2000/abr/p04...</td>\n",
       "      <td>2000</td>\n",
       "      <td>abr</td>\n",
       "      <td>p0427002</td>\n",
       "      <td>jpg</td>\n",
       "      <td>11:00 (16:00 GMT, Abril 27)</td>\n",
       "      <td>\\n&lt;b&gt;11:00 (16:00 GMT, Abril 27):&lt;/b&gt;\\n\\n&lt;br/&gt;...</td>\n",
       "      <td>4</td>\n",
       "      <td>4</td>\n",
       "      <td></td>\n",
       "    </tr>\n",
       "    <tr>\n",
       "      <th>9</th>\n",
       "      <td>963</td>\n",
       "      <td>https://www.cenapred.unam.mx/popo/2000/abr/p04...</td>\n",
       "      <td>2000</td>\n",
       "      <td>abr</td>\n",
       "      <td>p0428001</td>\n",
       "      <td>jpg</td>\n",
       "      <td>11:00 (16:00 GMT, Abril 28)</td>\n",
       "      <td>\\n&lt;b&gt;11:00 (16:00 GMT, Abril 28):&lt;/b&gt;\\n\\n&lt;br/&gt;...</td>\n",
       "      <td>4</td>\n",
       "      <td>1</td>\n",
       "      <td></td>\n",
       "    </tr>\n",
       "  </tbody>\n",
       "</table>\n",
       "</div>"
      ],
      "text/plain": [
       "   id_reporte                                                url  year month  \\\n",
       "0         959  https://www.cenapred.unam.mx/popo/2000/abr/p04...  2000   abr   \n",
       "1         959  https://www.cenapred.unam.mx/popo/2000/abr/p04...  2000   abr   \n",
       "2         959  https://www.cenapred.unam.mx/popo/2000/abr/p04...  2000   abr   \n",
       "3         960  https://www.cenapred.unam.mx/popo/2000/abr/p04...  2000   abr   \n",
       "4         960  https://www.cenapred.unam.mx/popo/2000/abr/p04...  2000   abr   \n",
       "5         961  https://www.cenapred.unam.mx/popo/2000/abr/p04...  2000   abr   \n",
       "6         961  https://www.cenapred.unam.mx/popo/2000/abr/p04...  2000   abr   \n",
       "7         962  https://www.cenapred.unam.mx/popo/2000/abr/p04...  2000   abr   \n",
       "8         962  https://www.cenapred.unam.mx/popo/2000/abr/p04...  2000   abr   \n",
       "9         963  https://www.cenapred.unam.mx/popo/2000/abr/p04...  2000   abr   \n",
       "\n",
       "   filename  ext                         date  \\\n",
       "0  p0423001  jpg  11:00 (16:00 GMT, Abril 23)   \n",
       "1  p0423002  jpg  11:00 (16:00 GMT, Abril 23)   \n",
       "2  p0423003  jpg  11:00 (16:00 GMT, Abril 23)   \n",
       "3  p0424001  jpg  11:00 (16:00 GMT, Abril 24)   \n",
       "4  p0424002  jpg  11:00 (16:00 GMT, Abril 24)   \n",
       "5  p0425001  jpg  11:00 (16:00 GMT, Abril 25)   \n",
       "6  p0425002  jpg  11:00 (16:00 GMT, Abril 25)   \n",
       "7  p0427001  jpg  11:00 (16:00 GMT, Abril 27)   \n",
       "8  p0427002  jpg  11:00 (16:00 GMT, Abril 27)   \n",
       "9  p0428001  jpg  11:00 (16:00 GMT, Abril 28)   \n",
       "\n",
       "                                                text  y y2 yf  \n",
       "0  \\n<b>11:00 (16:00 GMT, Abril 23):</b>\\n\\n<br/>...  1  1     \n",
       "1  \\n<b>11:00 (16:00 GMT, Abril 23):</b>\\n\\n<br/>...  1  1     \n",
       "2  \\n<b>11:00 (16:00 GMT, Abril 23):</b>\\n\\n<br/>...  3  3     \n",
       "3  \\n<b>11:00 (16:00 GMT, Abril 24):</b>\\n\\n<br/>...  3  3     \n",
       "4  \\n<b>11:00 (16:00 GMT, Abril 24):</b>\\n\\n<br/>...  3  3     \n",
       "5  \\n<b>11:00 (16:00 GMT, Abril 25):</b>\\n\\n<br/>...  3  3     \n",
       "6  \\n<b>11:00 (16:00 GMT, Abril 25):</b>\\n\\n<br/>...  3  3     \n",
       "7  \\n<b>11:00 (16:00 GMT, Abril 27):</b>\\n\\n<br/>...  3  1     \n",
       "8  \\n<b>11:00 (16:00 GMT, Abril 27):</b>\\n\\n<br/>...  4  4     \n",
       "9  \\n<b>11:00 (16:00 GMT, Abril 28):</b>\\n\\n<br/>...  4  1     "
      ]
     },
     "execution_count": 16,
     "metadata": {},
     "output_type": "execute_result"
    }
   ],
   "source": [
    "df.head(10)"
   ]
  },
  {
   "cell_type": "code",
   "execution_count": 17,
   "id": "9cb4a3ff-a469-47ad-b612-8950ae9bab3e",
   "metadata": {},
   "outputs": [
    {
     "data": {
      "text/plain": [
       "'\\n<br/>\\n\\n<b> 9:50 Diciembre 14 (15:50 GMT). </b>\\nA las  05:44 del día de hoy se registró un incremento en la actividad del volcán. Lo anterior derivó, minutos más tarde, en la emisión de una columna de ceniza, vapor y gases que alcanzó una altura cercana a los 4 km por encima del cráter. Dicha emisión se ha mantenido desde entonces, con algunas fluctuaciones. Al momento de este reporte se observa una tendencia a disminuir.\\n<br/>\\nLos vientos dominantes dirigieron la pluma hacia el Oeste, sector donde ya se ha reportado la caída de ceniza (Ozumba, Nexapa y Amecameca).\\n<br/>\\nAsimismo, se observó, a lo largo de la noche, la emisión esporádica de fragmentos incandescentes en volúmenes reducidos como consecuencia de explosiones de bajo nivel en la base del cráter. Dichos fragmentos han caído en las laderas del volcán, particularmente en las partes altas.\\n<br/>\\nEs probable que en las próximas horas o días se presenten eventos similares.\\n<br/>\\n\\n<br/>\\nSe recomienda no acercarse a menos de 7 km del volcán. El semáforo de alerta volcánica se mantiene en AMARILLO.\\n<br/>\\n<font size=\"1\">(CGM)</font>\\n\\n<br/>\\n\\n<b> 13:00 Diciembre 14 (19:00 GMT). </b>\\n\\n<br/>\\nA las 12:12 del día de hoy se registró nuevamente un incremento en la actividad del volcán. Continúa la emisión de una columna de ceniza, vapor y gases que alcanza una altura cercana a los 4 km por encima del cráter. Dicha emisión se ha mantenido desde entonces, con algunas fluctuaciones.\\n<br/>\\nLos vientos dominantes dirigen la pluma hacia el Noroeste.\\n<br/>\\nSe recomienda no acercarse a menos de 7 km del volcán. El semáforo de alerta volcánica se mantiene en AMARILLO.\\n<br/>\\n<font size=\"1\">(CGM)</font>\\n\\n<br/>\\n\\n<br/>\\n\\n<b> 16:45 Diciembre 14 (22:45 GMT). </b>\\nDesde las 12:12 horas de hoy, la emisión de ceniza se ha mantenido hasta el momento de este reporte. La columna se eleva aproximadamente a 4 Km del cráter del volcán y se dirige hacia el Noroeste\\n<a href=\"/popo/2000/dic/p1214004.jpg\">(ver imagen).</a>\\n\\n<br/>\\nSe recomienda no acercarse a menos de 7 km del volcán. El semáforo de alerta volcánica se mantiene en AMARILLO.\\n<br/>\\n<font size=\"1\">(EGO)</font>\\n\\n<br/>\\n\\n<br/>\\n\\n<b> 21:00 Diciembre 14 (03:00 GMT Diciembre 15). </b>\\n\\n<br/>\\nDurante las 3 últimas horas, el volcán Popocatépetl ha mostrado un decremento en su actividad sísmica.\\n<br/>\\nSe recomienda no acercarse a menos de 7 km del volcán. El semáforo de alerta volcánica se mantiene en AMARILLO.\\n<br/>\\n<font size=\"1\">(CGM/GCP)</font>\\n\\n<br/>\\n'"
      ]
     },
     "execution_count": 17,
     "metadata": {},
     "output_type": "execute_result"
    }
   ],
   "source": [
    "df[df[\"text\"].str.find(\"explosion\")>0].iloc[0].text"
   ]
  },
  {
   "cell_type": "code",
   "execution_count": null,
   "id": "8581c3a5-8094-49e3-8ec3-3bf17592987d",
   "metadata": {},
   "outputs": [],
   "source": []
  }
 ],
 "metadata": {
  "kernelspec": {
   "display_name": "Python 3 (ipykernel)",
   "language": "python",
   "name": "python3"
  },
  "language_info": {
   "codemirror_mode": {
    "name": "ipython",
    "version": 3
   },
   "file_extension": ".py",
   "mimetype": "text/x-python",
   "name": "python",
   "nbconvert_exporter": "python",
   "pygments_lexer": "ipython3",
   "version": "3.10.14"
  }
 },
 "nbformat": 4,
 "nbformat_minor": 5
}
