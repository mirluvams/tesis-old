{
 "cells": [
  {
   "cell_type": "markdown",
   "id": "966f999c-f239-4557-9673-116420a8c4a1",
   "metadata": {
    "tags": []
   },
   "source": [
    "## Scrape reports"
   ]
  },
  {
   "cell_type": "code",
   "execution_count": 23,
   "id": "3e20d07e-f617-4844-a23f-6952a16c296c",
   "metadata": {
    "tags": []
   },
   "outputs": [],
   "source": [
    "from bs4 import BeautifulSoup, Comment\n",
    "import requests\n",
    "import pandas as pd\n",
    "import numpy as np\n",
    "import urllib3\n",
    "urllib3.disable_warnings()"
   ]
  },
  {
   "cell_type": "code",
   "execution_count": 35,
   "id": "b68776d0-a14b-456a-a2f3-5d22eef28b8f",
   "metadata": {
    "tags": []
   },
   "outputs": [],
   "source": [
    "#base=959 ORIGINAL\n",
    "# https://www.cenapred.unam.mx/reportesVolcanGobMX/Procesos?tipoProceso=detallesReporteVolcan&id_registro=2386&caso_reporte=1427\n",
    "#segunda vez \n",
    "base = 9500\n",
    "def get_page(page_id:int):\n",
    "    src=requests.get(f\"https://www.cenapred.unam.mx/reportesVolcanGobMX/Procesos?tipoProceso=detallesReporteVolcan&id_registro={base+page_id:d}&caso_reporte=0\",verify=False)\n",
    "    r=BeautifulSoup(src.text)\n",
    "    return r"
   ]
  },
  {
   "cell_type": "code",
   "execution_count": 36,
   "id": "cb74fce6-562f-4edb-bc78-ed1fc423c3df",
   "metadata": {},
   "outputs": [
    {
     "data": {
      "text/plain": [
       "<html>\n",
       "<head><title>404 Not Found</title></head>\n",
       "<body>\n",
       "<center><h1>404 Not Found</h1></center>\n",
       "<hr/><center>nginx/1.25.3</center>\n",
       "</body>\n",
       "</html>"
      ]
     },
     "execution_count": 36,
     "metadata": {},
     "output_type": "execute_result"
    }
   ],
   "source": [
    "get_page(0)"
   ]
  },
  {
   "cell_type": "code",
   "execution_count": 25,
   "id": "e700ab09-3458-402e-bd74-e5cfd9312465",
   "metadata": {
    "tags": []
   },
   "outputs": [],
   "source": [
    "datos={}\n",
    "datos[\"id_reporte\"]=[]\n",
    "datos[\"url\"]=[]\n",
    "datos[\"year\"]=[]\n",
    "datos[\"month\"]=[]\n",
    "datos[\"filename\"]=[]\n",
    "datos[\"ext\"]=[]\n",
    "datos[\"date\"]=[]\n",
    "datos[\"text\"]=[]\n",
    "last_success=0"
   ]
  },
  {
   "cell_type": "code",
   "execution_count": 26,
   "id": "00bb9698-7a50-40aa-b9be-e6a04ed9175a",
   "metadata": {
    "tags": []
   },
   "outputs": [
    {
     "data": {
      "text/html": [
       "\n",
       "<style>\n",
       "    /* Turns off some styling */\n",
       "    progress {\n",
       "        /* gets rid of default border in Firefox and Opera. */\n",
       "        border: none;\n",
       "        /* Needs to be in here for Safari polyfill so background images work as expected. */\n",
       "        background-size: auto;\n",
       "    }\n",
       "    progress:not([value]), progress:not([value])::-webkit-progress-bar {\n",
       "        background: repeating-linear-gradient(45deg, #7e7e7e, #7e7e7e 10px, #5c5c5c 10px, #5c5c5c 20px);\n",
       "    }\n",
       "    .progress-bar-interrupted, .progress-bar-interrupted::-webkit-progress-bar {\n",
       "        background: #F44336;\n",
       "    }\n",
       "</style>\n"
      ],
      "text/plain": [
       "<IPython.core.display.HTML object>"
      ]
     },
     "metadata": {},
     "output_type": "display_data"
    },
    {
     "data": {
      "text/html": [
       "\n",
       "    <div>\n",
       "      <progress value='32' class='' max='9500' style='width:300px; height:20px; vertical-align: middle;'></progress>\n",
       "      0.34% [32/9500 00:04&lt;22:42]\n",
       "    </div>\n",
       "    "
      ],
      "text/plain": [
       "<IPython.core.display.HTML object>"
      ]
     },
     "metadata": {},
     "output_type": "display_data"
    },
    {
     "name": "stdout",
     "output_type": "stream",
     "text": [
      "User interruption\n"
     ]
    }
   ],
   "source": [
    "import time\n",
    "from fastprogress import progress_bar\n",
    "\n",
    "page_range=9500\n",
    "for p_idx in progress_bar(range(last_success,page_range)):\n",
    "    try:\n",
    "        page=get_page(p_idx)\n",
    "        img_header=\"https://www.cenapred.unam.mx/popo/\"\n",
    "        img_count=0\n",
    "        for img in page.find_all(\"img\"):\n",
    "            if img[\"src\"][:len(img_header)]==img_header:\n",
    "                folder_structure=img[\"src\"][len(img_header):].split(\"/\")\n",
    "                folder_structure[-1]=folder_structure[-1].strip()\n",
    "                try:\n",
    "                    fullname=folder_structure.pop()\n",
    "                    fn,ext=fullname.split(\".\")[:2]\n",
    "                except Exception as E:\n",
    "                    print(fullname)\n",
    "                    raise E\n",
    "                year,month=folder_structure\n",
    "\n",
    "                datos[\"id_reporte\"].append(p_idx+base)\n",
    "                datos[\"url\"].append(img[\"src\"])\n",
    "                datos[\"year\"].append(year)\n",
    "                datos[\"month\"].append(month)\n",
    "                datos[\"filename\"].append(fn)\n",
    "                datos[\"ext\"].append(ext)\n",
    "                datos[\"date\"].append(\"EMPTY\")\n",
    "                datos[\"text\"].append(\"EMPTY\")\n",
    "                img_count+=1\n",
    "        comments = page.find_all(string=lambda text: isinstance(text, Comment))\n",
    "        section=None\n",
    "        for c in comments:\n",
    "            if c==\"-SECCION DE CONTENIDO-\":\n",
    "                section=c.parent\n",
    "                break\n",
    "        if section!=None:\n",
    "            span=section.find_all(align=\"justify\")[0].span\n",
    "            date=\"EMPTY\"\n",
    "            try:\n",
    "                date=span.b.text[:-1]\n",
    "            except Exception as e:\n",
    "                pass#print(\"WARN: \",p_idx+base,e)\n",
    "            \n",
    "            text=[]\n",
    "            for c in span.contents:\n",
    "                text.append(str(c).strip())\n",
    "            text=\"\\n\".join(text)\n",
    "            for i in range(img_count):\n",
    "                datos[\"date\"][-i-1]=date\n",
    "                datos[\"text\"][-i-1]=text\n",
    "        last_success=p_idx+1\n",
    "        #time.sleep(.25)\n",
    "    except KeyboardInterrupt as e:\n",
    "        print(\"User interruption\")\n",
    "        break\n",
    "    #except Exception as e:\n",
    "    #    print(\"FAIL:\",p_idx+base,e)\n",
    "    #    time.sleep(2)\n",
    "    #if p_idx%100==0:\n",
    "    #    print(f\"DONE: {100*p_idx/9500:.02f}%\")"
   ]
  },
  {
   "cell_type": "code",
   "execution_count": 27,
   "id": "948ba76f-55fc-49bf-947b-01d6720ea2df",
   "metadata": {
    "tags": []
   },
   "outputs": [
    {
     "data": {
      "text/plain": [
       "(0,)"
      ]
     },
     "execution_count": 27,
     "metadata": {},
     "output_type": "execute_result"
    }
   ],
   "source": [
    "df=pd.DataFrame(datos)\n",
    "df[\"id_reporte\"].unique().shape"
   ]
  },
  {
   "cell_type": "code",
   "execution_count": 22,
   "id": "a4e7011c-92b0-4e36-aa90-ff350062622b",
   "metadata": {
    "tags": []
   },
   "outputs": [
    {
     "data": {
      "text/html": [
       "<div>\n",
       "<style scoped>\n",
       "    .dataframe tbody tr th:only-of-type {\n",
       "        vertical-align: middle;\n",
       "    }\n",
       "\n",
       "    .dataframe tbody tr th {\n",
       "        vertical-align: top;\n",
       "    }\n",
       "\n",
       "    .dataframe thead th {\n",
       "        text-align: right;\n",
       "    }\n",
       "</style>\n",
       "<table border=\"1\" class=\"dataframe\">\n",
       "  <thead>\n",
       "    <tr style=\"text-align: right;\">\n",
       "      <th></th>\n",
       "      <th>id_reporte</th>\n",
       "      <th>url</th>\n",
       "      <th>year</th>\n",
       "      <th>month</th>\n",
       "      <th>filename</th>\n",
       "      <th>ext</th>\n",
       "      <th>date</th>\n",
       "      <th>text</th>\n",
       "    </tr>\n",
       "  </thead>\n",
       "  <tbody>\n",
       "  </tbody>\n",
       "</table>\n",
       "</div>"
      ],
      "text/plain": [
       "Empty DataFrame\n",
       "Columns: [id_reporte, url, year, month, filename, ext, date, text]\n",
       "Index: []"
      ]
     },
     "execution_count": 22,
     "metadata": {},
     "output_type": "execute_result"
    }
   ],
   "source": [
    "df.tail()"
   ]
  },
  {
   "cell_type": "code",
   "execution_count": 12,
   "id": "01624528-0d4e-4156-8739-c1482ae119e8",
   "metadata": {
    "tags": []
   },
   "outputs": [
    {
     "data": {
      "text/plain": [
       "<Axes: >"
      ]
     },
     "execution_count": 12,
     "metadata": {},
     "output_type": "execute_result"
    },
    {
     "data": {
      "image/png": "[encoded data removed]",
      "text/plain": [
       "<Figure size 640x480 with 1 Axes>"
      ]
     },
     "metadata": {},
     "output_type": "display_data"
    }
   ],
   "source": [
    "df[[\"id_reporte\"]].plot()"
   ]
  },
  {
   "cell_type": "code",
   "execution_count": 13,
   "id": "a606ab63-5e79-446c-bbe3-c2d8382abb7a",
   "metadata": {
    "tags": []
   },
   "outputs": [
    {
     "name": "stdout",
     "output_type": "stream",
     "text": [
      "<class 'pandas.core.frame.DataFrame'>\n",
      "RangeIndex: 451 entries, 0 to 450\n",
      "Data columns (total 8 columns):\n",
      " #   Column      Non-Null Count  Dtype \n",
      "---  ------      --------------  ----- \n",
      " 0   id_reporte  451 non-null    int64 \n",
      " 1   url         451 non-null    object\n",
      " 2   year        451 non-null    object\n",
      " 3   month       451 non-null    object\n",
      " 4   filename    451 non-null    object\n",
      " 5   ext         451 non-null    object\n",
      " 6   date        451 non-null    object\n",
      " 7   text        451 non-null    object\n",
      "dtypes: int64(1), object(7)\n",
      "memory usage: 28.3+ KB\n"
     ]
    }
   ],
   "source": [
    "df.info()"
   ]
  },
  {
   "cell_type": "code",
   "execution_count": 21,
   "id": "f0d5b983-2be4-4261-890a-74ff847036a2",
   "metadata": {
    "tags": []
   },
   "outputs": [],
   "source": [
    "df.to_feather(\"2miri_raw_data.feather\")"
   ]
  },
  {
   "cell_type": "markdown",
   "id": "9c211f1b-31f1-4e75-8889-eb70daef59a7",
   "metadata": {
    "tags": []
   },
   "source": [
    "## Scrape Images"
   ]
  },
  {
   "cell_type": "code",
   "execution_count": 15,
   "id": "97fbf7c4-77b5-4899-9947-db9abf9b39fc",
   "metadata": {
    "tags": []
   },
   "outputs": [],
   "source": [
    "df=pd.read_feather(\"2miri_raw_data.feather\")"
   ]
  },
  {
   "cell_type": "code",
   "execution_count": 20,
   "id": "1fae055d-6f35-46f3-92c8-514ff114478d",
   "metadata": {
    "tags": []
   },
   "outputs": [
    {
     "data": {
      "text/html": [
       "<div>\n",
       "<style scoped>\n",
       "    .dataframe tbody tr th:only-of-type {\n",
       "        vertical-align: middle;\n",
       "    }\n",
       "\n",
       "    .dataframe tbody tr th {\n",
       "        vertical-align: top;\n",
       "    }\n",
       "\n",
       "    .dataframe thead th {\n",
       "        text-align: right;\n",
       "    }\n",
       "</style>\n",
       "<table border=\"1\" class=\"dataframe\">\n",
       "  <thead>\n",
       "    <tr style=\"text-align: right;\">\n",
       "      <th></th>\n",
       "      <th>id_reporte</th>\n",
       "      <th>url</th>\n",
       "      <th>year</th>\n",
       "      <th>month</th>\n",
       "      <th>filename</th>\n",
       "      <th>ext</th>\n",
       "      <th>date</th>\n",
       "      <th>text</th>\n",
       "    </tr>\n",
       "  </thead>\n",
       "  <tbody>\n",
       "    <tr>\n",
       "      <th>446</th>\n",
       "      <td>9618</td>\n",
       "      <td>https://www.cenapred.unam.mx/popo/2023/jul/p07...</td>\n",
       "      <td>2023</td>\n",
       "      <td>jul</td>\n",
       "      <td>p0711232</td>\n",
       "      <td>jpeg</td>\n",
       "      <td>Julio 11, 11:00 h (Julio 11, 17:00 GMT)</td>\n",
       "      <td>\\n&lt;br/&gt;\\n&lt;b&gt; Julio 11, 11:00 h (Julio 11, 17:0...</td>\n",
       "    </tr>\n",
       "    <tr>\n",
       "      <th>447</th>\n",
       "      <td>9618</td>\n",
       "      <td>https://www.cenapred.unam.mx/popo/2023/jul/p07...</td>\n",
       "      <td>2023</td>\n",
       "      <td>jul</td>\n",
       "      <td>p0711233</td>\n",
       "      <td>jpeg</td>\n",
       "      <td>Julio 11, 11:00 h (Julio 11, 17:00 GMT)</td>\n",
       "      <td>\\n&lt;br/&gt;\\n&lt;b&gt; Julio 11, 11:00 h (Julio 11, 17:0...</td>\n",
       "    </tr>\n",
       "    <tr>\n",
       "      <th>448</th>\n",
       "      <td>9619</td>\n",
       "      <td>https://www.cenapred.unam.mx/popo/2023/jul/p07...</td>\n",
       "      <td>2023</td>\n",
       "      <td>jul</td>\n",
       "      <td>p0712231</td>\n",
       "      <td>jpg</td>\n",
       "      <td>Julio 12, 11:00 h (Julio 12, 17:00 GMT)</td>\n",
       "      <td>\\n&lt;br/&gt;\\n&lt;b&gt; Julio 12, 11:00 h (Julio 12, 17:0...</td>\n",
       "    </tr>\n",
       "    <tr>\n",
       "      <th>449</th>\n",
       "      <td>9619</td>\n",
       "      <td>https://www.cenapred.unam.mx/popo/2023/jul/p07...</td>\n",
       "      <td>2023</td>\n",
       "      <td>jul</td>\n",
       "      <td>p0712232</td>\n",
       "      <td>jpg</td>\n",
       "      <td>Julio 12, 11:00 h (Julio 12, 17:00 GMT)</td>\n",
       "      <td>\\n&lt;br/&gt;\\n&lt;b&gt; Julio 12, 11:00 h (Julio 12, 17:0...</td>\n",
       "    </tr>\n",
       "    <tr>\n",
       "      <th>450</th>\n",
       "      <td>9619</td>\n",
       "      <td>https://www.cenapred.unam.mx/popo/2023/jul/p07...</td>\n",
       "      <td>2023</td>\n",
       "      <td>jul</td>\n",
       "      <td>p0712233</td>\n",
       "      <td>jpg</td>\n",
       "      <td>Julio 12, 11:00 h (Julio 12, 17:00 GMT)</td>\n",
       "      <td>\\n&lt;br/&gt;\\n&lt;b&gt; Julio 12, 11:00 h (Julio 12, 17:0...</td>\n",
       "    </tr>\n",
       "  </tbody>\n",
       "</table>\n",
       "</div>"
      ],
      "text/plain": [
       "     id_reporte                                                url  year  \\\n",
       "446        9618  https://www.cenapred.unam.mx/popo/2023/jul/p07...  2023   \n",
       "447        9618  https://www.cenapred.unam.mx/popo/2023/jul/p07...  2023   \n",
       "448        9619  https://www.cenapred.unam.mx/popo/2023/jul/p07...  2023   \n",
       "449        9619  https://www.cenapred.unam.mx/popo/2023/jul/p07...  2023   \n",
       "450        9619  https://www.cenapred.unam.mx/popo/2023/jul/p07...  2023   \n",
       "\n",
       "    month  filename   ext                                      date  \\\n",
       "446   jul  p0711232  jpeg   Julio 11, 11:00 h (Julio 11, 17:00 GMT)   \n",
       "447   jul  p0711233  jpeg   Julio 11, 11:00 h (Julio 11, 17:00 GMT)   \n",
       "448   jul  p0712231   jpg   Julio 12, 11:00 h (Julio 12, 17:00 GMT)   \n",
       "449   jul  p0712232   jpg   Julio 12, 11:00 h (Julio 12, 17:00 GMT)   \n",
       "450   jul  p0712233   jpg   Julio 12, 11:00 h (Julio 12, 17:00 GMT)   \n",
       "\n",
       "                                                  text  \n",
       "446  \\n<br/>\\n<b> Julio 11, 11:00 h (Julio 11, 17:0...  \n",
       "447  \\n<br/>\\n<b> Julio 11, 11:00 h (Julio 11, 17:0...  \n",
       "448  \\n<br/>\\n<b> Julio 12, 11:00 h (Julio 12, 17:0...  \n",
       "449  \\n<br/>\\n<b> Julio 12, 11:00 h (Julio 12, 17:0...  \n",
       "450  \\n<br/>\\n<b> Julio 12, 11:00 h (Julio 12, 17:0...  "
      ]
     },
     "execution_count": 20,
     "metadata": {},
     "output_type": "execute_result"
    }
   ],
   "source": [
    "df.tail()"
   ]
  },
  {
   "cell_type": "code",
   "execution_count": 17,
   "id": "7540bc8d-9d8e-42b3-b585-a5d331229d26",
   "metadata": {
    "tags": []
   },
   "outputs": [
    {
     "name": "stderr",
     "output_type": "stream",
     "text": [
      "/var/folders/v6/f2xrf3f56mj9hq7szf63sbv80000gn/T/ipykernel_18094/1040708776.py:1: FutureWarning: In a future version of pandas all arguments of DataFrame.any and Series.any will be keyword-only.\n",
      "  df[df.isnull().any(1)]\n"
     ]
    },
    {
     "data": {
      "text/html": [
       "<div>\n",
       "<style scoped>\n",
       "    .dataframe tbody tr th:only-of-type {\n",
       "        vertical-align: middle;\n",
       "    }\n",
       "\n",
       "    .dataframe tbody tr th {\n",
       "        vertical-align: top;\n",
       "    }\n",
       "\n",
       "    .dataframe thead th {\n",
       "        text-align: right;\n",
       "    }\n",
       "</style>\n",
       "<table border=\"1\" class=\"dataframe\">\n",
       "  <thead>\n",
       "    <tr style=\"text-align: right;\">\n",
       "      <th></th>\n",
       "      <th>id_reporte</th>\n",
       "      <th>url</th>\n",
       "      <th>year</th>\n",
       "      <th>month</th>\n",
       "      <th>filename</th>\n",
       "      <th>ext</th>\n",
       "      <th>date</th>\n",
       "      <th>text</th>\n",
       "    </tr>\n",
       "  </thead>\n",
       "  <tbody>\n",
       "  </tbody>\n",
       "</table>\n",
       "</div>"
      ],
      "text/plain": [
       "Empty DataFrame\n",
       "Columns: [id_reporte, url, year, month, filename, ext, date, text]\n",
       "Index: []"
      ]
     },
     "execution_count": 17,
     "metadata": {},
     "output_type": "execute_result"
    }
   ],
   "source": [
    "df[df.isnull().any(1)]"
   ]
  },
  {
   "cell_type": "code",
   "execution_count": 18,
   "id": "7907f286-d6c4-4705-8c44-ee04d912854e",
   "metadata": {
    "tags": []
   },
   "outputs": [],
   "source": [
    "import requests\n",
    "import shutil\n",
    "import os\n",
    "\n",
    "last_success=0"
   ]
  },
  {
   "cell_type": "code",
   "execution_count": 19,
   "id": "c8746e98-755d-4e12-a5c1-57497548ff59",
   "metadata": {
    "tags": []
   },
   "outputs": [
    {
     "data": {
      "text/html": [
       "\n",
       "<style>\n",
       "    /* Turns off some styling */\n",
       "    progress {\n",
       "        /* gets rid of default border in Firefox and Opera. */\n",
       "        border: none;\n",
       "        /* Needs to be in here for Safari polyfill so background images work as expected. */\n",
       "        background-size: auto;\n",
       "    }\n",
       "    progress:not([value]), progress:not([value])::-webkit-progress-bar {\n",
       "        background: repeating-linear-gradient(45deg, #7e7e7e, #7e7e7e 10px, #5c5c5c 10px, #5c5c5c 20px);\n",
       "    }\n",
       "    .progress-bar-interrupted, .progress-bar-interrupted::-webkit-progress-bar {\n",
       "        background: #F44336;\n",
       "    }\n",
       "</style>\n"
      ],
      "text/plain": [
       "<IPython.core.display.HTML object>"
      ]
     },
     "metadata": {},
     "output_type": "display_data"
    },
    {
     "data": {
      "text/html": [
       "\n",
       "    <div>\n",
       "      <progress value='451' class='' max='451' style='width:300px; height:20px; vertical-align: middle;'></progress>\n",
       "      100.00% [451/451 05:09&lt;00:00]\n",
       "    </div>\n",
       "    "
      ],
      "text/plain": [
       "<IPython.core.display.HTML object>"
      ]
     },
     "metadata": {},
     "output_type": "display_data"
    }
   ],
   "source": [
    "for img_idx in progress_bar(range(last_success,df.shape[0])):\n",
    "    img_row=df.iloc[img_idx][[\"url\",\"year\",\"month\",\"filename\",\"ext\"]]\n",
    "    url,year,month,filename,ext=img_row\n",
    "    #print(url,year,month,filename,ext)\n",
    "    r = requests.get(url.strip(), stream=True)\n",
    "    path=f\"{year}/{month}\"\n",
    "    \n",
    "    os.system(f\"mkdir {year} > /dev/null 2>&1\")\n",
    "    os.system(f\"mkdir {year}/{month} > /dev/null 2>&1\")\n",
    "    \n",
    "    fullpath=path+f\"/{filename}.{ext}\"\n",
    "    if r.status_code == 200:\n",
    "        with open(fullpath, 'wb') as f:\n",
    "            r.raw.decode_content = True\n",
    "            shutil.copyfileobj(r.raw, f)\n",
    "    last_success=img_idx"
   ]
  },
  {
   "cell_type": "code",
   "execution_count": null,
   "id": "4362467d-e801-4919-a1c5-3cf70352d7f8",
   "metadata": {},
   "outputs": [],
   "source": []
  }
 ],
 "metadata": {
  "kernelspec": {
   "display_name": "Python 3 (ipykernel)",
   "language": "python",
   "name": "python3"
  },
  "language_info": {
   "codemirror_mode": {
    "name": "ipython",
    "version": 3
   },
   "file_extension": ".py",
   "mimetype": "text/x-python",
   "name": "python",
   "nbconvert_exporter": "python",
   "pygments_lexer": "ipython3",
   "version": "3.12.2"
  }
 },
 "nbformat": 4,
 "nbformat_minor": 5
}
