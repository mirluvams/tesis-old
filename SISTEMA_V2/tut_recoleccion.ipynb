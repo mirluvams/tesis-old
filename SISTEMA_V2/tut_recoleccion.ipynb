{
 "cells": [
  {
   "cell_type": "markdown",
   "id": "133ee810-170b-4aeb-9384-98e434a64694",
   "metadata": {},
   "source": [
    "### Holis!\n",
    "Intentemos recrear nuestro sistema de recolección. Primero, definamos lo que queremos hacer:\n",
    "\n",
    "_Un sistema que, una vez ejecutado el archivo, descargue todas las imágenes de las cámaras que nos interesan, las clasifique, y guarde los resultados._\n",
    "\n",
    "Suena complicado. Ahora, lo importante es dividir la tarea en pedacitos manejables:\n",
    "\n",
    "* Un sistema => Un archivo\n",
    "    * Descargar las imágenes\n",
    "         * Tener todas las cámaras en un diccionario cámara -> url de youtube\n",
    "         * Obtener la información de cada video, obteniendo un url de stream!\n",
    "            * yt-dlp tiene una función que te permite hacer eso\n",
    "         * Descargar el último frame del stream de cada cámara\n",
    "            * CV2 tiene una clase que te permite abrir un stream, pasar al último frame, y guardarlo como imágen\n",
    "         * Guardar cada imagen en disco\n",
    "            * Decide un formato de guardado y usa el sistema de archivos.\n",
    "         * También guardar el tiempo de recolección o no nos sirve de nada! \n",
    "    * Clasificar las imágenes\n",
    "         * Cargar el modelo UNA VEZ! (y el procesador de imágenes)\n",
    "         * Tomar cada frame (ver procedimiento anterior)\n",
    "         * Pasar cada frame al modelo -> te dará outputs\n",
    "         * Pasar los outputs a probabilidades (usar softmax?)\n",
    "    * Guardar los resultados\n",
    "         * Crear un dataframe (Path, cámara, tiempo probabilidades\n",
    "         * Cargar el dataframe con toda la información\n",
    "             * Si encuentras el archivo principal y se abre, ese lo cargas\n",
    "             * Si no, busca el archivo secundario y si abre, lo cargas\n",
    "             * Y si no, haces uno vacío.\n",
    "         * Juntar ambos dataframes\n",
    "         * Guardar el dataframe compuesto\n",
    "             * Antes de siquiera tocar el dataframe grande, guardas el backup en el archivo secundario. Si eso falla, aborta todo.\n",
    "          "
   ]
  },
  {
   "cell_type": "markdown",
   "id": "c2100679-f958-4d75-a246-b416346c030c",
   "metadata": {},
   "source": [
    "### LIBRERÍAS\n",
    "Cool! Ahora tenemos que empezar. Primero, es buena práctica cargar *todas* las librerías que usas en un archivo al principio, así que haz eso. Si te falta una ntp, vuelves y la pones."
   ]
  },
  {
   "cell_type": "code",
   "execution_count": null,
   "id": "9a28bcc5-dab6-4dc5-9d9a-22ca0213147e",
   "metadata": {},
   "outputs": [],
   "source": []
  },
  {
   "cell_type": "code",
   "execution_count": null,
   "id": "ade45268-58c3-45bb-823a-869a2380ba27",
   "metadata": {},
   "outputs": [],
   "source": []
  },
  {
   "cell_type": "code",
   "execution_count": null,
   "id": "76f93a3c-ad5b-430e-a051-ed1157e91db7",
   "metadata": {},
   "outputs": [],
   "source": []
  },
  {
   "cell_type": "code",
   "execution_count": null,
   "id": "73828af6-bd03-4c5e-bc6f-8c8c0eab46d2",
   "metadata": {},
   "outputs": [],
   "source": []
  },
  {
   "cell_type": "code",
   "execution_count": null,
   "id": "a0acb1e2-4177-40fc-8bda-6e4686f00ddc",
   "metadata": {},
   "outputs": [],
   "source": []
  },
  {
   "cell_type": "markdown",
   "id": "11f2e052-e487-4dc8-87c0-54d3a0de974d",
   "metadata": {},
   "source": [
    "### Descarga de imágenes\n",
    "Ahora ya sabes que hacer aquí, te diré cómo espero que quede. Quiero:\n",
    "* Una función, save_frame(frame, time, camera) que te guarde un frame generando el path en base al tiempo y la cámara.\n",
    "* Una función, download_last_frame(stream_url) que, dado un string que sea un url a un stream (no al video en youtube directamente!) te descargue el último frame del stream y el tiempo en UTC en el que descargó (esto lo obtienes con datetime en vez del stream, probablemente).\n",
    "* Una función, get_stream(url) que, dado un url de youtube, te de un url que represente un stream de video.\n",
    "* Un diccionario que tenga todas las cámaras y sus respectivos urls de youtube.\n",
    "\n",
    "Te das cuenta que hice lo mismo que antes pero al revés y ahora todo encaja junto? El diseño puede estar difícil, pero ya diseccionado debería solo organizar el código que ya sabes. Dale."
   ]
  },
  {
   "cell_type": "code",
   "execution_count": null,
   "id": "bf90a1d1-c198-4347-959d-9837c509a7a9",
   "metadata": {},
   "outputs": [],
   "source": []
  },
  {
   "cell_type": "code",
   "execution_count": null,
   "id": "cb30f9f9-f06a-40d0-b50f-441911b23998",
   "metadata": {},
   "outputs": [],
   "source": []
  },
  {
   "cell_type": "code",
   "execution_count": null,
   "id": "0b00a654-65f9-4d4b-bec6-88c60ac70cd7",
   "metadata": {},
   "outputs": [],
   "source": []
  },
  {
   "cell_type": "code",
   "execution_count": null,
   "id": "1bf0183e-41df-446b-9ab9-557b07a5c83a",
   "metadata": {},
   "outputs": [],
   "source": []
  },
  {
   "cell_type": "code",
   "execution_count": null,
   "id": "83ce3bd9-c851-41aa-ad8a-aaf8132051f8",
   "metadata": {},
   "outputs": [],
   "source": []
  },
  {
   "cell_type": "markdown",
   "id": "8c174247-09a9-4086-ac08-672ad0b1b202",
   "metadata": {},
   "source": [
    "### Clasificación\n",
    "Ya me leíste, cargas el modelo **una vez** (cada vez que lo cargas tarda bastante, no quiero repetir esto así que apréndetelo, se cargan los datos la menor cantidad de veces posible en casi todos los casos), y me das lo siguiente:\n",
    "* Una función, classify_frame(frame), que te devuelva las probabilidades de cada clase en una serie de pandas (con el nombre adecuado de cada clase), así como la clase principal\n",
    "\n",
    "Fácil, no? Aquí lo dificil es la implementación en vez del diseño, así que te diré cómo cargar el modelo bien. Para empezar, tu modelo está en el siguiente path: `A:\\\\MimModels\\\\swinv2-base-patch4-window16-256-popo\\\\` (Por si te lo preguntas, Linux usa `/`, Windows usa `\\\\` y permite `/`, pero no se prefiere.)\n",
    "\n",
    "Nuestro modelo se compone de dos partes, el preprocesador de imágenes (reescala y eso tus imágenes para que le gusten al modelo), y el modelo en sí (que aprendió a clasificar volcanes). Cargas ambos pasándole la ubicación del modelo a las clases correspondientes (AutoImageProcessor, AutoModelForImageClassification) y transformers te lo carga solito porque el modelo le dice qué clase de modelo es. Una vez cargado, si quieres clasificar, debes hacer lo siguiente:\n",
    "* input frame -> processed_frame [image_processor(images=frame, return_tensors=\"pt\")[\"pixel_values\"\\]\n",
    "* processed_frame -> outputs [model(processed_frame).logits\\]\n",
    "* outputs -> probabilities [softmax\\]\n",
    "* probabilities -> class_index [probabilities.argmax(dim=-1)\\]\n",
    "* class_index -> class_label [model.config.id2label[class_idx\\]\\] (El modelo se aprendió los nombres, te da id2label y label2id como diccionarios.)"
   ]
  },
  {
   "cell_type": "code",
   "execution_count": null,
   "id": "1811e7f5-9347-4d26-a865-304363a3ef7c",
   "metadata": {},
   "outputs": [],
   "source": []
  },
  {
   "cell_type": "code",
   "execution_count": null,
   "id": "f020c830-6bd6-4e31-b183-bc6cb8a4f721",
   "metadata": {},
   "outputs": [],
   "source": []
  },
  {
   "cell_type": "code",
   "execution_count": null,
   "id": "2f7c1ca0-f5c1-44c4-b69a-866912a8118a",
   "metadata": {},
   "outputs": [],
   "source": []
  },
  {
   "cell_type": "code",
   "execution_count": null,
   "id": "05394e87-3897-4701-94e6-ecb03dbc8e32",
   "metadata": {},
   "outputs": [],
   "source": []
  },
  {
   "cell_type": "code",
   "execution_count": null,
   "id": "45b7e5ab-7714-4cde-adc2-a1976ddb1250",
   "metadata": {},
   "outputs": [],
   "source": []
  },
  {
   "cell_type": "markdown",
   "id": "83c413c7-055b-4db3-be81-359f10bd8544",
   "metadata": {},
   "source": [
    "### Guardar los datos\n",
    "Irónicamente, esto podría ser la parte teóricamente más complicada de esto. Quiero que no solo abras y cierres un dataframe, quiero que lo hagas de forma segura: si un guardado falla y te corrompe tus datos, pierdes 24+ horas de puro trabajo, y eso está súper no chido porque nada de lo que hiciste antes sobrevive. Así se guarda algo de forma un poco más segura:\n",
    "\n",
    "* Cargas lo que necesitas (más sobre esto ahorita)\n",
    "* Lo guardas de **inmediato** como *backup*\n",
    "* Modificas la versión que ya cargaste\n",
    "* Lo guardas como *el principal*\n",
    "\n",
    "Ahora si algo falla en el punto de modificar los datos, o en guardarlos, tienes un backup que está OK. El problema es que cargar los datos ahora no es tan sencillo:\n",
    "* *Intentas* cargar el principal\n",
    "* Si jala, ya terminaste, si no, intentas cargar el backup.\n",
    "* Si jala, ya terminaste, si no, *creas datos vacíos* que puedan usarse como si tuvieran cosas.\n",
    "Bajo este principio, nunca terminas sin cargar, aunque posiblemente cargues nada. Hay diferencia entre vacío y nulo, ver el siguiente diagrama:\n",
    "\n",
    "<img src=\"https://th.bing.com/th/id/OIP.Zckuards55bS9zQ6KzJBhQAAAA?rs=1&pid=ImgDetMain\"/>\n",
    "\n",
    "En python, undefined te daría un error si siquiera preguntaras si existe (es usar variables que no declaraste), null te daría un error si intentaras usarlo (el clásico **None**), pero puedes trabajar con \"0\", en nuestro caso un dataframe vacío.\n",
    "\n",
    "Quiero:\n",
    "* Una función, load_data(), que te de los datos guardados más actuales de forma segura siguiendo nuestros pasos. **Esta función se debe encargar del backup!!!**\n",
    "* Una función, save_data(df), que te guarde los datos *solo en el archivo principal*."
   ]
  },
  {
   "cell_type": "code",
   "execution_count": null,
   "id": "5b5e9dce-c8d9-4805-b19a-44307a52f01a",
   "metadata": {},
   "outputs": [],
   "source": []
  },
  {
   "cell_type": "code",
   "execution_count": null,
   "id": "ebce36d6-8d61-4f20-a24a-05892014561a",
   "metadata": {},
   "outputs": [],
   "source": []
  },
  {
   "cell_type": "code",
   "execution_count": null,
   "id": "72a5e419-16e4-4a99-8f9b-846c659f3c69",
   "metadata": {},
   "outputs": [],
   "source": []
  },
  {
   "cell_type": "code",
   "execution_count": null,
   "id": "a53e4a63-8ea0-4f0b-a1a1-2aa2c1912ddc",
   "metadata": {},
   "outputs": [],
   "source": []
  },
  {
   "cell_type": "code",
   "execution_count": null,
   "id": "8086ffb6-7ef8-4f17-94ad-d19693049c80",
   "metadata": {},
   "outputs": [],
   "source": []
  },
  {
   "cell_type": "markdown",
   "id": "b5d35cb4-9d0c-4eb0-9db8-e15a45b90814",
   "metadata": {},
   "source": [
    "### Finalizando todo\n",
    "\n",
    "Genial, si ya llegaste aquí, te falta solo una cosa muuuuy importante: usar todo lo que acabas de definir. Me haces:\n",
    "* Una función, classify_all(), que te descargue los frames de todas las cámaras del diccionario de cámaras, y te devuelva una lista de series de pandas de los frames clasificados con classify_frame(frame)\n",
    "\n",
    "Y la usas para obtener la lista de series, la concatenas para tener un dataframe, cargas los datos anteriores con load_data(), concatenas los datos con tus nuevos datos, y luego usas save_data(df).\n",
    "Y ya, quedó el sistema. Bien hecho en llegar aquí!!!, ahora sólo termina el trabajo."
   ]
  },
  {
   "cell_type": "code",
   "execution_count": null,
   "id": "f507b916-684a-41d1-afe7-ffc5dae4460a",
   "metadata": {},
   "outputs": [],
   "source": []
  },
  {
   "cell_type": "code",
   "execution_count": null,
   "id": "41eb1ec2-e138-439e-b35f-db10cdda5dbf",
   "metadata": {},
   "outputs": [],
   "source": []
  },
  {
   "cell_type": "code",
   "execution_count": null,
   "id": "8ca5dc74-822b-4830-aed9-9f56324a2529",
   "metadata": {},
   "outputs": [],
   "source": []
  },
  {
   "cell_type": "code",
   "execution_count": null,
   "id": "6756e089-d7e3-44f7-9a1e-e7dc3d63a310",
   "metadata": {},
   "outputs": [],
   "source": []
  },
  {
   "cell_type": "code",
   "execution_count": null,
   "id": "a37e0be4-6cba-4a1c-946c-040dd8fbb6a9",
   "metadata": {},
   "outputs": [],
   "source": []
  }
 ],
 "metadata": {
  "kernelspec": {
   "display_name": "Python 3 (ipykernel)",
   "language": "python",
   "name": "python3"
  },
  "language_info": {
   "codemirror_mode": {
    "name": "ipython",
    "version": 3
   },
   "file_extension": ".py",
   "mimetype": "text/x-python",
   "name": "python",
   "nbconvert_exporter": "python",
   "pygments_lexer": "ipython3",
   "version": "3.10.14"
  }
 },
 "nbformat": 4,
 "nbformat_minor": 5
}
