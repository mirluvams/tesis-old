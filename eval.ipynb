{
 "cells": [
  {
   "cell_type": "code",
   "execution_count": 1,
   "id": "2bd3c0e5-a15f-4006-8889-cad683ac7b49",
   "metadata": {},
   "outputs": [],
   "source": [
    "\n",
    "import argparse\n",
    "from transformers import AutoImageProcessor, AutoModelForImageClassification\n",
    "from evaluate import load as load_metric\n",
    "from datasets import Dataset, load_from_disk\n",
    "from PIL import Image, ImageFile\n",
    "from sklearn.metrics import classification_report\n",
    "import numpy as np\n",
    "ImageFile.LOAD_TRUNCATED_IMAGES = True #imagenes ligeramente corruptas OK\n",
    "\n",
    "import torch\n",
    "import torch.nn as nn\n",
    "\n",
    "model_location=\"MimModels/swinv2-base-patch4-window16-256-popo/checkpoint-21700/\"\n",
    "model = AutoModelForImageClassification.from_pretrained(model_location).to(\"cuda\")\n",
    "image_processor = AutoImageProcessor.from_pretrained(model_location)"
   ]
  },
  {
   "cell_type": "code",
   "execution_count": 2,
   "id": "5f3c1f2a-2a77-4676-a4b5-bda610785987",
   "metadata": {},
   "outputs": [],
   "source": [
    "dataset=load_from_disk(\"popocatepetl-eval-dataset/\")#[\"test\"]"
   ]
  },
  {
   "cell_type": "code",
   "execution_count": 3,
   "id": "0e478100-5b2d-427a-bf12-ff3033f0750d",
   "metadata": {},
   "outputs": [],
   "source": [
    "l2id={n:i for i,n in enumerate(dataset.features[\"labels\"].names)}"
   ]
  },
  {
   "cell_type": "code",
   "execution_count": 4,
   "id": "4b3d7035-d689-4f8c-b7d4-fff4235fec40",
   "metadata": {},
   "outputs": [],
   "source": [
    "def classify(data):\n",
    "    inputs=image_processor(images=data[\"image\"], return_tensors=\"pt\")[\"pixel_values\"].to(model.device)\n",
    "    logits=model(pixel_values=inputs).logits\n",
    "    probabilities = nn.functional.softmax(logits, dim=-1)\n",
    "    probabilities = probabilities.detach().cpu().numpy().flatten()\n",
    "    predicted_class_idx = logits.argmax(-1).item()\n",
    "    #return predicted_class_idx\n",
    "    return l2id[model.config.id2label[predicted_class_idx]]"
   ]
  },
  {
   "cell_type": "code",
   "execution_count": 5,
   "id": "0e5f3052-496b-4c45-8f79-90ce268c96ce",
   "metadata": {},
   "outputs": [],
   "source": [
    "\n",
    "from torchvision.transforms import (\n",
    "    CenterCrop,\n",
    "    Compose,\n",
    "    Normalize,\n",
    "    RandomHorizontalFlip,\n",
    "    RandomResizedCrop,\n",
    "    Resize,\n",
    "    ToTensor,\n",
    ")\n",
    "\n",
    "normalize = Normalize(mean=image_processor.image_mean, std=image_processor.image_std)\n",
    "if \"height\" in image_processor.size:\n",
    "    size = (image_processor.size[\"height\"], image_processor.size[\"width\"])\n",
    "    crop_size = size\n",
    "    max_size = None\n",
    "elif \"shortest_edge\" in image_processor.size:\n",
    "    size = image_processor.size[\"shortest_edge\"]\n",
    "    crop_size = (size, size)\n",
    "    max_size = image_processor.size.get(\"longest_edge\")\n",
    "    \n",
    "val_transforms = Compose(\n",
    "        [\n",
    "            Resize(size),\n",
    "            CenterCrop(crop_size),\n",
    "            ToTensor(),\n",
    "            # normalize,\n",
    "        ]\n",
    "    )\n",
    "\n",
    "def preprocess_val(example_batch):\n",
    "    example_batch[\"pixel_values\"] = [val_transforms(image.convert(\"RGB\")) for image in example_batch[\"image\"]]\n",
    "    return example_batch\n",
    "\n",
    "#dataset.set_transform(preprocess_val)"
   ]
  },
  {
   "cell_type": "code",
   "execution_count": 6,
   "id": "581959a2-661b-4195-84db-0b963dc4f1bb",
   "metadata": {},
   "outputs": [
    {
     "data": {
      "text/html": [
       "\n",
       "<style>\n",
       "    /* Turns off some styling */\n",
       "    progress {\n",
       "        /* gets rid of default border in Firefox and Opera. */\n",
       "        border: none;\n",
       "        /* Needs to be in here for Safari polyfill so background images work as expected. */\n",
       "        background-size: auto;\n",
       "    }\n",
       "    progress:not([value]), progress:not([value])::-webkit-progress-bar {\n",
       "        background: repeating-linear-gradient(45deg, #7e7e7e, #7e7e7e 10px, #5c5c5c 10px, #5c5c5c 20px);\n",
       "    }\n",
       "    .progress-bar-interrupted, .progress-bar-interrupted::-webkit-progress-bar {\n",
       "        background: #F44336;\n",
       "    }\n",
       "</style>\n"
      ],
      "text/plain": [
       "<IPython.core.display.HTML object>"
      ]
     },
     "metadata": {},
     "output_type": "display_data"
    },
    {
     "data": {
      "text/html": [
       "\n",
       "    <div>\n",
       "      <progress value='270' class='' max='270' style='width:300px; height:20px; vertical-align: middle;'></progress>\n",
       "      100.00% [270/270 00:09&lt;00:00]\n",
       "    </div>\n",
       "    "
      ],
      "text/plain": [
       "<IPython.core.display.HTML object>"
      ]
     },
     "metadata": {},
     "output_type": "display_data"
    }
   ],
   "source": [
    "from fastprogress import progress_bar as pb\n",
    "results=[]\n",
    "expected=[]\n",
    "for row in pb(dataset):\n",
    "    try:\n",
    "        class_=classify(row)\n",
    "        results.append(class_)\n",
    "        expected.append(row[\"labels\"])\n",
    "        #print(class_,model.config.id2label,row[\"labels\"],dataset.features[\"labels\"].names)\n",
    "    except Exception as e:\n",
    "        #print(e)\n",
    "        pass"
   ]
  },
  {
   "cell_type": "code",
   "execution_count": 7,
   "id": "242e53e9-f5a9-42b3-b0fb-ceec40a7d539",
   "metadata": {},
   "outputs": [
    {
     "name": "stderr",
     "output_type": "stream",
     "text": [
      "/home/miriam/.local/lib/python3.10/site-packages/sklearn/metrics/_classification.py:2642: UserWarning: labels size, 4, does not match size of target_names, 5\n",
      "  warnings.warn(\n"
     ]
    },
    {
     "data": {
      "text/plain": [
       "{'EXP+FUM': {'precision': 0.7714285714285715,\n",
       "  'recall': 0.8709677419354839,\n",
       "  'f1-score': 0.8181818181818182,\n",
       "  'support': 93.0},\n",
       " 'UNK': {'precision': 0.6976744186046512,\n",
       "  'recall': 0.9375,\n",
       "  'f1-score': 0.8,\n",
       "  'support': 32.0},\n",
       " 'FUM': {'precision': 0.8117647058823529,\n",
       "  'recall': 0.6831683168316832,\n",
       "  'f1-score': 0.7419354838709677,\n",
       "  'support': 101.0},\n",
       " 'INA': {'precision': 1.0,\n",
       "  'recall': 0.5882352941176471,\n",
       "  'f1-score': 0.7407407407407407,\n",
       "  'support': 17.0},\n",
       " 'accuracy': 0.7818930041152263,\n",
       " 'macro avg': {'precision': 0.8202169239788939,\n",
       "  'recall': 0.7699678382212036,\n",
       "  'f1-score': 0.7752145106983817,\n",
       "  'support': 243.0},\n",
       " 'weighted avg': {'precision': 0.7944719087749943,\n",
       "  'recall': 0.7818930041152263,\n",
       "  'f1-score': 0.7786789528990511,\n",
       "  'support': 243.0}}"
      ]
     },
     "execution_count": 7,
     "metadata": {},
     "output_type": "execute_result"
    }
   ],
   "source": [
    "report=classification_report(results,expected,labels=np.unique(results).tolist(),target_names=dataset.features[\"labels\"].names, output_dict=True)\n",
    "report"
   ]
  },
  {
   "cell_type": "code",
   "execution_count": 8,
   "id": "55fdd5c0-d281-4f7c-ade0-b5c440f0384b",
   "metadata": {},
   "outputs": [
    {
     "data": {
      "image/png": "[encoded data removed]",
      "text/plain": [
       "<Figure size 1000x600 with 1 Axes>"
      ]
     },
     "metadata": {},
     "output_type": "display_data"
    }
   ],
   "source": [
    "import matplotlib.pyplot as plt\n",
    "categories = [dataset.features[\"labels\"].names[i] for i in np.unique(results).tolist()]\n",
    "\n",
    "precision_values = [report[cat]['precision'] for cat in categories]\n",
    "recall_values = [report[cat]['recall'] for cat in categories]\n",
    "f1_values = [report[cat]['f1-score'] for cat in categories]\n",
    "\n",
    "# Create the bar chart\n",
    "plt.figure(figsize=(10, 6))\n",
    "plt.bar(categories, precision_values, label=f'Precision', alpha=0.7)\n",
    "plt.bar(categories, recall_values, label=f'Recall', alpha=0.7)\n",
    "plt.bar(categories, f1_values, label=f'F1', alpha=0.7)\n",
    "\n",
    "plt.xlabel('Categories')\n",
    "plt.ylabel('Scores')\n",
    "plt.title('Metrics by category (old model, new data)')\n",
    "plt.legend()\n",
    "plt.savefig(\"old_model_metrics_nd\")\n",
    "plt.show()"
   ]
  },
  {
   "cell_type": "code",
   "execution_count": null,
   "id": "9562db3e-ff41-47ba-a8a8-3f01c8c63746",
   "metadata": {},
   "outputs": [],
   "source": []
  }
 ],
 "metadata": {
  "kernelspec": {
   "display_name": "Python 3 (ipykernel)",
   "language": "python",
   "name": "python3"
  },
  "language_info": {
   "codemirror_mode": {
    "name": "ipython",
    "version": 3
   },
   "file_extension": ".py",
   "mimetype": "text/x-python",
   "name": "python",
   "nbconvert_exporter": "python",
   "pygments_lexer": "ipython3",
   "version": "3.10.12"
  }
 },
 "nbformat": 4,
 "nbformat_minor": 5
}
