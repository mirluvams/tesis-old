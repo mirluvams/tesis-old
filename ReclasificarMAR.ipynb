{
 "cells": [
  {
   "cell_type": "code",
   "execution_count": 1,
   "id": "f1039f44-d1b5-45d7-abe9-159287891345",
   "metadata": {
    "tags": []
   },
   "outputs": [],
   "source": [
    "import pandas as pd\n",
    "import numpy as np\n",
    "from guizero import *\n",
    "import PIL"
   ]
  },
  {
   "cell_type": "code",
   "execution_count": 2,
   "id": "de58e2c6-e942-47e5-8b80-6c1d46009c82",
   "metadata": {
    "tags": []
   },
   "outputs": [],
   "source": [
    "try:\n",
    "    df=pd.read_feather(\"NN_INPUT.feather\")\n",
    "except Exception as E:\n",
    "    print(E)\n",
    "    df=pd.read_feather(\"NN_INPUT.backup.feather\")"
   ]
  },
  {
   "cell_type": "code",
   "execution_count": 3,
   "id": "eecbd0dc-6b04-4d06-9a77-776f0193e699",
   "metadata": {
    "tags": []
   },
   "outputs": [
    {
     "data": {
      "text/html": [
       "<div>\n",
       "<style scoped>\n",
       "    .dataframe tbody tr th:only-of-type {\n",
       "        vertical-align: middle;\n",
       "    }\n",
       "\n",
       "    .dataframe tbody tr th {\n",
       "        vertical-align: top;\n",
       "    }\n",
       "\n",
       "    .dataframe thead th {\n",
       "        text-align: right;\n",
       "    }\n",
       "</style>\n",
       "<table border=\"1\" class=\"dataframe\">\n",
       "  <thead>\n",
       "    <tr style=\"text-align: right;\">\n",
       "      <th></th>\n",
       "      <th>Path</th>\n",
       "      <th>FUM</th>\n",
       "      <th>EXP</th>\n",
       "      <th>INAC</th>\n",
       "    </tr>\n",
       "  </thead>\n",
       "  <tbody>\n",
       "    <tr>\n",
       "      <th>0</th>\n",
       "      <td>2000/abr/p0423001.jpg</td>\n",
       "      <td>0.0</td>\n",
       "      <td>0.0</td>\n",
       "      <td>1.0</td>\n",
       "    </tr>\n",
       "    <tr>\n",
       "      <th>1</th>\n",
       "      <td>2000/abr/p0423002.jpg</td>\n",
       "      <td>1.0</td>\n",
       "      <td>0.0</td>\n",
       "      <td>0.0</td>\n",
       "    </tr>\n",
       "    <tr>\n",
       "      <th>2</th>\n",
       "      <td>2000/abr/p0423003.jpg</td>\n",
       "      <td>1.0</td>\n",
       "      <td>0.0</td>\n",
       "      <td>0.0</td>\n",
       "    </tr>\n",
       "    <tr>\n",
       "      <th>3</th>\n",
       "      <td>2000/abr/p0424001.jpg</td>\n",
       "      <td>1.0</td>\n",
       "      <td>0.0</td>\n",
       "      <td>0.0</td>\n",
       "    </tr>\n",
       "    <tr>\n",
       "      <th>4</th>\n",
       "      <td>2000/abr/p0424002.jpg</td>\n",
       "      <td>1.0</td>\n",
       "      <td>0.0</td>\n",
       "      <td>0.0</td>\n",
       "    </tr>\n",
       "    <tr>\n",
       "      <th>5</th>\n",
       "      <td>2000/abr/p0425001.jpg</td>\n",
       "      <td>1.0</td>\n",
       "      <td>0.0</td>\n",
       "      <td>0.0</td>\n",
       "    </tr>\n",
       "    <tr>\n",
       "      <th>6</th>\n",
       "      <td>2000/abr/p0425002.jpg</td>\n",
       "      <td>1.0</td>\n",
       "      <td>0.0</td>\n",
       "      <td>0.0</td>\n",
       "    </tr>\n",
       "    <tr>\n",
       "      <th>7</th>\n",
       "      <td>2000/abr/p0427001.jpg</td>\n",
       "      <td>1.0</td>\n",
       "      <td>0.0</td>\n",
       "      <td>0.0</td>\n",
       "    </tr>\n",
       "    <tr>\n",
       "      <th>8</th>\n",
       "      <td>2000/abr/p0427002.jpg</td>\n",
       "      <td>0.0</td>\n",
       "      <td>0.0</td>\n",
       "      <td>0.0</td>\n",
       "    </tr>\n",
       "    <tr>\n",
       "      <th>9</th>\n",
       "      <td>2000/abr/p0428001.jpg</td>\n",
       "      <td>0.0</td>\n",
       "      <td>0.0</td>\n",
       "      <td>0.0</td>\n",
       "    </tr>\n",
       "  </tbody>\n",
       "</table>\n",
       "</div>"
      ],
      "text/plain": [
       "                    Path  FUM  EXP  INAC\n",
       "0  2000/abr/p0423001.jpg  0.0  0.0   1.0\n",
       "1  2000/abr/p0423002.jpg  1.0  0.0   0.0\n",
       "2  2000/abr/p0423003.jpg  1.0  0.0   0.0\n",
       "3  2000/abr/p0424001.jpg  1.0  0.0   0.0\n",
       "4  2000/abr/p0424002.jpg  1.0  0.0   0.0\n",
       "5  2000/abr/p0425001.jpg  1.0  0.0   0.0\n",
       "6  2000/abr/p0425002.jpg  1.0  0.0   0.0\n",
       "7  2000/abr/p0427001.jpg  1.0  0.0   0.0\n",
       "8  2000/abr/p0427002.jpg  0.0  0.0   0.0\n",
       "9  2000/abr/p0428001.jpg  0.0  0.0   0.0"
      ]
     },
     "execution_count": 3,
     "metadata": {},
     "output_type": "execute_result"
    }
   ],
   "source": [
    "df.head(10)"
   ]
  },
  {
   "cell_type": "code",
   "execution_count": 4,
   "id": "01d1ce31-464e-4e19-8844-1bb719744b19",
   "metadata": {},
   "outputs": [
    {
     "data": {
      "text/html": [
       "<div>\n",
       "<style scoped>\n",
       "    .dataframe tbody tr th:only-of-type {\n",
       "        vertical-align: middle;\n",
       "    }\n",
       "\n",
       "    .dataframe tbody tr th {\n",
       "        vertical-align: top;\n",
       "    }\n",
       "\n",
       "    .dataframe thead th {\n",
       "        text-align: right;\n",
       "    }\n",
       "</style>\n",
       "<table border=\"1\" class=\"dataframe\">\n",
       "  <thead>\n",
       "    <tr style=\"text-align: right;\">\n",
       "      <th></th>\n",
       "      <th>ID</th>\n",
       "      <th>RealClass</th>\n",
       "      <th>PredictedClass</th>\n",
       "      <th>RealClassID</th>\n",
       "      <th>PredictedClassID</th>\n",
       "      <th>Certainty</th>\n",
       "      <th>Written</th>\n",
       "    </tr>\n",
       "    <tr>\n",
       "      <th>RealID</th>\n",
       "      <th></th>\n",
       "      <th></th>\n",
       "      <th></th>\n",
       "      <th></th>\n",
       "      <th></th>\n",
       "      <th></th>\n",
       "      <th></th>\n",
       "    </tr>\n",
       "  </thead>\n",
       "  <tbody>\n",
       "    <tr>\n",
       "      <th>9577</th>\n",
       "      <td>1843</td>\n",
       "      <td>FUM</td>\n",
       "      <td>EXP+FUM</td>\n",
       "      <td>2</td>\n",
       "      <td>3</td>\n",
       "      <td>100.0</td>\n",
       "      <td>0.0</td>\n",
       "    </tr>\n",
       "    <tr>\n",
       "      <th>18857</th>\n",
       "      <td>19638</td>\n",
       "      <td>FUM</td>\n",
       "      <td>EXP+FUM</td>\n",
       "      <td>2</td>\n",
       "      <td>3</td>\n",
       "      <td>100.0</td>\n",
       "      <td>0.0</td>\n",
       "    </tr>\n",
       "    <tr>\n",
       "      <th>11721</th>\n",
       "      <td>7388</td>\n",
       "      <td>UNK</td>\n",
       "      <td>FUM</td>\n",
       "      <td>0</td>\n",
       "      <td>2</td>\n",
       "      <td>100.0</td>\n",
       "      <td>0.0</td>\n",
       "    </tr>\n",
       "    <tr>\n",
       "      <th>18854</th>\n",
       "      <td>1027</td>\n",
       "      <td>EXP</td>\n",
       "      <td>EXP+FUM</td>\n",
       "      <td>1</td>\n",
       "      <td>3</td>\n",
       "      <td>100.0</td>\n",
       "      <td>0.0</td>\n",
       "    </tr>\n",
       "    <tr>\n",
       "      <th>9338</th>\n",
       "      <td>19858</td>\n",
       "      <td>EXP+FUM</td>\n",
       "      <td>FUM</td>\n",
       "      <td>3</td>\n",
       "      <td>2</td>\n",
       "      <td>100.0</td>\n",
       "      <td>0.0</td>\n",
       "    </tr>\n",
       "    <tr>\n",
       "      <th>...</th>\n",
       "      <td>...</td>\n",
       "      <td>...</td>\n",
       "      <td>...</td>\n",
       "      <td>...</td>\n",
       "      <td>...</td>\n",
       "      <td>...</td>\n",
       "      <td>...</td>\n",
       "    </tr>\n",
       "    <tr>\n",
       "      <th>10557</th>\n",
       "      <td>9385</td>\n",
       "      <td>EXP+FUM</td>\n",
       "      <td>-1</td>\n",
       "      <td>3</td>\n",
       "      <td>-1</td>\n",
       "      <td>0.0</td>\n",
       "      <td>0.0</td>\n",
       "    </tr>\n",
       "    <tr>\n",
       "      <th>13191</th>\n",
       "      <td>5130</td>\n",
       "      <td>EXP+FUM</td>\n",
       "      <td>-1</td>\n",
       "      <td>3</td>\n",
       "      <td>-1</td>\n",
       "      <td>0.0</td>\n",
       "      <td>0.0</td>\n",
       "    </tr>\n",
       "    <tr>\n",
       "      <th>776</th>\n",
       "      <td>20157</td>\n",
       "      <td>EXP+FUM</td>\n",
       "      <td>-1</td>\n",
       "      <td>3</td>\n",
       "      <td>-1</td>\n",
       "      <td>0.0</td>\n",
       "      <td>0.0</td>\n",
       "    </tr>\n",
       "    <tr>\n",
       "      <th>17028</th>\n",
       "      <td>20180</td>\n",
       "      <td>EXP+FUM</td>\n",
       "      <td>-1</td>\n",
       "      <td>3</td>\n",
       "      <td>-1</td>\n",
       "      <td>0.0</td>\n",
       "      <td>0.0</td>\n",
       "    </tr>\n",
       "    <tr>\n",
       "      <th>10338</th>\n",
       "      <td>1122</td>\n",
       "      <td>EXP+FUM</td>\n",
       "      <td>-1</td>\n",
       "      <td>3</td>\n",
       "      <td>-1</td>\n",
       "      <td>0.0</td>\n",
       "      <td>0.0</td>\n",
       "    </tr>\n",
       "  </tbody>\n",
       "</table>\n",
       "<p>946 rows × 7 columns</p>\n",
       "</div>"
      ],
      "text/plain": [
       "           ID RealClass PredictedClass  RealClassID  PredictedClassID  \\\n",
       "RealID                                                                  \n",
       "9577     1843       FUM        EXP+FUM            2                 3   \n",
       "18857   19638       FUM        EXP+FUM            2                 3   \n",
       "11721    7388       UNK            FUM            0                 2   \n",
       "18854    1027       EXP        EXP+FUM            1                 3   \n",
       "9338    19858   EXP+FUM            FUM            3                 2   \n",
       "...       ...       ...            ...          ...               ...   \n",
       "10557    9385   EXP+FUM             -1            3                -1   \n",
       "13191    5130   EXP+FUM             -1            3                -1   \n",
       "776     20157   EXP+FUM             -1            3                -1   \n",
       "17028   20180   EXP+FUM             -1            3                -1   \n",
       "10338    1122   EXP+FUM             -1            3                -1   \n",
       "\n",
       "        Certainty  Written  \n",
       "RealID                      \n",
       "9577        100.0      0.0  \n",
       "18857       100.0      0.0  \n",
       "11721       100.0      0.0  \n",
       "18854       100.0      0.0  \n",
       "9338        100.0      0.0  \n",
       "...           ...      ...  \n",
       "10557         0.0      0.0  \n",
       "13191         0.0      0.0  \n",
       "776           0.0      0.0  \n",
       "17028         0.0      0.0  \n",
       "10338         0.0      0.0  \n",
       "\n",
       "[946 rows x 7 columns]"
      ]
     },
     "execution_count": 4,
     "metadata": {},
     "output_type": "execute_result"
    }
   ],
   "source": [
    "mcl_df=pd.read_csv(\"model_misclassifications.csv\",index_col=0)\n",
    "mcl_df.set_index(\"RealID\",drop=True,inplace=True)\n",
    "mcl_df[\"Written\"]=np.zeros(mcl_df.shape[0])\n",
    "mcl_df"
   ]
  },
  {
   "cell_type": "code",
   "execution_count": 5,
   "id": "78f5daee-1603-4584-8319-41fddcb70003",
   "metadata": {},
   "outputs": [],
   "source": [
    "def get_class(row):\n",
    "    _,F,E,N=row\n",
    "    L=\"UNK\"\n",
    "    if F>0:\n",
    "        if E>0:\n",
    "            L=\"EXP+FUM\"\n",
    "        else:\n",
    "            L=\"FUM\"\n",
    "    elif E>0:\n",
    "        L=\"EXP\"\n",
    "    elif N>0:\n",
    "        L=\"INA\"\n",
    "    return L\n",
    "def get_iclass(df,idx):\n",
    "    row=df.iloc[idx]\n",
    "    return get_class(row)"
   ]
  },
  {
   "cell_type": "code",
   "execution_count": 6,
   "id": "c25b2f6e-7449-4421-93c3-919e3632fb45",
   "metadata": {},
   "outputs": [
    {
     "data": {
      "text/plain": [
       "'FUM'"
      ]
     },
     "execution_count": 6,
     "metadata": {},
     "output_type": "execute_result"
    }
   ],
   "source": [
    "get_iclass(df,9577)"
   ]
  },
  {
   "cell_type": "code",
   "execution_count": 7,
   "id": "708332b2-3735-438c-b96c-033bc6bdafe7",
   "metadata": {},
   "outputs": [
    {
     "name": "stdout",
     "output_type": "stream",
     "text": [
      "Path    2014/oct/p1030149.jpg\n",
      "FUM                       1.0\n",
      "EXP                       0.0\n",
      "INAC                      0.0\n",
      "Name: 9577, dtype: object\n"
     ]
    }
   ],
   "source": [
    "def set_iclass(df,idx,class_):\n",
    "    row=df.iloc[idx]\n",
    "    path=row[\"Path\"]\n",
    "    if(class_==\"INAC\"):\n",
    "        df.iloc[idx]=[path,0.0,0.0,1.0]\n",
    "    elif(class_==\"FUM\"):\n",
    "        df.iloc[idx]=[path,1.0,0.0,0.0]\n",
    "    elif(class_==\"EXP\"):\n",
    "        df.iloc[idx]=[path,0.0,1.0,0.0]\n",
    "    elif(class_==\"FUM+EXP\"):\n",
    "        df.iloc[idx]=[path,1.0,1.0,0.0]\n",
    "    elif(class_==\"UNK\"):\n",
    "        df.iloc[idx]=[path,0.0,0.0,0.0]\n",
    "#set_iclass(df,9577,\"FUM\")\n",
    "print(df.iloc[9577])"
   ]
  },
  {
   "cell_type": "code",
   "execution_count": 8,
   "id": "b0e1ce57-781b-4c55-81c7-d112d3a33a8a",
   "metadata": {},
   "outputs": [
    {
     "data": {
      "text/plain": [
       "ID                     1843\n",
       "RealClass               FUM\n",
       "PredictedClass      EXP+FUM\n",
       "RealClassID               2\n",
       "PredictedClassID          3\n",
       "Certainty             100.0\n",
       "Written                 0.0\n",
       "Name: 9577, dtype: object"
      ]
     },
     "execution_count": 8,
     "metadata": {},
     "output_type": "execute_result"
    }
   ],
   "source": [
    "mcl_df.iloc[0]"
   ]
  },
  {
   "cell_type": "code",
   "execution_count": 9,
   "id": "6c53d6b0-ad27-4c7f-8fa5-9a3897370c6d",
   "metadata": {},
   "outputs": [],
   "source": [
    "remaining_ct=0"
   ]
  },
  {
   "cell_type": "code",
   "execution_count": 10,
   "id": "1bcdf5b8-38df-4ba2-98ef-59d7b7664e46",
   "metadata": {},
   "outputs": [],
   "source": [
    "def get_current_row():\n",
    "    global remaining_ct\n",
    "    to_fix=df.iloc[mcl_df.index]\n",
    "    current_labels=[get_class(to_fix.iloc[i]) for i in range(to_fix.shape[0])]\n",
    "    remaining=mcl_df[mcl_df[\"RealClass\"]==current_labels]\n",
    "    remaining=remaining[mcl_df[\"Written\"]!=1]\n",
    "    \n",
    "    remaining_ct=len(remaining)\n",
    "    return remaining.iloc[0],\"images/\"+df.iloc[remaining.index[0]][\"Path\"]\n"
   ]
  },
  {
   "cell_type": "code",
   "execution_count": 11,
   "id": "2812457f-eb7a-4d99-8ac9-39ced8b4e571",
   "metadata": {},
   "outputs": [
    {
     "name": "stdout",
     "output_type": "stream",
     "text": [
      "ID                     1843\n",
      "RealClass               FUM\n",
      "PredictedClass      EXP+FUM\n",
      "RealClassID               2\n",
      "PredictedClassID          3\n",
      "Certainty             100.0\n",
      "Written                 0.0\n",
      "Name: 9577, dtype: object images/2014/oct/p1030149.jpg\n"
     ]
    },
    {
     "name": "stderr",
     "output_type": "stream",
     "text": [
      "/tmp/ipykernel_7352/2071744375.py:6: UserWarning: Boolean Series key will be reindexed to match DataFrame index.\n",
      "  remaining=remaining[mcl_df[\"Written\"]!=1]\n"
     ]
    }
   ],
   "source": [
    "row,path=get_current_row()\n",
    "print(row,path)"
   ]
  },
  {
   "cell_type": "code",
   "execution_count": 12,
   "id": "c05aed02-2e7b-449f-9d4f-280b55a2c104",
   "metadata": {},
   "outputs": [
    {
     "data": {
      "text/plain": [
       "Path    2014/oct/p1030149.jpg\n",
       "FUM                       1.0\n",
       "EXP                       0.0\n",
       "INAC                      0.0\n",
       "Name: 9577, dtype: object"
      ]
     },
     "execution_count": 12,
     "metadata": {},
     "output_type": "execute_result"
    }
   ],
   "source": [
    "df.iloc[row.name]"
   ]
  },
  {
   "cell_type": "code",
   "execution_count": 13,
   "id": "3afbf07d-2b90-4673-91ce-f4b3f4b94df0",
   "metadata": {
    "tags": []
   },
   "outputs": [],
   "source": [
    "def get_size(path:str) -> tuple[int, int]:\n",
    "    im = PIL.Image.open(path)\n",
    "    return im.size"
   ]
  },
  {
   "cell_type": "code",
   "execution_count": 14,
   "id": "dd4d2960-75c2-42bf-ae20-69ebdc12b3f3",
   "metadata": {},
   "outputs": [
    {
     "name": "stderr",
     "output_type": "stream",
     "text": [
      "/tmp/ipykernel_7352/2071744375.py:6: UserWarning: Boolean Series key will be reindexed to match DataFrame index.\n",
      "  remaining=remaining[mcl_df[\"Written\"]!=1]\n"
     ]
    },
    {
     "name": "stdout",
     "output_type": "stream",
     "text": [
      "SET 9577 EXP+FUM FUM+EXP\n"
     ]
    },
    {
     "name": "stderr",
     "output_type": "stream",
     "text": [
      "/tmp/ipykernel_7352/2071744375.py:6: UserWarning: Boolean Series key will be reindexed to match DataFrame index.\n",
      "  remaining=remaining[mcl_df[\"Written\"]!=1]\n"
     ]
    },
    {
     "name": "stdout",
     "output_type": "stream",
     "text": [
      "SET 18857 EXP+FUM FUM+EXP\n"
     ]
    },
    {
     "name": "stderr",
     "output_type": "stream",
     "text": [
      "/tmp/ipykernel_7352/2071744375.py:6: UserWarning: Boolean Series key will be reindexed to match DataFrame index.\n",
      "  remaining=remaining[mcl_df[\"Written\"]!=1]\n"
     ]
    },
    {
     "name": "stdout",
     "output_type": "stream",
     "text": [
      "SET 11721 FUM FUM\n"
     ]
    },
    {
     "name": "stderr",
     "output_type": "stream",
     "text": [
      "/tmp/ipykernel_7352/2071744375.py:6: UserWarning: Boolean Series key will be reindexed to match DataFrame index.\n",
      "  remaining=remaining[mcl_df[\"Written\"]!=1]\n"
     ]
    },
    {
     "name": "stdout",
     "output_type": "stream",
     "text": [
      "SET 18854 EXP+FUM FUM+EXP\n"
     ]
    },
    {
     "name": "stderr",
     "output_type": "stream",
     "text": [
      "/tmp/ipykernel_7352/2071744375.py:6: UserWarning: Boolean Series key will be reindexed to match DataFrame index.\n",
      "  remaining=remaining[mcl_df[\"Written\"]!=1]\n"
     ]
    },
    {
     "name": "stdout",
     "output_type": "stream",
     "text": [
      "SET 9338 FUM FUM\n"
     ]
    },
    {
     "name": "stderr",
     "output_type": "stream",
     "text": [
      "/tmp/ipykernel_7352/2071744375.py:6: UserWarning: Boolean Series key will be reindexed to match DataFrame index.\n",
      "  remaining=remaining[mcl_df[\"Written\"]!=1]\n"
     ]
    },
    {
     "name": "stdout",
     "output_type": "stream",
     "text": [
      "SET 4340 FUM FUM\n"
     ]
    },
    {
     "name": "stderr",
     "output_type": "stream",
     "text": [
      "/tmp/ipykernel_7352/2071744375.py:6: UserWarning: Boolean Series key will be reindexed to match DataFrame index.\n",
      "  remaining=remaining[mcl_df[\"Written\"]!=1]\n"
     ]
    },
    {
     "name": "stdout",
     "output_type": "stream",
     "text": [
      "SET 16143 FUM FUM\n"
     ]
    },
    {
     "name": "stderr",
     "output_type": "stream",
     "text": [
      "/tmp/ipykernel_7352/2071744375.py:6: UserWarning: Boolean Series key will be reindexed to match DataFrame index.\n",
      "  remaining=remaining[mcl_df[\"Written\"]!=1]\n"
     ]
    },
    {
     "name": "stdout",
     "output_type": "stream",
     "text": [
      "SET 21376 FUM FUM\n"
     ]
    },
    {
     "name": "stderr",
     "output_type": "stream",
     "text": [
      "/tmp/ipykernel_7352/2071744375.py:6: UserWarning: Boolean Series key will be reindexed to match DataFrame index.\n",
      "  remaining=remaining[mcl_df[\"Written\"]!=1]\n"
     ]
    },
    {
     "name": "stdout",
     "output_type": "stream",
     "text": [
      "SET 95 INA INAC\n"
     ]
    },
    {
     "name": "stderr",
     "output_type": "stream",
     "text": [
      "/tmp/ipykernel_7352/2071744375.py:6: UserWarning: Boolean Series key will be reindexed to match DataFrame index.\n",
      "  remaining=remaining[mcl_df[\"Written\"]!=1]\n"
     ]
    },
    {
     "name": "stdout",
     "output_type": "stream",
     "text": [
      "SET 5508 FUM FUM\n"
     ]
    },
    {
     "name": "stderr",
     "output_type": "stream",
     "text": [
      "/tmp/ipykernel_7352/2071744375.py:6: UserWarning: Boolean Series key will be reindexed to match DataFrame index.\n",
      "  remaining=remaining[mcl_df[\"Written\"]!=1]\n"
     ]
    },
    {
     "name": "stdout",
     "output_type": "stream",
     "text": [
      "SET 2754 FUM FUM\n"
     ]
    },
    {
     "name": "stderr",
     "output_type": "stream",
     "text": [
      "/tmp/ipykernel_7352/2071744375.py:6: UserWarning: Boolean Series key will be reindexed to match DataFrame index.\n",
      "  remaining=remaining[mcl_df[\"Written\"]!=1]\n"
     ]
    },
    {
     "name": "stdout",
     "output_type": "stream",
     "text": [
      "SET 16630 EXP+FUM FUM+EXP\n"
     ]
    },
    {
     "name": "stderr",
     "output_type": "stream",
     "text": [
      "/tmp/ipykernel_7352/2071744375.py:6: UserWarning: Boolean Series key will be reindexed to match DataFrame index.\n",
      "  remaining=remaining[mcl_df[\"Written\"]!=1]\n"
     ]
    },
    {
     "name": "stdout",
     "output_type": "stream",
     "text": [
      "SET 8233 INA INAC\n"
     ]
    },
    {
     "name": "stderr",
     "output_type": "stream",
     "text": [
      "/tmp/ipykernel_7352/2071744375.py:6: UserWarning: Boolean Series key will be reindexed to match DataFrame index.\n",
      "  remaining=remaining[mcl_df[\"Written\"]!=1]\n"
     ]
    },
    {
     "name": "stdout",
     "output_type": "stream",
     "text": [
      "SET 5696 EXP+FUM FUM+EXP\n"
     ]
    },
    {
     "name": "stderr",
     "output_type": "stream",
     "text": [
      "/tmp/ipykernel_7352/2071744375.py:6: UserWarning: Boolean Series key will be reindexed to match DataFrame index.\n",
      "  remaining=remaining[mcl_df[\"Written\"]!=1]\n"
     ]
    },
    {
     "name": "stdout",
     "output_type": "stream",
     "text": [
      "SET 20858 FUM FUM\n"
     ]
    },
    {
     "name": "stderr",
     "output_type": "stream",
     "text": [
      "/tmp/ipykernel_7352/2071744375.py:6: UserWarning: Boolean Series key will be reindexed to match DataFrame index.\n",
      "  remaining=remaining[mcl_df[\"Written\"]!=1]\n"
     ]
    },
    {
     "name": "stdout",
     "output_type": "stream",
     "text": [
      "SET 10581 UNK UNK\n"
     ]
    },
    {
     "name": "stderr",
     "output_type": "stream",
     "text": [
      "/tmp/ipykernel_7352/2071744375.py:6: UserWarning: Boolean Series key will be reindexed to match DataFrame index.\n",
      "  remaining=remaining[mcl_df[\"Written\"]!=1]\n"
     ]
    },
    {
     "name": "stdout",
     "output_type": "stream",
     "text": [
      "SET 18217 FUM FUM\n"
     ]
    },
    {
     "name": "stderr",
     "output_type": "stream",
     "text": [
      "/tmp/ipykernel_7352/2071744375.py:6: UserWarning: Boolean Series key will be reindexed to match DataFrame index.\n",
      "  remaining=remaining[mcl_df[\"Written\"]!=1]\n"
     ]
    },
    {
     "name": "stdout",
     "output_type": "stream",
     "text": [
      "SET 3577 FUM FUM\n"
     ]
    },
    {
     "name": "stderr",
     "output_type": "stream",
     "text": [
      "/tmp/ipykernel_7352/2071744375.py:6: UserWarning: Boolean Series key will be reindexed to match DataFrame index.\n",
      "  remaining=remaining[mcl_df[\"Written\"]!=1]\n"
     ]
    },
    {
     "name": "stdout",
     "output_type": "stream",
     "text": [
      "SET 3053 FUM FUM\n"
     ]
    },
    {
     "name": "stderr",
     "output_type": "stream",
     "text": [
      "/tmp/ipykernel_7352/2071744375.py:6: UserWarning: Boolean Series key will be reindexed to match DataFrame index.\n",
      "  remaining=remaining[mcl_df[\"Written\"]!=1]\n"
     ]
    },
    {
     "name": "stdout",
     "output_type": "stream",
     "text": [
      "SET 5275 EXP+FUM FUM+EXP\n"
     ]
    },
    {
     "name": "stderr",
     "output_type": "stream",
     "text": [
      "/tmp/ipykernel_7352/2071744375.py:6: UserWarning: Boolean Series key will be reindexed to match DataFrame index.\n",
      "  remaining=remaining[mcl_df[\"Written\"]!=1]\n"
     ]
    },
    {
     "name": "stdout",
     "output_type": "stream",
     "text": [
      "SET 5956 FUM FUM\n"
     ]
    },
    {
     "name": "stderr",
     "output_type": "stream",
     "text": [
      "/tmp/ipykernel_7352/2071744375.py:6: UserWarning: Boolean Series key will be reindexed to match DataFrame index.\n",
      "  remaining=remaining[mcl_df[\"Written\"]!=1]\n"
     ]
    },
    {
     "name": "stdout",
     "output_type": "stream",
     "text": [
      "SET 10344 EXP+FUM FUM+EXP\n"
     ]
    },
    {
     "name": "stderr",
     "output_type": "stream",
     "text": [
      "/tmp/ipykernel_7352/2071744375.py:6: UserWarning: Boolean Series key will be reindexed to match DataFrame index.\n",
      "  remaining=remaining[mcl_df[\"Written\"]!=1]\n"
     ]
    },
    {
     "name": "stdout",
     "output_type": "stream",
     "text": [
      "SET 7678 FUM FUM\n"
     ]
    },
    {
     "name": "stderr",
     "output_type": "stream",
     "text": [
      "/tmp/ipykernel_7352/2071744375.py:6: UserWarning: Boolean Series key will be reindexed to match DataFrame index.\n",
      "  remaining=remaining[mcl_df[\"Written\"]!=1]\n"
     ]
    },
    {
     "name": "stdout",
     "output_type": "stream",
     "text": [
      "SET 2063 FUM FUM\n"
     ]
    },
    {
     "name": "stderr",
     "output_type": "stream",
     "text": [
      "/tmp/ipykernel_7352/2071744375.py:6: UserWarning: Boolean Series key will be reindexed to match DataFrame index.\n",
      "  remaining=remaining[mcl_df[\"Written\"]!=1]\n"
     ]
    },
    {
     "name": "stdout",
     "output_type": "stream",
     "text": [
      "SET 2310 UNK UNK\n"
     ]
    },
    {
     "name": "stderr",
     "output_type": "stream",
     "text": [
      "/tmp/ipykernel_7352/2071744375.py:6: UserWarning: Boolean Series key will be reindexed to match DataFrame index.\n",
      "  remaining=remaining[mcl_df[\"Written\"]!=1]\n"
     ]
    },
    {
     "name": "stdout",
     "output_type": "stream",
     "text": [
      "SET 3447 FUM FUM\n"
     ]
    },
    {
     "name": "stderr",
     "output_type": "stream",
     "text": [
      "/tmp/ipykernel_7352/2071744375.py:6: UserWarning: Boolean Series key will be reindexed to match DataFrame index.\n",
      "  remaining=remaining[mcl_df[\"Written\"]!=1]\n"
     ]
    },
    {
     "name": "stdout",
     "output_type": "stream",
     "text": [
      "SET 4199 UNK UNK\n"
     ]
    },
    {
     "name": "stderr",
     "output_type": "stream",
     "text": [
      "/tmp/ipykernel_7352/2071744375.py:6: UserWarning: Boolean Series key will be reindexed to match DataFrame index.\n",
      "  remaining=remaining[mcl_df[\"Written\"]!=1]\n"
     ]
    },
    {
     "name": "stdout",
     "output_type": "stream",
     "text": [
      "SET 20637 FUM FUM\n"
     ]
    },
    {
     "name": "stderr",
     "output_type": "stream",
     "text": [
      "/tmp/ipykernel_7352/2071744375.py:6: UserWarning: Boolean Series key will be reindexed to match DataFrame index.\n",
      "  remaining=remaining[mcl_df[\"Written\"]!=1]\n"
     ]
    },
    {
     "name": "stdout",
     "output_type": "stream",
     "text": [
      "SET 18344 EXP+FUM FUM+EXP\n"
     ]
    },
    {
     "name": "stderr",
     "output_type": "stream",
     "text": [
      "/tmp/ipykernel_7352/2071744375.py:6: UserWarning: Boolean Series key will be reindexed to match DataFrame index.\n",
      "  remaining=remaining[mcl_df[\"Written\"]!=1]\n"
     ]
    },
    {
     "name": "stdout",
     "output_type": "stream",
     "text": [
      "SET 6171 EXP+FUM FUM+EXP\n"
     ]
    },
    {
     "name": "stderr",
     "output_type": "stream",
     "text": [
      "/tmp/ipykernel_7352/2071744375.py:6: UserWarning: Boolean Series key will be reindexed to match DataFrame index.\n",
      "  remaining=remaining[mcl_df[\"Written\"]!=1]\n"
     ]
    },
    {
     "name": "stdout",
     "output_type": "stream",
     "text": [
      "SET 19498 FUM FUM\n"
     ]
    },
    {
     "name": "stderr",
     "output_type": "stream",
     "text": [
      "/tmp/ipykernel_7352/2071744375.py:6: UserWarning: Boolean Series key will be reindexed to match DataFrame index.\n",
      "  remaining=remaining[mcl_df[\"Written\"]!=1]\n"
     ]
    },
    {
     "name": "stdout",
     "output_type": "stream",
     "text": [
      "SET 19238 FUM FUM\n"
     ]
    },
    {
     "name": "stderr",
     "output_type": "stream",
     "text": [
      "/tmp/ipykernel_7352/2071744375.py:6: UserWarning: Boolean Series key will be reindexed to match DataFrame index.\n",
      "  remaining=remaining[mcl_df[\"Written\"]!=1]\n"
     ]
    },
    {
     "name": "stdout",
     "output_type": "stream",
     "text": [
      "SET 9770 INA INAC\n"
     ]
    },
    {
     "name": "stderr",
     "output_type": "stream",
     "text": [
      "/tmp/ipykernel_7352/2071744375.py:6: UserWarning: Boolean Series key will be reindexed to match DataFrame index.\n",
      "  remaining=remaining[mcl_df[\"Written\"]!=1]\n"
     ]
    },
    {
     "name": "stdout",
     "output_type": "stream",
     "text": [
      "SET 14750 EXP+FUM FUM+EXP\n"
     ]
    },
    {
     "name": "stderr",
     "output_type": "stream",
     "text": [
      "/tmp/ipykernel_7352/2071744375.py:6: UserWarning: Boolean Series key will be reindexed to match DataFrame index.\n",
      "  remaining=remaining[mcl_df[\"Written\"]!=1]\n"
     ]
    },
    {
     "name": "stdout",
     "output_type": "stream",
     "text": [
      "SET 2761 FUM FUM\n"
     ]
    },
    {
     "name": "stderr",
     "output_type": "stream",
     "text": [
      "/tmp/ipykernel_7352/2071744375.py:6: UserWarning: Boolean Series key will be reindexed to match DataFrame index.\n",
      "  remaining=remaining[mcl_df[\"Written\"]!=1]\n"
     ]
    },
    {
     "name": "stdout",
     "output_type": "stream",
     "text": [
      "SET 2760 FUM FUM\n"
     ]
    },
    {
     "name": "stderr",
     "output_type": "stream",
     "text": [
      "/tmp/ipykernel_7352/2071744375.py:6: UserWarning: Boolean Series key will be reindexed to match DataFrame index.\n",
      "  remaining=remaining[mcl_df[\"Written\"]!=1]\n"
     ]
    },
    {
     "name": "stdout",
     "output_type": "stream",
     "text": [
      "SET 19431 FUM FUM\n"
     ]
    },
    {
     "name": "stderr",
     "output_type": "stream",
     "text": [
      "/tmp/ipykernel_7352/2071744375.py:6: UserWarning: Boolean Series key will be reindexed to match DataFrame index.\n",
      "  remaining=remaining[mcl_df[\"Written\"]!=1]\n"
     ]
    },
    {
     "name": "stdout",
     "output_type": "stream",
     "text": [
      "SET 14085 EXP+FUM FUM+EXP\n"
     ]
    },
    {
     "name": "stderr",
     "output_type": "stream",
     "text": [
      "/tmp/ipykernel_7352/2071744375.py:6: UserWarning: Boolean Series key will be reindexed to match DataFrame index.\n",
      "  remaining=remaining[mcl_df[\"Written\"]!=1]\n"
     ]
    },
    {
     "name": "stdout",
     "output_type": "stream",
     "text": [
      "SET 4357 INA INAC\n"
     ]
    },
    {
     "name": "stderr",
     "output_type": "stream",
     "text": [
      "/tmp/ipykernel_7352/2071744375.py:6: UserWarning: Boolean Series key will be reindexed to match DataFrame index.\n",
      "  remaining=remaining[mcl_df[\"Written\"]!=1]\n"
     ]
    },
    {
     "name": "stdout",
     "output_type": "stream",
     "text": [
      "SET 9359 EXP+FUM FUM+EXP\n"
     ]
    },
    {
     "name": "stderr",
     "output_type": "stream",
     "text": [
      "/tmp/ipykernel_7352/2071744375.py:6: UserWarning: Boolean Series key will be reindexed to match DataFrame index.\n",
      "  remaining=remaining[mcl_df[\"Written\"]!=1]\n"
     ]
    },
    {
     "name": "stdout",
     "output_type": "stream",
     "text": [
      "SET 15334 FUM FUM\n"
     ]
    },
    {
     "name": "stderr",
     "output_type": "stream",
     "text": [
      "/tmp/ipykernel_7352/2071744375.py:6: UserWarning: Boolean Series key will be reindexed to match DataFrame index.\n",
      "  remaining=remaining[mcl_df[\"Written\"]!=1]\n"
     ]
    },
    {
     "name": "stdout",
     "output_type": "stream",
     "text": [
      "SET 17244 EXP+FUM FUM+EXP\n"
     ]
    },
    {
     "name": "stderr",
     "output_type": "stream",
     "text": [
      "/tmp/ipykernel_7352/2071744375.py:6: UserWarning: Boolean Series key will be reindexed to match DataFrame index.\n",
      "  remaining=remaining[mcl_df[\"Written\"]!=1]\n"
     ]
    },
    {
     "name": "stdout",
     "output_type": "stream",
     "text": [
      "SET 3799 INA INAC\n"
     ]
    },
    {
     "name": "stderr",
     "output_type": "stream",
     "text": [
      "/tmp/ipykernel_7352/2071744375.py:6: UserWarning: Boolean Series key will be reindexed to match DataFrame index.\n",
      "  remaining=remaining[mcl_df[\"Written\"]!=1]\n"
     ]
    },
    {
     "name": "stdout",
     "output_type": "stream",
     "text": [
      "SET 14056 EXP+FUM FUM+EXP\n"
     ]
    },
    {
     "name": "stderr",
     "output_type": "stream",
     "text": [
      "/tmp/ipykernel_7352/2071744375.py:6: UserWarning: Boolean Series key will be reindexed to match DataFrame index.\n",
      "  remaining=remaining[mcl_df[\"Written\"]!=1]\n"
     ]
    },
    {
     "name": "stdout",
     "output_type": "stream",
     "text": [
      "SET 5116 UNK UNK\n"
     ]
    },
    {
     "name": "stderr",
     "output_type": "stream",
     "text": [
      "/tmp/ipykernel_7352/2071744375.py:6: UserWarning: Boolean Series key will be reindexed to match DataFrame index.\n",
      "  remaining=remaining[mcl_df[\"Written\"]!=1]\n"
     ]
    },
    {
     "name": "stdout",
     "output_type": "stream",
     "text": [
      "SET 14179 FUM FUM\n"
     ]
    },
    {
     "name": "stderr",
     "output_type": "stream",
     "text": [
      "/tmp/ipykernel_7352/2071744375.py:6: UserWarning: Boolean Series key will be reindexed to match DataFrame index.\n",
      "  remaining=remaining[mcl_df[\"Written\"]!=1]\n"
     ]
    },
    {
     "name": "stdout",
     "output_type": "stream",
     "text": [
      "SET 19189 FUM FUM\n"
     ]
    },
    {
     "name": "stderr",
     "output_type": "stream",
     "text": [
      "/tmp/ipykernel_7352/2071744375.py:6: UserWarning: Boolean Series key will be reindexed to match DataFrame index.\n",
      "  remaining=remaining[mcl_df[\"Written\"]!=1]\n"
     ]
    },
    {
     "name": "stdout",
     "output_type": "stream",
     "text": [
      "SET 10979 EXP+FUM FUM+EXP\n"
     ]
    },
    {
     "name": "stderr",
     "output_type": "stream",
     "text": [
      "/tmp/ipykernel_7352/2071744375.py:6: UserWarning: Boolean Series key will be reindexed to match DataFrame index.\n",
      "  remaining=remaining[mcl_df[\"Written\"]!=1]\n"
     ]
    },
    {
     "name": "stdout",
     "output_type": "stream",
     "text": [
      "SET 7653 FUM FUM\n"
     ]
    },
    {
     "name": "stderr",
     "output_type": "stream",
     "text": [
      "/tmp/ipykernel_7352/2071744375.py:6: UserWarning: Boolean Series key will be reindexed to match DataFrame index.\n",
      "  remaining=remaining[mcl_df[\"Written\"]!=1]\n"
     ]
    },
    {
     "name": "stdout",
     "output_type": "stream",
     "text": [
      "SET 18891 EXP+FUM FUM+EXP\n"
     ]
    },
    {
     "name": "stderr",
     "output_type": "stream",
     "text": [
      "/tmp/ipykernel_7352/2071744375.py:6: UserWarning: Boolean Series key will be reindexed to match DataFrame index.\n",
      "  remaining=remaining[mcl_df[\"Written\"]!=1]\n"
     ]
    },
    {
     "name": "stdout",
     "output_type": "stream",
     "text": [
      "SET 19076 EXP+FUM FUM+EXP\n"
     ]
    },
    {
     "name": "stderr",
     "output_type": "stream",
     "text": [
      "/tmp/ipykernel_7352/2071744375.py:6: UserWarning: Boolean Series key will be reindexed to match DataFrame index.\n",
      "  remaining=remaining[mcl_df[\"Written\"]!=1]\n"
     ]
    },
    {
     "name": "stdout",
     "output_type": "stream",
     "text": [
      "SET 12858 FUM FUM\n"
     ]
    },
    {
     "name": "stderr",
     "output_type": "stream",
     "text": [
      "/tmp/ipykernel_7352/2071744375.py:6: UserWarning: Boolean Series key will be reindexed to match DataFrame index.\n",
      "  remaining=remaining[mcl_df[\"Written\"]!=1]\n"
     ]
    },
    {
     "name": "stdout",
     "output_type": "stream",
     "text": [
      "SET 15011 FUM FUM\n"
     ]
    },
    {
     "name": "stderr",
     "output_type": "stream",
     "text": [
      "/tmp/ipykernel_7352/2071744375.py:6: UserWarning: Boolean Series key will be reindexed to match DataFrame index.\n",
      "  remaining=remaining[mcl_df[\"Written\"]!=1]\n"
     ]
    },
    {
     "name": "stdout",
     "output_type": "stream",
     "text": [
      "SET 6582 FUM FUM\n"
     ]
    },
    {
     "name": "stderr",
     "output_type": "stream",
     "text": [
      "/tmp/ipykernel_7352/2071744375.py:6: UserWarning: Boolean Series key will be reindexed to match DataFrame index.\n",
      "  remaining=remaining[mcl_df[\"Written\"]!=1]\n"
     ]
    },
    {
     "name": "stdout",
     "output_type": "stream",
     "text": [
      "SET 1620 FUM FUM\n"
     ]
    },
    {
     "name": "stderr",
     "output_type": "stream",
     "text": [
      "/tmp/ipykernel_7352/2071744375.py:6: UserWarning: Boolean Series key will be reindexed to match DataFrame index.\n",
      "  remaining=remaining[mcl_df[\"Written\"]!=1]\n"
     ]
    },
    {
     "name": "stdout",
     "output_type": "stream",
     "text": [
      "SET 16092 EXP+FUM FUM+EXP\n"
     ]
    },
    {
     "name": "stderr",
     "output_type": "stream",
     "text": [
      "/tmp/ipykernel_7352/2071744375.py:6: UserWarning: Boolean Series key will be reindexed to match DataFrame index.\n",
      "  remaining=remaining[mcl_df[\"Written\"]!=1]\n"
     ]
    },
    {
     "name": "stdout",
     "output_type": "stream",
     "text": [
      "SET 15669 FUM FUM\n"
     ]
    },
    {
     "name": "stderr",
     "output_type": "stream",
     "text": [
      "/tmp/ipykernel_7352/2071744375.py:6: UserWarning: Boolean Series key will be reindexed to match DataFrame index.\n",
      "  remaining=remaining[mcl_df[\"Written\"]!=1]\n"
     ]
    },
    {
     "name": "stdout",
     "output_type": "stream",
     "text": [
      "SET 18733 FUM FUM\n"
     ]
    },
    {
     "name": "stderr",
     "output_type": "stream",
     "text": [
      "/tmp/ipykernel_7352/2071744375.py:6: UserWarning: Boolean Series key will be reindexed to match DataFrame index.\n",
      "  remaining=remaining[mcl_df[\"Written\"]!=1]\n"
     ]
    },
    {
     "name": "stdout",
     "output_type": "stream",
     "text": [
      "SET 16270 EXP+FUM FUM+EXP\n"
     ]
    },
    {
     "name": "stderr",
     "output_type": "stream",
     "text": [
      "/tmp/ipykernel_7352/2071744375.py:6: UserWarning: Boolean Series key will be reindexed to match DataFrame index.\n",
      "  remaining=remaining[mcl_df[\"Written\"]!=1]\n"
     ]
    },
    {
     "name": "stdout",
     "output_type": "stream",
     "text": [
      "SET 1009 FUM FUM\n"
     ]
    },
    {
     "name": "stderr",
     "output_type": "stream",
     "text": [
      "/tmp/ipykernel_7352/2071744375.py:6: UserWarning: Boolean Series key will be reindexed to match DataFrame index.\n",
      "  remaining=remaining[mcl_df[\"Written\"]!=1]\n"
     ]
    },
    {
     "name": "stdout",
     "output_type": "stream",
     "text": [
      "SET 2413 FUM FUM\n"
     ]
    },
    {
     "name": "stderr",
     "output_type": "stream",
     "text": [
      "/tmp/ipykernel_7352/2071744375.py:6: UserWarning: Boolean Series key will be reindexed to match DataFrame index.\n",
      "  remaining=remaining[mcl_df[\"Written\"]!=1]\n"
     ]
    },
    {
     "name": "stdout",
     "output_type": "stream",
     "text": [
      "SET 5203 EXP+FUM FUM+EXP\n"
     ]
    },
    {
     "name": "stderr",
     "output_type": "stream",
     "text": [
      "/tmp/ipykernel_7352/2071744375.py:6: UserWarning: Boolean Series key will be reindexed to match DataFrame index.\n",
      "  remaining=remaining[mcl_df[\"Written\"]!=1]\n"
     ]
    },
    {
     "name": "stdout",
     "output_type": "stream",
     "text": [
      "SET 6650 EXP+FUM FUM+EXP\n"
     ]
    },
    {
     "name": "stderr",
     "output_type": "stream",
     "text": [
      "/tmp/ipykernel_7352/2071744375.py:6: UserWarning: Boolean Series key will be reindexed to match DataFrame index.\n",
      "  remaining=remaining[mcl_df[\"Written\"]!=1]\n"
     ]
    },
    {
     "name": "stdout",
     "output_type": "stream",
     "text": [
      "SET 19564 UNK UNK\n"
     ]
    },
    {
     "name": "stderr",
     "output_type": "stream",
     "text": [
      "/tmp/ipykernel_7352/2071744375.py:6: UserWarning: Boolean Series key will be reindexed to match DataFrame index.\n",
      "  remaining=remaining[mcl_df[\"Written\"]!=1]\n"
     ]
    },
    {
     "name": "stdout",
     "output_type": "stream",
     "text": [
      "SET 4209 INA INAC\n"
     ]
    },
    {
     "name": "stderr",
     "output_type": "stream",
     "text": [
      "/tmp/ipykernel_7352/2071744375.py:6: UserWarning: Boolean Series key will be reindexed to match DataFrame index.\n",
      "  remaining=remaining[mcl_df[\"Written\"]!=1]\n"
     ]
    },
    {
     "name": "stdout",
     "output_type": "stream",
     "text": [
      "SET 9347 EXP+FUM FUM+EXP\n"
     ]
    },
    {
     "name": "stderr",
     "output_type": "stream",
     "text": [
      "/tmp/ipykernel_7352/2071744375.py:6: UserWarning: Boolean Series key will be reindexed to match DataFrame index.\n",
      "  remaining=remaining[mcl_df[\"Written\"]!=1]\n"
     ]
    },
    {
     "name": "stdout",
     "output_type": "stream",
     "text": [
      "SET 18129 FUM FUM\n"
     ]
    },
    {
     "name": "stderr",
     "output_type": "stream",
     "text": [
      "/tmp/ipykernel_7352/2071744375.py:6: UserWarning: Boolean Series key will be reindexed to match DataFrame index.\n",
      "  remaining=remaining[mcl_df[\"Written\"]!=1]\n"
     ]
    },
    {
     "name": "stdout",
     "output_type": "stream",
     "text": [
      "SET 12951 EXP+FUM FUM+EXP\n"
     ]
    },
    {
     "name": "stderr",
     "output_type": "stream",
     "text": [
      "/tmp/ipykernel_7352/2071744375.py:6: UserWarning: Boolean Series key will be reindexed to match DataFrame index.\n",
      "  remaining=remaining[mcl_df[\"Written\"]!=1]\n"
     ]
    },
    {
     "name": "stdout",
     "output_type": "stream",
     "text": [
      "SET 9493 EXP+FUM FUM+EXP\n"
     ]
    },
    {
     "name": "stderr",
     "output_type": "stream",
     "text": [
      "/tmp/ipykernel_7352/2071744375.py:6: UserWarning: Boolean Series key will be reindexed to match DataFrame index.\n",
      "  remaining=remaining[mcl_df[\"Written\"]!=1]\n"
     ]
    },
    {
     "name": "stdout",
     "output_type": "stream",
     "text": [
      "SET 15482 UNK UNK\n"
     ]
    },
    {
     "name": "stderr",
     "output_type": "stream",
     "text": [
      "/tmp/ipykernel_7352/2071744375.py:6: UserWarning: Boolean Series key will be reindexed to match DataFrame index.\n",
      "  remaining=remaining[mcl_df[\"Written\"]!=1]\n"
     ]
    },
    {
     "name": "stdout",
     "output_type": "stream",
     "text": [
      "SET 8392 INA INAC\n"
     ]
    },
    {
     "name": "stderr",
     "output_type": "stream",
     "text": [
      "/tmp/ipykernel_7352/2071744375.py:6: UserWarning: Boolean Series key will be reindexed to match DataFrame index.\n",
      "  remaining=remaining[mcl_df[\"Written\"]!=1]\n"
     ]
    },
    {
     "name": "stdout",
     "output_type": "stream",
     "text": [
      "SET 17465 EXP+FUM FUM+EXP\n"
     ]
    },
    {
     "name": "stderr",
     "output_type": "stream",
     "text": [
      "/tmp/ipykernel_7352/2071744375.py:6: UserWarning: Boolean Series key will be reindexed to match DataFrame index.\n",
      "  remaining=remaining[mcl_df[\"Written\"]!=1]\n"
     ]
    },
    {
     "name": "stdout",
     "output_type": "stream",
     "text": [
      "SET 17276 UNK UNK\n"
     ]
    },
    {
     "name": "stderr",
     "output_type": "stream",
     "text": [
      "/tmp/ipykernel_7352/2071744375.py:6: UserWarning: Boolean Series key will be reindexed to match DataFrame index.\n",
      "  remaining=remaining[mcl_df[\"Written\"]!=1]\n"
     ]
    },
    {
     "name": "stdout",
     "output_type": "stream",
     "text": [
      "SET 19961 FUM FUM\n"
     ]
    },
    {
     "name": "stderr",
     "output_type": "stream",
     "text": [
      "/tmp/ipykernel_7352/2071744375.py:6: UserWarning: Boolean Series key will be reindexed to match DataFrame index.\n",
      "  remaining=remaining[mcl_df[\"Written\"]!=1]\n"
     ]
    },
    {
     "name": "stdout",
     "output_type": "stream",
     "text": [
      "SET 3779 FUM FUM\n"
     ]
    },
    {
     "name": "stderr",
     "output_type": "stream",
     "text": [
      "/tmp/ipykernel_7352/2071744375.py:6: UserWarning: Boolean Series key will be reindexed to match DataFrame index.\n",
      "  remaining=remaining[mcl_df[\"Written\"]!=1]\n"
     ]
    },
    {
     "name": "stdout",
     "output_type": "stream",
     "text": [
      "SET 17593 EXP+FUM FUM+EXP\n"
     ]
    },
    {
     "name": "stderr",
     "output_type": "stream",
     "text": [
      "/tmp/ipykernel_7352/2071744375.py:6: UserWarning: Boolean Series key will be reindexed to match DataFrame index.\n",
      "  remaining=remaining[mcl_df[\"Written\"]!=1]\n"
     ]
    },
    {
     "name": "stdout",
     "output_type": "stream",
     "text": [
      "SET 18824 FUM FUM\n"
     ]
    },
    {
     "name": "stderr",
     "output_type": "stream",
     "text": [
      "/tmp/ipykernel_7352/2071744375.py:6: UserWarning: Boolean Series key will be reindexed to match DataFrame index.\n",
      "  remaining=remaining[mcl_df[\"Written\"]!=1]\n"
     ]
    },
    {
     "name": "stdout",
     "output_type": "stream",
     "text": [
      "SET 19155 FUM FUM\n"
     ]
    },
    {
     "name": "stderr",
     "output_type": "stream",
     "text": [
      "/tmp/ipykernel_7352/2071744375.py:6: UserWarning: Boolean Series key will be reindexed to match DataFrame index.\n",
      "  remaining=remaining[mcl_df[\"Written\"]!=1]\n"
     ]
    },
    {
     "name": "stdout",
     "output_type": "stream",
     "text": [
      "SET 3939 FUM FUM\n"
     ]
    },
    {
     "name": "stderr",
     "output_type": "stream",
     "text": [
      "/tmp/ipykernel_7352/2071744375.py:6: UserWarning: Boolean Series key will be reindexed to match DataFrame index.\n",
      "  remaining=remaining[mcl_df[\"Written\"]!=1]\n"
     ]
    },
    {
     "name": "stdout",
     "output_type": "stream",
     "text": [
      "SET 7252 EXP+FUM FUM+EXP\n"
     ]
    },
    {
     "name": "stderr",
     "output_type": "stream",
     "text": [
      "/tmp/ipykernel_7352/2071744375.py:6: UserWarning: Boolean Series key will be reindexed to match DataFrame index.\n",
      "  remaining=remaining[mcl_df[\"Written\"]!=1]\n"
     ]
    },
    {
     "name": "stdout",
     "output_type": "stream",
     "text": [
      "SET 5317 INA INAC\n"
     ]
    },
    {
     "name": "stderr",
     "output_type": "stream",
     "text": [
      "/tmp/ipykernel_7352/2071744375.py:6: UserWarning: Boolean Series key will be reindexed to match DataFrame index.\n",
      "  remaining=remaining[mcl_df[\"Written\"]!=1]\n"
     ]
    },
    {
     "name": "stdout",
     "output_type": "stream",
     "text": [
      "SET 20286 EXP+FUM FUM+EXP\n"
     ]
    },
    {
     "name": "stderr",
     "output_type": "stream",
     "text": [
      "/tmp/ipykernel_7352/2071744375.py:6: UserWarning: Boolean Series key will be reindexed to match DataFrame index.\n",
      "  remaining=remaining[mcl_df[\"Written\"]!=1]\n"
     ]
    },
    {
     "name": "stdout",
     "output_type": "stream",
     "text": [
      "SET 6156 FUM FUM\n"
     ]
    },
    {
     "name": "stderr",
     "output_type": "stream",
     "text": [
      "/tmp/ipykernel_7352/2071744375.py:6: UserWarning: Boolean Series key will be reindexed to match DataFrame index.\n",
      "  remaining=remaining[mcl_df[\"Written\"]!=1]\n"
     ]
    },
    {
     "name": "stdout",
     "output_type": "stream",
     "text": [
      "SET 5489 FUM FUM\n"
     ]
    },
    {
     "name": "stderr",
     "output_type": "stream",
     "text": [
      "/tmp/ipykernel_7352/2071744375.py:6: UserWarning: Boolean Series key will be reindexed to match DataFrame index.\n",
      "  remaining=remaining[mcl_df[\"Written\"]!=1]\n"
     ]
    },
    {
     "name": "stdout",
     "output_type": "stream",
     "text": [
      "SET 9517 EXP+FUM FUM+EXP\n"
     ]
    },
    {
     "name": "stderr",
     "output_type": "stream",
     "text": [
      "/tmp/ipykernel_7352/2071744375.py:6: UserWarning: Boolean Series key will be reindexed to match DataFrame index.\n",
      "  remaining=remaining[mcl_df[\"Written\"]!=1]\n"
     ]
    },
    {
     "name": "stdout",
     "output_type": "stream",
     "text": [
      "SET 13893 EXP+FUM FUM+EXP\n"
     ]
    },
    {
     "name": "stderr",
     "output_type": "stream",
     "text": [
      "/tmp/ipykernel_7352/2071744375.py:6: UserWarning: Boolean Series key will be reindexed to match DataFrame index.\n",
      "  remaining=remaining[mcl_df[\"Written\"]!=1]\n"
     ]
    },
    {
     "name": "stdout",
     "output_type": "stream",
     "text": [
      "SET 9769 INA INAC\n"
     ]
    },
    {
     "name": "stderr",
     "output_type": "stream",
     "text": [
      "/tmp/ipykernel_7352/2071744375.py:6: UserWarning: Boolean Series key will be reindexed to match DataFrame index.\n",
      "  remaining=remaining[mcl_df[\"Written\"]!=1]\n"
     ]
    },
    {
     "name": "stdout",
     "output_type": "stream",
     "text": [
      "SET 620 EXP+FUM FUM+EXP\n"
     ]
    },
    {
     "name": "stderr",
     "output_type": "stream",
     "text": [
      "/tmp/ipykernel_7352/2071744375.py:6: UserWarning: Boolean Series key will be reindexed to match DataFrame index.\n",
      "  remaining=remaining[mcl_df[\"Written\"]!=1]\n"
     ]
    },
    {
     "name": "stdout",
     "output_type": "stream",
     "text": [
      "SET 2690 INA INAC\n"
     ]
    },
    {
     "name": "stderr",
     "output_type": "stream",
     "text": [
      "/tmp/ipykernel_7352/2071744375.py:6: UserWarning: Boolean Series key will be reindexed to match DataFrame index.\n",
      "  remaining=remaining[mcl_df[\"Written\"]!=1]\n"
     ]
    },
    {
     "name": "stdout",
     "output_type": "stream",
     "text": [
      "SET 3875 FUM FUM\n"
     ]
    },
    {
     "name": "stderr",
     "output_type": "stream",
     "text": [
      "/tmp/ipykernel_7352/2071744375.py:6: UserWarning: Boolean Series key will be reindexed to match DataFrame index.\n",
      "  remaining=remaining[mcl_df[\"Written\"]!=1]\n"
     ]
    },
    {
     "name": "stdout",
     "output_type": "stream",
     "text": [
      "SET 20366 FUM FUM\n"
     ]
    },
    {
     "name": "stderr",
     "output_type": "stream",
     "text": [
      "/tmp/ipykernel_7352/2071744375.py:6: UserWarning: Boolean Series key will be reindexed to match DataFrame index.\n",
      "  remaining=remaining[mcl_df[\"Written\"]!=1]\n"
     ]
    },
    {
     "name": "stdout",
     "output_type": "stream",
     "text": [
      "SET 13674 EXP+FUM FUM+EXP\n"
     ]
    },
    {
     "name": "stderr",
     "output_type": "stream",
     "text": [
      "/tmp/ipykernel_7352/2071744375.py:6: UserWarning: Boolean Series key will be reindexed to match DataFrame index.\n",
      "  remaining=remaining[mcl_df[\"Written\"]!=1]\n"
     ]
    },
    {
     "name": "stdout",
     "output_type": "stream",
     "text": [
      "SET 5111 FUM FUM\n"
     ]
    },
    {
     "name": "stderr",
     "output_type": "stream",
     "text": [
      "/tmp/ipykernel_7352/2071744375.py:6: UserWarning: Boolean Series key will be reindexed to match DataFrame index.\n",
      "  remaining=remaining[mcl_df[\"Written\"]!=1]\n"
     ]
    },
    {
     "name": "stdout",
     "output_type": "stream",
     "text": [
      "SET 16262 EXP+FUM FUM+EXP\n"
     ]
    },
    {
     "name": "stderr",
     "output_type": "stream",
     "text": [
      "/tmp/ipykernel_7352/2071744375.py:6: UserWarning: Boolean Series key will be reindexed to match DataFrame index.\n",
      "  remaining=remaining[mcl_df[\"Written\"]!=1]\n"
     ]
    },
    {
     "name": "stdout",
     "output_type": "stream",
     "text": [
      "SET 6341 FUM FUM\n"
     ]
    },
    {
     "name": "stderr",
     "output_type": "stream",
     "text": [
      "/tmp/ipykernel_7352/2071744375.py:6: UserWarning: Boolean Series key will be reindexed to match DataFrame index.\n",
      "  remaining=remaining[mcl_df[\"Written\"]!=1]\n"
     ]
    },
    {
     "name": "stdout",
     "output_type": "stream",
     "text": [
      "SET 11960 EXP+FUM FUM+EXP\n"
     ]
    },
    {
     "name": "stderr",
     "output_type": "stream",
     "text": [
      "/tmp/ipykernel_7352/2071744375.py:6: UserWarning: Boolean Series key will be reindexed to match DataFrame index.\n",
      "  remaining=remaining[mcl_df[\"Written\"]!=1]\n"
     ]
    },
    {
     "name": "stdout",
     "output_type": "stream",
     "text": [
      "SET 14721 EXP+FUM FUM+EXP\n"
     ]
    },
    {
     "name": "stderr",
     "output_type": "stream",
     "text": [
      "/tmp/ipykernel_7352/2071744375.py:6: UserWarning: Boolean Series key will be reindexed to match DataFrame index.\n",
      "  remaining=remaining[mcl_df[\"Written\"]!=1]\n"
     ]
    },
    {
     "name": "stdout",
     "output_type": "stream",
     "text": [
      "SET 20549 FUM FUM\n"
     ]
    },
    {
     "name": "stderr",
     "output_type": "stream",
     "text": [
      "/tmp/ipykernel_7352/2071744375.py:6: UserWarning: Boolean Series key will be reindexed to match DataFrame index.\n",
      "  remaining=remaining[mcl_df[\"Written\"]!=1]\n"
     ]
    },
    {
     "name": "stdout",
     "output_type": "stream",
     "text": [
      "SET 21320 FUM FUM\n"
     ]
    },
    {
     "name": "stderr",
     "output_type": "stream",
     "text": [
      "/tmp/ipykernel_7352/2071744375.py:6: UserWarning: Boolean Series key will be reindexed to match DataFrame index.\n",
      "  remaining=remaining[mcl_df[\"Written\"]!=1]\n"
     ]
    },
    {
     "name": "stdout",
     "output_type": "stream",
     "text": [
      "SET 9938 FUM FUM\n"
     ]
    },
    {
     "name": "stderr",
     "output_type": "stream",
     "text": [
      "/tmp/ipykernel_7352/2071744375.py:6: UserWarning: Boolean Series key will be reindexed to match DataFrame index.\n",
      "  remaining=remaining[mcl_df[\"Written\"]!=1]\n"
     ]
    },
    {
     "name": "stdout",
     "output_type": "stream",
     "text": [
      "SET 9392 EXP+FUM FUM+EXP\n",
      "FOUND ERROR \n",
      "------------------------------------------------------------\n",
      "*** GUIZERO ERROR ***\n",
      "Image import error - 'image file is truncated (12 bytes not processed)'\n",
      "Check the file path and image type is GIF/Animated GIF/BMP/ICO/PNG/JPG/TIF\n",
      "------------------------------------------------------------\n",
      "\n"
     ]
    },
    {
     "name": "stderr",
     "output_type": "stream",
     "text": [
      "/tmp/ipykernel_7352/2071744375.py:6: UserWarning: Boolean Series key will be reindexed to match DataFrame index.\n",
      "  remaining=remaining[mcl_df[\"Written\"]!=1]\n",
      "/tmp/ipykernel_7352/2071744375.py:6: UserWarning: Boolean Series key will be reindexed to match DataFrame index.\n",
      "  remaining=remaining[mcl_df[\"Written\"]!=1]\n"
     ]
    },
    {
     "name": "stdout",
     "output_type": "stream",
     "text": [
      "SET 18063 EXP+FUM FUM+EXP\n"
     ]
    },
    {
     "name": "stderr",
     "output_type": "stream",
     "text": [
      "/tmp/ipykernel_7352/2071744375.py:6: UserWarning: Boolean Series key will be reindexed to match DataFrame index.\n",
      "  remaining=remaining[mcl_df[\"Written\"]!=1]\n"
     ]
    },
    {
     "name": "stdout",
     "output_type": "stream",
     "text": [
      "SET 9775 FUM FUM\n"
     ]
    },
    {
     "name": "stderr",
     "output_type": "stream",
     "text": [
      "/tmp/ipykernel_7352/2071744375.py:6: UserWarning: Boolean Series key will be reindexed to match DataFrame index.\n",
      "  remaining=remaining[mcl_df[\"Written\"]!=1]\n"
     ]
    },
    {
     "name": "stdout",
     "output_type": "stream",
     "text": [
      "SET 9889 EXP+FUM FUM+EXP\n"
     ]
    },
    {
     "name": "stderr",
     "output_type": "stream",
     "text": [
      "/tmp/ipykernel_7352/2071744375.py:6: UserWarning: Boolean Series key will be reindexed to match DataFrame index.\n",
      "  remaining=remaining[mcl_df[\"Written\"]!=1]\n"
     ]
    },
    {
     "name": "stdout",
     "output_type": "stream",
     "text": [
      "SET 6330 FUM FUM\n"
     ]
    },
    {
     "name": "stderr",
     "output_type": "stream",
     "text": [
      "/tmp/ipykernel_7352/2071744375.py:6: UserWarning: Boolean Series key will be reindexed to match DataFrame index.\n",
      "  remaining=remaining[mcl_df[\"Written\"]!=1]\n"
     ]
    },
    {
     "name": "stdout",
     "output_type": "stream",
     "text": [
      "SET 19290 FUM FUM\n"
     ]
    },
    {
     "name": "stderr",
     "output_type": "stream",
     "text": [
      "/tmp/ipykernel_7352/2071744375.py:6: UserWarning: Boolean Series key will be reindexed to match DataFrame index.\n",
      "  remaining=remaining[mcl_df[\"Written\"]!=1]\n"
     ]
    },
    {
     "name": "stdout",
     "output_type": "stream",
     "text": [
      "SET 17579 EXP+FUM FUM+EXP\n"
     ]
    },
    {
     "name": "stderr",
     "output_type": "stream",
     "text": [
      "/tmp/ipykernel_7352/2071744375.py:6: UserWarning: Boolean Series key will be reindexed to match DataFrame index.\n",
      "  remaining=remaining[mcl_df[\"Written\"]!=1]\n"
     ]
    },
    {
     "name": "stdout",
     "output_type": "stream",
     "text": [
      "SET 3410 INA INAC\n"
     ]
    },
    {
     "name": "stderr",
     "output_type": "stream",
     "text": [
      "/tmp/ipykernel_7352/2071744375.py:6: UserWarning: Boolean Series key will be reindexed to match DataFrame index.\n",
      "  remaining=remaining[mcl_df[\"Written\"]!=1]\n"
     ]
    },
    {
     "name": "stdout",
     "output_type": "stream",
     "text": [
      "SET 14591 EXP+FUM FUM+EXP\n"
     ]
    },
    {
     "name": "stderr",
     "output_type": "stream",
     "text": [
      "/tmp/ipykernel_7352/2071744375.py:6: UserWarning: Boolean Series key will be reindexed to match DataFrame index.\n",
      "  remaining=remaining[mcl_df[\"Written\"]!=1]\n"
     ]
    },
    {
     "name": "stdout",
     "output_type": "stream",
     "text": [
      "SET 12478 EXP+FUM FUM+EXP\n"
     ]
    },
    {
     "name": "stderr",
     "output_type": "stream",
     "text": [
      "/tmp/ipykernel_7352/2071744375.py:6: UserWarning: Boolean Series key will be reindexed to match DataFrame index.\n",
      "  remaining=remaining[mcl_df[\"Written\"]!=1]\n"
     ]
    },
    {
     "name": "stdout",
     "output_type": "stream",
     "text": [
      "SET 12336 FUM FUM\n"
     ]
    },
    {
     "name": "stderr",
     "output_type": "stream",
     "text": [
      "/tmp/ipykernel_7352/2071744375.py:6: UserWarning: Boolean Series key will be reindexed to match DataFrame index.\n",
      "  remaining=remaining[mcl_df[\"Written\"]!=1]\n"
     ]
    },
    {
     "name": "stdout",
     "output_type": "stream",
     "text": [
      "SET 10134 EXP+FUM FUM+EXP\n"
     ]
    },
    {
     "name": "stderr",
     "output_type": "stream",
     "text": [
      "/tmp/ipykernel_7352/2071744375.py:6: UserWarning: Boolean Series key will be reindexed to match DataFrame index.\n",
      "  remaining=remaining[mcl_df[\"Written\"]!=1]\n"
     ]
    },
    {
     "name": "stdout",
     "output_type": "stream",
     "text": [
      "SET 14539 EXP+FUM FUM+EXP\n"
     ]
    },
    {
     "name": "stderr",
     "output_type": "stream",
     "text": [
      "/tmp/ipykernel_7352/2071744375.py:6: UserWarning: Boolean Series key will be reindexed to match DataFrame index.\n",
      "  remaining=remaining[mcl_df[\"Written\"]!=1]\n"
     ]
    },
    {
     "name": "stdout",
     "output_type": "stream",
     "text": [
      "SET 15362 FUM FUM\n"
     ]
    },
    {
     "name": "stderr",
     "output_type": "stream",
     "text": [
      "/tmp/ipykernel_7352/2071744375.py:6: UserWarning: Boolean Series key will be reindexed to match DataFrame index.\n",
      "  remaining=remaining[mcl_df[\"Written\"]!=1]\n"
     ]
    },
    {
     "name": "stdout",
     "output_type": "stream",
     "text": [
      "SET 11398 INA INAC\n"
     ]
    },
    {
     "name": "stderr",
     "output_type": "stream",
     "text": [
      "/tmp/ipykernel_7352/2071744375.py:6: UserWarning: Boolean Series key will be reindexed to match DataFrame index.\n",
      "  remaining=remaining[mcl_df[\"Written\"]!=1]\n"
     ]
    },
    {
     "name": "stdout",
     "output_type": "stream",
     "text": [
      "SET 20121 FUM FUM\n"
     ]
    },
    {
     "name": "stderr",
     "output_type": "stream",
     "text": [
      "/tmp/ipykernel_7352/2071744375.py:6: UserWarning: Boolean Series key will be reindexed to match DataFrame index.\n",
      "  remaining=remaining[mcl_df[\"Written\"]!=1]\n"
     ]
    },
    {
     "name": "stdout",
     "output_type": "stream",
     "text": [
      "SET 16827 FUM FUM\n"
     ]
    },
    {
     "name": "stderr",
     "output_type": "stream",
     "text": [
      "/tmp/ipykernel_7352/2071744375.py:6: UserWarning: Boolean Series key will be reindexed to match DataFrame index.\n",
      "  remaining=remaining[mcl_df[\"Written\"]!=1]\n"
     ]
    },
    {
     "name": "stdout",
     "output_type": "stream",
     "text": [
      "SET 14167 FUM FUM\n"
     ]
    },
    {
     "name": "stderr",
     "output_type": "stream",
     "text": [
      "/tmp/ipykernel_7352/2071744375.py:6: UserWarning: Boolean Series key will be reindexed to match DataFrame index.\n",
      "  remaining=remaining[mcl_df[\"Written\"]!=1]\n"
     ]
    },
    {
     "name": "stdout",
     "output_type": "stream",
     "text": [
      "SET 9519 EXP+FUM FUM+EXP\n"
     ]
    },
    {
     "name": "stderr",
     "output_type": "stream",
     "text": [
      "/tmp/ipykernel_7352/2071744375.py:6: UserWarning: Boolean Series key will be reindexed to match DataFrame index.\n",
      "  remaining=remaining[mcl_df[\"Written\"]!=1]\n"
     ]
    },
    {
     "name": "stdout",
     "output_type": "stream",
     "text": [
      "SET 8397 UNK UNK\n"
     ]
    },
    {
     "name": "stderr",
     "output_type": "stream",
     "text": [
      "/tmp/ipykernel_7352/2071744375.py:6: UserWarning: Boolean Series key will be reindexed to match DataFrame index.\n",
      "  remaining=remaining[mcl_df[\"Written\"]!=1]\n"
     ]
    },
    {
     "name": "stdout",
     "output_type": "stream",
     "text": [
      "SET 4296 FUM FUM\n"
     ]
    },
    {
     "name": "stderr",
     "output_type": "stream",
     "text": [
      "/tmp/ipykernel_7352/2071744375.py:6: UserWarning: Boolean Series key will be reindexed to match DataFrame index.\n",
      "  remaining=remaining[mcl_df[\"Written\"]!=1]\n"
     ]
    },
    {
     "name": "stdout",
     "output_type": "stream",
     "text": [
      "SET 2792 FUM FUM\n"
     ]
    },
    {
     "name": "stderr",
     "output_type": "stream",
     "text": [
      "/tmp/ipykernel_7352/2071744375.py:6: UserWarning: Boolean Series key will be reindexed to match DataFrame index.\n",
      "  remaining=remaining[mcl_df[\"Written\"]!=1]\n"
     ]
    },
    {
     "name": "stdout",
     "output_type": "stream",
     "text": [
      "SET 18493 FUM FUM\n"
     ]
    },
    {
     "name": "stderr",
     "output_type": "stream",
     "text": [
      "/tmp/ipykernel_7352/2071744375.py:6: UserWarning: Boolean Series key will be reindexed to match DataFrame index.\n",
      "  remaining=remaining[mcl_df[\"Written\"]!=1]\n"
     ]
    },
    {
     "name": "stdout",
     "output_type": "stream",
     "text": [
      "SET 17150 INA INAC\n"
     ]
    },
    {
     "name": "stderr",
     "output_type": "stream",
     "text": [
      "/tmp/ipykernel_7352/2071744375.py:6: UserWarning: Boolean Series key will be reindexed to match DataFrame index.\n",
      "  remaining=remaining[mcl_df[\"Written\"]!=1]\n"
     ]
    },
    {
     "name": "stdout",
     "output_type": "stream",
     "text": [
      "SET 14068 UNK UNK\n"
     ]
    },
    {
     "name": "stderr",
     "output_type": "stream",
     "text": [
      "/tmp/ipykernel_7352/2071744375.py:6: UserWarning: Boolean Series key will be reindexed to match DataFrame index.\n",
      "  remaining=remaining[mcl_df[\"Written\"]!=1]\n"
     ]
    },
    {
     "name": "stdout",
     "output_type": "stream",
     "text": [
      "SET 2157 FUM FUM\n"
     ]
    },
    {
     "name": "stderr",
     "output_type": "stream",
     "text": [
      "/tmp/ipykernel_7352/2071744375.py:6: UserWarning: Boolean Series key will be reindexed to match DataFrame index.\n",
      "  remaining=remaining[mcl_df[\"Written\"]!=1]\n"
     ]
    },
    {
     "name": "stdout",
     "output_type": "stream",
     "text": [
      "SET 3853 UNK UNK\n"
     ]
    },
    {
     "name": "stderr",
     "output_type": "stream",
     "text": [
      "/tmp/ipykernel_7352/2071744375.py:6: UserWarning: Boolean Series key will be reindexed to match DataFrame index.\n",
      "  remaining=remaining[mcl_df[\"Written\"]!=1]\n"
     ]
    },
    {
     "name": "stdout",
     "output_type": "stream",
     "text": [
      "SET 9439 EXP+FUM FUM+EXP\n"
     ]
    },
    {
     "name": "stderr",
     "output_type": "stream",
     "text": [
      "/tmp/ipykernel_7352/2071744375.py:6: UserWarning: Boolean Series key will be reindexed to match DataFrame index.\n",
      "  remaining=remaining[mcl_df[\"Written\"]!=1]\n"
     ]
    },
    {
     "name": "stdout",
     "output_type": "stream",
     "text": [
      "SET 2147 FUM FUM\n"
     ]
    },
    {
     "name": "stderr",
     "output_type": "stream",
     "text": [
      "/tmp/ipykernel_7352/2071744375.py:6: UserWarning: Boolean Series key will be reindexed to match DataFrame index.\n",
      "  remaining=remaining[mcl_df[\"Written\"]!=1]\n"
     ]
    },
    {
     "name": "stdout",
     "output_type": "stream",
     "text": [
      "SET 12805 FUM FUM\n"
     ]
    },
    {
     "name": "stderr",
     "output_type": "stream",
     "text": [
      "/tmp/ipykernel_7352/2071744375.py:6: UserWarning: Boolean Series key will be reindexed to match DataFrame index.\n",
      "  remaining=remaining[mcl_df[\"Written\"]!=1]\n"
     ]
    },
    {
     "name": "stdout",
     "output_type": "stream",
     "text": [
      "SET 20679 INA INAC\n"
     ]
    },
    {
     "name": "stderr",
     "output_type": "stream",
     "text": [
      "/tmp/ipykernel_7352/2071744375.py:6: UserWarning: Boolean Series key will be reindexed to match DataFrame index.\n",
      "  remaining=remaining[mcl_df[\"Written\"]!=1]\n"
     ]
    },
    {
     "name": "stdout",
     "output_type": "stream",
     "text": [
      "SET 3940 FUM FUM\n"
     ]
    },
    {
     "name": "stderr",
     "output_type": "stream",
     "text": [
      "/tmp/ipykernel_7352/2071744375.py:6: UserWarning: Boolean Series key will be reindexed to match DataFrame index.\n",
      "  remaining=remaining[mcl_df[\"Written\"]!=1]\n"
     ]
    },
    {
     "name": "stdout",
     "output_type": "stream",
     "text": [
      "SET 5928 FUM FUM\n"
     ]
    },
    {
     "name": "stderr",
     "output_type": "stream",
     "text": [
      "/tmp/ipykernel_7352/2071744375.py:6: UserWarning: Boolean Series key will be reindexed to match DataFrame index.\n",
      "  remaining=remaining[mcl_df[\"Written\"]!=1]\n"
     ]
    },
    {
     "name": "stdout",
     "output_type": "stream",
     "text": [
      "SET 3668 FUM FUM\n"
     ]
    },
    {
     "name": "stderr",
     "output_type": "stream",
     "text": [
      "/tmp/ipykernel_7352/2071744375.py:6: UserWarning: Boolean Series key will be reindexed to match DataFrame index.\n",
      "  remaining=remaining[mcl_df[\"Written\"]!=1]\n"
     ]
    },
    {
     "name": "stdout",
     "output_type": "stream",
     "text": [
      "SET 15849 UNK UNK\n"
     ]
    },
    {
     "name": "stderr",
     "output_type": "stream",
     "text": [
      "/tmp/ipykernel_7352/2071744375.py:6: UserWarning: Boolean Series key will be reindexed to match DataFrame index.\n",
      "  remaining=remaining[mcl_df[\"Written\"]!=1]\n"
     ]
    },
    {
     "name": "stdout",
     "output_type": "stream",
     "text": [
      "SET 4375 EXP+FUM FUM+EXP\n"
     ]
    },
    {
     "name": "stderr",
     "output_type": "stream",
     "text": [
      "/tmp/ipykernel_7352/2071744375.py:6: UserWarning: Boolean Series key will be reindexed to match DataFrame index.\n",
      "  remaining=remaining[mcl_df[\"Written\"]!=1]\n"
     ]
    },
    {
     "name": "stdout",
     "output_type": "stream",
     "text": [
      "SET 14478 INA INAC\n"
     ]
    },
    {
     "name": "stderr",
     "output_type": "stream",
     "text": [
      "/tmp/ipykernel_7352/2071744375.py:6: UserWarning: Boolean Series key will be reindexed to match DataFrame index.\n",
      "  remaining=remaining[mcl_df[\"Written\"]!=1]\n"
     ]
    },
    {
     "name": "stdout",
     "output_type": "stream",
     "text": [
      "SET 7319 UNK UNK\n"
     ]
    },
    {
     "name": "stderr",
     "output_type": "stream",
     "text": [
      "/tmp/ipykernel_7352/2071744375.py:6: UserWarning: Boolean Series key will be reindexed to match DataFrame index.\n",
      "  remaining=remaining[mcl_df[\"Written\"]!=1]\n"
     ]
    },
    {
     "name": "stdout",
     "output_type": "stream",
     "text": [
      "SET 3455 FUM FUM\n"
     ]
    },
    {
     "name": "stderr",
     "output_type": "stream",
     "text": [
      "/tmp/ipykernel_7352/2071744375.py:6: UserWarning: Boolean Series key will be reindexed to match DataFrame index.\n",
      "  remaining=remaining[mcl_df[\"Written\"]!=1]\n"
     ]
    },
    {
     "name": "stdout",
     "output_type": "stream",
     "text": [
      "SET 15399 EXP+FUM FUM+EXP\n"
     ]
    },
    {
     "name": "stderr",
     "output_type": "stream",
     "text": [
      "/tmp/ipykernel_7352/2071744375.py:6: UserWarning: Boolean Series key will be reindexed to match DataFrame index.\n",
      "  remaining=remaining[mcl_df[\"Written\"]!=1]\n"
     ]
    },
    {
     "name": "stdout",
     "output_type": "stream",
     "text": [
      "SET 21644 FUM FUM\n"
     ]
    },
    {
     "name": "stderr",
     "output_type": "stream",
     "text": [
      "/tmp/ipykernel_7352/2071744375.py:6: UserWarning: Boolean Series key will be reindexed to match DataFrame index.\n",
      "  remaining=remaining[mcl_df[\"Written\"]!=1]\n"
     ]
    },
    {
     "name": "stdout",
     "output_type": "stream",
     "text": [
      "SET 14375 FUM FUM\n"
     ]
    },
    {
     "name": "stderr",
     "output_type": "stream",
     "text": [
      "/tmp/ipykernel_7352/2071744375.py:6: UserWarning: Boolean Series key will be reindexed to match DataFrame index.\n",
      "  remaining=remaining[mcl_df[\"Written\"]!=1]\n"
     ]
    },
    {
     "name": "stdout",
     "output_type": "stream",
     "text": [
      "SET 12698 FUM FUM\n"
     ]
    },
    {
     "name": "stderr",
     "output_type": "stream",
     "text": [
      "/tmp/ipykernel_7352/2071744375.py:6: UserWarning: Boolean Series key will be reindexed to match DataFrame index.\n",
      "  remaining=remaining[mcl_df[\"Written\"]!=1]\n"
     ]
    },
    {
     "name": "stdout",
     "output_type": "stream",
     "text": [
      "SET 3754 FUM FUM\n"
     ]
    },
    {
     "name": "stderr",
     "output_type": "stream",
     "text": [
      "/tmp/ipykernel_7352/2071744375.py:6: UserWarning: Boolean Series key will be reindexed to match DataFrame index.\n",
      "  remaining=remaining[mcl_df[\"Written\"]!=1]\n"
     ]
    },
    {
     "name": "stdout",
     "output_type": "stream",
     "text": [
      "SET 3737 FUM FUM\n"
     ]
    },
    {
     "name": "stderr",
     "output_type": "stream",
     "text": [
      "/tmp/ipykernel_7352/2071744375.py:6: UserWarning: Boolean Series key will be reindexed to match DataFrame index.\n",
      "  remaining=remaining[mcl_df[\"Written\"]!=1]\n"
     ]
    },
    {
     "name": "stdout",
     "output_type": "stream",
     "text": [
      "SET 12424 FUM FUM\n"
     ]
    },
    {
     "name": "stderr",
     "output_type": "stream",
     "text": [
      "/tmp/ipykernel_7352/2071744375.py:6: UserWarning: Boolean Series key will be reindexed to match DataFrame index.\n",
      "  remaining=remaining[mcl_df[\"Written\"]!=1]\n"
     ]
    },
    {
     "name": "stdout",
     "output_type": "stream",
     "text": [
      "SET 9363 FUM FUM\n"
     ]
    },
    {
     "name": "stderr",
     "output_type": "stream",
     "text": [
      "/tmp/ipykernel_7352/2071744375.py:6: UserWarning: Boolean Series key will be reindexed to match DataFrame index.\n",
      "  remaining=remaining[mcl_df[\"Written\"]!=1]\n"
     ]
    },
    {
     "name": "stdout",
     "output_type": "stream",
     "text": [
      "SET 9237 FUM FUM\n"
     ]
    },
    {
     "name": "stderr",
     "output_type": "stream",
     "text": [
      "/tmp/ipykernel_7352/2071744375.py:6: UserWarning: Boolean Series key will be reindexed to match DataFrame index.\n",
      "  remaining=remaining[mcl_df[\"Written\"]!=1]\n"
     ]
    },
    {
     "name": "stdout",
     "output_type": "stream",
     "text": [
      "SET 8279 FUM FUM\n"
     ]
    },
    {
     "name": "stderr",
     "output_type": "stream",
     "text": [
      "/tmp/ipykernel_7352/2071744375.py:6: UserWarning: Boolean Series key will be reindexed to match DataFrame index.\n",
      "  remaining=remaining[mcl_df[\"Written\"]!=1]\n"
     ]
    },
    {
     "name": "stdout",
     "output_type": "stream",
     "text": [
      "SET 5096 EXP+FUM FUM+EXP\n"
     ]
    },
    {
     "name": "stderr",
     "output_type": "stream",
     "text": [
      "/tmp/ipykernel_7352/2071744375.py:6: UserWarning: Boolean Series key will be reindexed to match DataFrame index.\n",
      "  remaining=remaining[mcl_df[\"Written\"]!=1]\n"
     ]
    },
    {
     "name": "stdout",
     "output_type": "stream",
     "text": [
      "SET 12448 FUM FUM\n"
     ]
    },
    {
     "name": "stderr",
     "output_type": "stream",
     "text": [
      "/tmp/ipykernel_7352/2071744375.py:6: UserWarning: Boolean Series key will be reindexed to match DataFrame index.\n",
      "  remaining=remaining[mcl_df[\"Written\"]!=1]\n"
     ]
    },
    {
     "name": "stdout",
     "output_type": "stream",
     "text": [
      "SET 19500 EXP+FUM FUM+EXP\n"
     ]
    },
    {
     "name": "stderr",
     "output_type": "stream",
     "text": [
      "/tmp/ipykernel_7352/2071744375.py:6: UserWarning: Boolean Series key will be reindexed to match DataFrame index.\n",
      "  remaining=remaining[mcl_df[\"Written\"]!=1]\n"
     ]
    },
    {
     "name": "stdout",
     "output_type": "stream",
     "text": [
      "SET 14977 FUM FUM\n"
     ]
    },
    {
     "name": "stderr",
     "output_type": "stream",
     "text": [
      "/tmp/ipykernel_7352/2071744375.py:6: UserWarning: Boolean Series key will be reindexed to match DataFrame index.\n",
      "  remaining=remaining[mcl_df[\"Written\"]!=1]\n"
     ]
    },
    {
     "name": "stdout",
     "output_type": "stream",
     "text": [
      "SET 17268 FUM FUM\n"
     ]
    },
    {
     "name": "stderr",
     "output_type": "stream",
     "text": [
      "/tmp/ipykernel_7352/2071744375.py:6: UserWarning: Boolean Series key will be reindexed to match DataFrame index.\n",
      "  remaining=remaining[mcl_df[\"Written\"]!=1]\n"
     ]
    },
    {
     "name": "stdout",
     "output_type": "stream",
     "text": [
      "SET 3624 FUM FUM\n"
     ]
    },
    {
     "name": "stderr",
     "output_type": "stream",
     "text": [
      "/tmp/ipykernel_7352/2071744375.py:6: UserWarning: Boolean Series key will be reindexed to match DataFrame index.\n",
      "  remaining=remaining[mcl_df[\"Written\"]!=1]\n"
     ]
    },
    {
     "name": "stdout",
     "output_type": "stream",
     "text": [
      "SET 12527 FUM FUM\n"
     ]
    },
    {
     "name": "stderr",
     "output_type": "stream",
     "text": [
      "/tmp/ipykernel_7352/2071744375.py:6: UserWarning: Boolean Series key will be reindexed to match DataFrame index.\n",
      "  remaining=remaining[mcl_df[\"Written\"]!=1]\n"
     ]
    },
    {
     "name": "stdout",
     "output_type": "stream",
     "text": [
      "SET 1562 INA INAC\n"
     ]
    },
    {
     "name": "stderr",
     "output_type": "stream",
     "text": [
      "/tmp/ipykernel_7352/2071744375.py:6: UserWarning: Boolean Series key will be reindexed to match DataFrame index.\n",
      "  remaining=remaining[mcl_df[\"Written\"]!=1]\n"
     ]
    },
    {
     "name": "stdout",
     "output_type": "stream",
     "text": [
      "SET 1786 FUM FUM\n"
     ]
    },
    {
     "name": "stderr",
     "output_type": "stream",
     "text": [
      "/tmp/ipykernel_7352/2071744375.py:6: UserWarning: Boolean Series key will be reindexed to match DataFrame index.\n",
      "  remaining=remaining[mcl_df[\"Written\"]!=1]\n"
     ]
    },
    {
     "name": "stdout",
     "output_type": "stream",
     "text": [
      "SET 11718 EXP+FUM FUM+EXP\n"
     ]
    },
    {
     "name": "stderr",
     "output_type": "stream",
     "text": [
      "/tmp/ipykernel_7352/2071744375.py:6: UserWarning: Boolean Series key will be reindexed to match DataFrame index.\n",
      "  remaining=remaining[mcl_df[\"Written\"]!=1]\n"
     ]
    },
    {
     "name": "stdout",
     "output_type": "stream",
     "text": [
      "SET 13978 EXP+FUM FUM+EXP\n"
     ]
    },
    {
     "name": "stderr",
     "output_type": "stream",
     "text": [
      "/tmp/ipykernel_7352/2071744375.py:6: UserWarning: Boolean Series key will be reindexed to match DataFrame index.\n",
      "  remaining=remaining[mcl_df[\"Written\"]!=1]\n"
     ]
    },
    {
     "name": "stdout",
     "output_type": "stream",
     "text": [
      "SET 21129 INA INAC\n"
     ]
    },
    {
     "name": "stderr",
     "output_type": "stream",
     "text": [
      "/tmp/ipykernel_7352/2071744375.py:6: UserWarning: Boolean Series key will be reindexed to match DataFrame index.\n",
      "  remaining=remaining[mcl_df[\"Written\"]!=1]\n"
     ]
    },
    {
     "name": "stdout",
     "output_type": "stream",
     "text": [
      "SET 12906 EXP+FUM FUM+EXP\n"
     ]
    },
    {
     "name": "stderr",
     "output_type": "stream",
     "text": [
      "/tmp/ipykernel_7352/2071744375.py:6: UserWarning: Boolean Series key will be reindexed to match DataFrame index.\n",
      "  remaining=remaining[mcl_df[\"Written\"]!=1]\n"
     ]
    },
    {
     "name": "stdout",
     "output_type": "stream",
     "text": [
      "SET 8686 FUM FUM\n"
     ]
    },
    {
     "name": "stderr",
     "output_type": "stream",
     "text": [
      "/tmp/ipykernel_7352/2071744375.py:6: UserWarning: Boolean Series key will be reindexed to match DataFrame index.\n",
      "  remaining=remaining[mcl_df[\"Written\"]!=1]\n"
     ]
    },
    {
     "name": "stdout",
     "output_type": "stream",
     "text": [
      "SET 18933 EXP+FUM FUM+EXP\n"
     ]
    },
    {
     "name": "stderr",
     "output_type": "stream",
     "text": [
      "/tmp/ipykernel_7352/2071744375.py:6: UserWarning: Boolean Series key will be reindexed to match DataFrame index.\n",
      "  remaining=remaining[mcl_df[\"Written\"]!=1]\n"
     ]
    },
    {
     "name": "stdout",
     "output_type": "stream",
     "text": [
      "SET 12080 FUM FUM\n"
     ]
    },
    {
     "name": "stderr",
     "output_type": "stream",
     "text": [
      "/tmp/ipykernel_7352/2071744375.py:6: UserWarning: Boolean Series key will be reindexed to match DataFrame index.\n",
      "  remaining=remaining[mcl_df[\"Written\"]!=1]\n"
     ]
    },
    {
     "name": "stdout",
     "output_type": "stream",
     "text": [
      "SET 9461 EXP+FUM FUM+EXP\n"
     ]
    },
    {
     "name": "stderr",
     "output_type": "stream",
     "text": [
      "/tmp/ipykernel_7352/2071744375.py:6: UserWarning: Boolean Series key will be reindexed to match DataFrame index.\n",
      "  remaining=remaining[mcl_df[\"Written\"]!=1]\n"
     ]
    },
    {
     "name": "stdout",
     "output_type": "stream",
     "text": [
      "SET 10417 EXP+FUM FUM+EXP\n"
     ]
    },
    {
     "name": "stderr",
     "output_type": "stream",
     "text": [
      "/tmp/ipykernel_7352/2071744375.py:6: UserWarning: Boolean Series key will be reindexed to match DataFrame index.\n",
      "  remaining=remaining[mcl_df[\"Written\"]!=1]\n"
     ]
    },
    {
     "name": "stdout",
     "output_type": "stream",
     "text": [
      "SET 3310 FUM FUM\n"
     ]
    },
    {
     "name": "stderr",
     "output_type": "stream",
     "text": [
      "/tmp/ipykernel_7352/2071744375.py:6: UserWarning: Boolean Series key will be reindexed to match DataFrame index.\n",
      "  remaining=remaining[mcl_df[\"Written\"]!=1]\n"
     ]
    },
    {
     "name": "stdout",
     "output_type": "stream",
     "text": [
      "SET 15147 EXP+FUM FUM+EXP\n"
     ]
    },
    {
     "name": "stderr",
     "output_type": "stream",
     "text": [
      "/tmp/ipykernel_7352/2071744375.py:6: UserWarning: Boolean Series key will be reindexed to match DataFrame index.\n",
      "  remaining=remaining[mcl_df[\"Written\"]!=1]\n"
     ]
    },
    {
     "name": "stdout",
     "output_type": "stream",
     "text": [
      "SET 12104 EXP+FUM FUM+EXP\n"
     ]
    },
    {
     "name": "stderr",
     "output_type": "stream",
     "text": [
      "/tmp/ipykernel_7352/2071744375.py:6: UserWarning: Boolean Series key will be reindexed to match DataFrame index.\n",
      "  remaining=remaining[mcl_df[\"Written\"]!=1]\n"
     ]
    },
    {
     "name": "stdout",
     "output_type": "stream",
     "text": [
      "SET 12978 FUM FUM\n"
     ]
    },
    {
     "name": "stderr",
     "output_type": "stream",
     "text": [
      "/tmp/ipykernel_7352/2071744375.py:6: UserWarning: Boolean Series key will be reindexed to match DataFrame index.\n",
      "  remaining=remaining[mcl_df[\"Written\"]!=1]\n"
     ]
    },
    {
     "name": "stdout",
     "output_type": "stream",
     "text": [
      "SET 13888 EXP+FUM FUM+EXP\n"
     ]
    },
    {
     "name": "stderr",
     "output_type": "stream",
     "text": [
      "/tmp/ipykernel_7352/2071744375.py:6: UserWarning: Boolean Series key will be reindexed to match DataFrame index.\n",
      "  remaining=remaining[mcl_df[\"Written\"]!=1]\n"
     ]
    },
    {
     "name": "stdout",
     "output_type": "stream",
     "text": [
      "SET 7098 UNK UNK\n"
     ]
    },
    {
     "name": "stderr",
     "output_type": "stream",
     "text": [
      "/tmp/ipykernel_7352/2071744375.py:6: UserWarning: Boolean Series key will be reindexed to match DataFrame index.\n",
      "  remaining=remaining[mcl_df[\"Written\"]!=1]\n"
     ]
    },
    {
     "name": "stdout",
     "output_type": "stream",
     "text": [
      "SET 5298 EXP+FUM FUM+EXP\n"
     ]
    },
    {
     "name": "stderr",
     "output_type": "stream",
     "text": [
      "/tmp/ipykernel_7352/2071744375.py:6: UserWarning: Boolean Series key will be reindexed to match DataFrame index.\n",
      "  remaining=remaining[mcl_df[\"Written\"]!=1]\n"
     ]
    },
    {
     "name": "stdout",
     "output_type": "stream",
     "text": [
      "SET 15380 EXP+FUM FUM+EXP\n"
     ]
    },
    {
     "name": "stderr",
     "output_type": "stream",
     "text": [
      "/tmp/ipykernel_7352/2071744375.py:6: UserWarning: Boolean Series key will be reindexed to match DataFrame index.\n",
      "  remaining=remaining[mcl_df[\"Written\"]!=1]\n"
     ]
    },
    {
     "name": "stdout",
     "output_type": "stream",
     "text": [
      "SET 2287 FUM FUM\n",
      "FOUND ERROR \n",
      "------------------------------------------------------------\n",
      "*** GUIZERO ERROR ***\n",
      "Image import error - 'image file is truncated (28 bytes not processed)'\n",
      "Check the file path and image type is GIF/Animated GIF/BMP/ICO/PNG/JPG/TIF\n",
      "------------------------------------------------------------\n",
      "\n"
     ]
    },
    {
     "name": "stderr",
     "output_type": "stream",
     "text": [
      "/tmp/ipykernel_7352/2071744375.py:6: UserWarning: Boolean Series key will be reindexed to match DataFrame index.\n",
      "  remaining=remaining[mcl_df[\"Written\"]!=1]\n",
      "/tmp/ipykernel_7352/2071744375.py:6: UserWarning: Boolean Series key will be reindexed to match DataFrame index.\n",
      "  remaining=remaining[mcl_df[\"Written\"]!=1]\n"
     ]
    },
    {
     "name": "stdout",
     "output_type": "stream",
     "text": [
      "SET 17572 EXP+FUM FUM+EXP\n"
     ]
    },
    {
     "name": "stderr",
     "output_type": "stream",
     "text": [
      "/tmp/ipykernel_7352/2071744375.py:6: UserWarning: Boolean Series key will be reindexed to match DataFrame index.\n",
      "  remaining=remaining[mcl_df[\"Written\"]!=1]\n"
     ]
    },
    {
     "name": "stdout",
     "output_type": "stream",
     "text": [
      "SET 9863 EXP+FUM FUM+EXP\n"
     ]
    },
    {
     "name": "stderr",
     "output_type": "stream",
     "text": [
      "/tmp/ipykernel_7352/2071744375.py:6: UserWarning: Boolean Series key will be reindexed to match DataFrame index.\n",
      "  remaining=remaining[mcl_df[\"Written\"]!=1]\n"
     ]
    },
    {
     "name": "stdout",
     "output_type": "stream",
     "text": [
      "SET 665 INA INAC\n"
     ]
    },
    {
     "name": "stderr",
     "output_type": "stream",
     "text": [
      "/tmp/ipykernel_7352/2071744375.py:6: UserWarning: Boolean Series key will be reindexed to match DataFrame index.\n",
      "  remaining=remaining[mcl_df[\"Written\"]!=1]\n"
     ]
    },
    {
     "name": "stdout",
     "output_type": "stream",
     "text": [
      "SET 15531 UNK UNK\n"
     ]
    },
    {
     "name": "stderr",
     "output_type": "stream",
     "text": [
      "/tmp/ipykernel_7352/2071744375.py:6: UserWarning: Boolean Series key will be reindexed to match DataFrame index.\n",
      "  remaining=remaining[mcl_df[\"Written\"]!=1]\n"
     ]
    },
    {
     "name": "stdout",
     "output_type": "stream",
     "text": [
      "SET 6183 FUM FUM\n"
     ]
    },
    {
     "name": "stderr",
     "output_type": "stream",
     "text": [
      "/tmp/ipykernel_7352/2071744375.py:6: UserWarning: Boolean Series key will be reindexed to match DataFrame index.\n",
      "  remaining=remaining[mcl_df[\"Written\"]!=1]\n"
     ]
    },
    {
     "name": "stdout",
     "output_type": "stream",
     "text": [
      "SET 20727 UNK UNK\n"
     ]
    },
    {
     "name": "stderr",
     "output_type": "stream",
     "text": [
      "/tmp/ipykernel_7352/2071744375.py:6: UserWarning: Boolean Series key will be reindexed to match DataFrame index.\n",
      "  remaining=remaining[mcl_df[\"Written\"]!=1]\n"
     ]
    },
    {
     "name": "stdout",
     "output_type": "stream",
     "text": [
      "SET 16196 FUM FUM\n"
     ]
    },
    {
     "name": "stderr",
     "output_type": "stream",
     "text": [
      "/tmp/ipykernel_7352/2071744375.py:6: UserWarning: Boolean Series key will be reindexed to match DataFrame index.\n",
      "  remaining=remaining[mcl_df[\"Written\"]!=1]\n"
     ]
    },
    {
     "name": "stdout",
     "output_type": "stream",
     "text": [
      "SET 825 INA INAC\n"
     ]
    },
    {
     "name": "stderr",
     "output_type": "stream",
     "text": [
      "/tmp/ipykernel_7352/2071744375.py:6: UserWarning: Boolean Series key will be reindexed to match DataFrame index.\n",
      "  remaining=remaining[mcl_df[\"Written\"]!=1]\n"
     ]
    },
    {
     "name": "stdout",
     "output_type": "stream",
     "text": [
      "SET 12907 EXP+FUM FUM+EXP\n"
     ]
    },
    {
     "name": "stderr",
     "output_type": "stream",
     "text": [
      "/tmp/ipykernel_7352/2071744375.py:6: UserWarning: Boolean Series key will be reindexed to match DataFrame index.\n",
      "  remaining=remaining[mcl_df[\"Written\"]!=1]\n"
     ]
    },
    {
     "name": "stdout",
     "output_type": "stream",
     "text": [
      "SET 13058 EXP+FUM FUM+EXP\n"
     ]
    },
    {
     "name": "stderr",
     "output_type": "stream",
     "text": [
      "/tmp/ipykernel_7352/2071744375.py:6: UserWarning: Boolean Series key will be reindexed to match DataFrame index.\n",
      "  remaining=remaining[mcl_df[\"Written\"]!=1]\n"
     ]
    },
    {
     "name": "stdout",
     "output_type": "stream",
     "text": [
      "SET 6761 FUM FUM\n"
     ]
    },
    {
     "name": "stderr",
     "output_type": "stream",
     "text": [
      "/tmp/ipykernel_7352/2071744375.py:6: UserWarning: Boolean Series key will be reindexed to match DataFrame index.\n",
      "  remaining=remaining[mcl_df[\"Written\"]!=1]\n"
     ]
    },
    {
     "name": "stdout",
     "output_type": "stream",
     "text": [
      "SET 1332 EXP+FUM FUM+EXP\n"
     ]
    },
    {
     "name": "stderr",
     "output_type": "stream",
     "text": [
      "/tmp/ipykernel_7352/2071744375.py:6: UserWarning: Boolean Series key will be reindexed to match DataFrame index.\n",
      "  remaining=remaining[mcl_df[\"Written\"]!=1]\n"
     ]
    },
    {
     "name": "stdout",
     "output_type": "stream",
     "text": [
      "SET 20725 UNK UNK\n"
     ]
    },
    {
     "name": "stderr",
     "output_type": "stream",
     "text": [
      "/tmp/ipykernel_7352/2071744375.py:6: UserWarning: Boolean Series key will be reindexed to match DataFrame index.\n",
      "  remaining=remaining[mcl_df[\"Written\"]!=1]\n"
     ]
    },
    {
     "name": "stdout",
     "output_type": "stream",
     "text": [
      "SET 9263 EXP+FUM FUM+EXP\n"
     ]
    },
    {
     "name": "stderr",
     "output_type": "stream",
     "text": [
      "/tmp/ipykernel_7352/2071744375.py:6: UserWarning: Boolean Series key will be reindexed to match DataFrame index.\n",
      "  remaining=remaining[mcl_df[\"Written\"]!=1]\n"
     ]
    },
    {
     "name": "stdout",
     "output_type": "stream",
     "text": [
      "SET 16892 FUM FUM\n"
     ]
    },
    {
     "name": "stderr",
     "output_type": "stream",
     "text": [
      "/tmp/ipykernel_7352/2071744375.py:6: UserWarning: Boolean Series key will be reindexed to match DataFrame index.\n",
      "  remaining=remaining[mcl_df[\"Written\"]!=1]\n"
     ]
    },
    {
     "name": "stdout",
     "output_type": "stream",
     "text": [
      "SET 20778 FUM FUM\n"
     ]
    },
    {
     "name": "stderr",
     "output_type": "stream",
     "text": [
      "/tmp/ipykernel_7352/2071744375.py:6: UserWarning: Boolean Series key will be reindexed to match DataFrame index.\n",
      "  remaining=remaining[mcl_df[\"Written\"]!=1]\n"
     ]
    },
    {
     "name": "stdout",
     "output_type": "stream",
     "text": [
      "SET 18828 FUM FUM\n"
     ]
    },
    {
     "name": "stderr",
     "output_type": "stream",
     "text": [
      "/tmp/ipykernel_7352/2071744375.py:6: UserWarning: Boolean Series key will be reindexed to match DataFrame index.\n",
      "  remaining=remaining[mcl_df[\"Written\"]!=1]\n"
     ]
    },
    {
     "name": "stdout",
     "output_type": "stream",
     "text": [
      "SET 13687 EXP+FUM FUM+EXP\n"
     ]
    },
    {
     "name": "stderr",
     "output_type": "stream",
     "text": [
      "/tmp/ipykernel_7352/2071744375.py:6: UserWarning: Boolean Series key will be reindexed to match DataFrame index.\n",
      "  remaining=remaining[mcl_df[\"Written\"]!=1]\n"
     ]
    },
    {
     "name": "stdout",
     "output_type": "stream",
     "text": [
      "SET 14634 INA INAC\n"
     ]
    },
    {
     "name": "stderr",
     "output_type": "stream",
     "text": [
      "/tmp/ipykernel_7352/2071744375.py:6: UserWarning: Boolean Series key will be reindexed to match DataFrame index.\n",
      "  remaining=remaining[mcl_df[\"Written\"]!=1]\n"
     ]
    },
    {
     "name": "stdout",
     "output_type": "stream",
     "text": [
      "SET 6971 FUM FUM\n"
     ]
    },
    {
     "name": "stderr",
     "output_type": "stream",
     "text": [
      "/tmp/ipykernel_7352/2071744375.py:6: UserWarning: Boolean Series key will be reindexed to match DataFrame index.\n",
      "  remaining=remaining[mcl_df[\"Written\"]!=1]\n"
     ]
    },
    {
     "name": "stdout",
     "output_type": "stream",
     "text": [
      "SET 14053 EXP+FUM FUM+EXP\n"
     ]
    },
    {
     "name": "stderr",
     "output_type": "stream",
     "text": [
      "/tmp/ipykernel_7352/2071744375.py:6: UserWarning: Boolean Series key will be reindexed to match DataFrame index.\n",
      "  remaining=remaining[mcl_df[\"Written\"]!=1]\n"
     ]
    },
    {
     "name": "stdout",
     "output_type": "stream",
     "text": [
      "SET 3145 FUM FUM\n",
      "FOUND ERROR \n",
      "------------------------------------------------------------\n",
      "*** GUIZERO ERROR ***\n",
      "Image import error - 'image file is truncated (3 bytes not processed)'\n",
      "Check the file path and image type is GIF/Animated GIF/BMP/ICO/PNG/JPG/TIF\n",
      "------------------------------------------------------------\n",
      "\n"
     ]
    },
    {
     "name": "stderr",
     "output_type": "stream",
     "text": [
      "/tmp/ipykernel_7352/2071744375.py:6: UserWarning: Boolean Series key will be reindexed to match DataFrame index.\n",
      "  remaining=remaining[mcl_df[\"Written\"]!=1]\n",
      "/tmp/ipykernel_7352/2071744375.py:6: UserWarning: Boolean Series key will be reindexed to match DataFrame index.\n",
      "  remaining=remaining[mcl_df[\"Written\"]!=1]\n"
     ]
    },
    {
     "name": "stdout",
     "output_type": "stream",
     "text": [
      "SET 14200 FUM FUM\n"
     ]
    },
    {
     "name": "stderr",
     "output_type": "stream",
     "text": [
      "/tmp/ipykernel_7352/2071744375.py:6: UserWarning: Boolean Series key will be reindexed to match DataFrame index.\n",
      "  remaining=remaining[mcl_df[\"Written\"]!=1]\n"
     ]
    },
    {
     "name": "stdout",
     "output_type": "stream",
     "text": [
      "SET 10378 EXP+FUM FUM+EXP\n"
     ]
    },
    {
     "name": "stderr",
     "output_type": "stream",
     "text": [
      "/tmp/ipykernel_7352/2071744375.py:6: UserWarning: Boolean Series key will be reindexed to match DataFrame index.\n",
      "  remaining=remaining[mcl_df[\"Written\"]!=1]\n"
     ]
    },
    {
     "name": "stdout",
     "output_type": "stream",
     "text": [
      "SET 3738 INA INAC\n"
     ]
    },
    {
     "name": "stderr",
     "output_type": "stream",
     "text": [
      "/tmp/ipykernel_7352/2071744375.py:6: UserWarning: Boolean Series key will be reindexed to match DataFrame index.\n",
      "  remaining=remaining[mcl_df[\"Written\"]!=1]\n"
     ]
    },
    {
     "name": "stdout",
     "output_type": "stream",
     "text": [
      "SET 16282 EXP+FUM FUM+EXP\n"
     ]
    },
    {
     "name": "stderr",
     "output_type": "stream",
     "text": [
      "/tmp/ipykernel_7352/2071744375.py:6: UserWarning: Boolean Series key will be reindexed to match DataFrame index.\n",
      "  remaining=remaining[mcl_df[\"Written\"]!=1]\n"
     ]
    },
    {
     "name": "stdout",
     "output_type": "stream",
     "text": [
      "SET 15852 EXP+FUM FUM+EXP\n"
     ]
    },
    {
     "name": "stderr",
     "output_type": "stream",
     "text": [
      "/tmp/ipykernel_7352/2071744375.py:6: UserWarning: Boolean Series key will be reindexed to match DataFrame index.\n",
      "  remaining=remaining[mcl_df[\"Written\"]!=1]\n"
     ]
    },
    {
     "name": "stdout",
     "output_type": "stream",
     "text": [
      "SET 19765 FUM FUM\n"
     ]
    },
    {
     "name": "stderr",
     "output_type": "stream",
     "text": [
      "/tmp/ipykernel_7352/2071744375.py:6: UserWarning: Boolean Series key will be reindexed to match DataFrame index.\n",
      "  remaining=remaining[mcl_df[\"Written\"]!=1]\n"
     ]
    },
    {
     "name": "stdout",
     "output_type": "stream",
     "text": [
      "SET 9945 EXP+FUM FUM+EXP\n"
     ]
    },
    {
     "name": "stderr",
     "output_type": "stream",
     "text": [
      "/tmp/ipykernel_7352/2071744375.py:6: UserWarning: Boolean Series key will be reindexed to match DataFrame index.\n",
      "  remaining=remaining[mcl_df[\"Written\"]!=1]\n"
     ]
    },
    {
     "name": "stdout",
     "output_type": "stream",
     "text": [
      "SET 13864 EXP+FUM FUM+EXP\n"
     ]
    },
    {
     "name": "stderr",
     "output_type": "stream",
     "text": [
      "/tmp/ipykernel_7352/2071744375.py:6: UserWarning: Boolean Series key will be reindexed to match DataFrame index.\n",
      "  remaining=remaining[mcl_df[\"Written\"]!=1]\n"
     ]
    },
    {
     "name": "stdout",
     "output_type": "stream",
     "text": [
      "SET 14359 EXP+FUM FUM+EXP\n"
     ]
    },
    {
     "name": "stderr",
     "output_type": "stream",
     "text": [
      "/tmp/ipykernel_7352/2071744375.py:6: UserWarning: Boolean Series key will be reindexed to match DataFrame index.\n",
      "  remaining=remaining[mcl_df[\"Written\"]!=1]\n"
     ]
    },
    {
     "name": "stdout",
     "output_type": "stream",
     "text": [
      "SET 8563 EXP+FUM FUM+EXP\n"
     ]
    },
    {
     "name": "stderr",
     "output_type": "stream",
     "text": [
      "/tmp/ipykernel_7352/2071744375.py:6: UserWarning: Boolean Series key will be reindexed to match DataFrame index.\n",
      "  remaining=remaining[mcl_df[\"Written\"]!=1]\n"
     ]
    },
    {
     "name": "stdout",
     "output_type": "stream",
     "text": [
      "SET 15421 FUM FUM\n"
     ]
    },
    {
     "name": "stderr",
     "output_type": "stream",
     "text": [
      "/tmp/ipykernel_7352/2071744375.py:6: UserWarning: Boolean Series key will be reindexed to match DataFrame index.\n",
      "  remaining=remaining[mcl_df[\"Written\"]!=1]\n"
     ]
    },
    {
     "name": "stdout",
     "output_type": "stream",
     "text": [
      "SET 19595 FUM FUM\n"
     ]
    },
    {
     "name": "stderr",
     "output_type": "stream",
     "text": [
      "/tmp/ipykernel_7352/2071744375.py:6: UserWarning: Boolean Series key will be reindexed to match DataFrame index.\n",
      "  remaining=remaining[mcl_df[\"Written\"]!=1]\n"
     ]
    },
    {
     "name": "stdout",
     "output_type": "stream",
     "text": [
      "SET 8502 FUM FUM\n"
     ]
    },
    {
     "name": "stderr",
     "output_type": "stream",
     "text": [
      "/tmp/ipykernel_7352/2071744375.py:6: UserWarning: Boolean Series key will be reindexed to match DataFrame index.\n",
      "  remaining=remaining[mcl_df[\"Written\"]!=1]\n"
     ]
    },
    {
     "name": "stdout",
     "output_type": "stream",
     "text": [
      "SET 7628 EXP+FUM FUM+EXP\n"
     ]
    },
    {
     "name": "stderr",
     "output_type": "stream",
     "text": [
      "/tmp/ipykernel_7352/2071744375.py:6: UserWarning: Boolean Series key will be reindexed to match DataFrame index.\n",
      "  remaining=remaining[mcl_df[\"Written\"]!=1]\n"
     ]
    },
    {
     "name": "stdout",
     "output_type": "stream",
     "text": [
      "SET 17306 EXP+FUM FUM+EXP\n"
     ]
    },
    {
     "name": "stderr",
     "output_type": "stream",
     "text": [
      "/tmp/ipykernel_7352/2071744375.py:6: UserWarning: Boolean Series key will be reindexed to match DataFrame index.\n",
      "  remaining=remaining[mcl_df[\"Written\"]!=1]\n"
     ]
    },
    {
     "name": "stdout",
     "output_type": "stream",
     "text": [
      "SET 20873 FUM FUM\n"
     ]
    },
    {
     "name": "stderr",
     "output_type": "stream",
     "text": [
      "/tmp/ipykernel_7352/2071744375.py:6: UserWarning: Boolean Series key will be reindexed to match DataFrame index.\n",
      "  remaining=remaining[mcl_df[\"Written\"]!=1]\n"
     ]
    },
    {
     "name": "stdout",
     "output_type": "stream",
     "text": [
      "SET 18644 FUM FUM\n"
     ]
    },
    {
     "name": "stderr",
     "output_type": "stream",
     "text": [
      "/tmp/ipykernel_7352/2071744375.py:6: UserWarning: Boolean Series key will be reindexed to match DataFrame index.\n",
      "  remaining=remaining[mcl_df[\"Written\"]!=1]\n"
     ]
    },
    {
     "name": "stdout",
     "output_type": "stream",
     "text": [
      "SET 19113 EXP+FUM FUM+EXP\n"
     ]
    },
    {
     "name": "stderr",
     "output_type": "stream",
     "text": [
      "/tmp/ipykernel_7352/2071744375.py:6: UserWarning: Boolean Series key will be reindexed to match DataFrame index.\n",
      "  remaining=remaining[mcl_df[\"Written\"]!=1]\n"
     ]
    },
    {
     "name": "stdout",
     "output_type": "stream",
     "text": [
      "SET 20672 EXP EXP\n"
     ]
    },
    {
     "name": "stderr",
     "output_type": "stream",
     "text": [
      "/tmp/ipykernel_7352/2071744375.py:6: UserWarning: Boolean Series key will be reindexed to match DataFrame index.\n",
      "  remaining=remaining[mcl_df[\"Written\"]!=1]\n"
     ]
    },
    {
     "name": "stdout",
     "output_type": "stream",
     "text": [
      "SET 9355 EXP+FUM FUM+EXP\n"
     ]
    },
    {
     "name": "stderr",
     "output_type": "stream",
     "text": [
      "/tmp/ipykernel_7352/2071744375.py:6: UserWarning: Boolean Series key will be reindexed to match DataFrame index.\n",
      "  remaining=remaining[mcl_df[\"Written\"]!=1]\n"
     ]
    },
    {
     "name": "stdout",
     "output_type": "stream",
     "text": [
      "SET 7293 INA INAC\n"
     ]
    },
    {
     "name": "stderr",
     "output_type": "stream",
     "text": [
      "/tmp/ipykernel_7352/2071744375.py:6: UserWarning: Boolean Series key will be reindexed to match DataFrame index.\n",
      "  remaining=remaining[mcl_df[\"Written\"]!=1]\n"
     ]
    },
    {
     "name": "stdout",
     "output_type": "stream",
     "text": [
      "SET 16953 FUM FUM\n"
     ]
    },
    {
     "name": "stderr",
     "output_type": "stream",
     "text": [
      "/tmp/ipykernel_7352/2071744375.py:6: UserWarning: Boolean Series key will be reindexed to match DataFrame index.\n",
      "  remaining=remaining[mcl_df[\"Written\"]!=1]\n"
     ]
    },
    {
     "name": "stdout",
     "output_type": "stream",
     "text": [
      "SET 19051 EXP+FUM FUM+EXP\n"
     ]
    },
    {
     "name": "stderr",
     "output_type": "stream",
     "text": [
      "/tmp/ipykernel_7352/2071744375.py:6: UserWarning: Boolean Series key will be reindexed to match DataFrame index.\n",
      "  remaining=remaining[mcl_df[\"Written\"]!=1]\n"
     ]
    },
    {
     "name": "stdout",
     "output_type": "stream",
     "text": [
      "SET 6514 FUM FUM\n"
     ]
    },
    {
     "name": "stderr",
     "output_type": "stream",
     "text": [
      "/tmp/ipykernel_7352/2071744375.py:6: UserWarning: Boolean Series key will be reindexed to match DataFrame index.\n",
      "  remaining=remaining[mcl_df[\"Written\"]!=1]\n"
     ]
    },
    {
     "name": "stdout",
     "output_type": "stream",
     "text": [
      "SET 9782 FUM FUM\n"
     ]
    },
    {
     "name": "stderr",
     "output_type": "stream",
     "text": [
      "/tmp/ipykernel_7352/2071744375.py:6: UserWarning: Boolean Series key will be reindexed to match DataFrame index.\n",
      "  remaining=remaining[mcl_df[\"Written\"]!=1]\n"
     ]
    },
    {
     "name": "stdout",
     "output_type": "stream",
     "text": [
      "SET 7671 FUM FUM\n"
     ]
    },
    {
     "name": "stderr",
     "output_type": "stream",
     "text": [
      "/tmp/ipykernel_7352/2071744375.py:6: UserWarning: Boolean Series key will be reindexed to match DataFrame index.\n",
      "  remaining=remaining[mcl_df[\"Written\"]!=1]\n"
     ]
    },
    {
     "name": "stdout",
     "output_type": "stream",
     "text": [
      "SET 9864 EXP+FUM FUM+EXP\n"
     ]
    },
    {
     "name": "stderr",
     "output_type": "stream",
     "text": [
      "/tmp/ipykernel_7352/2071744375.py:6: UserWarning: Boolean Series key will be reindexed to match DataFrame index.\n",
      "  remaining=remaining[mcl_df[\"Written\"]!=1]\n"
     ]
    },
    {
     "name": "stdout",
     "output_type": "stream",
     "text": [
      "SET 17847 UNK UNK\n"
     ]
    },
    {
     "name": "stderr",
     "output_type": "stream",
     "text": [
      "/tmp/ipykernel_7352/2071744375.py:6: UserWarning: Boolean Series key will be reindexed to match DataFrame index.\n",
      "  remaining=remaining[mcl_df[\"Written\"]!=1]\n"
     ]
    },
    {
     "name": "stdout",
     "output_type": "stream",
     "text": [
      "SET 15058 INA INAC\n"
     ]
    },
    {
     "name": "stderr",
     "output_type": "stream",
     "text": [
      "/tmp/ipykernel_7352/2071744375.py:6: UserWarning: Boolean Series key will be reindexed to match DataFrame index.\n",
      "  remaining=remaining[mcl_df[\"Written\"]!=1]\n"
     ]
    },
    {
     "name": "stdout",
     "output_type": "stream",
     "text": [
      "SET 3060 FUM FUM\n"
     ]
    },
    {
     "name": "stderr",
     "output_type": "stream",
     "text": [
      "/tmp/ipykernel_7352/2071744375.py:6: UserWarning: Boolean Series key will be reindexed to match DataFrame index.\n",
      "  remaining=remaining[mcl_df[\"Written\"]!=1]\n"
     ]
    },
    {
     "name": "stdout",
     "output_type": "stream",
     "text": [
      "SET 2225 EXP+FUM FUM+EXP\n"
     ]
    },
    {
     "name": "stderr",
     "output_type": "stream",
     "text": [
      "/tmp/ipykernel_7352/2071744375.py:6: UserWarning: Boolean Series key will be reindexed to match DataFrame index.\n",
      "  remaining=remaining[mcl_df[\"Written\"]!=1]\n"
     ]
    },
    {
     "name": "stdout",
     "output_type": "stream",
     "text": [
      "SET 8833 EXP+FUM FUM+EXP\n"
     ]
    },
    {
     "name": "stderr",
     "output_type": "stream",
     "text": [
      "/tmp/ipykernel_7352/2071744375.py:6: UserWarning: Boolean Series key will be reindexed to match DataFrame index.\n",
      "  remaining=remaining[mcl_df[\"Written\"]!=1]\n"
     ]
    },
    {
     "name": "stdout",
     "output_type": "stream",
     "text": [
      "SET 779 EXP+FUM FUM+EXP\n"
     ]
    },
    {
     "name": "stderr",
     "output_type": "stream",
     "text": [
      "/tmp/ipykernel_7352/2071744375.py:6: UserWarning: Boolean Series key will be reindexed to match DataFrame index.\n",
      "  remaining=remaining[mcl_df[\"Written\"]!=1]\n"
     ]
    },
    {
     "name": "stdout",
     "output_type": "stream",
     "text": [
      "SET 11517 EXP+FUM FUM+EXP\n"
     ]
    },
    {
     "name": "stderr",
     "output_type": "stream",
     "text": [
      "/tmp/ipykernel_7352/2071744375.py:6: UserWarning: Boolean Series key will be reindexed to match DataFrame index.\n",
      "  remaining=remaining[mcl_df[\"Written\"]!=1]\n"
     ]
    },
    {
     "name": "stdout",
     "output_type": "stream",
     "text": [
      "SET 5207 FUM FUM\n"
     ]
    },
    {
     "name": "stderr",
     "output_type": "stream",
     "text": [
      "/tmp/ipykernel_7352/2071744375.py:6: UserWarning: Boolean Series key will be reindexed to match DataFrame index.\n",
      "  remaining=remaining[mcl_df[\"Written\"]!=1]\n"
     ]
    },
    {
     "name": "stdout",
     "output_type": "stream",
     "text": [
      "SET 2304 INA INAC\n"
     ]
    },
    {
     "name": "stderr",
     "output_type": "stream",
     "text": [
      "/tmp/ipykernel_7352/2071744375.py:6: UserWarning: Boolean Series key will be reindexed to match DataFrame index.\n",
      "  remaining=remaining[mcl_df[\"Written\"]!=1]\n"
     ]
    },
    {
     "name": "stdout",
     "output_type": "stream",
     "text": [
      "SET 2686 UNK UNK\n"
     ]
    },
    {
     "name": "stderr",
     "output_type": "stream",
     "text": [
      "/tmp/ipykernel_7352/2071744375.py:6: UserWarning: Boolean Series key will be reindexed to match DataFrame index.\n",
      "  remaining=remaining[mcl_df[\"Written\"]!=1]\n"
     ]
    },
    {
     "name": "stdout",
     "output_type": "stream",
     "text": [
      "SET 11477 EXP+FUM FUM+EXP\n"
     ]
    },
    {
     "name": "stderr",
     "output_type": "stream",
     "text": [
      "/tmp/ipykernel_7352/2071744375.py:6: UserWarning: Boolean Series key will be reindexed to match DataFrame index.\n",
      "  remaining=remaining[mcl_df[\"Written\"]!=1]\n"
     ]
    },
    {
     "name": "stdout",
     "output_type": "stream",
     "text": [
      "SET 5060 EXP+FUM FUM+EXP\n"
     ]
    },
    {
     "name": "stderr",
     "output_type": "stream",
     "text": [
      "/tmp/ipykernel_7352/2071744375.py:6: UserWarning: Boolean Series key will be reindexed to match DataFrame index.\n",
      "  remaining=remaining[mcl_df[\"Written\"]!=1]\n"
     ]
    },
    {
     "name": "stdout",
     "output_type": "stream",
     "text": [
      "SET 13934 EXP+FUM FUM+EXP\n"
     ]
    },
    {
     "name": "stderr",
     "output_type": "stream",
     "text": [
      "/tmp/ipykernel_7352/2071744375.py:6: UserWarning: Boolean Series key will be reindexed to match DataFrame index.\n",
      "  remaining=remaining[mcl_df[\"Written\"]!=1]\n"
     ]
    },
    {
     "name": "stdout",
     "output_type": "stream",
     "text": [
      "SET 13492 FUM FUM\n"
     ]
    },
    {
     "name": "stderr",
     "output_type": "stream",
     "text": [
      "/tmp/ipykernel_7352/2071744375.py:6: UserWarning: Boolean Series key will be reindexed to match DataFrame index.\n",
      "  remaining=remaining[mcl_df[\"Written\"]!=1]\n"
     ]
    },
    {
     "name": "stdout",
     "output_type": "stream",
     "text": [
      "SET 3371 FUM FUM\n"
     ]
    },
    {
     "name": "stderr",
     "output_type": "stream",
     "text": [
      "/tmp/ipykernel_7352/2071744375.py:6: UserWarning: Boolean Series key will be reindexed to match DataFrame index.\n",
      "  remaining=remaining[mcl_df[\"Written\"]!=1]\n"
     ]
    },
    {
     "name": "stdout",
     "output_type": "stream",
     "text": [
      "SET 20750 INA INAC\n"
     ]
    },
    {
     "name": "stderr",
     "output_type": "stream",
     "text": [
      "/tmp/ipykernel_7352/2071744375.py:6: UserWarning: Boolean Series key will be reindexed to match DataFrame index.\n",
      "  remaining=remaining[mcl_df[\"Written\"]!=1]\n"
     ]
    },
    {
     "name": "stdout",
     "output_type": "stream",
     "text": [
      "SET 5538 FUM FUM\n"
     ]
    },
    {
     "name": "stderr",
     "output_type": "stream",
     "text": [
      "/tmp/ipykernel_7352/2071744375.py:6: UserWarning: Boolean Series key will be reindexed to match DataFrame index.\n",
      "  remaining=remaining[mcl_df[\"Written\"]!=1]\n"
     ]
    },
    {
     "name": "stdout",
     "output_type": "stream",
     "text": [
      "SET 9933 FUM FUM\n"
     ]
    },
    {
     "name": "stderr",
     "output_type": "stream",
     "text": [
      "/tmp/ipykernel_7352/2071744375.py:6: UserWarning: Boolean Series key will be reindexed to match DataFrame index.\n",
      "  remaining=remaining[mcl_df[\"Written\"]!=1]\n"
     ]
    },
    {
     "name": "stdout",
     "output_type": "stream",
     "text": [
      "SET 16618 EXP+FUM FUM+EXP\n"
     ]
    },
    {
     "name": "stderr",
     "output_type": "stream",
     "text": [
      "/tmp/ipykernel_7352/2071744375.py:6: UserWarning: Boolean Series key will be reindexed to match DataFrame index.\n",
      "  remaining=remaining[mcl_df[\"Written\"]!=1]\n"
     ]
    },
    {
     "name": "stdout",
     "output_type": "stream",
     "text": [
      "SET 19008 UNK UNK\n"
     ]
    },
    {
     "name": "stderr",
     "output_type": "stream",
     "text": [
      "/tmp/ipykernel_7352/2071744375.py:6: UserWarning: Boolean Series key will be reindexed to match DataFrame index.\n",
      "  remaining=remaining[mcl_df[\"Written\"]!=1]\n"
     ]
    },
    {
     "name": "stdout",
     "output_type": "stream",
     "text": [
      "SET 11873 EXP+FUM FUM+EXP\n"
     ]
    },
    {
     "name": "stderr",
     "output_type": "stream",
     "text": [
      "/tmp/ipykernel_7352/2071744375.py:6: UserWarning: Boolean Series key will be reindexed to match DataFrame index.\n",
      "  remaining=remaining[mcl_df[\"Written\"]!=1]\n"
     ]
    },
    {
     "name": "stdout",
     "output_type": "stream",
     "text": [
      "SET 2932 FUM FUM\n"
     ]
    },
    {
     "name": "stderr",
     "output_type": "stream",
     "text": [
      "/tmp/ipykernel_7352/2071744375.py:6: UserWarning: Boolean Series key will be reindexed to match DataFrame index.\n",
      "  remaining=remaining[mcl_df[\"Written\"]!=1]\n"
     ]
    },
    {
     "name": "stdout",
     "output_type": "stream",
     "text": [
      "SET 14313 EXP+FUM FUM+EXP\n"
     ]
    },
    {
     "name": "stderr",
     "output_type": "stream",
     "text": [
      "/tmp/ipykernel_7352/2071744375.py:6: UserWarning: Boolean Series key will be reindexed to match DataFrame index.\n",
      "  remaining=remaining[mcl_df[\"Written\"]!=1]\n"
     ]
    },
    {
     "name": "stdout",
     "output_type": "stream",
     "text": [
      "SET 21324 EXP+FUM FUM+EXP\n"
     ]
    },
    {
     "name": "stderr",
     "output_type": "stream",
     "text": [
      "/tmp/ipykernel_7352/2071744375.py:6: UserWarning: Boolean Series key will be reindexed to match DataFrame index.\n",
      "  remaining=remaining[mcl_df[\"Written\"]!=1]\n"
     ]
    },
    {
     "name": "stdout",
     "output_type": "stream",
     "text": [
      "SET 20563 EXP+FUM FUM+EXP\n"
     ]
    },
    {
     "name": "stderr",
     "output_type": "stream",
     "text": [
      "/tmp/ipykernel_7352/2071744375.py:6: UserWarning: Boolean Series key will be reindexed to match DataFrame index.\n",
      "  remaining=remaining[mcl_df[\"Written\"]!=1]\n"
     ]
    },
    {
     "name": "stdout",
     "output_type": "stream",
     "text": [
      "SET 13926 EXP+FUM FUM+EXP\n"
     ]
    },
    {
     "name": "stderr",
     "output_type": "stream",
     "text": [
      "/tmp/ipykernel_7352/2071744375.py:6: UserWarning: Boolean Series key will be reindexed to match DataFrame index.\n",
      "  remaining=remaining[mcl_df[\"Written\"]!=1]\n"
     ]
    },
    {
     "name": "stdout",
     "output_type": "stream",
     "text": [
      "SET 6692 INA INAC\n"
     ]
    },
    {
     "name": "stderr",
     "output_type": "stream",
     "text": [
      "/tmp/ipykernel_7352/2071744375.py:6: UserWarning: Boolean Series key will be reindexed to match DataFrame index.\n",
      "  remaining=remaining[mcl_df[\"Written\"]!=1]\n"
     ]
    },
    {
     "name": "stdout",
     "output_type": "stream",
     "text": [
      "SET 4308 FUM FUM\n"
     ]
    },
    {
     "name": "stderr",
     "output_type": "stream",
     "text": [
      "/tmp/ipykernel_7352/2071744375.py:6: UserWarning: Boolean Series key will be reindexed to match DataFrame index.\n",
      "  remaining=remaining[mcl_df[\"Written\"]!=1]\n"
     ]
    },
    {
     "name": "stdout",
     "output_type": "stream",
     "text": [
      "SET 2124 FUM FUM\n"
     ]
    },
    {
     "name": "stderr",
     "output_type": "stream",
     "text": [
      "/tmp/ipykernel_7352/2071744375.py:6: UserWarning: Boolean Series key will be reindexed to match DataFrame index.\n",
      "  remaining=remaining[mcl_df[\"Written\"]!=1]\n"
     ]
    },
    {
     "name": "stdout",
     "output_type": "stream",
     "text": [
      "SET 14238 EXP+FUM FUM+EXP\n"
     ]
    },
    {
     "name": "stderr",
     "output_type": "stream",
     "text": [
      "/tmp/ipykernel_7352/2071744375.py:6: UserWarning: Boolean Series key will be reindexed to match DataFrame index.\n",
      "  remaining=remaining[mcl_df[\"Written\"]!=1]\n"
     ]
    },
    {
     "name": "stdout",
     "output_type": "stream",
     "text": [
      "SET 15774 EXP+FUM FUM+EXP\n"
     ]
    },
    {
     "name": "stderr",
     "output_type": "stream",
     "text": [
      "/tmp/ipykernel_7352/2071744375.py:6: UserWarning: Boolean Series key will be reindexed to match DataFrame index.\n",
      "  remaining=remaining[mcl_df[\"Written\"]!=1]\n"
     ]
    },
    {
     "name": "stdout",
     "output_type": "stream",
     "text": [
      "SET 12095 UNK UNK\n"
     ]
    },
    {
     "name": "stderr",
     "output_type": "stream",
     "text": [
      "/tmp/ipykernel_7352/2071744375.py:6: UserWarning: Boolean Series key will be reindexed to match DataFrame index.\n",
      "  remaining=remaining[mcl_df[\"Written\"]!=1]\n"
     ]
    },
    {
     "name": "stdout",
     "output_type": "stream",
     "text": [
      "SET 6938 EXP+FUM FUM+EXP\n"
     ]
    },
    {
     "name": "stderr",
     "output_type": "stream",
     "text": [
      "/tmp/ipykernel_7352/2071744375.py:6: UserWarning: Boolean Series key will be reindexed to match DataFrame index.\n",
      "  remaining=remaining[mcl_df[\"Written\"]!=1]\n"
     ]
    },
    {
     "name": "stdout",
     "output_type": "stream",
     "text": [
      "SET 1284 EXP+FUM FUM+EXP\n"
     ]
    },
    {
     "name": "stderr",
     "output_type": "stream",
     "text": [
      "/tmp/ipykernel_7352/2071744375.py:6: UserWarning: Boolean Series key will be reindexed to match DataFrame index.\n",
      "  remaining=remaining[mcl_df[\"Written\"]!=1]\n"
     ]
    },
    {
     "name": "stdout",
     "output_type": "stream",
     "text": [
      "SET 10200 FUM FUM\n"
     ]
    },
    {
     "name": "stderr",
     "output_type": "stream",
     "text": [
      "/tmp/ipykernel_7352/2071744375.py:6: UserWarning: Boolean Series key will be reindexed to match DataFrame index.\n",
      "  remaining=remaining[mcl_df[\"Written\"]!=1]\n"
     ]
    },
    {
     "name": "stdout",
     "output_type": "stream",
     "text": [
      "SET 16792 FUM FUM\n"
     ]
    },
    {
     "name": "stderr",
     "output_type": "stream",
     "text": [
      "/tmp/ipykernel_7352/2071744375.py:6: UserWarning: Boolean Series key will be reindexed to match DataFrame index.\n",
      "  remaining=remaining[mcl_df[\"Written\"]!=1]\n"
     ]
    },
    {
     "name": "stdout",
     "output_type": "stream",
     "text": [
      "SET 21912 EXP+FUM FUM+EXP\n"
     ]
    },
    {
     "name": "stderr",
     "output_type": "stream",
     "text": [
      "/tmp/ipykernel_7352/2071744375.py:6: UserWarning: Boolean Series key will be reindexed to match DataFrame index.\n",
      "  remaining=remaining[mcl_df[\"Written\"]!=1]\n"
     ]
    },
    {
     "name": "stdout",
     "output_type": "stream",
     "text": [
      "SET 6231 EXP+FUM FUM+EXP\n"
     ]
    },
    {
     "name": "stderr",
     "output_type": "stream",
     "text": [
      "/tmp/ipykernel_7352/2071744375.py:6: UserWarning: Boolean Series key will be reindexed to match DataFrame index.\n",
      "  remaining=remaining[mcl_df[\"Written\"]!=1]\n"
     ]
    },
    {
     "name": "stdout",
     "output_type": "stream",
     "text": [
      "SET 10291 FUM FUM\n"
     ]
    },
    {
     "name": "stderr",
     "output_type": "stream",
     "text": [
      "/tmp/ipykernel_7352/2071744375.py:6: UserWarning: Boolean Series key will be reindexed to match DataFrame index.\n",
      "  remaining=remaining[mcl_df[\"Written\"]!=1]\n"
     ]
    },
    {
     "name": "stdout",
     "output_type": "stream",
     "text": [
      "SET 17040 UNK UNK\n"
     ]
    },
    {
     "name": "stderr",
     "output_type": "stream",
     "text": [
      "/tmp/ipykernel_7352/2071744375.py:6: UserWarning: Boolean Series key will be reindexed to match DataFrame index.\n",
      "  remaining=remaining[mcl_df[\"Written\"]!=1]\n"
     ]
    },
    {
     "name": "stdout",
     "output_type": "stream",
     "text": [
      "SET 9687 EXP+FUM FUM+EXP\n"
     ]
    },
    {
     "name": "stderr",
     "output_type": "stream",
     "text": [
      "/tmp/ipykernel_7352/2071744375.py:6: UserWarning: Boolean Series key will be reindexed to match DataFrame index.\n",
      "  remaining=remaining[mcl_df[\"Written\"]!=1]\n"
     ]
    },
    {
     "name": "stdout",
     "output_type": "stream",
     "text": [
      "SET 9719 EXP+FUM FUM+EXP\n"
     ]
    },
    {
     "name": "stderr",
     "output_type": "stream",
     "text": [
      "/tmp/ipykernel_7352/2071744375.py:6: UserWarning: Boolean Series key will be reindexed to match DataFrame index.\n",
      "  remaining=remaining[mcl_df[\"Written\"]!=1]\n"
     ]
    },
    {
     "name": "stdout",
     "output_type": "stream",
     "text": [
      "SET 18069 UNK UNK\n"
     ]
    },
    {
     "name": "stderr",
     "output_type": "stream",
     "text": [
      "/tmp/ipykernel_7352/2071744375.py:6: UserWarning: Boolean Series key will be reindexed to match DataFrame index.\n",
      "  remaining=remaining[mcl_df[\"Written\"]!=1]\n"
     ]
    },
    {
     "name": "stdout",
     "output_type": "stream",
     "text": [
      "SET 5299 FUM FUM\n"
     ]
    },
    {
     "name": "stderr",
     "output_type": "stream",
     "text": [
      "/tmp/ipykernel_7352/2071744375.py:6: UserWarning: Boolean Series key will be reindexed to match DataFrame index.\n",
      "  remaining=remaining[mcl_df[\"Written\"]!=1]\n"
     ]
    },
    {
     "name": "stdout",
     "output_type": "stream",
     "text": [
      "SET 14596 EXP+FUM FUM+EXP\n"
     ]
    },
    {
     "name": "stderr",
     "output_type": "stream",
     "text": [
      "/tmp/ipykernel_7352/2071744375.py:6: UserWarning: Boolean Series key will be reindexed to match DataFrame index.\n",
      "  remaining=remaining[mcl_df[\"Written\"]!=1]\n"
     ]
    },
    {
     "name": "stdout",
     "output_type": "stream",
     "text": [
      "SET 5053 FUM FUM\n"
     ]
    },
    {
     "name": "stderr",
     "output_type": "stream",
     "text": [
      "/tmp/ipykernel_7352/2071744375.py:6: UserWarning: Boolean Series key will be reindexed to match DataFrame index.\n",
      "  remaining=remaining[mcl_df[\"Written\"]!=1]\n"
     ]
    },
    {
     "name": "stdout",
     "output_type": "stream",
     "text": [
      "SET 8497 FUM FUM\n"
     ]
    },
    {
     "name": "stderr",
     "output_type": "stream",
     "text": [
      "/tmp/ipykernel_7352/2071744375.py:6: UserWarning: Boolean Series key will be reindexed to match DataFrame index.\n",
      "  remaining=remaining[mcl_df[\"Written\"]!=1]\n"
     ]
    },
    {
     "name": "stdout",
     "output_type": "stream",
     "text": [
      "SET 20134 EXP+FUM FUM+EXP\n"
     ]
    },
    {
     "name": "stderr",
     "output_type": "stream",
     "text": [
      "/tmp/ipykernel_7352/2071744375.py:6: UserWarning: Boolean Series key will be reindexed to match DataFrame index.\n",
      "  remaining=remaining[mcl_df[\"Written\"]!=1]\n"
     ]
    },
    {
     "name": "stdout",
     "output_type": "stream",
     "text": [
      "SET 13044 EXP+FUM FUM+EXP\n"
     ]
    },
    {
     "name": "stderr",
     "output_type": "stream",
     "text": [
      "/tmp/ipykernel_7352/2071744375.py:6: UserWarning: Boolean Series key will be reindexed to match DataFrame index.\n",
      "  remaining=remaining[mcl_df[\"Written\"]!=1]\n"
     ]
    },
    {
     "name": "stdout",
     "output_type": "stream",
     "text": [
      "SET 1475 EXP+FUM FUM+EXP\n"
     ]
    },
    {
     "name": "stderr",
     "output_type": "stream",
     "text": [
      "/tmp/ipykernel_7352/2071744375.py:6: UserWarning: Boolean Series key will be reindexed to match DataFrame index.\n",
      "  remaining=remaining[mcl_df[\"Written\"]!=1]\n"
     ]
    },
    {
     "name": "stdout",
     "output_type": "stream",
     "text": [
      "SET 9580 EXP+FUM FUM+EXP\n"
     ]
    },
    {
     "name": "stderr",
     "output_type": "stream",
     "text": [
      "/tmp/ipykernel_7352/2071744375.py:6: UserWarning: Boolean Series key will be reindexed to match DataFrame index.\n",
      "  remaining=remaining[mcl_df[\"Written\"]!=1]\n"
     ]
    },
    {
     "name": "stdout",
     "output_type": "stream",
     "text": [
      "SET 14241 EXP+FUM FUM+EXP\n"
     ]
    },
    {
     "name": "stderr",
     "output_type": "stream",
     "text": [
      "/tmp/ipykernel_7352/2071744375.py:6: UserWarning: Boolean Series key will be reindexed to match DataFrame index.\n",
      "  remaining=remaining[mcl_df[\"Written\"]!=1]\n"
     ]
    },
    {
     "name": "stdout",
     "output_type": "stream",
     "text": [
      "SET 3600 INA INAC\n"
     ]
    },
    {
     "name": "stderr",
     "output_type": "stream",
     "text": [
      "/tmp/ipykernel_7352/2071744375.py:6: UserWarning: Boolean Series key will be reindexed to match DataFrame index.\n",
      "  remaining=remaining[mcl_df[\"Written\"]!=1]\n"
     ]
    },
    {
     "name": "stdout",
     "output_type": "stream",
     "text": [
      "SET 11884 EXP+FUM FUM+EXP\n"
     ]
    },
    {
     "name": "stderr",
     "output_type": "stream",
     "text": [
      "/tmp/ipykernel_7352/2071744375.py:6: UserWarning: Boolean Series key will be reindexed to match DataFrame index.\n",
      "  remaining=remaining[mcl_df[\"Written\"]!=1]\n"
     ]
    },
    {
     "name": "stdout",
     "output_type": "stream",
     "text": [
      "SET 6128 UNK UNK\n"
     ]
    },
    {
     "name": "stderr",
     "output_type": "stream",
     "text": [
      "/tmp/ipykernel_7352/2071744375.py:6: UserWarning: Boolean Series key will be reindexed to match DataFrame index.\n",
      "  remaining=remaining[mcl_df[\"Written\"]!=1]\n"
     ]
    },
    {
     "name": "stdout",
     "output_type": "stream",
     "text": [
      "SET 12751 EXP+FUM FUM+EXP\n"
     ]
    },
    {
     "name": "stderr",
     "output_type": "stream",
     "text": [
      "/tmp/ipykernel_7352/2071744375.py:6: UserWarning: Boolean Series key will be reindexed to match DataFrame index.\n",
      "  remaining=remaining[mcl_df[\"Written\"]!=1]\n"
     ]
    },
    {
     "name": "stdout",
     "output_type": "stream",
     "text": [
      "SET 17199 EXP+FUM FUM+EXP\n"
     ]
    },
    {
     "name": "stderr",
     "output_type": "stream",
     "text": [
      "/tmp/ipykernel_7352/2071744375.py:6: UserWarning: Boolean Series key will be reindexed to match DataFrame index.\n",
      "  remaining=remaining[mcl_df[\"Written\"]!=1]\n"
     ]
    },
    {
     "name": "stdout",
     "output_type": "stream",
     "text": [
      "SET 14813 FUM FUM\n"
     ]
    },
    {
     "name": "stderr",
     "output_type": "stream",
     "text": [
      "/tmp/ipykernel_7352/2071744375.py:6: UserWarning: Boolean Series key will be reindexed to match DataFrame index.\n",
      "  remaining=remaining[mcl_df[\"Written\"]!=1]\n"
     ]
    },
    {
     "name": "stdout",
     "output_type": "stream",
     "text": [
      "SET 6147 UNK UNK\n"
     ]
    },
    {
     "name": "stderr",
     "output_type": "stream",
     "text": [
      "/tmp/ipykernel_7352/2071744375.py:6: UserWarning: Boolean Series key will be reindexed to match DataFrame index.\n",
      "  remaining=remaining[mcl_df[\"Written\"]!=1]\n"
     ]
    },
    {
     "name": "stdout",
     "output_type": "stream",
     "text": [
      "SET 16941 FUM FUM\n"
     ]
    },
    {
     "name": "stderr",
     "output_type": "stream",
     "text": [
      "/tmp/ipykernel_7352/2071744375.py:6: UserWarning: Boolean Series key will be reindexed to match DataFrame index.\n",
      "  remaining=remaining[mcl_df[\"Written\"]!=1]\n"
     ]
    },
    {
     "name": "stdout",
     "output_type": "stream",
     "text": [
      "SET 18289 EXP+FUM FUM+EXP\n"
     ]
    },
    {
     "name": "stderr",
     "output_type": "stream",
     "text": [
      "/tmp/ipykernel_7352/2071744375.py:6: UserWarning: Boolean Series key will be reindexed to match DataFrame index.\n",
      "  remaining=remaining[mcl_df[\"Written\"]!=1]\n"
     ]
    },
    {
     "name": "stdout",
     "output_type": "stream",
     "text": [
      "SET 7398 EXP+FUM FUM+EXP\n"
     ]
    },
    {
     "name": "stderr",
     "output_type": "stream",
     "text": [
      "/tmp/ipykernel_7352/2071744375.py:6: UserWarning: Boolean Series key will be reindexed to match DataFrame index.\n",
      "  remaining=remaining[mcl_df[\"Written\"]!=1]\n"
     ]
    },
    {
     "name": "stdout",
     "output_type": "stream",
     "text": [
      "SET 2847 FUM FUM\n"
     ]
    },
    {
     "name": "stderr",
     "output_type": "stream",
     "text": [
      "/tmp/ipykernel_7352/2071744375.py:6: UserWarning: Boolean Series key will be reindexed to match DataFrame index.\n",
      "  remaining=remaining[mcl_df[\"Written\"]!=1]\n"
     ]
    },
    {
     "name": "stdout",
     "output_type": "stream",
     "text": [
      "SET 3496 UNK UNK\n"
     ]
    },
    {
     "name": "stderr",
     "output_type": "stream",
     "text": [
      "/tmp/ipykernel_7352/2071744375.py:6: UserWarning: Boolean Series key will be reindexed to match DataFrame index.\n",
      "  remaining=remaining[mcl_df[\"Written\"]!=1]\n"
     ]
    },
    {
     "name": "stdout",
     "output_type": "stream",
     "text": [
      "SET 3498 UNK UNK\n"
     ]
    },
    {
     "name": "stderr",
     "output_type": "stream",
     "text": [
      "/tmp/ipykernel_7352/2071744375.py:6: UserWarning: Boolean Series key will be reindexed to match DataFrame index.\n",
      "  remaining=remaining[mcl_df[\"Written\"]!=1]\n"
     ]
    },
    {
     "name": "stdout",
     "output_type": "stream",
     "text": [
      "SET 13308 FUM FUM\n"
     ]
    },
    {
     "name": "stderr",
     "output_type": "stream",
     "text": [
      "/tmp/ipykernel_7352/2071744375.py:6: UserWarning: Boolean Series key will be reindexed to match DataFrame index.\n",
      "  remaining=remaining[mcl_df[\"Written\"]!=1]\n"
     ]
    },
    {
     "name": "stdout",
     "output_type": "stream",
     "text": [
      "SET 3502 UNK UNK\n"
     ]
    },
    {
     "name": "stderr",
     "output_type": "stream",
     "text": [
      "/tmp/ipykernel_7352/2071744375.py:6: UserWarning: Boolean Series key will be reindexed to match DataFrame index.\n",
      "  remaining=remaining[mcl_df[\"Written\"]!=1]\n"
     ]
    },
    {
     "name": "stdout",
     "output_type": "stream",
     "text": [
      "SET 3497 UNK UNK\n"
     ]
    },
    {
     "name": "stderr",
     "output_type": "stream",
     "text": [
      "/tmp/ipykernel_7352/2071744375.py:6: UserWarning: Boolean Series key will be reindexed to match DataFrame index.\n",
      "  remaining=remaining[mcl_df[\"Written\"]!=1]\n"
     ]
    },
    {
     "name": "stdout",
     "output_type": "stream",
     "text": [
      "SET 3501 UNK UNK\n"
     ]
    },
    {
     "name": "stderr",
     "output_type": "stream",
     "text": [
      "/tmp/ipykernel_7352/2071744375.py:6: UserWarning: Boolean Series key will be reindexed to match DataFrame index.\n",
      "  remaining=remaining[mcl_df[\"Written\"]!=1]\n"
     ]
    },
    {
     "name": "stdout",
     "output_type": "stream",
     "text": [
      "SET 3500 UNK UNK\n"
     ]
    },
    {
     "name": "stderr",
     "output_type": "stream",
     "text": [
      "/tmp/ipykernel_7352/2071744375.py:6: UserWarning: Boolean Series key will be reindexed to match DataFrame index.\n",
      "  remaining=remaining[mcl_df[\"Written\"]!=1]\n"
     ]
    },
    {
     "name": "stdout",
     "output_type": "stream",
     "text": [
      "SET 3499 UNK UNK\n"
     ]
    },
    {
     "name": "stderr",
     "output_type": "stream",
     "text": [
      "/tmp/ipykernel_7352/2071744375.py:6: UserWarning: Boolean Series key will be reindexed to match DataFrame index.\n",
      "  remaining=remaining[mcl_df[\"Written\"]!=1]\n"
     ]
    },
    {
     "name": "stdout",
     "output_type": "stream",
     "text": [
      "SET 11641 EXP+FUM FUM+EXP\n"
     ]
    },
    {
     "name": "stderr",
     "output_type": "stream",
     "text": [
      "/tmp/ipykernel_7352/2071744375.py:6: UserWarning: Boolean Series key will be reindexed to match DataFrame index.\n",
      "  remaining=remaining[mcl_df[\"Written\"]!=1]\n"
     ]
    },
    {
     "name": "stdout",
     "output_type": "stream",
     "text": [
      "SET 17300 EXP+FUM FUM+EXP\n"
     ]
    },
    {
     "name": "stderr",
     "output_type": "stream",
     "text": [
      "/tmp/ipykernel_7352/2071744375.py:6: UserWarning: Boolean Series key will be reindexed to match DataFrame index.\n",
      "  remaining=remaining[mcl_df[\"Written\"]!=1]\n"
     ]
    },
    {
     "name": "stdout",
     "output_type": "stream",
     "text": [
      "SET 13891 EXP+FUM FUM+EXP\n"
     ]
    },
    {
     "name": "stderr",
     "output_type": "stream",
     "text": [
      "/tmp/ipykernel_7352/2071744375.py:6: UserWarning: Boolean Series key will be reindexed to match DataFrame index.\n",
      "  remaining=remaining[mcl_df[\"Written\"]!=1]\n"
     ]
    },
    {
     "name": "stdout",
     "output_type": "stream",
     "text": [
      "SET 10424 FUM FUM\n"
     ]
    },
    {
     "name": "stderr",
     "output_type": "stream",
     "text": [
      "/tmp/ipykernel_7352/2071744375.py:6: UserWarning: Boolean Series key will be reindexed to match DataFrame index.\n",
      "  remaining=remaining[mcl_df[\"Written\"]!=1]\n"
     ]
    },
    {
     "name": "stdout",
     "output_type": "stream",
     "text": [
      "SET 16718 EXP+FUM FUM+EXP\n"
     ]
    },
    {
     "name": "stderr",
     "output_type": "stream",
     "text": [
      "/tmp/ipykernel_7352/2071744375.py:6: UserWarning: Boolean Series key will be reindexed to match DataFrame index.\n",
      "  remaining=remaining[mcl_df[\"Written\"]!=1]\n"
     ]
    },
    {
     "name": "stdout",
     "output_type": "stream",
     "text": [
      "SET 20742 FUM FUM\n"
     ]
    },
    {
     "name": "stderr",
     "output_type": "stream",
     "text": [
      "/tmp/ipykernel_7352/2071744375.py:6: UserWarning: Boolean Series key will be reindexed to match DataFrame index.\n",
      "  remaining=remaining[mcl_df[\"Written\"]!=1]\n"
     ]
    },
    {
     "name": "stdout",
     "output_type": "stream",
     "text": [
      "SET 6325 EXP+FUM FUM+EXP\n"
     ]
    },
    {
     "name": "stderr",
     "output_type": "stream",
     "text": [
      "/tmp/ipykernel_7352/2071744375.py:6: UserWarning: Boolean Series key will be reindexed to match DataFrame index.\n",
      "  remaining=remaining[mcl_df[\"Written\"]!=1]\n"
     ]
    },
    {
     "name": "stdout",
     "output_type": "stream",
     "text": [
      "SET 9625 EXP+FUM FUM+EXP\n"
     ]
    },
    {
     "name": "stderr",
     "output_type": "stream",
     "text": [
      "/tmp/ipykernel_7352/2071744375.py:6: UserWarning: Boolean Series key will be reindexed to match DataFrame index.\n",
      "  remaining=remaining[mcl_df[\"Written\"]!=1]\n"
     ]
    },
    {
     "name": "stdout",
     "output_type": "stream",
     "text": [
      "SET 9755 FUM FUM\n"
     ]
    },
    {
     "name": "stderr",
     "output_type": "stream",
     "text": [
      "/tmp/ipykernel_7352/2071744375.py:6: UserWarning: Boolean Series key will be reindexed to match DataFrame index.\n",
      "  remaining=remaining[mcl_df[\"Written\"]!=1]\n"
     ]
    },
    {
     "name": "stdout",
     "output_type": "stream",
     "text": [
      "SET 4660 FUM FUM\n"
     ]
    },
    {
     "name": "stderr",
     "output_type": "stream",
     "text": [
      "/tmp/ipykernel_7352/2071744375.py:6: UserWarning: Boolean Series key will be reindexed to match DataFrame index.\n",
      "  remaining=remaining[mcl_df[\"Written\"]!=1]\n"
     ]
    },
    {
     "name": "stdout",
     "output_type": "stream",
     "text": [
      "SET 18815 EXP+FUM FUM+EXP\n"
     ]
    },
    {
     "name": "stderr",
     "output_type": "stream",
     "text": [
      "/tmp/ipykernel_7352/2071744375.py:6: UserWarning: Boolean Series key will be reindexed to match DataFrame index.\n",
      "  remaining=remaining[mcl_df[\"Written\"]!=1]\n"
     ]
    },
    {
     "name": "stdout",
     "output_type": "stream",
     "text": [
      "SET 13910 EXP+FUM FUM+EXP\n"
     ]
    },
    {
     "name": "stderr",
     "output_type": "stream",
     "text": [
      "/tmp/ipykernel_7352/2071744375.py:6: UserWarning: Boolean Series key will be reindexed to match DataFrame index.\n",
      "  remaining=remaining[mcl_df[\"Written\"]!=1]\n"
     ]
    },
    {
     "name": "stdout",
     "output_type": "stream",
     "text": [
      "SET 11543 EXP+FUM FUM+EXP\n"
     ]
    },
    {
     "name": "stderr",
     "output_type": "stream",
     "text": [
      "/tmp/ipykernel_7352/2071744375.py:6: UserWarning: Boolean Series key will be reindexed to match DataFrame index.\n",
      "  remaining=remaining[mcl_df[\"Written\"]!=1]\n"
     ]
    },
    {
     "name": "stdout",
     "output_type": "stream",
     "text": [
      "SET 15200 INA INAC\n"
     ]
    },
    {
     "name": "stderr",
     "output_type": "stream",
     "text": [
      "/tmp/ipykernel_7352/2071744375.py:6: UserWarning: Boolean Series key will be reindexed to match DataFrame index.\n",
      "  remaining=remaining[mcl_df[\"Written\"]!=1]\n"
     ]
    },
    {
     "name": "stdout",
     "output_type": "stream",
     "text": [
      "SET 20411 EXP EXP\n"
     ]
    },
    {
     "name": "stderr",
     "output_type": "stream",
     "text": [
      "/tmp/ipykernel_7352/2071744375.py:6: UserWarning: Boolean Series key will be reindexed to match DataFrame index.\n",
      "  remaining=remaining[mcl_df[\"Written\"]!=1]\n"
     ]
    },
    {
     "name": "stdout",
     "output_type": "stream",
     "text": [
      "SET 5829 UNK UNK\n"
     ]
    },
    {
     "name": "stderr",
     "output_type": "stream",
     "text": [
      "/tmp/ipykernel_7352/2071744375.py:6: UserWarning: Boolean Series key will be reindexed to match DataFrame index.\n",
      "  remaining=remaining[mcl_df[\"Written\"]!=1]\n"
     ]
    },
    {
     "name": "stdout",
     "output_type": "stream",
     "text": [
      "SET 12382 EXP+FUM FUM+EXP\n"
     ]
    },
    {
     "name": "stderr",
     "output_type": "stream",
     "text": [
      "/tmp/ipykernel_7352/2071744375.py:6: UserWarning: Boolean Series key will be reindexed to match DataFrame index.\n",
      "  remaining=remaining[mcl_df[\"Written\"]!=1]\n"
     ]
    },
    {
     "name": "stdout",
     "output_type": "stream",
     "text": [
      "SET 5101 EXP+FUM FUM+EXP\n"
     ]
    },
    {
     "name": "stderr",
     "output_type": "stream",
     "text": [
      "/tmp/ipykernel_7352/2071744375.py:6: UserWarning: Boolean Series key will be reindexed to match DataFrame index.\n",
      "  remaining=remaining[mcl_df[\"Written\"]!=1]\n"
     ]
    },
    {
     "name": "stdout",
     "output_type": "stream",
     "text": [
      "SET 5100 EXP+FUM FUM+EXP\n"
     ]
    },
    {
     "name": "stderr",
     "output_type": "stream",
     "text": [
      "/tmp/ipykernel_7352/2071744375.py:6: UserWarning: Boolean Series key will be reindexed to match DataFrame index.\n",
      "  remaining=remaining[mcl_df[\"Written\"]!=1]\n"
     ]
    },
    {
     "name": "stdout",
     "output_type": "stream",
     "text": [
      "SET 20801 FUM FUM\n"
     ]
    },
    {
     "name": "stderr",
     "output_type": "stream",
     "text": [
      "/tmp/ipykernel_7352/2071744375.py:6: UserWarning: Boolean Series key will be reindexed to match DataFrame index.\n",
      "  remaining=remaining[mcl_df[\"Written\"]!=1]\n"
     ]
    },
    {
     "name": "stdout",
     "output_type": "stream",
     "text": [
      "SET 19912 EXP+FUM FUM+EXP\n"
     ]
    },
    {
     "name": "stderr",
     "output_type": "stream",
     "text": [
      "/tmp/ipykernel_7352/2071744375.py:6: UserWarning: Boolean Series key will be reindexed to match DataFrame index.\n",
      "  remaining=remaining[mcl_df[\"Written\"]!=1]\n"
     ]
    },
    {
     "name": "stdout",
     "output_type": "stream",
     "text": [
      "SET 15027 INA INAC\n"
     ]
    },
    {
     "name": "stderr",
     "output_type": "stream",
     "text": [
      "/tmp/ipykernel_7352/2071744375.py:6: UserWarning: Boolean Series key will be reindexed to match DataFrame index.\n",
      "  remaining=remaining[mcl_df[\"Written\"]!=1]\n"
     ]
    },
    {
     "name": "stdout",
     "output_type": "stream",
     "text": [
      "SET 2729 UNK UNK\n"
     ]
    },
    {
     "name": "stderr",
     "output_type": "stream",
     "text": [
      "/tmp/ipykernel_7352/2071744375.py:6: UserWarning: Boolean Series key will be reindexed to match DataFrame index.\n",
      "  remaining=remaining[mcl_df[\"Written\"]!=1]\n"
     ]
    },
    {
     "name": "stdout",
     "output_type": "stream",
     "text": [
      "SET 8815 FUM FUM\n"
     ]
    },
    {
     "name": "stderr",
     "output_type": "stream",
     "text": [
      "/tmp/ipykernel_7352/2071744375.py:6: UserWarning: Boolean Series key will be reindexed to match DataFrame index.\n",
      "  remaining=remaining[mcl_df[\"Written\"]!=1]\n"
     ]
    },
    {
     "name": "stdout",
     "output_type": "stream",
     "text": [
      "SET 4787 UNK UNK\n"
     ]
    },
    {
     "name": "stderr",
     "output_type": "stream",
     "text": [
      "/tmp/ipykernel_7352/2071744375.py:6: UserWarning: Boolean Series key will be reindexed to match DataFrame index.\n",
      "  remaining=remaining[mcl_df[\"Written\"]!=1]\n"
     ]
    },
    {
     "name": "stdout",
     "output_type": "stream",
     "text": [
      "SET 5747 EXP+FUM FUM+EXP\n"
     ]
    },
    {
     "name": "stderr",
     "output_type": "stream",
     "text": [
      "/tmp/ipykernel_7352/2071744375.py:6: UserWarning: Boolean Series key will be reindexed to match DataFrame index.\n",
      "  remaining=remaining[mcl_df[\"Written\"]!=1]\n"
     ]
    },
    {
     "name": "stdout",
     "output_type": "stream",
     "text": [
      "SET 8549 FUM FUM\n"
     ]
    },
    {
     "name": "stderr",
     "output_type": "stream",
     "text": [
      "/tmp/ipykernel_7352/2071744375.py:6: UserWarning: Boolean Series key will be reindexed to match DataFrame index.\n",
      "  remaining=remaining[mcl_df[\"Written\"]!=1]\n"
     ]
    },
    {
     "name": "stdout",
     "output_type": "stream",
     "text": [
      "SET 13030 EXP+FUM FUM+EXP\n"
     ]
    },
    {
     "name": "stderr",
     "output_type": "stream",
     "text": [
      "/tmp/ipykernel_7352/2071744375.py:6: UserWarning: Boolean Series key will be reindexed to match DataFrame index.\n",
      "  remaining=remaining[mcl_df[\"Written\"]!=1]\n"
     ]
    },
    {
     "name": "stdout",
     "output_type": "stream",
     "text": [
      "SET 3210 INA INAC\n"
     ]
    },
    {
     "name": "stderr",
     "output_type": "stream",
     "text": [
      "/tmp/ipykernel_7352/2071744375.py:6: UserWarning: Boolean Series key will be reindexed to match DataFrame index.\n",
      "  remaining=remaining[mcl_df[\"Written\"]!=1]\n"
     ]
    },
    {
     "name": "stdout",
     "output_type": "stream",
     "text": [
      "SET 13914 EXP+FUM FUM+EXP\n"
     ]
    },
    {
     "name": "stderr",
     "output_type": "stream",
     "text": [
      "/tmp/ipykernel_7352/2071744375.py:6: UserWarning: Boolean Series key will be reindexed to match DataFrame index.\n",
      "  remaining=remaining[mcl_df[\"Written\"]!=1]\n"
     ]
    },
    {
     "name": "stdout",
     "output_type": "stream",
     "text": [
      "SET 17333 INA INAC\n"
     ]
    },
    {
     "name": "stderr",
     "output_type": "stream",
     "text": [
      "/tmp/ipykernel_7352/2071744375.py:6: UserWarning: Boolean Series key will be reindexed to match DataFrame index.\n",
      "  remaining=remaining[mcl_df[\"Written\"]!=1]\n"
     ]
    },
    {
     "name": "stdout",
     "output_type": "stream",
     "text": [
      "SET 5311 INA INAC\n"
     ]
    },
    {
     "name": "stderr",
     "output_type": "stream",
     "text": [
      "/tmp/ipykernel_7352/2071744375.py:6: UserWarning: Boolean Series key will be reindexed to match DataFrame index.\n",
      "  remaining=remaining[mcl_df[\"Written\"]!=1]\n"
     ]
    },
    {
     "name": "stdout",
     "output_type": "stream",
     "text": [
      "SET 3880 UNK UNK\n"
     ]
    },
    {
     "name": "stderr",
     "output_type": "stream",
     "text": [
      "/tmp/ipykernel_7352/2071744375.py:6: UserWarning: Boolean Series key will be reindexed to match DataFrame index.\n",
      "  remaining=remaining[mcl_df[\"Written\"]!=1]\n"
     ]
    },
    {
     "name": "stdout",
     "output_type": "stream",
     "text": [
      "SET 21419 UNK UNK\n"
     ]
    },
    {
     "name": "stderr",
     "output_type": "stream",
     "text": [
      "/tmp/ipykernel_7352/2071744375.py:6: UserWarning: Boolean Series key will be reindexed to match DataFrame index.\n",
      "  remaining=remaining[mcl_df[\"Written\"]!=1]\n"
     ]
    },
    {
     "name": "stdout",
     "output_type": "stream",
     "text": [
      "SET 14100 EXP+FUM FUM+EXP\n"
     ]
    },
    {
     "name": "stderr",
     "output_type": "stream",
     "text": [
      "/tmp/ipykernel_7352/2071744375.py:6: UserWarning: Boolean Series key will be reindexed to match DataFrame index.\n",
      "  remaining=remaining[mcl_df[\"Written\"]!=1]\n"
     ]
    },
    {
     "name": "stdout",
     "output_type": "stream",
     "text": [
      "SET 8720 FUM FUM\n"
     ]
    },
    {
     "name": "stderr",
     "output_type": "stream",
     "text": [
      "/tmp/ipykernel_7352/2071744375.py:6: UserWarning: Boolean Series key will be reindexed to match DataFrame index.\n",
      "  remaining=remaining[mcl_df[\"Written\"]!=1]\n"
     ]
    },
    {
     "name": "stdout",
     "output_type": "stream",
     "text": [
      "SET 6273 EXP+FUM FUM+EXP\n"
     ]
    },
    {
     "name": "stderr",
     "output_type": "stream",
     "text": [
      "/tmp/ipykernel_7352/2071744375.py:6: UserWarning: Boolean Series key will be reindexed to match DataFrame index.\n",
      "  remaining=remaining[mcl_df[\"Written\"]!=1]\n"
     ]
    },
    {
     "name": "stdout",
     "output_type": "stream",
     "text": [
      "SET 13897 EXP+FUM FUM+EXP\n"
     ]
    },
    {
     "name": "stderr",
     "output_type": "stream",
     "text": [
      "/tmp/ipykernel_7352/2071744375.py:6: UserWarning: Boolean Series key will be reindexed to match DataFrame index.\n",
      "  remaining=remaining[mcl_df[\"Written\"]!=1]\n"
     ]
    },
    {
     "name": "stdout",
     "output_type": "stream",
     "text": [
      "SET 5148 FUM FUM\n"
     ]
    },
    {
     "name": "stderr",
     "output_type": "stream",
     "text": [
      "/tmp/ipykernel_7352/2071744375.py:6: UserWarning: Boolean Series key will be reindexed to match DataFrame index.\n",
      "  remaining=remaining[mcl_df[\"Written\"]!=1]\n"
     ]
    },
    {
     "name": "stdout",
     "output_type": "stream",
     "text": [
      "SET 5120 FUM FUM\n"
     ]
    },
    {
     "name": "stderr",
     "output_type": "stream",
     "text": [
      "/tmp/ipykernel_7352/2071744375.py:6: UserWarning: Boolean Series key will be reindexed to match DataFrame index.\n",
      "  remaining=remaining[mcl_df[\"Written\"]!=1]\n"
     ]
    },
    {
     "name": "stdout",
     "output_type": "stream",
     "text": [
      "SET 5153 FUM FUM\n"
     ]
    },
    {
     "name": "stderr",
     "output_type": "stream",
     "text": [
      "/tmp/ipykernel_7352/2071744375.py:6: UserWarning: Boolean Series key will be reindexed to match DataFrame index.\n",
      "  remaining=remaining[mcl_df[\"Written\"]!=1]\n"
     ]
    },
    {
     "name": "stdout",
     "output_type": "stream",
     "text": [
      "SET 5149 FUM FUM\n"
     ]
    },
    {
     "name": "stderr",
     "output_type": "stream",
     "text": [
      "/tmp/ipykernel_7352/2071744375.py:6: UserWarning: Boolean Series key will be reindexed to match DataFrame index.\n",
      "  remaining=remaining[mcl_df[\"Written\"]!=1]\n"
     ]
    },
    {
     "name": "stdout",
     "output_type": "stream",
     "text": [
      "SET 5152 FUM FUM\n"
     ]
    },
    {
     "name": "stderr",
     "output_type": "stream",
     "text": [
      "/tmp/ipykernel_7352/2071744375.py:6: UserWarning: Boolean Series key will be reindexed to match DataFrame index.\n",
      "  remaining=remaining[mcl_df[\"Written\"]!=1]\n"
     ]
    },
    {
     "name": "stdout",
     "output_type": "stream",
     "text": [
      "SET 4229 FUM FUM\n"
     ]
    },
    {
     "name": "stderr",
     "output_type": "stream",
     "text": [
      "/tmp/ipykernel_7352/2071744375.py:6: UserWarning: Boolean Series key will be reindexed to match DataFrame index.\n",
      "  remaining=remaining[mcl_df[\"Written\"]!=1]\n"
     ]
    },
    {
     "name": "stdout",
     "output_type": "stream",
     "text": [
      "SET 14807 EXP+FUM FUM+EXP\n"
     ]
    },
    {
     "name": "stderr",
     "output_type": "stream",
     "text": [
      "/tmp/ipykernel_7352/2071744375.py:6: UserWarning: Boolean Series key will be reindexed to match DataFrame index.\n",
      "  remaining=remaining[mcl_df[\"Written\"]!=1]\n"
     ]
    },
    {
     "name": "stdout",
     "output_type": "stream",
     "text": [
      "SET 15745 EXP+FUM FUM+EXP\n"
     ]
    },
    {
     "name": "stderr",
     "output_type": "stream",
     "text": [
      "/tmp/ipykernel_7352/2071744375.py:6: UserWarning: Boolean Series key will be reindexed to match DataFrame index.\n",
      "  remaining=remaining[mcl_df[\"Written\"]!=1]\n"
     ]
    },
    {
     "name": "stdout",
     "output_type": "stream",
     "text": [
      "SET 20719 EXP+FUM FUM+EXP\n"
     ]
    },
    {
     "name": "stderr",
     "output_type": "stream",
     "text": [
      "/tmp/ipykernel_7352/2071744375.py:6: UserWarning: Boolean Series key will be reindexed to match DataFrame index.\n",
      "  remaining=remaining[mcl_df[\"Written\"]!=1]\n"
     ]
    },
    {
     "name": "stdout",
     "output_type": "stream",
     "text": [
      "SET 13931 EXP+FUM FUM+EXP\n"
     ]
    },
    {
     "name": "stderr",
     "output_type": "stream",
     "text": [
      "/tmp/ipykernel_7352/2071744375.py:6: UserWarning: Boolean Series key will be reindexed to match DataFrame index.\n",
      "  remaining=remaining[mcl_df[\"Written\"]!=1]\n"
     ]
    },
    {
     "name": "stdout",
     "output_type": "stream",
     "text": [
      "SET 6588 EXP+FUM FUM+EXP\n"
     ]
    },
    {
     "name": "stderr",
     "output_type": "stream",
     "text": [
      "/tmp/ipykernel_7352/2071744375.py:6: UserWarning: Boolean Series key will be reindexed to match DataFrame index.\n",
      "  remaining=remaining[mcl_df[\"Written\"]!=1]\n"
     ]
    },
    {
     "name": "stdout",
     "output_type": "stream",
     "text": [
      "SET 6902 FUM FUM\n"
     ]
    },
    {
     "name": "stderr",
     "output_type": "stream",
     "text": [
      "/tmp/ipykernel_7352/2071744375.py:6: UserWarning: Boolean Series key will be reindexed to match DataFrame index.\n",
      "  remaining=remaining[mcl_df[\"Written\"]!=1]\n"
     ]
    },
    {
     "name": "stdout",
     "output_type": "stream",
     "text": [
      "SET 916 FUM FUM\n"
     ]
    },
    {
     "name": "stderr",
     "output_type": "stream",
     "text": [
      "/tmp/ipykernel_7352/2071744375.py:6: UserWarning: Boolean Series key will be reindexed to match DataFrame index.\n",
      "  remaining=remaining[mcl_df[\"Written\"]!=1]\n"
     ]
    },
    {
     "name": "stdout",
     "output_type": "stream",
     "text": [
      "SET 4515 INA INAC\n"
     ]
    },
    {
     "name": "stderr",
     "output_type": "stream",
     "text": [
      "/tmp/ipykernel_7352/2071744375.py:6: UserWarning: Boolean Series key will be reindexed to match DataFrame index.\n",
      "  remaining=remaining[mcl_df[\"Written\"]!=1]\n"
     ]
    },
    {
     "name": "stdout",
     "output_type": "stream",
     "text": [
      "SET 16146 UNK UNK\n"
     ]
    },
    {
     "name": "stderr",
     "output_type": "stream",
     "text": [
      "/tmp/ipykernel_7352/2071744375.py:6: UserWarning: Boolean Series key will be reindexed to match DataFrame index.\n",
      "  remaining=remaining[mcl_df[\"Written\"]!=1]\n"
     ]
    },
    {
     "name": "stdout",
     "output_type": "stream",
     "text": [
      "SET 9526 UNK UNK\n"
     ]
    },
    {
     "name": "stderr",
     "output_type": "stream",
     "text": [
      "/tmp/ipykernel_7352/2071744375.py:6: UserWarning: Boolean Series key will be reindexed to match DataFrame index.\n",
      "  remaining=remaining[mcl_df[\"Written\"]!=1]\n"
     ]
    },
    {
     "name": "stdout",
     "output_type": "stream",
     "text": [
      "SET 14123 EXP+FUM FUM+EXP\n"
     ]
    },
    {
     "name": "stderr",
     "output_type": "stream",
     "text": [
      "/tmp/ipykernel_7352/2071744375.py:6: UserWarning: Boolean Series key will be reindexed to match DataFrame index.\n",
      "  remaining=remaining[mcl_df[\"Written\"]!=1]\n"
     ]
    },
    {
     "name": "stdout",
     "output_type": "stream",
     "text": [
      "SET 5709 EXP+FUM FUM+EXP\n"
     ]
    },
    {
     "name": "stderr",
     "output_type": "stream",
     "text": [
      "/tmp/ipykernel_7352/2071744375.py:6: UserWarning: Boolean Series key will be reindexed to match DataFrame index.\n",
      "  remaining=remaining[mcl_df[\"Written\"]!=1]\n"
     ]
    },
    {
     "name": "stdout",
     "output_type": "stream",
     "text": [
      "SET 9721 EXP+FUM FUM+EXP\n"
     ]
    },
    {
     "name": "stderr",
     "output_type": "stream",
     "text": [
      "/tmp/ipykernel_7352/2071744375.py:6: UserWarning: Boolean Series key will be reindexed to match DataFrame index.\n",
      "  remaining=remaining[mcl_df[\"Written\"]!=1]\n"
     ]
    },
    {
     "name": "stdout",
     "output_type": "stream",
     "text": [
      "SET 14934 INA INAC\n"
     ]
    },
    {
     "name": "stderr",
     "output_type": "stream",
     "text": [
      "/tmp/ipykernel_7352/2071744375.py:6: UserWarning: Boolean Series key will be reindexed to match DataFrame index.\n",
      "  remaining=remaining[mcl_df[\"Written\"]!=1]\n"
     ]
    },
    {
     "name": "stdout",
     "output_type": "stream",
     "text": [
      "SET 18373 FUM FUM\n"
     ]
    },
    {
     "name": "stderr",
     "output_type": "stream",
     "text": [
      "/tmp/ipykernel_7352/2071744375.py:6: UserWarning: Boolean Series key will be reindexed to match DataFrame index.\n",
      "  remaining=remaining[mcl_df[\"Written\"]!=1]\n"
     ]
    },
    {
     "name": "stdout",
     "output_type": "stream",
     "text": [
      "SET 19009 EXP+FUM FUM+EXP\n"
     ]
    },
    {
     "name": "stderr",
     "output_type": "stream",
     "text": [
      "/tmp/ipykernel_7352/2071744375.py:6: UserWarning: Boolean Series key will be reindexed to match DataFrame index.\n",
      "  remaining=remaining[mcl_df[\"Written\"]!=1]\n"
     ]
    },
    {
     "name": "stdout",
     "output_type": "stream",
     "text": [
      "SET 21837 INA INAC\n"
     ]
    },
    {
     "name": "stderr",
     "output_type": "stream",
     "text": [
      "/tmp/ipykernel_7352/2071744375.py:6: UserWarning: Boolean Series key will be reindexed to match DataFrame index.\n",
      "  remaining=remaining[mcl_df[\"Written\"]!=1]\n"
     ]
    },
    {
     "name": "stdout",
     "output_type": "stream",
     "text": [
      "SET 13875 EXP+FUM FUM+EXP\n"
     ]
    },
    {
     "name": "stderr",
     "output_type": "stream",
     "text": [
      "/tmp/ipykernel_7352/2071744375.py:6: UserWarning: Boolean Series key will be reindexed to match DataFrame index.\n",
      "  remaining=remaining[mcl_df[\"Written\"]!=1]\n"
     ]
    },
    {
     "name": "stdout",
     "output_type": "stream",
     "text": [
      "SET 8250 UNK UNK\n"
     ]
    },
    {
     "name": "stderr",
     "output_type": "stream",
     "text": [
      "/tmp/ipykernel_7352/2071744375.py:6: UserWarning: Boolean Series key will be reindexed to match DataFrame index.\n",
      "  remaining=remaining[mcl_df[\"Written\"]!=1]\n"
     ]
    },
    {
     "name": "stdout",
     "output_type": "stream",
     "text": [
      "SET 5041 UNK UNK\n"
     ]
    },
    {
     "name": "stderr",
     "output_type": "stream",
     "text": [
      "/tmp/ipykernel_7352/2071744375.py:6: UserWarning: Boolean Series key will be reindexed to match DataFrame index.\n",
      "  remaining=remaining[mcl_df[\"Written\"]!=1]\n"
     ]
    },
    {
     "name": "stdout",
     "output_type": "stream",
     "text": [
      "SET 19363 INA INAC\n"
     ]
    },
    {
     "name": "stderr",
     "output_type": "stream",
     "text": [
      "/tmp/ipykernel_7352/2071744375.py:6: UserWarning: Boolean Series key will be reindexed to match DataFrame index.\n",
      "  remaining=remaining[mcl_df[\"Written\"]!=1]\n"
     ]
    },
    {
     "name": "stdout",
     "output_type": "stream",
     "text": [
      "SET 984 EXP+FUM FUM+EXP\n"
     ]
    },
    {
     "name": "stderr",
     "output_type": "stream",
     "text": [
      "/tmp/ipykernel_7352/2071744375.py:6: UserWarning: Boolean Series key will be reindexed to match DataFrame index.\n",
      "  remaining=remaining[mcl_df[\"Written\"]!=1]\n"
     ]
    },
    {
     "name": "stdout",
     "output_type": "stream",
     "text": [
      "SET 9454 EXP+FUM FUM+EXP\n"
     ]
    },
    {
     "name": "stderr",
     "output_type": "stream",
     "text": [
      "/tmp/ipykernel_7352/2071744375.py:6: UserWarning: Boolean Series key will be reindexed to match DataFrame index.\n",
      "  remaining=remaining[mcl_df[\"Written\"]!=1]\n"
     ]
    },
    {
     "name": "stdout",
     "output_type": "stream",
     "text": [
      "SET 1518 UNK UNK\n"
     ]
    },
    {
     "name": "stderr",
     "output_type": "stream",
     "text": [
      "/tmp/ipykernel_7352/2071744375.py:6: UserWarning: Boolean Series key will be reindexed to match DataFrame index.\n",
      "  remaining=remaining[mcl_df[\"Written\"]!=1]\n"
     ]
    },
    {
     "name": "stdout",
     "output_type": "stream",
     "text": [
      "SET 14135 EXP+FUM FUM+EXP\n"
     ]
    },
    {
     "name": "stderr",
     "output_type": "stream",
     "text": [
      "/tmp/ipykernel_7352/2071744375.py:6: UserWarning: Boolean Series key will be reindexed to match DataFrame index.\n",
      "  remaining=remaining[mcl_df[\"Written\"]!=1]\n"
     ]
    },
    {
     "name": "stdout",
     "output_type": "stream",
     "text": [
      "SET 20655 FUM FUM\n"
     ]
    },
    {
     "name": "stderr",
     "output_type": "stream",
     "text": [
      "/tmp/ipykernel_7352/2071744375.py:6: UserWarning: Boolean Series key will be reindexed to match DataFrame index.\n",
      "  remaining=remaining[mcl_df[\"Written\"]!=1]\n"
     ]
    },
    {
     "name": "stdout",
     "output_type": "stream",
     "text": [
      "SET 9259 EXP+FUM FUM+EXP\n"
     ]
    },
    {
     "name": "stderr",
     "output_type": "stream",
     "text": [
      "/tmp/ipykernel_7352/2071744375.py:6: UserWarning: Boolean Series key will be reindexed to match DataFrame index.\n",
      "  remaining=remaining[mcl_df[\"Written\"]!=1]\n"
     ]
    },
    {
     "name": "stdout",
     "output_type": "stream",
     "text": [
      "SET 9540 EXP+FUM FUM+EXP\n"
     ]
    },
    {
     "name": "stderr",
     "output_type": "stream",
     "text": [
      "/tmp/ipykernel_7352/2071744375.py:6: UserWarning: Boolean Series key will be reindexed to match DataFrame index.\n",
      "  remaining=remaining[mcl_df[\"Written\"]!=1]\n"
     ]
    },
    {
     "name": "stdout",
     "output_type": "stream",
     "text": [
      "SET 1842 FUM FUM\n"
     ]
    },
    {
     "name": "stderr",
     "output_type": "stream",
     "text": [
      "/tmp/ipykernel_7352/2071744375.py:6: UserWarning: Boolean Series key will be reindexed to match DataFrame index.\n",
      "  remaining=remaining[mcl_df[\"Written\"]!=1]\n"
     ]
    },
    {
     "name": "stdout",
     "output_type": "stream",
     "text": [
      "SET 7410 EXP+FUM FUM+EXP\n"
     ]
    },
    {
     "name": "stderr",
     "output_type": "stream",
     "text": [
      "/tmp/ipykernel_7352/2071744375.py:6: UserWarning: Boolean Series key will be reindexed to match DataFrame index.\n",
      "  remaining=remaining[mcl_df[\"Written\"]!=1]\n"
     ]
    },
    {
     "name": "stdout",
     "output_type": "stream",
     "text": [
      "SET 17181 EXP+FUM FUM+EXP\n"
     ]
    },
    {
     "name": "stderr",
     "output_type": "stream",
     "text": [
      "/tmp/ipykernel_7352/2071744375.py:6: UserWarning: Boolean Series key will be reindexed to match DataFrame index.\n",
      "  remaining=remaining[mcl_df[\"Written\"]!=1]\n"
     ]
    },
    {
     "name": "stdout",
     "output_type": "stream",
     "text": [
      "SET 21104 FUM FUM\n"
     ]
    },
    {
     "name": "stderr",
     "output_type": "stream",
     "text": [
      "/tmp/ipykernel_7352/2071744375.py:6: UserWarning: Boolean Series key will be reindexed to match DataFrame index.\n",
      "  remaining=remaining[mcl_df[\"Written\"]!=1]\n"
     ]
    },
    {
     "name": "stdout",
     "output_type": "stream",
     "text": [
      "SET 16492 EXP+FUM FUM+EXP\n"
     ]
    },
    {
     "name": "stderr",
     "output_type": "stream",
     "text": [
      "/tmp/ipykernel_7352/2071744375.py:6: UserWarning: Boolean Series key will be reindexed to match DataFrame index.\n",
      "  remaining=remaining[mcl_df[\"Written\"]!=1]\n"
     ]
    },
    {
     "name": "stdout",
     "output_type": "stream",
     "text": [
      "SET 19863 INA INAC\n"
     ]
    },
    {
     "name": "stderr",
     "output_type": "stream",
     "text": [
      "/tmp/ipykernel_7352/2071744375.py:6: UserWarning: Boolean Series key will be reindexed to match DataFrame index.\n",
      "  remaining=remaining[mcl_df[\"Written\"]!=1]\n"
     ]
    },
    {
     "name": "stdout",
     "output_type": "stream",
     "text": [
      "SET 15026 INA INAC\n"
     ]
    },
    {
     "name": "stderr",
     "output_type": "stream",
     "text": [
      "/tmp/ipykernel_7352/2071744375.py:6: UserWarning: Boolean Series key will be reindexed to match DataFrame index.\n",
      "  remaining=remaining[mcl_df[\"Written\"]!=1]\n"
     ]
    },
    {
     "name": "stdout",
     "output_type": "stream",
     "text": [
      "SET 14778 EXP+FUM FUM+EXP\n"
     ]
    },
    {
     "name": "stderr",
     "output_type": "stream",
     "text": [
      "/tmp/ipykernel_7352/2071744375.py:6: UserWarning: Boolean Series key will be reindexed to match DataFrame index.\n",
      "  remaining=remaining[mcl_df[\"Written\"]!=1]\n"
     ]
    },
    {
     "name": "stdout",
     "output_type": "stream",
     "text": [
      "SET 4252 FUM FUM\n"
     ]
    },
    {
     "name": "stderr",
     "output_type": "stream",
     "text": [
      "/tmp/ipykernel_7352/2071744375.py:6: UserWarning: Boolean Series key will be reindexed to match DataFrame index.\n",
      "  remaining=remaining[mcl_df[\"Written\"]!=1]\n"
     ]
    },
    {
     "name": "stdout",
     "output_type": "stream",
     "text": [
      "SET 14561 FUM FUM\n"
     ]
    },
    {
     "name": "stderr",
     "output_type": "stream",
     "text": [
      "/tmp/ipykernel_7352/2071744375.py:6: UserWarning: Boolean Series key will be reindexed to match DataFrame index.\n",
      "  remaining=remaining[mcl_df[\"Written\"]!=1]\n"
     ]
    },
    {
     "name": "stdout",
     "output_type": "stream",
     "text": [
      "SET 10590 UNK UNK\n"
     ]
    },
    {
     "name": "stderr",
     "output_type": "stream",
     "text": [
      "/tmp/ipykernel_7352/2071744375.py:6: UserWarning: Boolean Series key will be reindexed to match DataFrame index.\n",
      "  remaining=remaining[mcl_df[\"Written\"]!=1]\n"
     ]
    },
    {
     "name": "stdout",
     "output_type": "stream",
     "text": [
      "SET 12470 EXP+FUM FUM+EXP\n"
     ]
    },
    {
     "name": "stderr",
     "output_type": "stream",
     "text": [
      "/tmp/ipykernel_7352/2071744375.py:6: UserWarning: Boolean Series key will be reindexed to match DataFrame index.\n",
      "  remaining=remaining[mcl_df[\"Written\"]!=1]\n"
     ]
    },
    {
     "name": "stdout",
     "output_type": "stream",
     "text": [
      "SET 4520 INA INAC\n"
     ]
    },
    {
     "name": "stderr",
     "output_type": "stream",
     "text": [
      "/tmp/ipykernel_7352/2071744375.py:6: UserWarning: Boolean Series key will be reindexed to match DataFrame index.\n",
      "  remaining=remaining[mcl_df[\"Written\"]!=1]\n"
     ]
    },
    {
     "name": "stdout",
     "output_type": "stream",
     "text": [
      "SET 13423 EXP+FUM FUM+EXP\n"
     ]
    },
    {
     "name": "stderr",
     "output_type": "stream",
     "text": [
      "/tmp/ipykernel_7352/2071744375.py:6: UserWarning: Boolean Series key will be reindexed to match DataFrame index.\n",
      "  remaining=remaining[mcl_df[\"Written\"]!=1]\n"
     ]
    },
    {
     "name": "stdout",
     "output_type": "stream",
     "text": [
      "SET 17763 EXP+FUM FUM+EXP\n"
     ]
    },
    {
     "name": "stderr",
     "output_type": "stream",
     "text": [
      "/tmp/ipykernel_7352/2071744375.py:6: UserWarning: Boolean Series key will be reindexed to match DataFrame index.\n",
      "  remaining=remaining[mcl_df[\"Written\"]!=1]\n"
     ]
    },
    {
     "name": "stdout",
     "output_type": "stream",
     "text": [
      "SET 6778 INA INAC\n"
     ]
    },
    {
     "name": "stderr",
     "output_type": "stream",
     "text": [
      "/tmp/ipykernel_7352/2071744375.py:6: UserWarning: Boolean Series key will be reindexed to match DataFrame index.\n",
      "  remaining=remaining[mcl_df[\"Written\"]!=1]\n"
     ]
    },
    {
     "name": "stdout",
     "output_type": "stream",
     "text": [
      "SET 6785 INA INAC\n"
     ]
    },
    {
     "name": "stderr",
     "output_type": "stream",
     "text": [
      "/tmp/ipykernel_7352/2071744375.py:6: UserWarning: Boolean Series key will be reindexed to match DataFrame index.\n",
      "  remaining=remaining[mcl_df[\"Written\"]!=1]\n"
     ]
    },
    {
     "name": "stdout",
     "output_type": "stream",
     "text": [
      "SET 6674 EXP+FUM FUM+EXP\n"
     ]
    },
    {
     "name": "stderr",
     "output_type": "stream",
     "text": [
      "/tmp/ipykernel_7352/2071744375.py:6: UserWarning: Boolean Series key will be reindexed to match DataFrame index.\n",
      "  remaining=remaining[mcl_df[\"Written\"]!=1]\n"
     ]
    },
    {
     "name": "stdout",
     "output_type": "stream",
     "text": [
      "SET 17023 EXP+FUM FUM+EXP\n"
     ]
    },
    {
     "name": "stderr",
     "output_type": "stream",
     "text": [
      "/tmp/ipykernel_7352/2071744375.py:6: UserWarning: Boolean Series key will be reindexed to match DataFrame index.\n",
      "  remaining=remaining[mcl_df[\"Written\"]!=1]\n"
     ]
    },
    {
     "name": "stdout",
     "output_type": "stream",
     "text": [
      "SET 15683 EXP+FUM FUM+EXP\n"
     ]
    },
    {
     "name": "stderr",
     "output_type": "stream",
     "text": [
      "/tmp/ipykernel_7352/2071744375.py:6: UserWarning: Boolean Series key will be reindexed to match DataFrame index.\n",
      "  remaining=remaining[mcl_df[\"Written\"]!=1]\n"
     ]
    },
    {
     "name": "stdout",
     "output_type": "stream",
     "text": [
      "SET 16635 UNK UNK\n"
     ]
    },
    {
     "name": "stderr",
     "output_type": "stream",
     "text": [
      "/tmp/ipykernel_7352/2071744375.py:6: UserWarning: Boolean Series key will be reindexed to match DataFrame index.\n",
      "  remaining=remaining[mcl_df[\"Written\"]!=1]\n"
     ]
    },
    {
     "name": "stdout",
     "output_type": "stream",
     "text": [
      "SET 19394 EXP EXP\n"
     ]
    },
    {
     "name": "stderr",
     "output_type": "stream",
     "text": [
      "/tmp/ipykernel_7352/2071744375.py:6: UserWarning: Boolean Series key will be reindexed to match DataFrame index.\n",
      "  remaining=remaining[mcl_df[\"Written\"]!=1]\n"
     ]
    },
    {
     "name": "stdout",
     "output_type": "stream",
     "text": [
      "SET 19043 EXP+FUM FUM+EXP\n"
     ]
    },
    {
     "name": "stderr",
     "output_type": "stream",
     "text": [
      "/tmp/ipykernel_7352/2071744375.py:6: UserWarning: Boolean Series key will be reindexed to match DataFrame index.\n",
      "  remaining=remaining[mcl_df[\"Written\"]!=1]\n"
     ]
    },
    {
     "name": "stdout",
     "output_type": "stream",
     "text": [
      "SET 3311 FUM FUM\n"
     ]
    },
    {
     "name": "stderr",
     "output_type": "stream",
     "text": [
      "/tmp/ipykernel_7352/2071744375.py:6: UserWarning: Boolean Series key will be reindexed to match DataFrame index.\n",
      "  remaining=remaining[mcl_df[\"Written\"]!=1]\n"
     ]
    },
    {
     "name": "stdout",
     "output_type": "stream",
     "text": [
      "SET 13540 FUM FUM\n"
     ]
    },
    {
     "name": "stderr",
     "output_type": "stream",
     "text": [
      "/tmp/ipykernel_7352/2071744375.py:6: UserWarning: Boolean Series key will be reindexed to match DataFrame index.\n",
      "  remaining=remaining[mcl_df[\"Written\"]!=1]\n"
     ]
    },
    {
     "name": "stdout",
     "output_type": "stream",
     "text": [
      "SET 14009 EXP+FUM FUM+EXP\n"
     ]
    },
    {
     "name": "stderr",
     "output_type": "stream",
     "text": [
      "/tmp/ipykernel_7352/2071744375.py:6: UserWarning: Boolean Series key will be reindexed to match DataFrame index.\n",
      "  remaining=remaining[mcl_df[\"Written\"]!=1]\n"
     ]
    },
    {
     "name": "stdout",
     "output_type": "stream",
     "text": [
      "SET 9711 EXP+FUM FUM+EXP\n"
     ]
    },
    {
     "name": "stderr",
     "output_type": "stream",
     "text": [
      "/tmp/ipykernel_7352/2071744375.py:6: UserWarning: Boolean Series key will be reindexed to match DataFrame index.\n",
      "  remaining=remaining[mcl_df[\"Written\"]!=1]\n"
     ]
    },
    {
     "name": "stdout",
     "output_type": "stream",
     "text": [
      "SET 9679 EXP+FUM FUM+EXP\n"
     ]
    },
    {
     "name": "stderr",
     "output_type": "stream",
     "text": [
      "/tmp/ipykernel_7352/2071744375.py:6: UserWarning: Boolean Series key will be reindexed to match DataFrame index.\n",
      "  remaining=remaining[mcl_df[\"Written\"]!=1]\n"
     ]
    },
    {
     "name": "stdout",
     "output_type": "stream",
     "text": [
      "SET 13279 EXP+FUM FUM+EXP\n"
     ]
    },
    {
     "name": "stderr",
     "output_type": "stream",
     "text": [
      "/tmp/ipykernel_7352/2071744375.py:6: UserWarning: Boolean Series key will be reindexed to match DataFrame index.\n",
      "  remaining=remaining[mcl_df[\"Written\"]!=1]\n"
     ]
    },
    {
     "name": "stdout",
     "output_type": "stream",
     "text": [
      "SET 9371 EXP+FUM FUM+EXP\n"
     ]
    },
    {
     "name": "stderr",
     "output_type": "stream",
     "text": [
      "/tmp/ipykernel_7352/2071744375.py:6: UserWarning: Boolean Series key will be reindexed to match DataFrame index.\n",
      "  remaining=remaining[mcl_df[\"Written\"]!=1]\n"
     ]
    },
    {
     "name": "stdout",
     "output_type": "stream",
     "text": [
      "SET 16805 FUM FUM\n"
     ]
    },
    {
     "name": "stderr",
     "output_type": "stream",
     "text": [
      "/tmp/ipykernel_7352/2071744375.py:6: UserWarning: Boolean Series key will be reindexed to match DataFrame index.\n",
      "  remaining=remaining[mcl_df[\"Written\"]!=1]\n"
     ]
    },
    {
     "name": "stdout",
     "output_type": "stream",
     "text": [
      "SET 13859 EXP+FUM FUM+EXP\n"
     ]
    },
    {
     "name": "stderr",
     "output_type": "stream",
     "text": [
      "/tmp/ipykernel_7352/2071744375.py:6: UserWarning: Boolean Series key will be reindexed to match DataFrame index.\n",
      "  remaining=remaining[mcl_df[\"Written\"]!=1]\n"
     ]
    },
    {
     "name": "stdout",
     "output_type": "stream",
     "text": [
      "SET 19620 EXP EXP\n"
     ]
    },
    {
     "name": "stderr",
     "output_type": "stream",
     "text": [
      "/tmp/ipykernel_7352/2071744375.py:6: UserWarning: Boolean Series key will be reindexed to match DataFrame index.\n",
      "  remaining=remaining[mcl_df[\"Written\"]!=1]\n"
     ]
    },
    {
     "name": "stdout",
     "output_type": "stream",
     "text": [
      "SET 16797 EXP+FUM FUM+EXP\n"
     ]
    },
    {
     "name": "stderr",
     "output_type": "stream",
     "text": [
      "/tmp/ipykernel_7352/2071744375.py:6: UserWarning: Boolean Series key will be reindexed to match DataFrame index.\n",
      "  remaining=remaining[mcl_df[\"Written\"]!=1]\n"
     ]
    },
    {
     "name": "stdout",
     "output_type": "stream",
     "text": [
      "SET 15917 EXP EXP\n"
     ]
    },
    {
     "name": "stderr",
     "output_type": "stream",
     "text": [
      "/tmp/ipykernel_7352/2071744375.py:6: UserWarning: Boolean Series key will be reindexed to match DataFrame index.\n",
      "  remaining=remaining[mcl_df[\"Written\"]!=1]\n"
     ]
    },
    {
     "name": "stdout",
     "output_type": "stream",
     "text": [
      "SET 19958 INA INAC\n"
     ]
    },
    {
     "name": "stderr",
     "output_type": "stream",
     "text": [
      "/tmp/ipykernel_7352/2071744375.py:6: UserWarning: Boolean Series key will be reindexed to match DataFrame index.\n",
      "  remaining=remaining[mcl_df[\"Written\"]!=1]\n"
     ]
    },
    {
     "name": "stdout",
     "output_type": "stream",
     "text": [
      "SET 17164 UNK UNK\n"
     ]
    },
    {
     "name": "stderr",
     "output_type": "stream",
     "text": [
      "/tmp/ipykernel_7352/2071744375.py:6: UserWarning: Boolean Series key will be reindexed to match DataFrame index.\n",
      "  remaining=remaining[mcl_df[\"Written\"]!=1]\n"
     ]
    },
    {
     "name": "stdout",
     "output_type": "stream",
     "text": [
      "SET 3050 FUM FUM\n"
     ]
    },
    {
     "name": "stderr",
     "output_type": "stream",
     "text": [
      "/tmp/ipykernel_7352/2071744375.py:6: UserWarning: Boolean Series key will be reindexed to match DataFrame index.\n",
      "  remaining=remaining[mcl_df[\"Written\"]!=1]\n"
     ]
    },
    {
     "name": "stdout",
     "output_type": "stream",
     "text": [
      "SET 19253 EXP+FUM FUM+EXP\n"
     ]
    },
    {
     "name": "stderr",
     "output_type": "stream",
     "text": [
      "/tmp/ipykernel_7352/2071744375.py:6: UserWarning: Boolean Series key will be reindexed to match DataFrame index.\n",
      "  remaining=remaining[mcl_df[\"Written\"]!=1]\n"
     ]
    },
    {
     "name": "stdout",
     "output_type": "stream",
     "text": [
      "SET 16924 EXP+FUM FUM+EXP\n"
     ]
    },
    {
     "name": "stderr",
     "output_type": "stream",
     "text": [
      "/tmp/ipykernel_7352/2071744375.py:6: UserWarning: Boolean Series key will be reindexed to match DataFrame index.\n",
      "  remaining=remaining[mcl_df[\"Written\"]!=1]\n"
     ]
    },
    {
     "name": "stdout",
     "output_type": "stream",
     "text": [
      "SET 5271 UNK UNK\n"
     ]
    },
    {
     "name": "stderr",
     "output_type": "stream",
     "text": [
      "/tmp/ipykernel_7352/2071744375.py:6: UserWarning: Boolean Series key will be reindexed to match DataFrame index.\n",
      "  remaining=remaining[mcl_df[\"Written\"]!=1]\n"
     ]
    },
    {
     "name": "stdout",
     "output_type": "stream",
     "text": [
      "SET 14855 UNK UNK\n"
     ]
    },
    {
     "name": "stderr",
     "output_type": "stream",
     "text": [
      "/tmp/ipykernel_7352/2071744375.py:6: UserWarning: Boolean Series key will be reindexed to match DataFrame index.\n",
      "  remaining=remaining[mcl_df[\"Written\"]!=1]\n"
     ]
    },
    {
     "name": "stdout",
     "output_type": "stream",
     "text": [
      "SET 14020 EXP+FUM FUM+EXP\n"
     ]
    },
    {
     "name": "stderr",
     "output_type": "stream",
     "text": [
      "/tmp/ipykernel_7352/2071744375.py:6: UserWarning: Boolean Series key will be reindexed to match DataFrame index.\n",
      "  remaining=remaining[mcl_df[\"Written\"]!=1]\n"
     ]
    },
    {
     "name": "stdout",
     "output_type": "stream",
     "text": [
      "SET 3811 FUM FUM\n"
     ]
    },
    {
     "name": "stderr",
     "output_type": "stream",
     "text": [
      "/tmp/ipykernel_7352/2071744375.py:6: UserWarning: Boolean Series key will be reindexed to match DataFrame index.\n",
      "  remaining=remaining[mcl_df[\"Written\"]!=1]\n"
     ]
    },
    {
     "name": "stdout",
     "output_type": "stream",
     "text": [
      "SET 13166 EXP+FUM FUM+EXP\n"
     ]
    },
    {
     "name": "stderr",
     "output_type": "stream",
     "text": [
      "/tmp/ipykernel_7352/2071744375.py:6: UserWarning: Boolean Series key will be reindexed to match DataFrame index.\n",
      "  remaining=remaining[mcl_df[\"Written\"]!=1]\n"
     ]
    },
    {
     "name": "stdout",
     "output_type": "stream",
     "text": [
      "SET 9547 EXP+FUM FUM+EXP\n"
     ]
    },
    {
     "name": "stderr",
     "output_type": "stream",
     "text": [
      "/tmp/ipykernel_7352/2071744375.py:6: UserWarning: Boolean Series key will be reindexed to match DataFrame index.\n",
      "  remaining=remaining[mcl_df[\"Written\"]!=1]\n"
     ]
    },
    {
     "name": "stdout",
     "output_type": "stream",
     "text": [
      "SET 9702 EXP+FUM FUM+EXP\n"
     ]
    },
    {
     "name": "stderr",
     "output_type": "stream",
     "text": [
      "/tmp/ipykernel_7352/2071744375.py:6: UserWarning: Boolean Series key will be reindexed to match DataFrame index.\n",
      "  remaining=remaining[mcl_df[\"Written\"]!=1]\n"
     ]
    },
    {
     "name": "stdout",
     "output_type": "stream",
     "text": [
      "SET 9718 EXP+FUM FUM+EXP\n"
     ]
    },
    {
     "name": "stderr",
     "output_type": "stream",
     "text": [
      "/tmp/ipykernel_7352/2071744375.py:6: UserWarning: Boolean Series key will be reindexed to match DataFrame index.\n",
      "  remaining=remaining[mcl_df[\"Written\"]!=1]\n"
     ]
    },
    {
     "name": "stdout",
     "output_type": "stream",
     "text": [
      "SET 9701 EXP+FUM FUM+EXP\n"
     ]
    },
    {
     "name": "stderr",
     "output_type": "stream",
     "text": [
      "/tmp/ipykernel_7352/2071744375.py:6: UserWarning: Boolean Series key will be reindexed to match DataFrame index.\n",
      "  remaining=remaining[mcl_df[\"Written\"]!=1]\n"
     ]
    },
    {
     "name": "stdout",
     "output_type": "stream",
     "text": [
      "SET 9717 EXP+FUM FUM+EXP\n"
     ]
    },
    {
     "name": "stderr",
     "output_type": "stream",
     "text": [
      "/tmp/ipykernel_7352/2071744375.py:6: UserWarning: Boolean Series key will be reindexed to match DataFrame index.\n",
      "  remaining=remaining[mcl_df[\"Written\"]!=1]\n"
     ]
    },
    {
     "name": "stdout",
     "output_type": "stream",
     "text": [
      "SET 18583 FUM FUM\n"
     ]
    },
    {
     "name": "stderr",
     "output_type": "stream",
     "text": [
      "/tmp/ipykernel_7352/2071744375.py:6: UserWarning: Boolean Series key will be reindexed to match DataFrame index.\n",
      "  remaining=remaining[mcl_df[\"Written\"]!=1]\n"
     ]
    },
    {
     "name": "stdout",
     "output_type": "stream",
     "text": [
      "SET 10367 FUM FUM\n"
     ]
    },
    {
     "name": "stderr",
     "output_type": "stream",
     "text": [
      "/tmp/ipykernel_7352/2071744375.py:6: UserWarning: Boolean Series key will be reindexed to match DataFrame index.\n",
      "  remaining=remaining[mcl_df[\"Written\"]!=1]\n"
     ]
    },
    {
     "name": "stdout",
     "output_type": "stream",
     "text": [
      "SET 9258 EXP+FUM FUM+EXP\n"
     ]
    },
    {
     "name": "stderr",
     "output_type": "stream",
     "text": [
      "/tmp/ipykernel_7352/2071744375.py:6: UserWarning: Boolean Series key will be reindexed to match DataFrame index.\n",
      "  remaining=remaining[mcl_df[\"Written\"]!=1]\n"
     ]
    },
    {
     "name": "stdout",
     "output_type": "stream",
     "text": [
      "SET 18625 FUM FUM\n"
     ]
    },
    {
     "name": "stderr",
     "output_type": "stream",
     "text": [
      "/tmp/ipykernel_7352/2071744375.py:6: UserWarning: Boolean Series key will be reindexed to match DataFrame index.\n",
      "  remaining=remaining[mcl_df[\"Written\"]!=1]\n"
     ]
    },
    {
     "name": "stdout",
     "output_type": "stream",
     "text": [
      "SET 11232 FUM FUM\n"
     ]
    },
    {
     "name": "stderr",
     "output_type": "stream",
     "text": [
      "/tmp/ipykernel_7352/2071744375.py:6: UserWarning: Boolean Series key will be reindexed to match DataFrame index.\n",
      "  remaining=remaining[mcl_df[\"Written\"]!=1]\n"
     ]
    },
    {
     "name": "stdout",
     "output_type": "stream",
     "text": [
      "SET 4236 FUM FUM\n"
     ]
    },
    {
     "name": "stderr",
     "output_type": "stream",
     "text": [
      "/tmp/ipykernel_7352/2071744375.py:6: UserWarning: Boolean Series key will be reindexed to match DataFrame index.\n",
      "  remaining=remaining[mcl_df[\"Written\"]!=1]\n"
     ]
    },
    {
     "name": "stdout",
     "output_type": "stream",
     "text": [
      "SET 6668 INA INAC\n"
     ]
    },
    {
     "name": "stderr",
     "output_type": "stream",
     "text": [
      "/tmp/ipykernel_7352/2071744375.py:6: UserWarning: Boolean Series key will be reindexed to match DataFrame index.\n",
      "  remaining=remaining[mcl_df[\"Written\"]!=1]\n"
     ]
    },
    {
     "name": "stdout",
     "output_type": "stream",
     "text": [
      "SET 15097 EXP+FUM FUM+EXP\n"
     ]
    },
    {
     "name": "stderr",
     "output_type": "stream",
     "text": [
      "/tmp/ipykernel_7352/2071744375.py:6: UserWarning: Boolean Series key will be reindexed to match DataFrame index.\n",
      "  remaining=remaining[mcl_df[\"Written\"]!=1]\n"
     ]
    },
    {
     "name": "stdout",
     "output_type": "stream",
     "text": [
      "SET 3303 FUM FUM\n"
     ]
    },
    {
     "name": "stderr",
     "output_type": "stream",
     "text": [
      "/tmp/ipykernel_7352/2071744375.py:6: UserWarning: Boolean Series key will be reindexed to match DataFrame index.\n",
      "  remaining=remaining[mcl_df[\"Written\"]!=1]\n"
     ]
    },
    {
     "name": "stdout",
     "output_type": "stream",
     "text": [
      "SET 19693 EXP+FUM FUM+EXP\n"
     ]
    },
    {
     "name": "stderr",
     "output_type": "stream",
     "text": [
      "/tmp/ipykernel_7352/2071744375.py:6: UserWarning: Boolean Series key will be reindexed to match DataFrame index.\n",
      "  remaining=remaining[mcl_df[\"Written\"]!=1]\n"
     ]
    },
    {
     "name": "stdout",
     "output_type": "stream",
     "text": [
      "SET 11085 UNK UNK\n"
     ]
    },
    {
     "name": "stderr",
     "output_type": "stream",
     "text": [
      "/tmp/ipykernel_7352/2071744375.py:6: UserWarning: Boolean Series key will be reindexed to match DataFrame index.\n",
      "  remaining=remaining[mcl_df[\"Written\"]!=1]\n"
     ]
    },
    {
     "name": "stdout",
     "output_type": "stream",
     "text": [
      "SET 2865 INA INAC\n"
     ]
    },
    {
     "name": "stderr",
     "output_type": "stream",
     "text": [
      "/tmp/ipykernel_7352/2071744375.py:6: UserWarning: Boolean Series key will be reindexed to match DataFrame index.\n",
      "  remaining=remaining[mcl_df[\"Written\"]!=1]\n"
     ]
    },
    {
     "name": "stdout",
     "output_type": "stream",
     "text": [
      "SET 10508 FUM FUM\n"
     ]
    },
    {
     "name": "stderr",
     "output_type": "stream",
     "text": [
      "/tmp/ipykernel_7352/2071744375.py:6: UserWarning: Boolean Series key will be reindexed to match DataFrame index.\n",
      "  remaining=remaining[mcl_df[\"Written\"]!=1]\n"
     ]
    },
    {
     "name": "stdout",
     "output_type": "stream",
     "text": [
      "SET 6405 FUM FUM\n"
     ]
    },
    {
     "name": "stderr",
     "output_type": "stream",
     "text": [
      "/tmp/ipykernel_7352/2071744375.py:6: UserWarning: Boolean Series key will be reindexed to match DataFrame index.\n",
      "  remaining=remaining[mcl_df[\"Written\"]!=1]\n"
     ]
    },
    {
     "name": "stdout",
     "output_type": "stream",
     "text": [
      "SET 13895 EXP+FUM FUM+EXP\n"
     ]
    },
    {
     "name": "stderr",
     "output_type": "stream",
     "text": [
      "/tmp/ipykernel_7352/2071744375.py:6: UserWarning: Boolean Series key will be reindexed to match DataFrame index.\n",
      "  remaining=remaining[mcl_df[\"Written\"]!=1]\n"
     ]
    },
    {
     "name": "stdout",
     "output_type": "stream",
     "text": [
      "SET 14126 EXP+FUM FUM+EXP\n"
     ]
    },
    {
     "name": "stderr",
     "output_type": "stream",
     "text": [
      "/tmp/ipykernel_7352/2071744375.py:6: UserWarning: Boolean Series key will be reindexed to match DataFrame index.\n",
      "  remaining=remaining[mcl_df[\"Written\"]!=1]\n"
     ]
    },
    {
     "name": "stdout",
     "output_type": "stream",
     "text": [
      "SET 686 INA INAC\n"
     ]
    },
    {
     "name": "stderr",
     "output_type": "stream",
     "text": [
      "/tmp/ipykernel_7352/2071744375.py:6: UserWarning: Boolean Series key will be reindexed to match DataFrame index.\n",
      "  remaining=remaining[mcl_df[\"Written\"]!=1]\n"
     ]
    },
    {
     "name": "stdout",
     "output_type": "stream",
     "text": [
      "SET 5922 FUM FUM\n"
     ]
    },
    {
     "name": "stderr",
     "output_type": "stream",
     "text": [
      "/tmp/ipykernel_7352/2071744375.py:6: UserWarning: Boolean Series key will be reindexed to match DataFrame index.\n",
      "  remaining=remaining[mcl_df[\"Written\"]!=1]\n"
     ]
    },
    {
     "name": "stdout",
     "output_type": "stream",
     "text": [
      "SET 6609 FUM FUM\n"
     ]
    },
    {
     "name": "stderr",
     "output_type": "stream",
     "text": [
      "/tmp/ipykernel_7352/2071744375.py:6: UserWarning: Boolean Series key will be reindexed to match DataFrame index.\n",
      "  remaining=remaining[mcl_df[\"Written\"]!=1]\n"
     ]
    },
    {
     "name": "stdout",
     "output_type": "stream",
     "text": [
      "SET 6792 UNK UNK\n"
     ]
    },
    {
     "name": "stderr",
     "output_type": "stream",
     "text": [
      "/tmp/ipykernel_7352/2071744375.py:6: UserWarning: Boolean Series key will be reindexed to match DataFrame index.\n",
      "  remaining=remaining[mcl_df[\"Written\"]!=1]\n"
     ]
    },
    {
     "name": "stdout",
     "output_type": "stream",
     "text": [
      "SET 16431 EXP+FUM FUM+EXP\n"
     ]
    },
    {
     "name": "stderr",
     "output_type": "stream",
     "text": [
      "/tmp/ipykernel_7352/2071744375.py:6: UserWarning: Boolean Series key will be reindexed to match DataFrame index.\n",
      "  remaining=remaining[mcl_df[\"Written\"]!=1]\n"
     ]
    },
    {
     "name": "stdout",
     "output_type": "stream",
     "text": [
      "SET 10268 EXP EXP\n"
     ]
    },
    {
     "name": "stderr",
     "output_type": "stream",
     "text": [
      "/tmp/ipykernel_7352/2071744375.py:6: UserWarning: Boolean Series key will be reindexed to match DataFrame index.\n",
      "  remaining=remaining[mcl_df[\"Written\"]!=1]\n"
     ]
    },
    {
     "name": "stdout",
     "output_type": "stream",
     "text": [
      "SET 5888 FUM FUM\n"
     ]
    },
    {
     "name": "stderr",
     "output_type": "stream",
     "text": [
      "/tmp/ipykernel_7352/2071744375.py:6: UserWarning: Boolean Series key will be reindexed to match DataFrame index.\n",
      "  remaining=remaining[mcl_df[\"Written\"]!=1]\n"
     ]
    },
    {
     "name": "stdout",
     "output_type": "stream",
     "text": [
      "SET 15034 INA INAC\n"
     ]
    },
    {
     "name": "stderr",
     "output_type": "stream",
     "text": [
      "/tmp/ipykernel_7352/2071744375.py:6: UserWarning: Boolean Series key will be reindexed to match DataFrame index.\n",
      "  remaining=remaining[mcl_df[\"Written\"]!=1]\n"
     ]
    },
    {
     "name": "stdout",
     "output_type": "stream",
     "text": [
      "SET 19743 EXP+FUM FUM+EXP\n"
     ]
    },
    {
     "name": "stderr",
     "output_type": "stream",
     "text": [
      "/tmp/ipykernel_7352/2071744375.py:6: UserWarning: Boolean Series key will be reindexed to match DataFrame index.\n",
      "  remaining=remaining[mcl_df[\"Written\"]!=1]\n"
     ]
    },
    {
     "name": "stdout",
     "output_type": "stream",
     "text": [
      "SET 7289 FUM FUM\n"
     ]
    },
    {
     "name": "stderr",
     "output_type": "stream",
     "text": [
      "/tmp/ipykernel_7352/2071744375.py:6: UserWarning: Boolean Series key will be reindexed to match DataFrame index.\n",
      "  remaining=remaining[mcl_df[\"Written\"]!=1]\n"
     ]
    },
    {
     "name": "stdout",
     "output_type": "stream",
     "text": [
      "SET 17338 EXP+FUM FUM+EXP\n"
     ]
    },
    {
     "name": "stderr",
     "output_type": "stream",
     "text": [
      "/tmp/ipykernel_7352/2071744375.py:6: UserWarning: Boolean Series key will be reindexed to match DataFrame index.\n",
      "  remaining=remaining[mcl_df[\"Written\"]!=1]\n"
     ]
    },
    {
     "name": "stdout",
     "output_type": "stream",
     "text": [
      "SET 7978 EXP+FUM FUM+EXP\n"
     ]
    },
    {
     "name": "stderr",
     "output_type": "stream",
     "text": [
      "/tmp/ipykernel_7352/2071744375.py:6: UserWarning: Boolean Series key will be reindexed to match DataFrame index.\n",
      "  remaining=remaining[mcl_df[\"Written\"]!=1]\n"
     ]
    },
    {
     "name": "stdout",
     "output_type": "stream",
     "text": [
      "SET 1079 INA INAC\n"
     ]
    },
    {
     "name": "stderr",
     "output_type": "stream",
     "text": [
      "/tmp/ipykernel_7352/2071744375.py:6: UserWarning: Boolean Series key will be reindexed to match DataFrame index.\n",
      "  remaining=remaining[mcl_df[\"Written\"]!=1]\n"
     ]
    },
    {
     "name": "stdout",
     "output_type": "stream",
     "text": [
      "SET 16481 EXP+FUM FUM+EXP\n"
     ]
    },
    {
     "name": "stderr",
     "output_type": "stream",
     "text": [
      "/tmp/ipykernel_7352/2071744375.py:6: UserWarning: Boolean Series key will be reindexed to match DataFrame index.\n",
      "  remaining=remaining[mcl_df[\"Written\"]!=1]\n"
     ]
    },
    {
     "name": "stdout",
     "output_type": "stream",
     "text": [
      "SET 15864 EXP+FUM FUM+EXP\n"
     ]
    },
    {
     "name": "stderr",
     "output_type": "stream",
     "text": [
      "/tmp/ipykernel_7352/2071744375.py:6: UserWarning: Boolean Series key will be reindexed to match DataFrame index.\n",
      "  remaining=remaining[mcl_df[\"Written\"]!=1]\n"
     ]
    },
    {
     "name": "stdout",
     "output_type": "stream",
     "text": [
      "SET 10142 UNK UNK\n"
     ]
    },
    {
     "name": "stderr",
     "output_type": "stream",
     "text": [
      "/tmp/ipykernel_7352/2071744375.py:6: UserWarning: Boolean Series key will be reindexed to match DataFrame index.\n",
      "  remaining=remaining[mcl_df[\"Written\"]!=1]\n"
     ]
    },
    {
     "name": "stdout",
     "output_type": "stream",
     "text": [
      "SET 6339 EXP+FUM FUM+EXP\n"
     ]
    },
    {
     "name": "stderr",
     "output_type": "stream",
     "text": [
      "/tmp/ipykernel_7352/2071744375.py:6: UserWarning: Boolean Series key will be reindexed to match DataFrame index.\n",
      "  remaining=remaining[mcl_df[\"Written\"]!=1]\n"
     ]
    },
    {
     "name": "stdout",
     "output_type": "stream",
     "text": [
      "SET 13949 EXP+FUM FUM+EXP\n"
     ]
    },
    {
     "name": "stderr",
     "output_type": "stream",
     "text": [
      "/tmp/ipykernel_7352/2071744375.py:6: UserWarning: Boolean Series key will be reindexed to match DataFrame index.\n",
      "  remaining=remaining[mcl_df[\"Written\"]!=1]\n"
     ]
    },
    {
     "name": "stdout",
     "output_type": "stream",
     "text": [
      "SET 21840 UNK UNK\n"
     ]
    },
    {
     "name": "stderr",
     "output_type": "stream",
     "text": [
      "/tmp/ipykernel_7352/2071744375.py:6: UserWarning: Boolean Series key will be reindexed to match DataFrame index.\n",
      "  remaining=remaining[mcl_df[\"Written\"]!=1]\n"
     ]
    },
    {
     "name": "stdout",
     "output_type": "stream",
     "text": [
      "SET 709 FUM FUM\n"
     ]
    },
    {
     "name": "stderr",
     "output_type": "stream",
     "text": [
      "/tmp/ipykernel_7352/2071744375.py:6: UserWarning: Boolean Series key will be reindexed to match DataFrame index.\n",
      "  remaining=remaining[mcl_df[\"Written\"]!=1]\n"
     ]
    },
    {
     "name": "stdout",
     "output_type": "stream",
     "text": [
      "SET 15325 EXP+FUM FUM+EXP\n"
     ]
    },
    {
     "name": "stderr",
     "output_type": "stream",
     "text": [
      "/tmp/ipykernel_7352/2071744375.py:6: UserWarning: Boolean Series key will be reindexed to match DataFrame index.\n",
      "  remaining=remaining[mcl_df[\"Written\"]!=1]\n"
     ]
    },
    {
     "name": "stdout",
     "output_type": "stream",
     "text": [
      "SET 19206 EXP+FUM FUM+EXP\n"
     ]
    },
    {
     "name": "stderr",
     "output_type": "stream",
     "text": [
      "/tmp/ipykernel_7352/2071744375.py:6: UserWarning: Boolean Series key will be reindexed to match DataFrame index.\n",
      "  remaining=remaining[mcl_df[\"Written\"]!=1]\n"
     ]
    },
    {
     "name": "stdout",
     "output_type": "stream",
     "text": [
      "SET 16714 EXP+FUM FUM+EXP\n"
     ]
    },
    {
     "name": "stderr",
     "output_type": "stream",
     "text": [
      "/tmp/ipykernel_7352/2071744375.py:6: UserWarning: Boolean Series key will be reindexed to match DataFrame index.\n",
      "  remaining=remaining[mcl_df[\"Written\"]!=1]\n"
     ]
    },
    {
     "name": "stdout",
     "output_type": "stream",
     "text": [
      "SET 8386 UNK UNK\n"
     ]
    },
    {
     "name": "stderr",
     "output_type": "stream",
     "text": [
      "/tmp/ipykernel_7352/2071744375.py:6: UserWarning: Boolean Series key will be reindexed to match DataFrame index.\n",
      "  remaining=remaining[mcl_df[\"Written\"]!=1]\n"
     ]
    },
    {
     "name": "stdout",
     "output_type": "stream",
     "text": [
      "SET 3709 INA INAC\n"
     ]
    },
    {
     "name": "stderr",
     "output_type": "stream",
     "text": [
      "/tmp/ipykernel_7352/2071744375.py:6: UserWarning: Boolean Series key will be reindexed to match DataFrame index.\n",
      "  remaining=remaining[mcl_df[\"Written\"]!=1]\n"
     ]
    },
    {
     "name": "stdout",
     "output_type": "stream",
     "text": [
      "SET 18571 INA INAC\n"
     ]
    },
    {
     "name": "stderr",
     "output_type": "stream",
     "text": [
      "/tmp/ipykernel_7352/2071744375.py:6: UserWarning: Boolean Series key will be reindexed to match DataFrame index.\n",
      "  remaining=remaining[mcl_df[\"Written\"]!=1]\n"
     ]
    },
    {
     "name": "stdout",
     "output_type": "stream",
     "text": [
      "SET 12683 EXP+FUM FUM+EXP\n"
     ]
    },
    {
     "name": "stderr",
     "output_type": "stream",
     "text": [
      "/tmp/ipykernel_7352/2071744375.py:6: UserWarning: Boolean Series key will be reindexed to match DataFrame index.\n",
      "  remaining=remaining[mcl_df[\"Written\"]!=1]\n"
     ]
    },
    {
     "name": "stdout",
     "output_type": "stream",
     "text": [
      "SET 4533 FUM FUM\n"
     ]
    },
    {
     "name": "stderr",
     "output_type": "stream",
     "text": [
      "/tmp/ipykernel_7352/2071744375.py:6: UserWarning: Boolean Series key will be reindexed to match DataFrame index.\n",
      "  remaining=remaining[mcl_df[\"Written\"]!=1]\n"
     ]
    },
    {
     "name": "stdout",
     "output_type": "stream",
     "text": [
      "SET 19993 EXP+FUM FUM+EXP\n"
     ]
    },
    {
     "name": "stderr",
     "output_type": "stream",
     "text": [
      "/tmp/ipykernel_7352/2071744375.py:6: UserWarning: Boolean Series key will be reindexed to match DataFrame index.\n",
      "  remaining=remaining[mcl_df[\"Written\"]!=1]\n"
     ]
    },
    {
     "name": "stdout",
     "output_type": "stream",
     "text": [
      "SET 18297 EXP+FUM FUM+EXP\n"
     ]
    },
    {
     "name": "stderr",
     "output_type": "stream",
     "text": [
      "/tmp/ipykernel_7352/2071744375.py:6: UserWarning: Boolean Series key will be reindexed to match DataFrame index.\n",
      "  remaining=remaining[mcl_df[\"Written\"]!=1]\n"
     ]
    },
    {
     "name": "stdout",
     "output_type": "stream",
     "text": [
      "SET 18657 INA INAC\n"
     ]
    },
    {
     "name": "stderr",
     "output_type": "stream",
     "text": [
      "/tmp/ipykernel_7352/2071744375.py:6: UserWarning: Boolean Series key will be reindexed to match DataFrame index.\n",
      "  remaining=remaining[mcl_df[\"Written\"]!=1]\n"
     ]
    },
    {
     "name": "stdout",
     "output_type": "stream",
     "text": [
      "SET 9585 EXP+FUM FUM+EXP\n"
     ]
    },
    {
     "name": "stderr",
     "output_type": "stream",
     "text": [
      "/tmp/ipykernel_7352/2071744375.py:6: UserWarning: Boolean Series key will be reindexed to match DataFrame index.\n",
      "  remaining=remaining[mcl_df[\"Written\"]!=1]\n"
     ]
    },
    {
     "name": "stdout",
     "output_type": "stream",
     "text": [
      "SET 8995 UNK UNK\n"
     ]
    },
    {
     "name": "stderr",
     "output_type": "stream",
     "text": [
      "/tmp/ipykernel_7352/2071744375.py:6: UserWarning: Boolean Series key will be reindexed to match DataFrame index.\n",
      "  remaining=remaining[mcl_df[\"Written\"]!=1]\n"
     ]
    },
    {
     "name": "stdout",
     "output_type": "stream",
     "text": [
      "SET 13906 UNK UNK\n"
     ]
    },
    {
     "name": "stderr",
     "output_type": "stream",
     "text": [
      "/tmp/ipykernel_7352/2071744375.py:6: UserWarning: Boolean Series key will be reindexed to match DataFrame index.\n",
      "  remaining=remaining[mcl_df[\"Written\"]!=1]\n"
     ]
    },
    {
     "name": "stdout",
     "output_type": "stream",
     "text": [
      "SET 12001 EXP+FUM FUM+EXP\n"
     ]
    },
    {
     "name": "stderr",
     "output_type": "stream",
     "text": [
      "/tmp/ipykernel_7352/2071744375.py:6: UserWarning: Boolean Series key will be reindexed to match DataFrame index.\n",
      "  remaining=remaining[mcl_df[\"Written\"]!=1]\n"
     ]
    },
    {
     "name": "stdout",
     "output_type": "stream",
     "text": [
      "SET 21541 INA INAC\n"
     ]
    },
    {
     "name": "stderr",
     "output_type": "stream",
     "text": [
      "/tmp/ipykernel_7352/2071744375.py:6: UserWarning: Boolean Series key will be reindexed to match DataFrame index.\n",
      "  remaining=remaining[mcl_df[\"Written\"]!=1]\n"
     ]
    },
    {
     "name": "stdout",
     "output_type": "stream",
     "text": [
      "SET 16684 EXP+FUM FUM+EXP\n"
     ]
    },
    {
     "name": "stderr",
     "output_type": "stream",
     "text": [
      "/tmp/ipykernel_7352/2071744375.py:6: UserWarning: Boolean Series key will be reindexed to match DataFrame index.\n",
      "  remaining=remaining[mcl_df[\"Written\"]!=1]\n"
     ]
    },
    {
     "name": "stdout",
     "output_type": "stream",
     "text": [
      "SET 18883 FUM FUM\n"
     ]
    },
    {
     "name": "stderr",
     "output_type": "stream",
     "text": [
      "/tmp/ipykernel_7352/2071744375.py:6: UserWarning: Boolean Series key will be reindexed to match DataFrame index.\n",
      "  remaining=remaining[mcl_df[\"Written\"]!=1]\n"
     ]
    },
    {
     "name": "stdout",
     "output_type": "stream",
     "text": [
      "SET 14267 EXP+FUM FUM+EXP\n"
     ]
    },
    {
     "name": "stderr",
     "output_type": "stream",
     "text": [
      "/tmp/ipykernel_7352/2071744375.py:6: UserWarning: Boolean Series key will be reindexed to match DataFrame index.\n",
      "  remaining=remaining[mcl_df[\"Written\"]!=1]\n"
     ]
    },
    {
     "name": "stdout",
     "output_type": "stream",
     "text": [
      "SET 10922 EXP+FUM FUM+EXP\n"
     ]
    },
    {
     "name": "stderr",
     "output_type": "stream",
     "text": [
      "/tmp/ipykernel_7352/2071744375.py:6: UserWarning: Boolean Series key will be reindexed to match DataFrame index.\n",
      "  remaining=remaining[mcl_df[\"Written\"]!=1]\n"
     ]
    },
    {
     "name": "stdout",
     "output_type": "stream",
     "text": [
      "SET 10921 EXP+FUM FUM+EXP\n"
     ]
    },
    {
     "name": "stderr",
     "output_type": "stream",
     "text": [
      "/tmp/ipykernel_7352/2071744375.py:6: UserWarning: Boolean Series key will be reindexed to match DataFrame index.\n",
      "  remaining=remaining[mcl_df[\"Written\"]!=1]\n"
     ]
    },
    {
     "name": "stdout",
     "output_type": "stream",
     "text": [
      "SET 14933 EXP+FUM FUM+EXP\n"
     ]
    },
    {
     "name": "stderr",
     "output_type": "stream",
     "text": [
      "/tmp/ipykernel_7352/2071744375.py:6: UserWarning: Boolean Series key will be reindexed to match DataFrame index.\n",
      "  remaining=remaining[mcl_df[\"Written\"]!=1]\n"
     ]
    },
    {
     "name": "stdout",
     "output_type": "stream",
     "text": [
      "SET 6440 EXP+FUM FUM+EXP\n"
     ]
    },
    {
     "name": "stderr",
     "output_type": "stream",
     "text": [
      "/tmp/ipykernel_7352/2071744375.py:6: UserWarning: Boolean Series key will be reindexed to match DataFrame index.\n",
      "  remaining=remaining[mcl_df[\"Written\"]!=1]\n"
     ]
    },
    {
     "name": "stdout",
     "output_type": "stream",
     "text": [
      "SET 9230 EXP+FUM FUM+EXP\n"
     ]
    },
    {
     "name": "stderr",
     "output_type": "stream",
     "text": [
      "/tmp/ipykernel_7352/2071744375.py:6: UserWarning: Boolean Series key will be reindexed to match DataFrame index.\n",
      "  remaining=remaining[mcl_df[\"Written\"]!=1]\n"
     ]
    },
    {
     "name": "stdout",
     "output_type": "stream",
     "text": [
      "SET 19522 EXP+FUM FUM+EXP\n"
     ]
    },
    {
     "name": "stderr",
     "output_type": "stream",
     "text": [
      "/tmp/ipykernel_7352/2071744375.py:6: UserWarning: Boolean Series key will be reindexed to match DataFrame index.\n",
      "  remaining=remaining[mcl_df[\"Written\"]!=1]\n"
     ]
    },
    {
     "name": "stdout",
     "output_type": "stream",
     "text": [
      "SET 3775 FUM FUM\n"
     ]
    },
    {
     "name": "stderr",
     "output_type": "stream",
     "text": [
      "/tmp/ipykernel_7352/2071744375.py:6: UserWarning: Boolean Series key will be reindexed to match DataFrame index.\n",
      "  remaining=remaining[mcl_df[\"Written\"]!=1]\n"
     ]
    },
    {
     "name": "stdout",
     "output_type": "stream",
     "text": [
      "SET 17558 EXP+FUM FUM+EXP\n"
     ]
    },
    {
     "name": "stderr",
     "output_type": "stream",
     "text": [
      "/tmp/ipykernel_7352/2071744375.py:6: UserWarning: Boolean Series key will be reindexed to match DataFrame index.\n",
      "  remaining=remaining[mcl_df[\"Written\"]!=1]\n"
     ]
    },
    {
     "name": "stdout",
     "output_type": "stream",
     "text": [
      "SET 8350 FUM FUM\n"
     ]
    },
    {
     "name": "stderr",
     "output_type": "stream",
     "text": [
      "/tmp/ipykernel_7352/2071744375.py:6: UserWarning: Boolean Series key will be reindexed to match DataFrame index.\n",
      "  remaining=remaining[mcl_df[\"Written\"]!=1]\n"
     ]
    },
    {
     "name": "stdout",
     "output_type": "stream",
     "text": [
      "SET 8239 FUM FUM\n"
     ]
    },
    {
     "name": "stderr",
     "output_type": "stream",
     "text": [
      "/tmp/ipykernel_7352/2071744375.py:6: UserWarning: Boolean Series key will be reindexed to match DataFrame index.\n",
      "  remaining=remaining[mcl_df[\"Written\"]!=1]\n"
     ]
    },
    {
     "name": "stdout",
     "output_type": "stream",
     "text": [
      "SET 5255 UNK UNK\n"
     ]
    },
    {
     "name": "stderr",
     "output_type": "stream",
     "text": [
      "/tmp/ipykernel_7352/2071744375.py:6: UserWarning: Boolean Series key will be reindexed to match DataFrame index.\n",
      "  remaining=remaining[mcl_df[\"Written\"]!=1]\n"
     ]
    },
    {
     "name": "stdout",
     "output_type": "stream",
     "text": [
      "SET 12523 EXP+FUM FUM+EXP\n"
     ]
    },
    {
     "name": "stderr",
     "output_type": "stream",
     "text": [
      "/tmp/ipykernel_7352/2071744375.py:6: UserWarning: Boolean Series key will be reindexed to match DataFrame index.\n",
      "  remaining=remaining[mcl_df[\"Written\"]!=1]\n"
     ]
    },
    {
     "name": "stdout",
     "output_type": "stream",
     "text": [
      "SET 4749 FUM FUM\n"
     ]
    },
    {
     "name": "stderr",
     "output_type": "stream",
     "text": [
      "/tmp/ipykernel_7352/2071744375.py:6: UserWarning: Boolean Series key will be reindexed to match DataFrame index.\n",
      "  remaining=remaining[mcl_df[\"Written\"]!=1]\n"
     ]
    },
    {
     "name": "stdout",
     "output_type": "stream",
     "text": [
      "SET 14886 EXP+FUM FUM+EXP\n"
     ]
    },
    {
     "name": "stderr",
     "output_type": "stream",
     "text": [
      "/tmp/ipykernel_7352/2071744375.py:6: UserWarning: Boolean Series key will be reindexed to match DataFrame index.\n",
      "  remaining=remaining[mcl_df[\"Written\"]!=1]\n"
     ]
    },
    {
     "name": "stdout",
     "output_type": "stream",
     "text": [
      "SET 17938 EXP+FUM FUM+EXP\n"
     ]
    },
    {
     "name": "stderr",
     "output_type": "stream",
     "text": [
      "/tmp/ipykernel_7352/2071744375.py:6: UserWarning: Boolean Series key will be reindexed to match DataFrame index.\n",
      "  remaining=remaining[mcl_df[\"Written\"]!=1]\n"
     ]
    },
    {
     "name": "stdout",
     "output_type": "stream",
     "text": [
      "SET 4490 INA INAC\n"
     ]
    },
    {
     "name": "stderr",
     "output_type": "stream",
     "text": [
      "/tmp/ipykernel_7352/2071744375.py:6: UserWarning: Boolean Series key will be reindexed to match DataFrame index.\n",
      "  remaining=remaining[mcl_df[\"Written\"]!=1]\n"
     ]
    },
    {
     "name": "stdout",
     "output_type": "stream",
     "text": [
      "SET 17897 EXP+FUM FUM+EXP\n"
     ]
    },
    {
     "name": "stderr",
     "output_type": "stream",
     "text": [
      "/tmp/ipykernel_7352/2071744375.py:6: UserWarning: Boolean Series key will be reindexed to match DataFrame index.\n",
      "  remaining=remaining[mcl_df[\"Written\"]!=1]\n"
     ]
    },
    {
     "name": "stdout",
     "output_type": "stream",
     "text": [
      "SET 18172 EXP+FUM FUM+EXP\n"
     ]
    },
    {
     "name": "stderr",
     "output_type": "stream",
     "text": [
      "/tmp/ipykernel_7352/2071744375.py:6: UserWarning: Boolean Series key will be reindexed to match DataFrame index.\n",
      "  remaining=remaining[mcl_df[\"Written\"]!=1]\n"
     ]
    },
    {
     "name": "stdout",
     "output_type": "stream",
     "text": [
      "SET 6794 EXP+FUM FUM+EXP\n"
     ]
    },
    {
     "name": "stderr",
     "output_type": "stream",
     "text": [
      "/tmp/ipykernel_7352/2071744375.py:6: UserWarning: Boolean Series key will be reindexed to match DataFrame index.\n",
      "  remaining=remaining[mcl_df[\"Written\"]!=1]\n"
     ]
    },
    {
     "name": "stdout",
     "output_type": "stream",
     "text": [
      "SET 19366 FUM FUM\n"
     ]
    },
    {
     "name": "stderr",
     "output_type": "stream",
     "text": [
      "/tmp/ipykernel_7352/2071744375.py:6: UserWarning: Boolean Series key will be reindexed to match DataFrame index.\n",
      "  remaining=remaining[mcl_df[\"Written\"]!=1]\n"
     ]
    },
    {
     "name": "stdout",
     "output_type": "stream",
     "text": [
      "SET 20927 FUM FUM\n"
     ]
    },
    {
     "name": "stderr",
     "output_type": "stream",
     "text": [
      "/tmp/ipykernel_7352/2071744375.py:6: UserWarning: Boolean Series key will be reindexed to match DataFrame index.\n",
      "  remaining=remaining[mcl_df[\"Written\"]!=1]\n"
     ]
    },
    {
     "name": "stdout",
     "output_type": "stream",
     "text": [
      "SET 10858 EXP+FUM FUM+EXP\n"
     ]
    },
    {
     "name": "stderr",
     "output_type": "stream",
     "text": [
      "/tmp/ipykernel_7352/2071744375.py:6: UserWarning: Boolean Series key will be reindexed to match DataFrame index.\n",
      "  remaining=remaining[mcl_df[\"Written\"]!=1]\n"
     ]
    },
    {
     "name": "stdout",
     "output_type": "stream",
     "text": [
      "SET 13939 INA INAC\n"
     ]
    },
    {
     "name": "stderr",
     "output_type": "stream",
     "text": [
      "/tmp/ipykernel_7352/2071744375.py:6: UserWarning: Boolean Series key will be reindexed to match DataFrame index.\n",
      "  remaining=remaining[mcl_df[\"Written\"]!=1]\n"
     ]
    },
    {
     "name": "stdout",
     "output_type": "stream",
     "text": [
      "SET 8213 UNK UNK\n"
     ]
    },
    {
     "name": "stderr",
     "output_type": "stream",
     "text": [
      "/tmp/ipykernel_7352/2071744375.py:6: UserWarning: Boolean Series key will be reindexed to match DataFrame index.\n",
      "  remaining=remaining[mcl_df[\"Written\"]!=1]\n"
     ]
    },
    {
     "name": "stdout",
     "output_type": "stream",
     "text": [
      "SET 15953 FUM FUM\n"
     ]
    },
    {
     "name": "stderr",
     "output_type": "stream",
     "text": [
      "/tmp/ipykernel_7352/2071744375.py:6: UserWarning: Boolean Series key will be reindexed to match DataFrame index.\n",
      "  remaining=remaining[mcl_df[\"Written\"]!=1]\n"
     ]
    },
    {
     "name": "stdout",
     "output_type": "stream",
     "text": [
      "SET 3834 INA INAC\n"
     ]
    },
    {
     "name": "stderr",
     "output_type": "stream",
     "text": [
      "/tmp/ipykernel_7352/2071744375.py:6: UserWarning: Boolean Series key will be reindexed to match DataFrame index.\n",
      "  remaining=remaining[mcl_df[\"Written\"]!=1]\n"
     ]
    },
    {
     "name": "stdout",
     "output_type": "stream",
     "text": [
      "SET 3199 FUM FUM\n"
     ]
    },
    {
     "name": "stderr",
     "output_type": "stream",
     "text": [
      "/tmp/ipykernel_7352/2071744375.py:6: UserWarning: Boolean Series key will be reindexed to match DataFrame index.\n",
      "  remaining=remaining[mcl_df[\"Written\"]!=1]\n"
     ]
    },
    {
     "name": "stdout",
     "output_type": "stream",
     "text": [
      "SET 16876 INA INAC\n"
     ]
    },
    {
     "name": "stderr",
     "output_type": "stream",
     "text": [
      "/tmp/ipykernel_7352/2071744375.py:6: UserWarning: Boolean Series key will be reindexed to match DataFrame index.\n",
      "  remaining=remaining[mcl_df[\"Written\"]!=1]\n"
     ]
    },
    {
     "name": "stdout",
     "output_type": "stream",
     "text": [
      "SET 7386 EXP+FUM FUM+EXP\n"
     ]
    },
    {
     "name": "stderr",
     "output_type": "stream",
     "text": [
      "/tmp/ipykernel_7352/2071744375.py:6: UserWarning: Boolean Series key will be reindexed to match DataFrame index.\n",
      "  remaining=remaining[mcl_df[\"Written\"]!=1]\n"
     ]
    },
    {
     "name": "stdout",
     "output_type": "stream",
     "text": [
      "SET 21021 FUM FUM\n"
     ]
    },
    {
     "name": "stderr",
     "output_type": "stream",
     "text": [
      "/tmp/ipykernel_7352/2071744375.py:6: UserWarning: Boolean Series key will be reindexed to match DataFrame index.\n",
      "  remaining=remaining[mcl_df[\"Written\"]!=1]\n"
     ]
    },
    {
     "name": "stdout",
     "output_type": "stream",
     "text": [
      "SET 14233 FUM FUM\n"
     ]
    },
    {
     "name": "stderr",
     "output_type": "stream",
     "text": [
      "/tmp/ipykernel_7352/2071744375.py:6: UserWarning: Boolean Series key will be reindexed to match DataFrame index.\n",
      "  remaining=remaining[mcl_df[\"Written\"]!=1]\n"
     ]
    },
    {
     "name": "stdout",
     "output_type": "stream",
     "text": [
      "SET 15457 UNK UNK\n"
     ]
    },
    {
     "name": "stderr",
     "output_type": "stream",
     "text": [
      "/tmp/ipykernel_7352/2071744375.py:6: UserWarning: Boolean Series key will be reindexed to match DataFrame index.\n",
      "  remaining=remaining[mcl_df[\"Written\"]!=1]\n"
     ]
    },
    {
     "name": "stdout",
     "output_type": "stream",
     "text": [
      "SET 15155 EXP+FUM FUM+EXP\n"
     ]
    },
    {
     "name": "stderr",
     "output_type": "stream",
     "text": [
      "/tmp/ipykernel_7352/2071744375.py:6: UserWarning: Boolean Series key will be reindexed to match DataFrame index.\n",
      "  remaining=remaining[mcl_df[\"Written\"]!=1]\n"
     ]
    },
    {
     "name": "stdout",
     "output_type": "stream",
     "text": [
      "SET 12742 FUM FUM\n"
     ]
    },
    {
     "name": "stderr",
     "output_type": "stream",
     "text": [
      "/tmp/ipykernel_7352/2071744375.py:6: UserWarning: Boolean Series key will be reindexed to match DataFrame index.\n",
      "  remaining=remaining[mcl_df[\"Written\"]!=1]\n"
     ]
    },
    {
     "name": "stdout",
     "output_type": "stream",
     "text": [
      "SET 18643 EXP+FUM FUM+EXP\n"
     ]
    },
    {
     "name": "stderr",
     "output_type": "stream",
     "text": [
      "/tmp/ipykernel_7352/2071744375.py:6: UserWarning: Boolean Series key will be reindexed to match DataFrame index.\n",
      "  remaining=remaining[mcl_df[\"Written\"]!=1]\n"
     ]
    },
    {
     "name": "stdout",
     "output_type": "stream",
     "text": [
      "SET 13846 EXP+FUM FUM+EXP\n"
     ]
    },
    {
     "name": "stderr",
     "output_type": "stream",
     "text": [
      "/tmp/ipykernel_7352/2071744375.py:6: UserWarning: Boolean Series key will be reindexed to match DataFrame index.\n",
      "  remaining=remaining[mcl_df[\"Written\"]!=1]\n"
     ]
    },
    {
     "name": "stdout",
     "output_type": "stream",
     "text": [
      "SET 9750 FUM FUM\n"
     ]
    },
    {
     "name": "stderr",
     "output_type": "stream",
     "text": [
      "/tmp/ipykernel_7352/2071744375.py:6: UserWarning: Boolean Series key will be reindexed to match DataFrame index.\n",
      "  remaining=remaining[mcl_df[\"Written\"]!=1]\n"
     ]
    },
    {
     "name": "stdout",
     "output_type": "stream",
     "text": [
      "SET 12603 EXP+FUM FUM+EXP\n"
     ]
    },
    {
     "name": "stderr",
     "output_type": "stream",
     "text": [
      "/tmp/ipykernel_7352/2071744375.py:6: UserWarning: Boolean Series key will be reindexed to match DataFrame index.\n",
      "  remaining=remaining[mcl_df[\"Written\"]!=1]\n"
     ]
    },
    {
     "name": "stdout",
     "output_type": "stream",
     "text": [
      "SET 8677 FUM FUM\n"
     ]
    },
    {
     "name": "stderr",
     "output_type": "stream",
     "text": [
      "/tmp/ipykernel_7352/2071744375.py:6: UserWarning: Boolean Series key will be reindexed to match DataFrame index.\n",
      "  remaining=remaining[mcl_df[\"Written\"]!=1]\n"
     ]
    },
    {
     "name": "stdout",
     "output_type": "stream",
     "text": [
      "SET 6756 INA INAC\n"
     ]
    },
    {
     "name": "stderr",
     "output_type": "stream",
     "text": [
      "/tmp/ipykernel_7352/2071744375.py:6: UserWarning: Boolean Series key will be reindexed to match DataFrame index.\n",
      "  remaining=remaining[mcl_df[\"Written\"]!=1]\n"
     ]
    },
    {
     "name": "stdout",
     "output_type": "stream",
     "text": [
      "SET 7987 EXP EXP\n"
     ]
    },
    {
     "name": "stderr",
     "output_type": "stream",
     "text": [
      "/tmp/ipykernel_7352/2071744375.py:6: UserWarning: Boolean Series key will be reindexed to match DataFrame index.\n",
      "  remaining=remaining[mcl_df[\"Written\"]!=1]\n"
     ]
    },
    {
     "name": "stdout",
     "output_type": "stream",
     "text": [
      "SET 3390 FUM FUM\n"
     ]
    },
    {
     "name": "stderr",
     "output_type": "stream",
     "text": [
      "/tmp/ipykernel_7352/2071744375.py:6: UserWarning: Boolean Series key will be reindexed to match DataFrame index.\n",
      "  remaining=remaining[mcl_df[\"Written\"]!=1]\n"
     ]
    },
    {
     "name": "stdout",
     "output_type": "stream",
     "text": [
      "SET 682 FUM FUM\n"
     ]
    },
    {
     "name": "stderr",
     "output_type": "stream",
     "text": [
      "/tmp/ipykernel_7352/2071744375.py:6: UserWarning: Boolean Series key will be reindexed to match DataFrame index.\n",
      "  remaining=remaining[mcl_df[\"Written\"]!=1]\n"
     ]
    },
    {
     "name": "stdout",
     "output_type": "stream",
     "text": [
      "SET 6235 EXP+FUM FUM+EXP\n"
     ]
    },
    {
     "name": "stderr",
     "output_type": "stream",
     "text": [
      "/tmp/ipykernel_7352/2071744375.py:6: UserWarning: Boolean Series key will be reindexed to match DataFrame index.\n",
      "  remaining=remaining[mcl_df[\"Written\"]!=1]\n"
     ]
    },
    {
     "name": "stdout",
     "output_type": "stream",
     "text": [
      "SET 8553 EXP+FUM FUM+EXP\n"
     ]
    },
    {
     "name": "stderr",
     "output_type": "stream",
     "text": [
      "/tmp/ipykernel_7352/2071744375.py:6: UserWarning: Boolean Series key will be reindexed to match DataFrame index.\n",
      "  remaining=remaining[mcl_df[\"Written\"]!=1]\n"
     ]
    },
    {
     "name": "stdout",
     "output_type": "stream",
     "text": [
      "SET 3459 FUM FUM\n"
     ]
    },
    {
     "name": "stderr",
     "output_type": "stream",
     "text": [
      "/tmp/ipykernel_7352/2071744375.py:6: UserWarning: Boolean Series key will be reindexed to match DataFrame index.\n",
      "  remaining=remaining[mcl_df[\"Written\"]!=1]\n"
     ]
    },
    {
     "name": "stdout",
     "output_type": "stream",
     "text": [
      "SET 9860 EXP+FUM FUM+EXP\n"
     ]
    },
    {
     "name": "stderr",
     "output_type": "stream",
     "text": [
      "/tmp/ipykernel_7352/2071744375.py:6: UserWarning: Boolean Series key will be reindexed to match DataFrame index.\n",
      "  remaining=remaining[mcl_df[\"Written\"]!=1]\n"
     ]
    },
    {
     "name": "stdout",
     "output_type": "stream",
     "text": [
      "SET 19955 INA INAC\n"
     ]
    },
    {
     "name": "stderr",
     "output_type": "stream",
     "text": [
      "/tmp/ipykernel_7352/2071744375.py:6: UserWarning: Boolean Series key will be reindexed to match DataFrame index.\n",
      "  remaining=remaining[mcl_df[\"Written\"]!=1]\n"
     ]
    },
    {
     "name": "stdout",
     "output_type": "stream",
     "text": [
      "SET 15079 EXP EXP\n"
     ]
    },
    {
     "name": "stderr",
     "output_type": "stream",
     "text": [
      "/tmp/ipykernel_7352/2071744375.py:6: UserWarning: Boolean Series key will be reindexed to match DataFrame index.\n",
      "  remaining=remaining[mcl_df[\"Written\"]!=1]\n"
     ]
    },
    {
     "name": "stdout",
     "output_type": "stream",
     "text": [
      "SET 17648 FUM FUM\n"
     ]
    },
    {
     "name": "stderr",
     "output_type": "stream",
     "text": [
      "/tmp/ipykernel_7352/2071744375.py:6: UserWarning: Boolean Series key will be reindexed to match DataFrame index.\n",
      "  remaining=remaining[mcl_df[\"Written\"]!=1]\n"
     ]
    },
    {
     "name": "stdout",
     "output_type": "stream",
     "text": [
      "SET 3920 INA INAC\n"
     ]
    },
    {
     "name": "stderr",
     "output_type": "stream",
     "text": [
      "/tmp/ipykernel_7352/2071744375.py:6: UserWarning: Boolean Series key will be reindexed to match DataFrame index.\n",
      "  remaining=remaining[mcl_df[\"Written\"]!=1]\n"
     ]
    },
    {
     "name": "stdout",
     "output_type": "stream",
     "text": [
      "SET 7149 FUM FUM\n"
     ]
    },
    {
     "name": "stderr",
     "output_type": "stream",
     "text": [
      "/tmp/ipykernel_7352/2071744375.py:6: UserWarning: Boolean Series key will be reindexed to match DataFrame index.\n",
      "  remaining=remaining[mcl_df[\"Written\"]!=1]\n"
     ]
    },
    {
     "name": "stdout",
     "output_type": "stream",
     "text": [
      "SET 15265 UNK UNK\n"
     ]
    },
    {
     "name": "stderr",
     "output_type": "stream",
     "text": [
      "/tmp/ipykernel_7352/2071744375.py:6: UserWarning: Boolean Series key will be reindexed to match DataFrame index.\n",
      "  remaining=remaining[mcl_df[\"Written\"]!=1]\n"
     ]
    },
    {
     "name": "stdout",
     "output_type": "stream",
     "text": [
      "SET 4321 FUM FUM\n"
     ]
    },
    {
     "name": "stderr",
     "output_type": "stream",
     "text": [
      "/tmp/ipykernel_7352/2071744375.py:6: UserWarning: Boolean Series key will be reindexed to match DataFrame index.\n",
      "  remaining=remaining[mcl_df[\"Written\"]!=1]\n"
     ]
    },
    {
     "name": "stdout",
     "output_type": "stream",
     "text": [
      "SET 17576 EXP+FUM FUM+EXP\n"
     ]
    },
    {
     "name": "stderr",
     "output_type": "stream",
     "text": [
      "/tmp/ipykernel_7352/2071744375.py:6: UserWarning: Boolean Series key will be reindexed to match DataFrame index.\n",
      "  remaining=remaining[mcl_df[\"Written\"]!=1]\n"
     ]
    },
    {
     "name": "stdout",
     "output_type": "stream",
     "text": [
      "SET 4243 FUM FUM\n"
     ]
    },
    {
     "name": "stderr",
     "output_type": "stream",
     "text": [
      "/tmp/ipykernel_7352/2071744375.py:6: UserWarning: Boolean Series key will be reindexed to match DataFrame index.\n",
      "  remaining=remaining[mcl_df[\"Written\"]!=1]\n"
     ]
    },
    {
     "name": "stdout",
     "output_type": "stream",
     "text": [
      "SET 5994 UNK UNK\n"
     ]
    },
    {
     "name": "stderr",
     "output_type": "stream",
     "text": [
      "/tmp/ipykernel_7352/2071744375.py:6: UserWarning: Boolean Series key will be reindexed to match DataFrame index.\n",
      "  remaining=remaining[mcl_df[\"Written\"]!=1]\n"
     ]
    },
    {
     "name": "stdout",
     "output_type": "stream",
     "text": [
      "SET 9400 EXP+FUM FUM+EXP\n"
     ]
    },
    {
     "name": "stderr",
     "output_type": "stream",
     "text": [
      "/tmp/ipykernel_7352/2071744375.py:6: UserWarning: Boolean Series key will be reindexed to match DataFrame index.\n",
      "  remaining=remaining[mcl_df[\"Written\"]!=1]\n"
     ]
    },
    {
     "name": "stdout",
     "output_type": "stream",
     "text": [
      "SET 4015 INA INAC\n"
     ]
    },
    {
     "name": "stderr",
     "output_type": "stream",
     "text": [
      "/tmp/ipykernel_7352/2071744375.py:6: UserWarning: Boolean Series key will be reindexed to match DataFrame index.\n",
      "  remaining=remaining[mcl_df[\"Written\"]!=1]\n"
     ]
    },
    {
     "name": "stdout",
     "output_type": "stream",
     "text": [
      "SET 2232 FUM FUM\n"
     ]
    },
    {
     "name": "stderr",
     "output_type": "stream",
     "text": [
      "/tmp/ipykernel_7352/2071744375.py:6: UserWarning: Boolean Series key will be reindexed to match DataFrame index.\n",
      "  remaining=remaining[mcl_df[\"Written\"]!=1]\n"
     ]
    },
    {
     "name": "stdout",
     "output_type": "stream",
     "text": [
      "SET 13609 UNK UNK\n"
     ]
    },
    {
     "name": "stderr",
     "output_type": "stream",
     "text": [
      "/tmp/ipykernel_7352/2071744375.py:6: UserWarning: Boolean Series key will be reindexed to match DataFrame index.\n",
      "  remaining=remaining[mcl_df[\"Written\"]!=1]\n"
     ]
    },
    {
     "name": "stdout",
     "output_type": "stream",
     "text": [
      "SET 10499 EXP+FUM FUM+EXP\n"
     ]
    },
    {
     "name": "stderr",
     "output_type": "stream",
     "text": [
      "/tmp/ipykernel_7352/2071744375.py:6: UserWarning: Boolean Series key will be reindexed to match DataFrame index.\n",
      "  remaining=remaining[mcl_df[\"Written\"]!=1]\n"
     ]
    },
    {
     "name": "stdout",
     "output_type": "stream",
     "text": [
      "SET 5895 EXP+FUM FUM+EXP\n"
     ]
    },
    {
     "name": "stderr",
     "output_type": "stream",
     "text": [
      "/tmp/ipykernel_7352/2071744375.py:6: UserWarning: Boolean Series key will be reindexed to match DataFrame index.\n",
      "  remaining=remaining[mcl_df[\"Written\"]!=1]\n"
     ]
    },
    {
     "name": "stdout",
     "output_type": "stream",
     "text": [
      "SET 6896 FUM FUM\n"
     ]
    },
    {
     "name": "stderr",
     "output_type": "stream",
     "text": [
      "/tmp/ipykernel_7352/2071744375.py:6: UserWarning: Boolean Series key will be reindexed to match DataFrame index.\n",
      "  remaining=remaining[mcl_df[\"Written\"]!=1]\n"
     ]
    },
    {
     "name": "stdout",
     "output_type": "stream",
     "text": [
      "SET 15287 FUM FUM\n"
     ]
    },
    {
     "name": "stderr",
     "output_type": "stream",
     "text": [
      "/tmp/ipykernel_7352/2071744375.py:6: UserWarning: Boolean Series key will be reindexed to match DataFrame index.\n",
      "  remaining=remaining[mcl_df[\"Written\"]!=1]\n"
     ]
    },
    {
     "name": "stdout",
     "output_type": "stream",
     "text": [
      "SET 16220 EXP+FUM FUM+EXP\n"
     ]
    },
    {
     "name": "stderr",
     "output_type": "stream",
     "text": [
      "/tmp/ipykernel_7352/2071744375.py:6: UserWarning: Boolean Series key will be reindexed to match DataFrame index.\n",
      "  remaining=remaining[mcl_df[\"Written\"]!=1]\n"
     ]
    },
    {
     "name": "stdout",
     "output_type": "stream",
     "text": [
      "SET 5340 INA INAC\n"
     ]
    },
    {
     "name": "stderr",
     "output_type": "stream",
     "text": [
      "/tmp/ipykernel_7352/2071744375.py:6: UserWarning: Boolean Series key will be reindexed to match DataFrame index.\n",
      "  remaining=remaining[mcl_df[\"Written\"]!=1]\n"
     ]
    },
    {
     "name": "stdout",
     "output_type": "stream",
     "text": [
      "SET 12103 EXP+FUM FUM+EXP\n"
     ]
    },
    {
     "name": "stderr",
     "output_type": "stream",
     "text": [
      "/tmp/ipykernel_7352/2071744375.py:6: UserWarning: Boolean Series key will be reindexed to match DataFrame index.\n",
      "  remaining=remaining[mcl_df[\"Written\"]!=1]\n"
     ]
    },
    {
     "name": "stdout",
     "output_type": "stream",
     "text": [
      "SET 18440 EXP+FUM FUM+EXP\n"
     ]
    },
    {
     "name": "stderr",
     "output_type": "stream",
     "text": [
      "/tmp/ipykernel_7352/2071744375.py:6: UserWarning: Boolean Series key will be reindexed to match DataFrame index.\n",
      "  remaining=remaining[mcl_df[\"Written\"]!=1]\n"
     ]
    },
    {
     "name": "stdout",
     "output_type": "stream",
     "text": [
      "SET 15310 EXP+FUM FUM+EXP\n"
     ]
    },
    {
     "name": "stderr",
     "output_type": "stream",
     "text": [
      "/tmp/ipykernel_7352/2071744375.py:6: UserWarning: Boolean Series key will be reindexed to match DataFrame index.\n",
      "  remaining=remaining[mcl_df[\"Written\"]!=1]\n"
     ]
    },
    {
     "name": "stdout",
     "output_type": "stream",
     "text": [
      "SET 671 INA INAC\n"
     ]
    },
    {
     "name": "stderr",
     "output_type": "stream",
     "text": [
      "/tmp/ipykernel_7352/2071744375.py:6: UserWarning: Boolean Series key will be reindexed to match DataFrame index.\n",
      "  remaining=remaining[mcl_df[\"Written\"]!=1]\n"
     ]
    },
    {
     "name": "stdout",
     "output_type": "stream",
     "text": [
      "SET 16233 INA INAC\n"
     ]
    },
    {
     "name": "stderr",
     "output_type": "stream",
     "text": [
      "/tmp/ipykernel_7352/2071744375.py:6: UserWarning: Boolean Series key will be reindexed to match DataFrame index.\n",
      "  remaining=remaining[mcl_df[\"Written\"]!=1]\n"
     ]
    },
    {
     "name": "stdout",
     "output_type": "stream",
     "text": [
      "SET 16920 EXP+FUM FUM+EXP\n"
     ]
    },
    {
     "name": "stderr",
     "output_type": "stream",
     "text": [
      "/tmp/ipykernel_7352/2071744375.py:6: UserWarning: Boolean Series key will be reindexed to match DataFrame index.\n",
      "  remaining=remaining[mcl_df[\"Written\"]!=1]\n"
     ]
    },
    {
     "name": "stdout",
     "output_type": "stream",
     "text": [
      "SET 4427 FUM FUM\n"
     ]
    },
    {
     "name": "stderr",
     "output_type": "stream",
     "text": [
      "/tmp/ipykernel_7352/2071744375.py:6: UserWarning: Boolean Series key will be reindexed to match DataFrame index.\n",
      "  remaining=remaining[mcl_df[\"Written\"]!=1]\n"
     ]
    },
    {
     "name": "stdout",
     "output_type": "stream",
     "text": [
      "SET 1840 FUM FUM\n"
     ]
    },
    {
     "name": "stderr",
     "output_type": "stream",
     "text": [
      "/tmp/ipykernel_7352/2071744375.py:6: UserWarning: Boolean Series key will be reindexed to match DataFrame index.\n",
      "  remaining=remaining[mcl_df[\"Written\"]!=1]\n"
     ]
    },
    {
     "name": "stdout",
     "output_type": "stream",
     "text": [
      "SET 13499 EXP+FUM FUM+EXP\n"
     ]
    },
    {
     "name": "stderr",
     "output_type": "stream",
     "text": [
      "/tmp/ipykernel_7352/2071744375.py:6: UserWarning: Boolean Series key will be reindexed to match DataFrame index.\n",
      "  remaining=remaining[mcl_df[\"Written\"]!=1]\n"
     ]
    },
    {
     "name": "stdout",
     "output_type": "stream",
     "text": [
      "SET 3548 FUM FUM\n"
     ]
    },
    {
     "name": "stderr",
     "output_type": "stream",
     "text": [
      "/tmp/ipykernel_7352/2071744375.py:6: UserWarning: Boolean Series key will be reindexed to match DataFrame index.\n",
      "  remaining=remaining[mcl_df[\"Written\"]!=1]\n"
     ]
    },
    {
     "name": "stdout",
     "output_type": "stream",
     "text": [
      "SET 7756 FUM FUM\n"
     ]
    },
    {
     "name": "stderr",
     "output_type": "stream",
     "text": [
      "/tmp/ipykernel_7352/2071744375.py:6: UserWarning: Boolean Series key will be reindexed to match DataFrame index.\n",
      "  remaining=remaining[mcl_df[\"Written\"]!=1]\n"
     ]
    },
    {
     "name": "stdout",
     "output_type": "stream",
     "text": [
      "SET 2680 INA INAC\n"
     ]
    },
    {
     "name": "stderr",
     "output_type": "stream",
     "text": [
      "/tmp/ipykernel_7352/2071744375.py:6: UserWarning: Boolean Series key will be reindexed to match DataFrame index.\n",
      "  remaining=remaining[mcl_df[\"Written\"]!=1]\n"
     ]
    },
    {
     "name": "stdout",
     "output_type": "stream",
     "text": [
      "SET 15086 EXP+FUM FUM+EXP\n"
     ]
    },
    {
     "name": "stderr",
     "output_type": "stream",
     "text": [
      "/tmp/ipykernel_7352/2071744375.py:6: UserWarning: Boolean Series key will be reindexed to match DataFrame index.\n",
      "  remaining=remaining[mcl_df[\"Written\"]!=1]\n"
     ]
    },
    {
     "name": "stdout",
     "output_type": "stream",
     "text": [
      "SET 11147 EXP+FUM FUM+EXP\n"
     ]
    },
    {
     "name": "stderr",
     "output_type": "stream",
     "text": [
      "/tmp/ipykernel_7352/2071744375.py:6: UserWarning: Boolean Series key will be reindexed to match DataFrame index.\n",
      "  remaining=remaining[mcl_df[\"Written\"]!=1]\n"
     ]
    },
    {
     "name": "stdout",
     "output_type": "stream",
     "text": [
      "SET 2466 INA INAC\n"
     ]
    },
    {
     "name": "stderr",
     "output_type": "stream",
     "text": [
      "/tmp/ipykernel_7352/2071744375.py:6: UserWarning: Boolean Series key will be reindexed to match DataFrame index.\n",
      "  remaining=remaining[mcl_df[\"Written\"]!=1]\n"
     ]
    },
    {
     "name": "stdout",
     "output_type": "stream",
     "text": [
      "SET 6428 FUM FUM\n"
     ]
    },
    {
     "name": "stderr",
     "output_type": "stream",
     "text": [
      "/tmp/ipykernel_7352/2071744375.py:6: UserWarning: Boolean Series key will be reindexed to match DataFrame index.\n",
      "  remaining=remaining[mcl_df[\"Written\"]!=1]\n"
     ]
    },
    {
     "name": "stdout",
     "output_type": "stream",
     "text": [
      "SET 17503 EXP+FUM FUM+EXP\n"
     ]
    },
    {
     "name": "stderr",
     "output_type": "stream",
     "text": [
      "/tmp/ipykernel_7352/2071744375.py:6: UserWarning: Boolean Series key will be reindexed to match DataFrame index.\n",
      "  remaining=remaining[mcl_df[\"Written\"]!=1]\n"
     ]
    },
    {
     "name": "stdout",
     "output_type": "stream",
     "text": [
      "SET 17846 UNK UNK\n"
     ]
    },
    {
     "name": "stderr",
     "output_type": "stream",
     "text": [
      "/tmp/ipykernel_7352/2071744375.py:6: UserWarning: Boolean Series key will be reindexed to match DataFrame index.\n",
      "  remaining=remaining[mcl_df[\"Written\"]!=1]\n"
     ]
    },
    {
     "name": "stdout",
     "output_type": "stream",
     "text": [
      "SET 11169 EXP+FUM FUM+EXP\n"
     ]
    },
    {
     "name": "stderr",
     "output_type": "stream",
     "text": [
      "/tmp/ipykernel_7352/2071744375.py:6: UserWarning: Boolean Series key will be reindexed to match DataFrame index.\n",
      "  remaining=remaining[mcl_df[\"Written\"]!=1]\n"
     ]
    },
    {
     "name": "stdout",
     "output_type": "stream",
     "text": [
      "SET 19505 UNK UNK\n"
     ]
    },
    {
     "name": "stderr",
     "output_type": "stream",
     "text": [
      "/tmp/ipykernel_7352/2071744375.py:6: UserWarning: Boolean Series key will be reindexed to match DataFrame index.\n",
      "  remaining=remaining[mcl_df[\"Written\"]!=1]\n"
     ]
    },
    {
     "name": "stdout",
     "output_type": "stream",
     "text": [
      "SET 2830 FUM FUM\n"
     ]
    },
    {
     "name": "stderr",
     "output_type": "stream",
     "text": [
      "/tmp/ipykernel_7352/2071744375.py:6: UserWarning: Boolean Series key will be reindexed to match DataFrame index.\n",
      "  remaining=remaining[mcl_df[\"Written\"]!=1]\n"
     ]
    },
    {
     "name": "stdout",
     "output_type": "stream",
     "text": [
      "SET 7976 UNK UNK\n"
     ]
    },
    {
     "name": "stderr",
     "output_type": "stream",
     "text": [
      "/tmp/ipykernel_7352/2071744375.py:6: UserWarning: Boolean Series key will be reindexed to match DataFrame index.\n",
      "  remaining=remaining[mcl_df[\"Written\"]!=1]\n"
     ]
    },
    {
     "name": "stdout",
     "output_type": "stream",
     "text": [
      "SET 18043 FUM FUM\n"
     ]
    },
    {
     "name": "stderr",
     "output_type": "stream",
     "text": [
      "/tmp/ipykernel_7352/2071744375.py:6: UserWarning: Boolean Series key will be reindexed to match DataFrame index.\n",
      "  remaining=remaining[mcl_df[\"Written\"]!=1]\n"
     ]
    },
    {
     "name": "stdout",
     "output_type": "stream",
     "text": [
      "SET 19611 EXP+FUM FUM+EXP\n"
     ]
    },
    {
     "name": "stderr",
     "output_type": "stream",
     "text": [
      "/tmp/ipykernel_7352/2071744375.py:6: UserWarning: Boolean Series key will be reindexed to match DataFrame index.\n",
      "  remaining=remaining[mcl_df[\"Written\"]!=1]\n"
     ]
    },
    {
     "name": "stdout",
     "output_type": "stream",
     "text": [
      "SET 13959 INA INAC\n"
     ]
    },
    {
     "name": "stderr",
     "output_type": "stream",
     "text": [
      "/tmp/ipykernel_7352/2071744375.py:6: UserWarning: Boolean Series key will be reindexed to match DataFrame index.\n",
      "  remaining=remaining[mcl_df[\"Written\"]!=1]\n"
     ]
    },
    {
     "name": "stdout",
     "output_type": "stream",
     "text": [
      "SET 8848 EXP+FUM FUM+EXP\n"
     ]
    },
    {
     "name": "stderr",
     "output_type": "stream",
     "text": [
      "/tmp/ipykernel_7352/2071744375.py:6: UserWarning: Boolean Series key will be reindexed to match DataFrame index.\n",
      "  remaining=remaining[mcl_df[\"Written\"]!=1]\n"
     ]
    },
    {
     "name": "stdout",
     "output_type": "stream",
     "text": [
      "SET 5351 EXP+FUM FUM+EXP\n"
     ]
    },
    {
     "name": "stderr",
     "output_type": "stream",
     "text": [
      "/tmp/ipykernel_7352/2071744375.py:6: UserWarning: Boolean Series key will be reindexed to match DataFrame index.\n",
      "  remaining=remaining[mcl_df[\"Written\"]!=1]\n"
     ]
    },
    {
     "name": "stdout",
     "output_type": "stream",
     "text": [
      "SET 10745 FUM FUM\n"
     ]
    },
    {
     "name": "stderr",
     "output_type": "stream",
     "text": [
      "/tmp/ipykernel_7352/2071744375.py:6: UserWarning: Boolean Series key will be reindexed to match DataFrame index.\n",
      "  remaining=remaining[mcl_df[\"Written\"]!=1]\n"
     ]
    },
    {
     "name": "stdout",
     "output_type": "stream",
     "text": [
      "SET 21238 EXP+FUM FUM+EXP\n"
     ]
    },
    {
     "name": "stderr",
     "output_type": "stream",
     "text": [
      "/tmp/ipykernel_7352/2071744375.py:6: UserWarning: Boolean Series key will be reindexed to match DataFrame index.\n",
      "  remaining=remaining[mcl_df[\"Written\"]!=1]\n"
     ]
    },
    {
     "name": "stdout",
     "output_type": "stream",
     "text": [
      "SET 19617 INA INAC\n"
     ]
    },
    {
     "name": "stderr",
     "output_type": "stream",
     "text": [
      "/tmp/ipykernel_7352/2071744375.py:6: UserWarning: Boolean Series key will be reindexed to match DataFrame index.\n",
      "  remaining=remaining[mcl_df[\"Written\"]!=1]\n"
     ]
    },
    {
     "name": "stdout",
     "output_type": "stream",
     "text": [
      "SET 19365 INA INAC\n"
     ]
    },
    {
     "name": "stderr",
     "output_type": "stream",
     "text": [
      "/tmp/ipykernel_7352/2071744375.py:6: UserWarning: Boolean Series key will be reindexed to match DataFrame index.\n",
      "  remaining=remaining[mcl_df[\"Written\"]!=1]\n"
     ]
    },
    {
     "name": "stdout",
     "output_type": "stream",
     "text": [
      "SET 10084 EXP+FUM FUM+EXP\n"
     ]
    },
    {
     "name": "stderr",
     "output_type": "stream",
     "text": [
      "/tmp/ipykernel_7352/2071744375.py:6: UserWarning: Boolean Series key will be reindexed to match DataFrame index.\n",
      "  remaining=remaining[mcl_df[\"Written\"]!=1]\n"
     ]
    },
    {
     "name": "stdout",
     "output_type": "stream",
     "text": [
      "SET 15031 UNK UNK\n"
     ]
    },
    {
     "name": "stderr",
     "output_type": "stream",
     "text": [
      "/tmp/ipykernel_7352/2071744375.py:6: UserWarning: Boolean Series key will be reindexed to match DataFrame index.\n",
      "  remaining=remaining[mcl_df[\"Written\"]!=1]\n"
     ]
    },
    {
     "name": "stdout",
     "output_type": "stream",
     "text": [
      "SET 8668 FUM FUM\n"
     ]
    },
    {
     "name": "stderr",
     "output_type": "stream",
     "text": [
      "/tmp/ipykernel_7352/2071744375.py:6: UserWarning: Boolean Series key will be reindexed to match DataFrame index.\n",
      "  remaining=remaining[mcl_df[\"Written\"]!=1]\n"
     ]
    },
    {
     "name": "stdout",
     "output_type": "stream",
     "text": [
      "SET 20063 FUM FUM\n"
     ]
    },
    {
     "name": "stderr",
     "output_type": "stream",
     "text": [
      "/tmp/ipykernel_7352/2071744375.py:6: UserWarning: Boolean Series key will be reindexed to match DataFrame index.\n",
      "  remaining=remaining[mcl_df[\"Written\"]!=1]\n"
     ]
    },
    {
     "name": "stdout",
     "output_type": "stream",
     "text": [
      "SET 7723 FUM FUM\n"
     ]
    },
    {
     "name": "stderr",
     "output_type": "stream",
     "text": [
      "/tmp/ipykernel_7352/2071744375.py:6: UserWarning: Boolean Series key will be reindexed to match DataFrame index.\n",
      "  remaining=remaining[mcl_df[\"Written\"]!=1]\n"
     ]
    },
    {
     "name": "stdout",
     "output_type": "stream",
     "text": [
      "SET 18239 EXP+FUM FUM+EXP\n"
     ]
    },
    {
     "name": "stderr",
     "output_type": "stream",
     "text": [
      "/tmp/ipykernel_7352/2071744375.py:6: UserWarning: Boolean Series key will be reindexed to match DataFrame index.\n",
      "  remaining=remaining[mcl_df[\"Written\"]!=1]\n"
     ]
    },
    {
     "name": "stdout",
     "output_type": "stream",
     "text": [
      "SET 16379 UNK UNK\n"
     ]
    },
    {
     "name": "stderr",
     "output_type": "stream",
     "text": [
      "/tmp/ipykernel_7352/2071744375.py:6: UserWarning: Boolean Series key will be reindexed to match DataFrame index.\n",
      "  remaining=remaining[mcl_df[\"Written\"]!=1]\n"
     ]
    },
    {
     "name": "stdout",
     "output_type": "stream",
     "text": [
      "SET 15729 EXP EXP\n"
     ]
    },
    {
     "name": "stderr",
     "output_type": "stream",
     "text": [
      "/tmp/ipykernel_7352/2071744375.py:6: UserWarning: Boolean Series key will be reindexed to match DataFrame index.\n",
      "  remaining=remaining[mcl_df[\"Written\"]!=1]\n"
     ]
    },
    {
     "name": "stdout",
     "output_type": "stream",
     "text": [
      "SET 12418 FUM FUM\n"
     ]
    },
    {
     "name": "stderr",
     "output_type": "stream",
     "text": [
      "/tmp/ipykernel_7352/2071744375.py:6: UserWarning: Boolean Series key will be reindexed to match DataFrame index.\n",
      "  remaining=remaining[mcl_df[\"Written\"]!=1]\n"
     ]
    },
    {
     "name": "stdout",
     "output_type": "stream",
     "text": [
      "SET 6384 EXP+FUM FUM+EXP\n"
     ]
    },
    {
     "name": "stderr",
     "output_type": "stream",
     "text": [
      "/tmp/ipykernel_7352/2071744375.py:6: UserWarning: Boolean Series key will be reindexed to match DataFrame index.\n",
      "  remaining=remaining[mcl_df[\"Written\"]!=1]\n"
     ]
    },
    {
     "name": "stdout",
     "output_type": "stream",
     "text": [
      "SET 6151 UNK UNK\n"
     ]
    },
    {
     "name": "stderr",
     "output_type": "stream",
     "text": [
      "/tmp/ipykernel_7352/2071744375.py:6: UserWarning: Boolean Series key will be reindexed to match DataFrame index.\n",
      "  remaining=remaining[mcl_df[\"Written\"]!=1]\n"
     ]
    },
    {
     "name": "stdout",
     "output_type": "stream",
     "text": [
      "SET 14605 UNK UNK\n"
     ]
    },
    {
     "name": "stderr",
     "output_type": "stream",
     "text": [
      "/tmp/ipykernel_7352/2071744375.py:6: UserWarning: Boolean Series key will be reindexed to match DataFrame index.\n",
      "  remaining=remaining[mcl_df[\"Written\"]!=1]\n"
     ]
    },
    {
     "name": "stdout",
     "output_type": "stream",
     "text": [
      "SET 9490 UNK UNK\n"
     ]
    },
    {
     "name": "stderr",
     "output_type": "stream",
     "text": [
      "/tmp/ipykernel_7352/2071744375.py:6: UserWarning: Boolean Series key will be reindexed to match DataFrame index.\n",
      "  remaining=remaining[mcl_df[\"Written\"]!=1]\n"
     ]
    },
    {
     "name": "stdout",
     "output_type": "stream",
     "text": [
      "SET 9334 UNK UNK\n"
     ]
    },
    {
     "name": "stderr",
     "output_type": "stream",
     "text": [
      "/tmp/ipykernel_7352/2071744375.py:6: UserWarning: Boolean Series key will be reindexed to match DataFrame index.\n",
      "  remaining=remaining[mcl_df[\"Written\"]!=1]\n"
     ]
    },
    {
     "name": "stdout",
     "output_type": "stream",
     "text": [
      "SET 18359 INA INAC\n"
     ]
    },
    {
     "name": "stderr",
     "output_type": "stream",
     "text": [
      "/tmp/ipykernel_7352/2071744375.py:6: UserWarning: Boolean Series key will be reindexed to match DataFrame index.\n",
      "  remaining=remaining[mcl_df[\"Written\"]!=1]\n"
     ]
    },
    {
     "name": "stdout",
     "output_type": "stream",
     "text": [
      "SET 10033 FUM FUM\n"
     ]
    },
    {
     "name": "stderr",
     "output_type": "stream",
     "text": [
      "/tmp/ipykernel_7352/2071744375.py:6: UserWarning: Boolean Series key will be reindexed to match DataFrame index.\n",
      "  remaining=remaining[mcl_df[\"Written\"]!=1]\n"
     ]
    },
    {
     "name": "stdout",
     "output_type": "stream",
     "text": [
      "SET 18080 EXP EXP\n"
     ]
    },
    {
     "name": "stderr",
     "output_type": "stream",
     "text": [
      "/tmp/ipykernel_7352/2071744375.py:6: UserWarning: Boolean Series key will be reindexed to match DataFrame index.\n",
      "  remaining=remaining[mcl_df[\"Written\"]!=1]\n"
     ]
    },
    {
     "name": "stdout",
     "output_type": "stream",
     "text": [
      "SET 6340 EXP+FUM FUM+EXP\n"
     ]
    },
    {
     "name": "stderr",
     "output_type": "stream",
     "text": [
      "/tmp/ipykernel_7352/2071744375.py:6: UserWarning: Boolean Series key will be reindexed to match DataFrame index.\n",
      "  remaining=remaining[mcl_df[\"Written\"]!=1]\n"
     ]
    },
    {
     "name": "stdout",
     "output_type": "stream",
     "text": [
      "SET 15042 FUM FUM\n"
     ]
    },
    {
     "name": "stderr",
     "output_type": "stream",
     "text": [
      "/tmp/ipykernel_7352/2071744375.py:6: UserWarning: Boolean Series key will be reindexed to match DataFrame index.\n",
      "  remaining=remaining[mcl_df[\"Written\"]!=1]\n"
     ]
    },
    {
     "name": "stdout",
     "output_type": "stream",
     "text": [
      "SET 12891 UNK UNK\n"
     ]
    },
    {
     "name": "stderr",
     "output_type": "stream",
     "text": [
      "/tmp/ipykernel_7352/2071744375.py:6: UserWarning: Boolean Series key will be reindexed to match DataFrame index.\n",
      "  remaining=remaining[mcl_df[\"Written\"]!=1]\n"
     ]
    },
    {
     "name": "stdout",
     "output_type": "stream",
     "text": [
      "SET 13968 EXP+FUM FUM+EXP\n"
     ]
    },
    {
     "name": "stderr",
     "output_type": "stream",
     "text": [
      "/tmp/ipykernel_7352/2071744375.py:6: UserWarning: Boolean Series key will be reindexed to match DataFrame index.\n",
      "  remaining=remaining[mcl_df[\"Written\"]!=1]\n"
     ]
    },
    {
     "name": "stdout",
     "output_type": "stream",
     "text": [
      "SET 1819 INA INAC\n"
     ]
    },
    {
     "name": "stderr",
     "output_type": "stream",
     "text": [
      "/tmp/ipykernel_7352/2071744375.py:6: UserWarning: Boolean Series key will be reindexed to match DataFrame index.\n",
      "  remaining=remaining[mcl_df[\"Written\"]!=1]\n"
     ]
    },
    {
     "name": "stdout",
     "output_type": "stream",
     "text": [
      "SET 16175 EXP EXP\n"
     ]
    },
    {
     "name": "stderr",
     "output_type": "stream",
     "text": [
      "/tmp/ipykernel_7352/2071744375.py:6: UserWarning: Boolean Series key will be reindexed to match DataFrame index.\n",
      "  remaining=remaining[mcl_df[\"Written\"]!=1]\n"
     ]
    },
    {
     "name": "stdout",
     "output_type": "stream",
     "text": [
      "SET 13222 EXP+FUM FUM+EXP\n"
     ]
    },
    {
     "name": "stderr",
     "output_type": "stream",
     "text": [
      "/tmp/ipykernel_7352/2071744375.py:6: UserWarning: Boolean Series key will be reindexed to match DataFrame index.\n",
      "  remaining=remaining[mcl_df[\"Written\"]!=1]\n"
     ]
    },
    {
     "name": "stdout",
     "output_type": "stream",
     "text": [
      "SET 17533 EXP+FUM FUM+EXP\n"
     ]
    },
    {
     "name": "stderr",
     "output_type": "stream",
     "text": [
      "/tmp/ipykernel_7352/2071744375.py:6: UserWarning: Boolean Series key will be reindexed to match DataFrame index.\n",
      "  remaining=remaining[mcl_df[\"Written\"]!=1]\n"
     ]
    },
    {
     "name": "stdout",
     "output_type": "stream",
     "text": [
      "SET 8877 FUM FUM\n"
     ]
    },
    {
     "name": "stderr",
     "output_type": "stream",
     "text": [
      "/tmp/ipykernel_7352/2071744375.py:6: UserWarning: Boolean Series key will be reindexed to match DataFrame index.\n",
      "  remaining=remaining[mcl_df[\"Written\"]!=1]\n"
     ]
    },
    {
     "name": "stdout",
     "output_type": "stream",
     "text": [
      "SET 6841 FUM FUM\n"
     ]
    },
    {
     "name": "stderr",
     "output_type": "stream",
     "text": [
      "/tmp/ipykernel_7352/2071744375.py:6: UserWarning: Boolean Series key will be reindexed to match DataFrame index.\n",
      "  remaining=remaining[mcl_df[\"Written\"]!=1]\n"
     ]
    },
    {
     "name": "stdout",
     "output_type": "stream",
     "text": [
      "SET 14340 EXP+FUM FUM+EXP\n"
     ]
    },
    {
     "name": "stderr",
     "output_type": "stream",
     "text": [
      "/tmp/ipykernel_7352/2071744375.py:6: UserWarning: Boolean Series key will be reindexed to match DataFrame index.\n",
      "  remaining=remaining[mcl_df[\"Written\"]!=1]\n"
     ]
    },
    {
     "name": "stdout",
     "output_type": "stream",
     "text": [
      "SET 3185 FUM FUM\n"
     ]
    },
    {
     "name": "stderr",
     "output_type": "stream",
     "text": [
      "/tmp/ipykernel_7352/2071744375.py:6: UserWarning: Boolean Series key will be reindexed to match DataFrame index.\n",
      "  remaining=remaining[mcl_df[\"Written\"]!=1]\n"
     ]
    },
    {
     "name": "stdout",
     "output_type": "stream",
     "text": [
      "SET 6342 EXP EXP\n"
     ]
    },
    {
     "name": "stderr",
     "output_type": "stream",
     "text": [
      "/tmp/ipykernel_7352/2071744375.py:6: UserWarning: Boolean Series key will be reindexed to match DataFrame index.\n",
      "  remaining=remaining[mcl_df[\"Written\"]!=1]\n"
     ]
    },
    {
     "name": "stdout",
     "output_type": "stream",
     "text": [
      "SET 13865 FUM FUM\n"
     ]
    },
    {
     "name": "stderr",
     "output_type": "stream",
     "text": [
      "/tmp/ipykernel_7352/2071744375.py:6: UserWarning: Boolean Series key will be reindexed to match DataFrame index.\n",
      "  remaining=remaining[mcl_df[\"Written\"]!=1]\n"
     ]
    },
    {
     "name": "stdout",
     "output_type": "stream",
     "text": [
      "SET 3417 FUM FUM\n"
     ]
    },
    {
     "name": "stderr",
     "output_type": "stream",
     "text": [
      "/tmp/ipykernel_7352/2071744375.py:6: UserWarning: Boolean Series key will be reindexed to match DataFrame index.\n",
      "  remaining=remaining[mcl_df[\"Written\"]!=1]\n"
     ]
    },
    {
     "name": "stdout",
     "output_type": "stream",
     "text": [
      "SET 16763 INA INAC\n"
     ]
    },
    {
     "name": "stderr",
     "output_type": "stream",
     "text": [
      "/tmp/ipykernel_7352/2071744375.py:6: UserWarning: Boolean Series key will be reindexed to match DataFrame index.\n",
      "  remaining=remaining[mcl_df[\"Written\"]!=1]\n"
     ]
    },
    {
     "name": "stdout",
     "output_type": "stream",
     "text": [
      "SET 9874 EXP+FUM FUM+EXP\n"
     ]
    },
    {
     "name": "stderr",
     "output_type": "stream",
     "text": [
      "/tmp/ipykernel_7352/2071744375.py:6: UserWarning: Boolean Series key will be reindexed to match DataFrame index.\n",
      "  remaining=remaining[mcl_df[\"Written\"]!=1]\n"
     ]
    },
    {
     "name": "stdout",
     "output_type": "stream",
     "text": [
      "SET 12516 EXP+FUM FUM+EXP\n"
     ]
    },
    {
     "name": "stderr",
     "output_type": "stream",
     "text": [
      "/tmp/ipykernel_7352/2071744375.py:6: UserWarning: Boolean Series key will be reindexed to match DataFrame index.\n",
      "  remaining=remaining[mcl_df[\"Written\"]!=1]\n"
     ]
    },
    {
     "name": "stdout",
     "output_type": "stream",
     "text": [
      "SET 10773 FUM FUM\n"
     ]
    },
    {
     "name": "stderr",
     "output_type": "stream",
     "text": [
      "/tmp/ipykernel_7352/2071744375.py:6: UserWarning: Boolean Series key will be reindexed to match DataFrame index.\n",
      "  remaining=remaining[mcl_df[\"Written\"]!=1]\n"
     ]
    },
    {
     "name": "stdout",
     "output_type": "stream",
     "text": [
      "SET 7086 FUM FUM\n"
     ]
    },
    {
     "name": "stderr",
     "output_type": "stream",
     "text": [
      "/tmp/ipykernel_7352/2071744375.py:6: UserWarning: Boolean Series key will be reindexed to match DataFrame index.\n",
      "  remaining=remaining[mcl_df[\"Written\"]!=1]\n"
     ]
    },
    {
     "name": "stdout",
     "output_type": "stream",
     "text": [
      "SET 10962 FUM FUM\n"
     ]
    },
    {
     "name": "stderr",
     "output_type": "stream",
     "text": [
      "/tmp/ipykernel_7352/2071744375.py:6: UserWarning: Boolean Series key will be reindexed to match DataFrame index.\n",
      "  remaining=remaining[mcl_df[\"Written\"]!=1]\n"
     ]
    },
    {
     "name": "stdout",
     "output_type": "stream",
     "text": [
      "SET 6226 FUM FUM\n"
     ]
    },
    {
     "name": "stderr",
     "output_type": "stream",
     "text": [
      "/tmp/ipykernel_7352/2071744375.py:6: UserWarning: Boolean Series key will be reindexed to match DataFrame index.\n",
      "  remaining=remaining[mcl_df[\"Written\"]!=1]\n"
     ]
    },
    {
     "name": "stdout",
     "output_type": "stream",
     "text": [
      "SET 17251 FUM FUM\n"
     ]
    },
    {
     "name": "stderr",
     "output_type": "stream",
     "text": [
      "/tmp/ipykernel_7352/2071744375.py:6: UserWarning: Boolean Series key will be reindexed to match DataFrame index.\n",
      "  remaining=remaining[mcl_df[\"Written\"]!=1]\n"
     ]
    },
    {
     "name": "stdout",
     "output_type": "stream",
     "text": [
      "SET 19870 FUM FUM\n"
     ]
    },
    {
     "name": "stderr",
     "output_type": "stream",
     "text": [
      "/tmp/ipykernel_7352/2071744375.py:6: UserWarning: Boolean Series key will be reindexed to match DataFrame index.\n",
      "  remaining=remaining[mcl_df[\"Written\"]!=1]\n"
     ]
    },
    {
     "name": "stdout",
     "output_type": "stream",
     "text": [
      "SET 13984 FUM FUM\n"
     ]
    },
    {
     "name": "stderr",
     "output_type": "stream",
     "text": [
      "/tmp/ipykernel_7352/2071744375.py:6: UserWarning: Boolean Series key will be reindexed to match DataFrame index.\n",
      "  remaining=remaining[mcl_df[\"Written\"]!=1]\n"
     ]
    },
    {
     "name": "stdout",
     "output_type": "stream",
     "text": [
      "SET 6816 FUM FUM\n"
     ]
    },
    {
     "name": "stderr",
     "output_type": "stream",
     "text": [
      "/tmp/ipykernel_7352/2071744375.py:6: UserWarning: Boolean Series key will be reindexed to match DataFrame index.\n",
      "  remaining=remaining[mcl_df[\"Written\"]!=1]\n"
     ]
    },
    {
     "name": "stdout",
     "output_type": "stream",
     "text": [
      "SET 3531 FUM FUM\n"
     ]
    },
    {
     "name": "stderr",
     "output_type": "stream",
     "text": [
      "/tmp/ipykernel_7352/2071744375.py:6: UserWarning: Boolean Series key will be reindexed to match DataFrame index.\n",
      "  remaining=remaining[mcl_df[\"Written\"]!=1]\n"
     ]
    },
    {
     "name": "stdout",
     "output_type": "stream",
     "text": [
      "SET 17723 INA INAC\n"
     ]
    },
    {
     "name": "stderr",
     "output_type": "stream",
     "text": [
      "/tmp/ipykernel_7352/2071744375.py:6: UserWarning: Boolean Series key will be reindexed to match DataFrame index.\n",
      "  remaining=remaining[mcl_df[\"Written\"]!=1]\n"
     ]
    },
    {
     "name": "stdout",
     "output_type": "stream",
     "text": [
      "SET 15514 EXP+FUM FUM+EXP\n"
     ]
    },
    {
     "name": "stderr",
     "output_type": "stream",
     "text": [
      "/tmp/ipykernel_7352/2071744375.py:6: UserWarning: Boolean Series key will be reindexed to match DataFrame index.\n",
      "  remaining=remaining[mcl_df[\"Written\"]!=1]\n"
     ]
    },
    {
     "name": "stdout",
     "output_type": "stream",
     "text": [
      "SET 14137 FUM FUM\n"
     ]
    },
    {
     "name": "stderr",
     "output_type": "stream",
     "text": [
      "/tmp/ipykernel_7352/2071744375.py:6: UserWarning: Boolean Series key will be reindexed to match DataFrame index.\n",
      "  remaining=remaining[mcl_df[\"Written\"]!=1]\n"
     ]
    },
    {
     "name": "stdout",
     "output_type": "stream",
     "text": [
      "SET 21533 FUM FUM\n"
     ]
    },
    {
     "name": "stderr",
     "output_type": "stream",
     "text": [
      "/tmp/ipykernel_7352/2071744375.py:6: UserWarning: Boolean Series key will be reindexed to match DataFrame index.\n",
      "  remaining=remaining[mcl_df[\"Written\"]!=1]\n"
     ]
    },
    {
     "name": "stdout",
     "output_type": "stream",
     "text": [
      "SET 15764 FUM FUM\n"
     ]
    },
    {
     "name": "stderr",
     "output_type": "stream",
     "text": [
      "/tmp/ipykernel_7352/2071744375.py:6: UserWarning: Boolean Series key will be reindexed to match DataFrame index.\n",
      "  remaining=remaining[mcl_df[\"Written\"]!=1]\n"
     ]
    },
    {
     "name": "stdout",
     "output_type": "stream",
     "text": [
      "SET 17060 FUM FUM\n"
     ]
    },
    {
     "name": "stderr",
     "output_type": "stream",
     "text": [
      "/tmp/ipykernel_7352/2071744375.py:6: UserWarning: Boolean Series key will be reindexed to match DataFrame index.\n",
      "  remaining=remaining[mcl_df[\"Written\"]!=1]\n"
     ]
    },
    {
     "name": "stdout",
     "output_type": "stream",
     "text": [
      "SET 9239 EXP EXP\n"
     ]
    },
    {
     "name": "stderr",
     "output_type": "stream",
     "text": [
      "/tmp/ipykernel_7352/2071744375.py:6: UserWarning: Boolean Series key will be reindexed to match DataFrame index.\n",
      "  remaining=remaining[mcl_df[\"Written\"]!=1]\n"
     ]
    },
    {
     "name": "stdout",
     "output_type": "stream",
     "text": [
      "SET 908 FUM FUM\n"
     ]
    },
    {
     "name": "stderr",
     "output_type": "stream",
     "text": [
      "/tmp/ipykernel_7352/2071744375.py:6: UserWarning: Boolean Series key will be reindexed to match DataFrame index.\n",
      "  remaining=remaining[mcl_df[\"Written\"]!=1]\n"
     ]
    },
    {
     "name": "stdout",
     "output_type": "stream",
     "text": [
      "SET 19334 FUM FUM\n"
     ]
    },
    {
     "name": "stderr",
     "output_type": "stream",
     "text": [
      "/tmp/ipykernel_7352/2071744375.py:6: UserWarning: Boolean Series key will be reindexed to match DataFrame index.\n",
      "  remaining=remaining[mcl_df[\"Written\"]!=1]\n"
     ]
    },
    {
     "name": "stdout",
     "output_type": "stream",
     "text": [
      "SET 18638 INA INAC\n"
     ]
    },
    {
     "name": "stderr",
     "output_type": "stream",
     "text": [
      "/tmp/ipykernel_7352/2071744375.py:6: UserWarning: Boolean Series key will be reindexed to match DataFrame index.\n",
      "  remaining=remaining[mcl_df[\"Written\"]!=1]\n"
     ]
    },
    {
     "name": "stdout",
     "output_type": "stream",
     "text": [
      "SET 5179 FUM FUM\n"
     ]
    },
    {
     "name": "stderr",
     "output_type": "stream",
     "text": [
      "/tmp/ipykernel_7352/2071744375.py:6: UserWarning: Boolean Series key will be reindexed to match DataFrame index.\n",
      "  remaining=remaining[mcl_df[\"Written\"]!=1]\n"
     ]
    },
    {
     "name": "stdout",
     "output_type": "stream",
     "text": [
      "SET 6577 FUM FUM\n"
     ]
    },
    {
     "name": "stderr",
     "output_type": "stream",
     "text": [
      "/tmp/ipykernel_7352/2071744375.py:6: UserWarning: Boolean Series key will be reindexed to match DataFrame index.\n",
      "  remaining=remaining[mcl_df[\"Written\"]!=1]\n"
     ]
    },
    {
     "name": "stdout",
     "output_type": "stream",
     "text": [
      "SET 15102 FUM FUM\n"
     ]
    },
    {
     "name": "stderr",
     "output_type": "stream",
     "text": [
      "/tmp/ipykernel_7352/2071744375.py:6: UserWarning: Boolean Series key will be reindexed to match DataFrame index.\n",
      "  remaining=remaining[mcl_df[\"Written\"]!=1]\n"
     ]
    },
    {
     "name": "stdout",
     "output_type": "stream",
     "text": [
      "SET 20643 FUM FUM\n"
     ]
    },
    {
     "name": "stderr",
     "output_type": "stream",
     "text": [
      "/tmp/ipykernel_7352/2071744375.py:6: UserWarning: Boolean Series key will be reindexed to match DataFrame index.\n",
      "  remaining=remaining[mcl_df[\"Written\"]!=1]\n"
     ]
    },
    {
     "name": "stdout",
     "output_type": "stream",
     "text": [
      "SET 3827 FUM FUM\n"
     ]
    },
    {
     "name": "stderr",
     "output_type": "stream",
     "text": [
      "/tmp/ipykernel_7352/2071744375.py:6: UserWarning: Boolean Series key will be reindexed to match DataFrame index.\n",
      "  remaining=remaining[mcl_df[\"Written\"]!=1]\n"
     ]
    },
    {
     "name": "stdout",
     "output_type": "stream",
     "text": [
      "SET 10516 FUM FUM\n"
     ]
    },
    {
     "name": "stderr",
     "output_type": "stream",
     "text": [
      "/tmp/ipykernel_7352/2071744375.py:6: UserWarning: Boolean Series key will be reindexed to match DataFrame index.\n",
      "  remaining=remaining[mcl_df[\"Written\"]!=1]\n"
     ]
    },
    {
     "name": "stdout",
     "output_type": "stream",
     "text": [
      "SET 3476 UNK UNK\n"
     ]
    },
    {
     "name": "stderr",
     "output_type": "stream",
     "text": [
      "/tmp/ipykernel_7352/2071744375.py:6: UserWarning: Boolean Series key will be reindexed to match DataFrame index.\n",
      "  remaining=remaining[mcl_df[\"Written\"]!=1]\n"
     ]
    },
    {
     "name": "stdout",
     "output_type": "stream",
     "text": [
      "SET 16434 EXP+FUM FUM+EXP\n"
     ]
    },
    {
     "name": "stderr",
     "output_type": "stream",
     "text": [
      "/tmp/ipykernel_7352/2071744375.py:6: UserWarning: Boolean Series key will be reindexed to match DataFrame index.\n",
      "  remaining=remaining[mcl_df[\"Written\"]!=1]\n"
     ]
    },
    {
     "name": "stdout",
     "output_type": "stream",
     "text": [
      "SET 3251 FUM FUM\n"
     ]
    },
    {
     "name": "stderr",
     "output_type": "stream",
     "text": [
      "/tmp/ipykernel_7352/2071744375.py:6: UserWarning: Boolean Series key will be reindexed to match DataFrame index.\n",
      "  remaining=remaining[mcl_df[\"Written\"]!=1]\n"
     ]
    },
    {
     "name": "stdout",
     "output_type": "stream",
     "text": [
      "SET 9300 EXP EXP\n"
     ]
    },
    {
     "name": "stderr",
     "output_type": "stream",
     "text": [
      "/tmp/ipykernel_7352/2071744375.py:6: UserWarning: Boolean Series key will be reindexed to match DataFrame index.\n",
      "  remaining=remaining[mcl_df[\"Written\"]!=1]\n"
     ]
    },
    {
     "name": "stdout",
     "output_type": "stream",
     "text": [
      "SET 6774 EXP+FUM FUM+EXP\n"
     ]
    },
    {
     "name": "stderr",
     "output_type": "stream",
     "text": [
      "/tmp/ipykernel_7352/2071744375.py:6: UserWarning: Boolean Series key will be reindexed to match DataFrame index.\n",
      "  remaining=remaining[mcl_df[\"Written\"]!=1]\n"
     ]
    },
    {
     "name": "stdout",
     "output_type": "stream",
     "text": [
      "SET 13021 EXP+FUM FUM+EXP\n"
     ]
    },
    {
     "name": "stderr",
     "output_type": "stream",
     "text": [
      "/tmp/ipykernel_7352/2071744375.py:6: UserWarning: Boolean Series key will be reindexed to match DataFrame index.\n",
      "  remaining=remaining[mcl_df[\"Written\"]!=1]\n"
     ]
    },
    {
     "name": "stdout",
     "output_type": "stream",
     "text": [
      "SET 8052 UNK UNK\n"
     ]
    },
    {
     "name": "stderr",
     "output_type": "stream",
     "text": [
      "/tmp/ipykernel_7352/2071744375.py:6: UserWarning: Boolean Series key will be reindexed to match DataFrame index.\n",
      "  remaining=remaining[mcl_df[\"Written\"]!=1]\n"
     ]
    },
    {
     "name": "stdout",
     "output_type": "stream",
     "text": [
      "SET 20889 INA INAC\n"
     ]
    },
    {
     "name": "stderr",
     "output_type": "stream",
     "text": [
      "/tmp/ipykernel_7352/2071744375.py:6: UserWarning: Boolean Series key will be reindexed to match DataFrame index.\n",
      "  remaining=remaining[mcl_df[\"Written\"]!=1]\n"
     ]
    },
    {
     "name": "stdout",
     "output_type": "stream",
     "text": [
      "SET 2587 FUM FUM\n"
     ]
    },
    {
     "name": "stderr",
     "output_type": "stream",
     "text": [
      "/tmp/ipykernel_7352/2071744375.py:6: UserWarning: Boolean Series key will be reindexed to match DataFrame index.\n",
      "  remaining=remaining[mcl_df[\"Written\"]!=1]\n"
     ]
    },
    {
     "name": "stdout",
     "output_type": "stream",
     "text": [
      "SET 7982 EXP+FUM FUM+EXP\n"
     ]
    },
    {
     "name": "stderr",
     "output_type": "stream",
     "text": [
      "/tmp/ipykernel_7352/2071744375.py:6: UserWarning: Boolean Series key will be reindexed to match DataFrame index.\n",
      "  remaining=remaining[mcl_df[\"Written\"]!=1]\n"
     ]
    },
    {
     "name": "stdout",
     "output_type": "stream",
     "text": [
      "SET 14273 FUM FUM\n"
     ]
    },
    {
     "name": "stderr",
     "output_type": "stream",
     "text": [
      "/tmp/ipykernel_7352/2071744375.py:6: UserWarning: Boolean Series key will be reindexed to match DataFrame index.\n",
      "  remaining=remaining[mcl_df[\"Written\"]!=1]\n"
     ]
    },
    {
     "name": "stdout",
     "output_type": "stream",
     "text": [
      "SET 17739 FUM FUM\n"
     ]
    },
    {
     "name": "stderr",
     "output_type": "stream",
     "text": [
      "/tmp/ipykernel_7352/2071744375.py:6: UserWarning: Boolean Series key will be reindexed to match DataFrame index.\n",
      "  remaining=remaining[mcl_df[\"Written\"]!=1]\n"
     ]
    },
    {
     "name": "stdout",
     "output_type": "stream",
     "text": [
      "SET 10426 EXP EXP\n"
     ]
    },
    {
     "name": "stderr",
     "output_type": "stream",
     "text": [
      "/tmp/ipykernel_7352/2071744375.py:6: UserWarning: Boolean Series key will be reindexed to match DataFrame index.\n",
      "  remaining=remaining[mcl_df[\"Written\"]!=1]\n"
     ]
    },
    {
     "name": "stdout",
     "output_type": "stream",
     "text": [
      "SET 16845 FUM FUM\n"
     ]
    },
    {
     "name": "stderr",
     "output_type": "stream",
     "text": [
      "/tmp/ipykernel_7352/2071744375.py:6: UserWarning: Boolean Series key will be reindexed to match DataFrame index.\n",
      "  remaining=remaining[mcl_df[\"Written\"]!=1]\n"
     ]
    },
    {
     "name": "stdout",
     "output_type": "stream",
     "text": [
      "SET 5705 FUM FUM\n"
     ]
    },
    {
     "name": "stderr",
     "output_type": "stream",
     "text": [
      "/tmp/ipykernel_7352/2071744375.py:6: UserWarning: Boolean Series key will be reindexed to match DataFrame index.\n",
      "  remaining=remaining[mcl_df[\"Written\"]!=1]\n"
     ]
    },
    {
     "name": "stdout",
     "output_type": "stream",
     "text": [
      "SET 13938 EXP+FUM FUM+EXP\n"
     ]
    },
    {
     "name": "stderr",
     "output_type": "stream",
     "text": [
      "/tmp/ipykernel_7352/2071744375.py:6: UserWarning: Boolean Series key will be reindexed to match DataFrame index.\n",
      "  remaining=remaining[mcl_df[\"Written\"]!=1]\n"
     ]
    },
    {
     "name": "stdout",
     "output_type": "stream",
     "text": [
      "SET 19685 FUM FUM\n"
     ]
    },
    {
     "name": "stderr",
     "output_type": "stream",
     "text": [
      "/tmp/ipykernel_7352/2071744375.py:6: UserWarning: Boolean Series key will be reindexed to match DataFrame index.\n",
      "  remaining=remaining[mcl_df[\"Written\"]!=1]\n"
     ]
    },
    {
     "name": "stdout",
     "output_type": "stream",
     "text": [
      "SET 18083 EXP+FUM FUM+EXP\n"
     ]
    },
    {
     "name": "stderr",
     "output_type": "stream",
     "text": [
      "/tmp/ipykernel_7352/2071744375.py:6: UserWarning: Boolean Series key will be reindexed to match DataFrame index.\n",
      "  remaining=remaining[mcl_df[\"Written\"]!=1]\n"
     ]
    },
    {
     "name": "stdout",
     "output_type": "stream",
     "text": [
      "SET 15057 EXP EXP\n"
     ]
    },
    {
     "name": "stderr",
     "output_type": "stream",
     "text": [
      "/tmp/ipykernel_7352/2071744375.py:6: UserWarning: Boolean Series key will be reindexed to match DataFrame index.\n",
      "  remaining=remaining[mcl_df[\"Written\"]!=1]\n"
     ]
    },
    {
     "name": "stdout",
     "output_type": "stream",
     "text": [
      "SET 17365 UNK UNK\n"
     ]
    },
    {
     "name": "stderr",
     "output_type": "stream",
     "text": [
      "/tmp/ipykernel_7352/2071744375.py:6: UserWarning: Boolean Series key will be reindexed to match DataFrame index.\n",
      "  remaining=remaining[mcl_df[\"Written\"]!=1]\n"
     ]
    },
    {
     "name": "stdout",
     "output_type": "stream",
     "text": [
      "SET 16325 EXP+FUM FUM+EXP\n"
     ]
    },
    {
     "name": "stderr",
     "output_type": "stream",
     "text": [
      "/tmp/ipykernel_7352/2071744375.py:6: UserWarning: Boolean Series key will be reindexed to match DataFrame index.\n",
      "  remaining=remaining[mcl_df[\"Written\"]!=1]\n"
     ]
    },
    {
     "name": "stdout",
     "output_type": "stream",
     "text": [
      "SET 18535 EXP+FUM FUM+EXP\n"
     ]
    },
    {
     "name": "stderr",
     "output_type": "stream",
     "text": [
      "/tmp/ipykernel_7352/2071744375.py:6: UserWarning: Boolean Series key will be reindexed to match DataFrame index.\n",
      "  remaining=remaining[mcl_df[\"Written\"]!=1]\n"
     ]
    },
    {
     "name": "stdout",
     "output_type": "stream",
     "text": [
      "SET 4121 INA INAC\n"
     ]
    },
    {
     "name": "stderr",
     "output_type": "stream",
     "text": [
      "/tmp/ipykernel_7352/2071744375.py:6: UserWarning: Boolean Series key will be reindexed to match DataFrame index.\n",
      "  remaining=remaining[mcl_df[\"Written\"]!=1]\n"
     ]
    },
    {
     "name": "stdout",
     "output_type": "stream",
     "text": [
      "SET 12106 FUM FUM\n"
     ]
    },
    {
     "name": "stderr",
     "output_type": "stream",
     "text": [
      "/tmp/ipykernel_7352/2071744375.py:6: UserWarning: Boolean Series key will be reindexed to match DataFrame index.\n",
      "  remaining=remaining[mcl_df[\"Written\"]!=1]\n"
     ]
    },
    {
     "name": "stdout",
     "output_type": "stream",
     "text": [
      "SET 3867 INA INAC\n"
     ]
    },
    {
     "name": "stderr",
     "output_type": "stream",
     "text": [
      "/tmp/ipykernel_7352/2071744375.py:6: UserWarning: Boolean Series key will be reindexed to match DataFrame index.\n",
      "  remaining=remaining[mcl_df[\"Written\"]!=1]\n"
     ]
    },
    {
     "name": "stdout",
     "output_type": "stream",
     "text": [
      "SET 3435 EXP+FUM FUM+EXP\n"
     ]
    },
    {
     "name": "stderr",
     "output_type": "stream",
     "text": [
      "/tmp/ipykernel_7352/2071744375.py:6: UserWarning: Boolean Series key will be reindexed to match DataFrame index.\n",
      "  remaining=remaining[mcl_df[\"Written\"]!=1]\n"
     ]
    },
    {
     "name": "stdout",
     "output_type": "stream",
     "text": [
      "SET 14006 FUM FUM\n"
     ]
    },
    {
     "name": "stderr",
     "output_type": "stream",
     "text": [
      "/tmp/ipykernel_7352/2071744375.py:6: UserWarning: Boolean Series key will be reindexed to match DataFrame index.\n",
      "  remaining=remaining[mcl_df[\"Written\"]!=1]\n"
     ]
    },
    {
     "name": "stdout",
     "output_type": "stream",
     "text": [
      "SET 10416 FUM FUM\n"
     ]
    },
    {
     "name": "stderr",
     "output_type": "stream",
     "text": [
      "/tmp/ipykernel_7352/2071744375.py:6: UserWarning: Boolean Series key will be reindexed to match DataFrame index.\n",
      "  remaining=remaining[mcl_df[\"Written\"]!=1]\n"
     ]
    },
    {
     "name": "stdout",
     "output_type": "stream",
     "text": [
      "SET 16880 EXP EXP\n"
     ]
    },
    {
     "name": "stderr",
     "output_type": "stream",
     "text": [
      "/tmp/ipykernel_7352/2071744375.py:6: UserWarning: Boolean Series key will be reindexed to match DataFrame index.\n",
      "  remaining=remaining[mcl_df[\"Written\"]!=1]\n"
     ]
    },
    {
     "name": "stdout",
     "output_type": "stream",
     "text": [
      "SET 10630 FUM FUM\n"
     ]
    },
    {
     "name": "stderr",
     "output_type": "stream",
     "text": [
      "/tmp/ipykernel_7352/2071744375.py:6: UserWarning: Boolean Series key will be reindexed to match DataFrame index.\n",
      "  remaining=remaining[mcl_df[\"Written\"]!=1]\n"
     ]
    },
    {
     "name": "stdout",
     "output_type": "stream",
     "text": [
      "SET 13904 EXP+FUM FUM+EXP\n"
     ]
    },
    {
     "name": "stderr",
     "output_type": "stream",
     "text": [
      "/tmp/ipykernel_7352/2071744375.py:6: UserWarning: Boolean Series key will be reindexed to match DataFrame index.\n",
      "  remaining=remaining[mcl_df[\"Written\"]!=1]\n"
     ]
    },
    {
     "name": "stdout",
     "output_type": "stream",
     "text": [
      "SET 8578 UNK UNK\n"
     ]
    },
    {
     "name": "stderr",
     "output_type": "stream",
     "text": [
      "/tmp/ipykernel_7352/2071744375.py:6: UserWarning: Boolean Series key will be reindexed to match DataFrame index.\n",
      "  remaining=remaining[mcl_df[\"Written\"]!=1]\n"
     ]
    },
    {
     "name": "stdout",
     "output_type": "stream",
     "text": [
      "SET 12702 FUM FUM\n"
     ]
    },
    {
     "name": "stderr",
     "output_type": "stream",
     "text": [
      "/tmp/ipykernel_7352/2071744375.py:6: UserWarning: Boolean Series key will be reindexed to match DataFrame index.\n",
      "  remaining=remaining[mcl_df[\"Written\"]!=1]\n"
     ]
    },
    {
     "name": "stdout",
     "output_type": "stream",
     "text": [
      "SET 13901 INA INAC\n"
     ]
    },
    {
     "name": "stderr",
     "output_type": "stream",
     "text": [
      "/tmp/ipykernel_7352/2071744375.py:6: UserWarning: Boolean Series key will be reindexed to match DataFrame index.\n",
      "  remaining=remaining[mcl_df[\"Written\"]!=1]\n"
     ]
    },
    {
     "name": "stdout",
     "output_type": "stream",
     "text": [
      "SET 7837 EXP+FUM FUM+EXP\n"
     ]
    },
    {
     "name": "stderr",
     "output_type": "stream",
     "text": [
      "/tmp/ipykernel_7352/2071744375.py:6: UserWarning: Boolean Series key will be reindexed to match DataFrame index.\n",
      "  remaining=remaining[mcl_df[\"Written\"]!=1]\n"
     ]
    },
    {
     "name": "stdout",
     "output_type": "stream",
     "text": [
      "SET 11686 EXP EXP\n"
     ]
    },
    {
     "name": "stderr",
     "output_type": "stream",
     "text": [
      "/tmp/ipykernel_7352/2071744375.py:6: UserWarning: Boolean Series key will be reindexed to match DataFrame index.\n",
      "  remaining=remaining[mcl_df[\"Written\"]!=1]\n"
     ]
    },
    {
     "name": "stdout",
     "output_type": "stream",
     "text": [
      "SET 19100 UNK UNK\n"
     ]
    },
    {
     "name": "stderr",
     "output_type": "stream",
     "text": [
      "/tmp/ipykernel_7352/2071744375.py:6: UserWarning: Boolean Series key will be reindexed to match DataFrame index.\n",
      "  remaining=remaining[mcl_df[\"Written\"]!=1]\n"
     ]
    },
    {
     "name": "stdout",
     "output_type": "stream",
     "text": [
      "SET 6201 UNK UNK\n"
     ]
    },
    {
     "name": "stderr",
     "output_type": "stream",
     "text": [
      "/tmp/ipykernel_7352/2071744375.py:6: UserWarning: Boolean Series key will be reindexed to match DataFrame index.\n",
      "  remaining=remaining[mcl_df[\"Written\"]!=1]\n"
     ]
    },
    {
     "name": "stdout",
     "output_type": "stream",
     "text": [
      "SET 21161 EXP+FUM FUM+EXP\n"
     ]
    },
    {
     "name": "stderr",
     "output_type": "stream",
     "text": [
      "/tmp/ipykernel_7352/2071744375.py:6: UserWarning: Boolean Series key will be reindexed to match DataFrame index.\n",
      "  remaining=remaining[mcl_df[\"Written\"]!=1]\n"
     ]
    },
    {
     "name": "stdout",
     "output_type": "stream",
     "text": [
      "SET 13367 UNK UNK\n"
     ]
    },
    {
     "name": "stderr",
     "output_type": "stream",
     "text": [
      "/tmp/ipykernel_7352/2071744375.py:6: UserWarning: Boolean Series key will be reindexed to match DataFrame index.\n",
      "  remaining=remaining[mcl_df[\"Written\"]!=1]\n"
     ]
    },
    {
     "name": "stdout",
     "output_type": "stream",
     "text": [
      "SET 12017 UNK UNK\n"
     ]
    },
    {
     "name": "stderr",
     "output_type": "stream",
     "text": [
      "/tmp/ipykernel_7352/2071744375.py:6: UserWarning: Boolean Series key will be reindexed to match DataFrame index.\n",
      "  remaining=remaining[mcl_df[\"Written\"]!=1]\n"
     ]
    },
    {
     "name": "stdout",
     "output_type": "stream",
     "text": [
      "SET 2335 INA INAC\n"
     ]
    },
    {
     "name": "stderr",
     "output_type": "stream",
     "text": [
      "/tmp/ipykernel_7352/2071744375.py:6: UserWarning: Boolean Series key will be reindexed to match DataFrame index.\n",
      "  remaining=remaining[mcl_df[\"Written\"]!=1]\n"
     ]
    },
    {
     "name": "stdout",
     "output_type": "stream",
     "text": [
      "SET 19860 EXP+FUM FUM+EXP\n"
     ]
    },
    {
     "name": "stderr",
     "output_type": "stream",
     "text": [
      "/tmp/ipykernel_7352/2071744375.py:6: UserWarning: Boolean Series key will be reindexed to match DataFrame index.\n",
      "  remaining=remaining[mcl_df[\"Written\"]!=1]\n"
     ]
    },
    {
     "name": "stdout",
     "output_type": "stream",
     "text": [
      "SET 19909 UNK UNK\n"
     ]
    },
    {
     "name": "stderr",
     "output_type": "stream",
     "text": [
      "/tmp/ipykernel_7352/2071744375.py:6: UserWarning: Boolean Series key will be reindexed to match DataFrame index.\n",
      "  remaining=remaining[mcl_df[\"Written\"]!=1]\n"
     ]
    },
    {
     "name": "stdout",
     "output_type": "stream",
     "text": [
      "SET 4558 FUM FUM\n"
     ]
    },
    {
     "name": "stderr",
     "output_type": "stream",
     "text": [
      "/tmp/ipykernel_7352/2071744375.py:6: UserWarning: Boolean Series key will be reindexed to match DataFrame index.\n",
      "  remaining=remaining[mcl_df[\"Written\"]!=1]\n"
     ]
    },
    {
     "name": "stdout",
     "output_type": "stream",
     "text": [
      "SET 9234 EXP+FUM FUM+EXP\n"
     ]
    },
    {
     "name": "stderr",
     "output_type": "stream",
     "text": [
      "/tmp/ipykernel_7352/2071744375.py:6: UserWarning: Boolean Series key will be reindexed to match DataFrame index.\n",
      "  remaining=remaining[mcl_df[\"Written\"]!=1]\n"
     ]
    },
    {
     "name": "stdout",
     "output_type": "stream",
     "text": [
      "SET 9098 EXP+FUM FUM+EXP\n"
     ]
    },
    {
     "name": "stderr",
     "output_type": "stream",
     "text": [
      "/tmp/ipykernel_7352/2071744375.py:6: UserWarning: Boolean Series key will be reindexed to match DataFrame index.\n",
      "  remaining=remaining[mcl_df[\"Written\"]!=1]\n"
     ]
    },
    {
     "name": "stdout",
     "output_type": "stream",
     "text": [
      "SET 20210 FUM FUM\n"
     ]
    },
    {
     "name": "stderr",
     "output_type": "stream",
     "text": [
      "/tmp/ipykernel_7352/2071744375.py:6: UserWarning: Boolean Series key will be reindexed to match DataFrame index.\n",
      "  remaining=remaining[mcl_df[\"Written\"]!=1]\n"
     ]
    },
    {
     "name": "stdout",
     "output_type": "stream",
     "text": [
      "SET 7859 EXP+FUM FUM+EXP\n"
     ]
    },
    {
     "name": "stderr",
     "output_type": "stream",
     "text": [
      "/tmp/ipykernel_7352/2071744375.py:6: UserWarning: Boolean Series key will be reindexed to match DataFrame index.\n",
      "  remaining=remaining[mcl_df[\"Written\"]!=1]\n"
     ]
    },
    {
     "name": "stdout",
     "output_type": "stream",
     "text": [
      "SET 11449 EXP+FUM FUM+EXP\n"
     ]
    },
    {
     "name": "stderr",
     "output_type": "stream",
     "text": [
      "/tmp/ipykernel_7352/2071744375.py:6: UserWarning: Boolean Series key will be reindexed to match DataFrame index.\n",
      "  remaining=remaining[mcl_df[\"Written\"]!=1]\n"
     ]
    },
    {
     "name": "stdout",
     "output_type": "stream",
     "text": [
      "SET 13879 FUM FUM\n"
     ]
    },
    {
     "name": "stderr",
     "output_type": "stream",
     "text": [
      "/tmp/ipykernel_7352/2071744375.py:6: UserWarning: Boolean Series key will be reindexed to match DataFrame index.\n",
      "  remaining=remaining[mcl_df[\"Written\"]!=1]\n"
     ]
    },
    {
     "name": "stdout",
     "output_type": "stream",
     "text": [
      "SET 14178 EXP+FUM FUM+EXP\n"
     ]
    },
    {
     "name": "stderr",
     "output_type": "stream",
     "text": [
      "/tmp/ipykernel_7352/2071744375.py:6: UserWarning: Boolean Series key will be reindexed to match DataFrame index.\n",
      "  remaining=remaining[mcl_df[\"Written\"]!=1]\n"
     ]
    },
    {
     "name": "stdout",
     "output_type": "stream",
     "text": [
      "SET 8378 FUM FUM\n"
     ]
    },
    {
     "name": "stderr",
     "output_type": "stream",
     "text": [
      "/tmp/ipykernel_7352/2071744375.py:6: UserWarning: Boolean Series key will be reindexed to match DataFrame index.\n",
      "  remaining=remaining[mcl_df[\"Written\"]!=1]\n"
     ]
    },
    {
     "name": "stdout",
     "output_type": "stream",
     "text": [
      "SET 1531 FUM FUM\n"
     ]
    },
    {
     "name": "stderr",
     "output_type": "stream",
     "text": [
      "/tmp/ipykernel_7352/2071744375.py:6: UserWarning: Boolean Series key will be reindexed to match DataFrame index.\n",
      "  remaining=remaining[mcl_df[\"Written\"]!=1]\n"
     ]
    },
    {
     "name": "stdout",
     "output_type": "stream",
     "text": [
      "SET 7528 EXP+FUM FUM+EXP\n"
     ]
    },
    {
     "name": "stderr",
     "output_type": "stream",
     "text": [
      "/tmp/ipykernel_7352/2071744375.py:6: UserWarning: Boolean Series key will be reindexed to match DataFrame index.\n",
      "  remaining=remaining[mcl_df[\"Written\"]!=1]\n"
     ]
    },
    {
     "name": "stdout",
     "output_type": "stream",
     "text": [
      "SET 18473 FUM FUM\n"
     ]
    },
    {
     "name": "stderr",
     "output_type": "stream",
     "text": [
      "/tmp/ipykernel_7352/2071744375.py:6: UserWarning: Boolean Series key will be reindexed to match DataFrame index.\n",
      "  remaining=remaining[mcl_df[\"Written\"]!=1]\n"
     ]
    },
    {
     "name": "stdout",
     "output_type": "stream",
     "text": [
      "SET 13596 EXP+FUM FUM+EXP\n"
     ]
    },
    {
     "name": "stderr",
     "output_type": "stream",
     "text": [
      "/tmp/ipykernel_7352/2071744375.py:6: UserWarning: Boolean Series key will be reindexed to match DataFrame index.\n",
      "  remaining=remaining[mcl_df[\"Written\"]!=1]\n"
     ]
    },
    {
     "name": "stdout",
     "output_type": "stream",
     "text": [
      "SET 4502 FUM FUM\n"
     ]
    },
    {
     "name": "stderr",
     "output_type": "stream",
     "text": [
      "/tmp/ipykernel_7352/2071744375.py:6: UserWarning: Boolean Series key will be reindexed to match DataFrame index.\n",
      "  remaining=remaining[mcl_df[\"Written\"]!=1]\n"
     ]
    },
    {
     "name": "stdout",
     "output_type": "stream",
     "text": [
      "SET 20884 FUM FUM\n"
     ]
    },
    {
     "name": "stderr",
     "output_type": "stream",
     "text": [
      "/tmp/ipykernel_7352/2071744375.py:6: UserWarning: Boolean Series key will be reindexed to match DataFrame index.\n",
      "  remaining=remaining[mcl_df[\"Written\"]!=1]\n"
     ]
    },
    {
     "name": "stdout",
     "output_type": "stream",
     "text": [
      "SET 5851 EXP+FUM FUM+EXP\n"
     ]
    },
    {
     "name": "stderr",
     "output_type": "stream",
     "text": [
      "/tmp/ipykernel_7352/2071744375.py:6: UserWarning: Boolean Series key will be reindexed to match DataFrame index.\n",
      "  remaining=remaining[mcl_df[\"Written\"]!=1]\n"
     ]
    },
    {
     "name": "stdout",
     "output_type": "stream",
     "text": [
      "SET 14547 FUM FUM\n"
     ]
    },
    {
     "name": "stderr",
     "output_type": "stream",
     "text": [
      "/tmp/ipykernel_7352/2071744375.py:6: UserWarning: Boolean Series key will be reindexed to match DataFrame index.\n",
      "  remaining=remaining[mcl_df[\"Written\"]!=1]\n"
     ]
    },
    {
     "name": "stdout",
     "output_type": "stream",
     "text": [
      "SET 3545 INA INAC\n"
     ]
    },
    {
     "name": "stderr",
     "output_type": "stream",
     "text": [
      "/tmp/ipykernel_7352/2071744375.py:6: UserWarning: Boolean Series key will be reindexed to match DataFrame index.\n",
      "  remaining=remaining[mcl_df[\"Written\"]!=1]\n"
     ]
    },
    {
     "name": "stdout",
     "output_type": "stream",
     "text": [
      "SET 15990 FUM FUM\n"
     ]
    },
    {
     "name": "stderr",
     "output_type": "stream",
     "text": [
      "/tmp/ipykernel_7352/2071744375.py:6: UserWarning: Boolean Series key will be reindexed to match DataFrame index.\n",
      "  remaining=remaining[mcl_df[\"Written\"]!=1]\n"
     ]
    },
    {
     "name": "stdout",
     "output_type": "stream",
     "text": [
      "SET 6192 FUM FUM\n"
     ]
    },
    {
     "name": "stderr",
     "output_type": "stream",
     "text": [
      "/tmp/ipykernel_7352/2071744375.py:6: UserWarning: Boolean Series key will be reindexed to match DataFrame index.\n",
      "  remaining=remaining[mcl_df[\"Written\"]!=1]\n"
     ]
    },
    {
     "name": "stdout",
     "output_type": "stream",
     "text": [
      "SET 2892 FUM FUM\n"
     ]
    },
    {
     "name": "stderr",
     "output_type": "stream",
     "text": [
      "/tmp/ipykernel_7352/2071744375.py:6: UserWarning: Boolean Series key will be reindexed to match DataFrame index.\n",
      "  remaining=remaining[mcl_df[\"Written\"]!=1]\n"
     ]
    },
    {
     "name": "stdout",
     "output_type": "stream",
     "text": [
      "SET 15767 EXP EXP\n"
     ]
    },
    {
     "name": "stderr",
     "output_type": "stream",
     "text": [
      "/tmp/ipykernel_7352/2071744375.py:6: UserWarning: Boolean Series key will be reindexed to match DataFrame index.\n",
      "  remaining=remaining[mcl_df[\"Written\"]!=1]\n"
     ]
    },
    {
     "name": "stdout",
     "output_type": "stream",
     "text": [
      "SET 12750 EXP EXP\n"
     ]
    },
    {
     "name": "stderr",
     "output_type": "stream",
     "text": [
      "/tmp/ipykernel_7352/2071744375.py:6: UserWarning: Boolean Series key will be reindexed to match DataFrame index.\n",
      "  remaining=remaining[mcl_df[\"Written\"]!=1]\n"
     ]
    },
    {
     "name": "stdout",
     "output_type": "stream",
     "text": [
      "SET 16472 INA INAC\n"
     ]
    },
    {
     "name": "stderr",
     "output_type": "stream",
     "text": [
      "/tmp/ipykernel_7352/2071744375.py:6: UserWarning: Boolean Series key will be reindexed to match DataFrame index.\n",
      "  remaining=remaining[mcl_df[\"Written\"]!=1]\n"
     ]
    },
    {
     "name": "stdout",
     "output_type": "stream",
     "text": [
      "SET 17581 EXP+FUM FUM+EXP\n"
     ]
    },
    {
     "name": "stderr",
     "output_type": "stream",
     "text": [
      "/tmp/ipykernel_7352/2071744375.py:6: UserWarning: Boolean Series key will be reindexed to match DataFrame index.\n",
      "  remaining=remaining[mcl_df[\"Written\"]!=1]\n"
     ]
    },
    {
     "name": "stdout",
     "output_type": "stream",
     "text": [
      "SET 5058 EXP EXP\n"
     ]
    },
    {
     "name": "stderr",
     "output_type": "stream",
     "text": [
      "/tmp/ipykernel_7352/2071744375.py:6: UserWarning: Boolean Series key will be reindexed to match DataFrame index.\n",
      "  remaining=remaining[mcl_df[\"Written\"]!=1]\n"
     ]
    },
    {
     "name": "stdout",
     "output_type": "stream",
     "text": [
      "SET 12754 UNK UNK\n"
     ]
    },
    {
     "name": "stderr",
     "output_type": "stream",
     "text": [
      "/tmp/ipykernel_7352/2071744375.py:6: UserWarning: Boolean Series key will be reindexed to match DataFrame index.\n",
      "  remaining=remaining[mcl_df[\"Written\"]!=1]\n"
     ]
    },
    {
     "name": "stdout",
     "output_type": "stream",
     "text": [
      "SET 4263 EXP+FUM FUM+EXP\n"
     ]
    },
    {
     "name": "stderr",
     "output_type": "stream",
     "text": [
      "/tmp/ipykernel_7352/2071744375.py:6: UserWarning: Boolean Series key will be reindexed to match DataFrame index.\n",
      "  remaining=remaining[mcl_df[\"Written\"]!=1]\n"
     ]
    },
    {
     "name": "stdout",
     "output_type": "stream",
     "text": [
      "SET 18996 FUM FUM\n"
     ]
    },
    {
     "name": "stderr",
     "output_type": "stream",
     "text": [
      "/tmp/ipykernel_7352/2071744375.py:6: UserWarning: Boolean Series key will be reindexed to match DataFrame index.\n",
      "  remaining=remaining[mcl_df[\"Written\"]!=1]\n"
     ]
    },
    {
     "name": "stdout",
     "output_type": "stream",
     "text": [
      "SET 9772 FUM FUM\n"
     ]
    },
    {
     "name": "stderr",
     "output_type": "stream",
     "text": [
      "/tmp/ipykernel_7352/2071744375.py:6: UserWarning: Boolean Series key will be reindexed to match DataFrame index.\n",
      "  remaining=remaining[mcl_df[\"Written\"]!=1]\n"
     ]
    },
    {
     "name": "stdout",
     "output_type": "stream",
     "text": [
      "SET 14812 EXP+FUM FUM+EXP\n"
     ]
    },
    {
     "name": "stderr",
     "output_type": "stream",
     "text": [
      "/tmp/ipykernel_7352/2071744375.py:6: UserWarning: Boolean Series key will be reindexed to match DataFrame index.\n",
      "  remaining=remaining[mcl_df[\"Written\"]!=1]\n"
     ]
    },
    {
     "name": "stdout",
     "output_type": "stream",
     "text": [
      "SET 16118 EXP+FUM FUM+EXP\n"
     ]
    },
    {
     "name": "stderr",
     "output_type": "stream",
     "text": [
      "/tmp/ipykernel_7352/2071744375.py:6: UserWarning: Boolean Series key will be reindexed to match DataFrame index.\n",
      "  remaining=remaining[mcl_df[\"Written\"]!=1]\n"
     ]
    },
    {
     "name": "stdout",
     "output_type": "stream",
     "text": [
      "SET 12250 FUM FUM\n"
     ]
    },
    {
     "name": "stderr",
     "output_type": "stream",
     "text": [
      "/tmp/ipykernel_7352/2071744375.py:6: UserWarning: Boolean Series key will be reindexed to match DataFrame index.\n",
      "  remaining=remaining[mcl_df[\"Written\"]!=1]\n"
     ]
    },
    {
     "name": "stdout",
     "output_type": "stream",
     "text": [
      "SET 3322 FUM FUM\n"
     ]
    },
    {
     "name": "stderr",
     "output_type": "stream",
     "text": [
      "/tmp/ipykernel_7352/2071744375.py:6: UserWarning: Boolean Series key will be reindexed to match DataFrame index.\n",
      "  remaining=remaining[mcl_df[\"Written\"]!=1]\n"
     ]
    },
    {
     "name": "stdout",
     "output_type": "stream",
     "text": [
      "SET 4563 FUM FUM\n"
     ]
    },
    {
     "name": "stderr",
     "output_type": "stream",
     "text": [
      "/tmp/ipykernel_7352/2071744375.py:6: UserWarning: Boolean Series key will be reindexed to match DataFrame index.\n",
      "  remaining=remaining[mcl_df[\"Written\"]!=1]\n"
     ]
    },
    {
     "name": "stdout",
     "output_type": "stream",
     "text": [
      "SET 18945 FUM FUM\n"
     ]
    },
    {
     "name": "stderr",
     "output_type": "stream",
     "text": [
      "/tmp/ipykernel_7352/2071744375.py:6: UserWarning: Boolean Series key will be reindexed to match DataFrame index.\n",
      "  remaining=remaining[mcl_df[\"Written\"]!=1]\n"
     ]
    },
    {
     "name": "stdout",
     "output_type": "stream",
     "text": [
      "SET 15126 EXP+FUM FUM+EXP\n"
     ]
    },
    {
     "name": "stderr",
     "output_type": "stream",
     "text": [
      "/tmp/ipykernel_7352/2071744375.py:6: UserWarning: Boolean Series key will be reindexed to match DataFrame index.\n",
      "  remaining=remaining[mcl_df[\"Written\"]!=1]\n"
     ]
    },
    {
     "name": "stdout",
     "output_type": "stream",
     "text": [
      "SET 386 FUM FUM\n"
     ]
    },
    {
     "name": "stderr",
     "output_type": "stream",
     "text": [
      "/tmp/ipykernel_7352/2071744375.py:6: UserWarning: Boolean Series key will be reindexed to match DataFrame index.\n",
      "  remaining=remaining[mcl_df[\"Written\"]!=1]\n"
     ]
    },
    {
     "name": "stdout",
     "output_type": "stream",
     "text": [
      "SET 14638 EXP+FUM FUM+EXP\n"
     ]
    },
    {
     "name": "stderr",
     "output_type": "stream",
     "text": [
      "/tmp/ipykernel_7352/2071744375.py:6: UserWarning: Boolean Series key will be reindexed to match DataFrame index.\n",
      "  remaining=remaining[mcl_df[\"Written\"]!=1]\n"
     ]
    },
    {
     "name": "stdout",
     "output_type": "stream",
     "text": [
      "SET 19116 EXP+FUM FUM+EXP\n"
     ]
    },
    {
     "name": "stderr",
     "output_type": "stream",
     "text": [
      "/tmp/ipykernel_7352/2071744375.py:6: UserWarning: Boolean Series key will be reindexed to match DataFrame index.\n",
      "  remaining=remaining[mcl_df[\"Written\"]!=1]\n"
     ]
    },
    {
     "name": "stdout",
     "output_type": "stream",
     "text": [
      "SET 10111 FUM FUM\n"
     ]
    },
    {
     "name": "stderr",
     "output_type": "stream",
     "text": [
      "/tmp/ipykernel_7352/2071744375.py:6: UserWarning: Boolean Series key will be reindexed to match DataFrame index.\n",
      "  remaining=remaining[mcl_df[\"Written\"]!=1]\n"
     ]
    },
    {
     "name": "stdout",
     "output_type": "stream",
     "text": [
      "SET 13627 FUM FUM\n"
     ]
    },
    {
     "name": "stderr",
     "output_type": "stream",
     "text": [
      "/tmp/ipykernel_7352/2071744375.py:6: UserWarning: Boolean Series key will be reindexed to match DataFrame index.\n",
      "  remaining=remaining[mcl_df[\"Written\"]!=1]\n"
     ]
    },
    {
     "name": "stdout",
     "output_type": "stream",
     "text": [
      "SET 6700 FUM FUM\n"
     ]
    },
    {
     "name": "stderr",
     "output_type": "stream",
     "text": [
      "/tmp/ipykernel_7352/2071744375.py:6: UserWarning: Boolean Series key will be reindexed to match DataFrame index.\n",
      "  remaining=remaining[mcl_df[\"Written\"]!=1]\n"
     ]
    },
    {
     "name": "stdout",
     "output_type": "stream",
     "text": [
      "SET 5250 FUM FUM\n"
     ]
    },
    {
     "name": "stderr",
     "output_type": "stream",
     "text": [
      "/tmp/ipykernel_7352/2071744375.py:6: UserWarning: Boolean Series key will be reindexed to match DataFrame index.\n",
      "  remaining=remaining[mcl_df[\"Written\"]!=1]\n"
     ]
    },
    {
     "name": "stdout",
     "output_type": "stream",
     "text": [
      "SET 19435 EXP+FUM FUM+EXP\n"
     ]
    },
    {
     "name": "stderr",
     "output_type": "stream",
     "text": [
      "/tmp/ipykernel_7352/2071744375.py:6: UserWarning: Boolean Series key will be reindexed to match DataFrame index.\n",
      "  remaining=remaining[mcl_df[\"Written\"]!=1]\n"
     ]
    },
    {
     "name": "stdout",
     "output_type": "stream",
     "text": [
      "SET 14682 FUM FUM\n"
     ]
    },
    {
     "name": "stderr",
     "output_type": "stream",
     "text": [
      "/tmp/ipykernel_7352/2071744375.py:6: UserWarning: Boolean Series key will be reindexed to match DataFrame index.\n",
      "  remaining=remaining[mcl_df[\"Written\"]!=1]\n"
     ]
    },
    {
     "name": "stdout",
     "output_type": "stream",
     "text": [
      "SET 13860 FUM FUM\n"
     ]
    },
    {
     "name": "stderr",
     "output_type": "stream",
     "text": [
      "/tmp/ipykernel_7352/2071744375.py:6: UserWarning: Boolean Series key will be reindexed to match DataFrame index.\n",
      "  remaining=remaining[mcl_df[\"Written\"]!=1]\n"
     ]
    },
    {
     "name": "stdout",
     "output_type": "stream",
     "text": [
      "SET 19759 INA INAC\n"
     ]
    },
    {
     "name": "stderr",
     "output_type": "stream",
     "text": [
      "/tmp/ipykernel_7352/2071744375.py:6: UserWarning: Boolean Series key will be reindexed to match DataFrame index.\n",
      "  remaining=remaining[mcl_df[\"Written\"]!=1]\n"
     ]
    },
    {
     "name": "stdout",
     "output_type": "stream",
     "text": [
      "SET 8351 FUM FUM\n"
     ]
    },
    {
     "name": "stderr",
     "output_type": "stream",
     "text": [
      "/tmp/ipykernel_7352/2071744375.py:6: UserWarning: Boolean Series key will be reindexed to match DataFrame index.\n",
      "  remaining=remaining[mcl_df[\"Written\"]!=1]\n"
     ]
    },
    {
     "name": "stdout",
     "output_type": "stream",
     "text": [
      "SET 17988 EXP+FUM FUM+EXP\n"
     ]
    },
    {
     "name": "stderr",
     "output_type": "stream",
     "text": [
      "/tmp/ipykernel_7352/2071744375.py:6: UserWarning: Boolean Series key will be reindexed to match DataFrame index.\n",
      "  remaining=remaining[mcl_df[\"Written\"]!=1]\n"
     ]
    },
    {
     "name": "stdout",
     "output_type": "stream",
     "text": [
      "SET 13922 EXP+FUM FUM+EXP\n"
     ]
    },
    {
     "name": "stderr",
     "output_type": "stream",
     "text": [
      "/tmp/ipykernel_7352/2071744375.py:6: UserWarning: Boolean Series key will be reindexed to match DataFrame index.\n",
      "  remaining=remaining[mcl_df[\"Written\"]!=1]\n"
     ]
    },
    {
     "name": "stdout",
     "output_type": "stream",
     "text": [
      "SET 13921 EXP+FUM FUM+EXP\n"
     ]
    },
    {
     "name": "stderr",
     "output_type": "stream",
     "text": [
      "/tmp/ipykernel_7352/2071744375.py:6: UserWarning: Boolean Series key will be reindexed to match DataFrame index.\n",
      "  remaining=remaining[mcl_df[\"Written\"]!=1]\n"
     ]
    },
    {
     "name": "stdout",
     "output_type": "stream",
     "text": [
      "SET 2986 FUM FUM\n"
     ]
    },
    {
     "name": "stderr",
     "output_type": "stream",
     "text": [
      "/tmp/ipykernel_7352/2071744375.py:6: UserWarning: Boolean Series key will be reindexed to match DataFrame index.\n",
      "  remaining=remaining[mcl_df[\"Written\"]!=1]\n"
     ]
    },
    {
     "name": "stdout",
     "output_type": "stream",
     "text": [
      "SET 6059 EXP+FUM FUM+EXP\n"
     ]
    },
    {
     "name": "stderr",
     "output_type": "stream",
     "text": [
      "/tmp/ipykernel_7352/2071744375.py:6: UserWarning: Boolean Series key will be reindexed to match DataFrame index.\n",
      "  remaining=remaining[mcl_df[\"Written\"]!=1]\n"
     ]
    },
    {
     "name": "stdout",
     "output_type": "stream",
     "text": [
      "SET 9720 EXP+FUM FUM+EXP\n"
     ]
    },
    {
     "name": "stderr",
     "output_type": "stream",
     "text": [
      "/tmp/ipykernel_7352/2071744375.py:6: UserWarning: Boolean Series key will be reindexed to match DataFrame index.\n",
      "  remaining=remaining[mcl_df[\"Written\"]!=1]\n"
     ]
    },
    {
     "name": "stdout",
     "output_type": "stream",
     "text": [
      "SET 12074 FUM FUM\n"
     ]
    },
    {
     "name": "stderr",
     "output_type": "stream",
     "text": [
      "/tmp/ipykernel_7352/2071744375.py:6: UserWarning: Boolean Series key will be reindexed to match DataFrame index.\n",
      "  remaining=remaining[mcl_df[\"Written\"]!=1]\n"
     ]
    },
    {
     "name": "stdout",
     "output_type": "stream",
     "text": [
      "SET 18178 INA INAC\n"
     ]
    },
    {
     "name": "stderr",
     "output_type": "stream",
     "text": [
      "/tmp/ipykernel_7352/2071744375.py:6: UserWarning: Boolean Series key will be reindexed to match DataFrame index.\n",
      "  remaining=remaining[mcl_df[\"Written\"]!=1]\n"
     ]
    },
    {
     "name": "stdout",
     "output_type": "stream",
     "text": [
      "SET 2489 FUM FUM\n"
     ]
    },
    {
     "name": "stderr",
     "output_type": "stream",
     "text": [
      "/tmp/ipykernel_7352/2071744375.py:6: UserWarning: Boolean Series key will be reindexed to match DataFrame index.\n",
      "  remaining=remaining[mcl_df[\"Written\"]!=1]\n"
     ]
    },
    {
     "name": "stdout",
     "output_type": "stream",
     "text": [
      "SET 6810 EXP+FUM FUM+EXP\n"
     ]
    },
    {
     "name": "stderr",
     "output_type": "stream",
     "text": [
      "/tmp/ipykernel_7352/2071744375.py:6: UserWarning: Boolean Series key will be reindexed to match DataFrame index.\n",
      "  remaining=remaining[mcl_df[\"Written\"]!=1]\n"
     ]
    },
    {
     "name": "stdout",
     "output_type": "stream",
     "text": [
      "SET 16889 EXP+FUM FUM+EXP\n"
     ]
    },
    {
     "name": "stderr",
     "output_type": "stream",
     "text": [
      "/tmp/ipykernel_7352/2071744375.py:6: UserWarning: Boolean Series key will be reindexed to match DataFrame index.\n",
      "  remaining=remaining[mcl_df[\"Written\"]!=1]\n"
     ]
    },
    {
     "name": "stdout",
     "output_type": "stream",
     "text": [
      "SET 15476 FUM FUM\n"
     ]
    },
    {
     "name": "stderr",
     "output_type": "stream",
     "text": [
      "/tmp/ipykernel_7352/2071744375.py:6: UserWarning: Boolean Series key will be reindexed to match DataFrame index.\n",
      "  remaining=remaining[mcl_df[\"Written\"]!=1]\n"
     ]
    },
    {
     "name": "stdout",
     "output_type": "stream",
     "text": [
      "SET 15581 EXP+FUM FUM+EXP\n"
     ]
    },
    {
     "name": "stderr",
     "output_type": "stream",
     "text": [
      "/tmp/ipykernel_7352/2071744375.py:6: UserWarning: Boolean Series key will be reindexed to match DataFrame index.\n",
      "  remaining=remaining[mcl_df[\"Written\"]!=1]\n"
     ]
    },
    {
     "name": "stdout",
     "output_type": "stream",
     "text": [
      "SET 2584 FUM FUM\n"
     ]
    },
    {
     "name": "stderr",
     "output_type": "stream",
     "text": [
      "/tmp/ipykernel_7352/2071744375.py:6: UserWarning: Boolean Series key will be reindexed to match DataFrame index.\n",
      "  remaining=remaining[mcl_df[\"Written\"]!=1]\n"
     ]
    },
    {
     "name": "stdout",
     "output_type": "stream",
     "text": [
      "SET 15804 UNK UNK\n"
     ]
    },
    {
     "name": "stderr",
     "output_type": "stream",
     "text": [
      "/tmp/ipykernel_7352/2071744375.py:6: UserWarning: Boolean Series key will be reindexed to match DataFrame index.\n",
      "  remaining=remaining[mcl_df[\"Written\"]!=1]\n"
     ]
    },
    {
     "name": "stdout",
     "output_type": "stream",
     "text": [
      "SET 16927 FUM FUM\n"
     ]
    },
    {
     "name": "stderr",
     "output_type": "stream",
     "text": [
      "/tmp/ipykernel_7352/2071744375.py:6: UserWarning: Boolean Series key will be reindexed to match DataFrame index.\n",
      "  remaining=remaining[mcl_df[\"Written\"]!=1]\n"
     ]
    },
    {
     "name": "stdout",
     "output_type": "stream",
     "text": [
      "SET 13944 EXP+FUM FUM+EXP\n"
     ]
    },
    {
     "name": "stderr",
     "output_type": "stream",
     "text": [
      "/tmp/ipykernel_7352/2071744375.py:6: UserWarning: Boolean Series key will be reindexed to match DataFrame index.\n",
      "  remaining=remaining[mcl_df[\"Written\"]!=1]\n"
     ]
    },
    {
     "name": "stdout",
     "output_type": "stream",
     "text": [
      "SET 10588 EXP+FUM FUM+EXP\n"
     ]
    },
    {
     "name": "stderr",
     "output_type": "stream",
     "text": [
      "/tmp/ipykernel_7352/2071744375.py:6: UserWarning: Boolean Series key will be reindexed to match DataFrame index.\n",
      "  remaining=remaining[mcl_df[\"Written\"]!=1]\n"
     ]
    },
    {
     "name": "stdout",
     "output_type": "stream",
     "text": [
      "SET 9865 EXP EXP\n"
     ]
    },
    {
     "name": "stderr",
     "output_type": "stream",
     "text": [
      "/tmp/ipykernel_7352/2071744375.py:6: UserWarning: Boolean Series key will be reindexed to match DataFrame index.\n",
      "  remaining=remaining[mcl_df[\"Written\"]!=1]\n"
     ]
    },
    {
     "name": "stdout",
     "output_type": "stream",
     "text": [
      "SET 5003 FUM FUM\n"
     ]
    },
    {
     "name": "stderr",
     "output_type": "stream",
     "text": [
      "/tmp/ipykernel_7352/2071744375.py:6: UserWarning: Boolean Series key will be reindexed to match DataFrame index.\n",
      "  remaining=remaining[mcl_df[\"Written\"]!=1]\n"
     ]
    },
    {
     "name": "stdout",
     "output_type": "stream",
     "text": [
      "SET 19844 FUM FUM\n"
     ]
    },
    {
     "name": "stderr",
     "output_type": "stream",
     "text": [
      "/tmp/ipykernel_7352/2071744375.py:6: UserWarning: Boolean Series key will be reindexed to match DataFrame index.\n",
      "  remaining=remaining[mcl_df[\"Written\"]!=1]\n"
     ]
    },
    {
     "name": "stdout",
     "output_type": "stream",
     "text": [
      "SET 11826 FUM FUM\n"
     ]
    },
    {
     "name": "stderr",
     "output_type": "stream",
     "text": [
      "/tmp/ipykernel_7352/2071744375.py:6: UserWarning: Boolean Series key will be reindexed to match DataFrame index.\n",
      "  remaining=remaining[mcl_df[\"Written\"]!=1]\n"
     ]
    },
    {
     "name": "stdout",
     "output_type": "stream",
     "text": [
      "SET 14431 UNK UNK\n"
     ]
    },
    {
     "name": "stderr",
     "output_type": "stream",
     "text": [
      "/tmp/ipykernel_7352/2071744375.py:6: UserWarning: Boolean Series key will be reindexed to match DataFrame index.\n",
      "  remaining=remaining[mcl_df[\"Written\"]!=1]\n"
     ]
    },
    {
     "name": "stdout",
     "output_type": "stream",
     "text": [
      "SET 8955 UNK UNK\n"
     ]
    },
    {
     "name": "stderr",
     "output_type": "stream",
     "text": [
      "/tmp/ipykernel_7352/2071744375.py:6: UserWarning: Boolean Series key will be reindexed to match DataFrame index.\n",
      "  remaining=remaining[mcl_df[\"Written\"]!=1]\n"
     ]
    },
    {
     "name": "stdout",
     "output_type": "stream",
     "text": [
      "SET 6410 INA INAC\n"
     ]
    },
    {
     "name": "stderr",
     "output_type": "stream",
     "text": [
      "/tmp/ipykernel_7352/2071744375.py:6: UserWarning: Boolean Series key will be reindexed to match DataFrame index.\n",
      "  remaining=remaining[mcl_df[\"Written\"]!=1]\n"
     ]
    },
    {
     "name": "stdout",
     "output_type": "stream",
     "text": [
      "SET 13962 EXP+FUM FUM+EXP\n"
     ]
    },
    {
     "name": "stderr",
     "output_type": "stream",
     "text": [
      "/tmp/ipykernel_7352/2071744375.py:6: UserWarning: Boolean Series key will be reindexed to match DataFrame index.\n",
      "  remaining=remaining[mcl_df[\"Written\"]!=1]\n"
     ]
    },
    {
     "name": "stdout",
     "output_type": "stream",
     "text": [
      "SET 3252 INA INAC\n"
     ]
    },
    {
     "name": "stderr",
     "output_type": "stream",
     "text": [
      "/tmp/ipykernel_7352/2071744375.py:6: UserWarning: Boolean Series key will be reindexed to match DataFrame index.\n",
      "  remaining=remaining[mcl_df[\"Written\"]!=1]\n"
     ]
    },
    {
     "name": "stdout",
     "output_type": "stream",
     "text": [
      "SET 20669 FUM FUM\n"
     ]
    },
    {
     "name": "stderr",
     "output_type": "stream",
     "text": [
      "/tmp/ipykernel_7352/2071744375.py:6: UserWarning: Boolean Series key will be reindexed to match DataFrame index.\n",
      "  remaining=remaining[mcl_df[\"Written\"]!=1]\n"
     ]
    },
    {
     "name": "stdout",
     "output_type": "stream",
     "text": [
      "SET 19339 FUM FUM\n"
     ]
    },
    {
     "name": "stderr",
     "output_type": "stream",
     "text": [
      "/tmp/ipykernel_7352/2071744375.py:6: UserWarning: Boolean Series key will be reindexed to match DataFrame index.\n",
      "  remaining=remaining[mcl_df[\"Written\"]!=1]\n"
     ]
    },
    {
     "name": "stdout",
     "output_type": "stream",
     "text": [
      "SET 16712 EXP+FUM FUM+EXP\n"
     ]
    },
    {
     "name": "stderr",
     "output_type": "stream",
     "text": [
      "/tmp/ipykernel_7352/2071744375.py:6: UserWarning: Boolean Series key will be reindexed to match DataFrame index.\n",
      "  remaining=remaining[mcl_df[\"Written\"]!=1]\n"
     ]
    },
    {
     "name": "stdout",
     "output_type": "stream",
     "text": [
      "SET 2934 FUM FUM\n"
     ]
    },
    {
     "name": "stderr",
     "output_type": "stream",
     "text": [
      "/tmp/ipykernel_7352/2071744375.py:6: UserWarning: Boolean Series key will be reindexed to match DataFrame index.\n",
      "  remaining=remaining[mcl_df[\"Written\"]!=1]\n"
     ]
    },
    {
     "name": "stdout",
     "output_type": "stream",
     "text": [
      "SET 14764 EXP+FUM FUM+EXP\n"
     ]
    },
    {
     "name": "stderr",
     "output_type": "stream",
     "text": [
      "/tmp/ipykernel_7352/2071744375.py:6: UserWarning: Boolean Series key will be reindexed to match DataFrame index.\n",
      "  remaining=remaining[mcl_df[\"Written\"]!=1]\n"
     ]
    },
    {
     "name": "stdout",
     "output_type": "stream",
     "text": [
      "SET 15016 INA INAC\n"
     ]
    },
    {
     "name": "stderr",
     "output_type": "stream",
     "text": [
      "/tmp/ipykernel_7352/2071744375.py:6: UserWarning: Boolean Series key will be reindexed to match DataFrame index.\n",
      "  remaining=remaining[mcl_df[\"Written\"]!=1]\n"
     ]
    },
    {
     "name": "stdout",
     "output_type": "stream",
     "text": [
      "SET 16243 EXP+FUM FUM+EXP\n"
     ]
    },
    {
     "name": "stderr",
     "output_type": "stream",
     "text": [
      "/tmp/ipykernel_7352/2071744375.py:6: UserWarning: Boolean Series key will be reindexed to match DataFrame index.\n",
      "  remaining=remaining[mcl_df[\"Written\"]!=1]\n"
     ]
    },
    {
     "name": "stdout",
     "output_type": "stream",
     "text": [
      "SET 20784 EXP+FUM FUM+EXP\n"
     ]
    },
    {
     "name": "stderr",
     "output_type": "stream",
     "text": [
      "/tmp/ipykernel_7352/2071744375.py:6: UserWarning: Boolean Series key will be reindexed to match DataFrame index.\n",
      "  remaining=remaining[mcl_df[\"Written\"]!=1]\n"
     ]
    },
    {
     "name": "stdout",
     "output_type": "stream",
     "text": [
      "SET 16835 EXP+FUM FUM+EXP\n"
     ]
    },
    {
     "name": "stderr",
     "output_type": "stream",
     "text": [
      "/tmp/ipykernel_7352/2071744375.py:6: UserWarning: Boolean Series key will be reindexed to match DataFrame index.\n",
      "  remaining=remaining[mcl_df[\"Written\"]!=1]\n"
     ]
    },
    {
     "name": "stdout",
     "output_type": "stream",
     "text": [
      "SET 6407 EXP EXP\n"
     ]
    },
    {
     "name": "stderr",
     "output_type": "stream",
     "text": [
      "/tmp/ipykernel_7352/2071744375.py:6: UserWarning: Boolean Series key will be reindexed to match DataFrame index.\n",
      "  remaining=remaining[mcl_df[\"Written\"]!=1]\n"
     ]
    },
    {
     "name": "stdout",
     "output_type": "stream",
     "text": [
      "SET 5354 FUM FUM\n"
     ]
    },
    {
     "name": "stderr",
     "output_type": "stream",
     "text": [
      "/tmp/ipykernel_7352/2071744375.py:6: UserWarning: Boolean Series key will be reindexed to match DataFrame index.\n",
      "  remaining=remaining[mcl_df[\"Written\"]!=1]\n"
     ]
    },
    {
     "name": "stdout",
     "output_type": "stream",
     "text": [
      "SET 5353 FUM FUM\n"
     ]
    },
    {
     "name": "stderr",
     "output_type": "stream",
     "text": [
      "/tmp/ipykernel_7352/2071744375.py:6: UserWarning: Boolean Series key will be reindexed to match DataFrame index.\n",
      "  remaining=remaining[mcl_df[\"Written\"]!=1]\n"
     ]
    },
    {
     "name": "stdout",
     "output_type": "stream",
     "text": [
      "SET 12913 FUM FUM\n"
     ]
    },
    {
     "name": "stderr",
     "output_type": "stream",
     "text": [
      "/tmp/ipykernel_7352/2071744375.py:6: UserWarning: Boolean Series key will be reindexed to match DataFrame index.\n",
      "  remaining=remaining[mcl_df[\"Written\"]!=1]\n"
     ]
    },
    {
     "name": "stdout",
     "output_type": "stream",
     "text": [
      "SET 8335 INA INAC\n"
     ]
    },
    {
     "name": "stderr",
     "output_type": "stream",
     "text": [
      "/tmp/ipykernel_7352/2071744375.py:6: UserWarning: Boolean Series key will be reindexed to match DataFrame index.\n",
      "  remaining=remaining[mcl_df[\"Written\"]!=1]\n"
     ]
    },
    {
     "name": "stdout",
     "output_type": "stream",
     "text": [
      "SET 6758 FUM FUM\n"
     ]
    },
    {
     "name": "stderr",
     "output_type": "stream",
     "text": [
      "/tmp/ipykernel_7352/2071744375.py:6: UserWarning: Boolean Series key will be reindexed to match DataFrame index.\n",
      "  remaining=remaining[mcl_df[\"Written\"]!=1]\n"
     ]
    },
    {
     "name": "stdout",
     "output_type": "stream",
     "text": [
      "SET 6765 FUM FUM\n"
     ]
    },
    {
     "name": "stderr",
     "output_type": "stream",
     "text": [
      "/tmp/ipykernel_7352/2071744375.py:6: UserWarning: Boolean Series key will be reindexed to match DataFrame index.\n",
      "  remaining=remaining[mcl_df[\"Written\"]!=1]\n"
     ]
    },
    {
     "name": "stdout",
     "output_type": "stream",
     "text": [
      "SET 6779 FUM FUM\n"
     ]
    },
    {
     "name": "stderr",
     "output_type": "stream",
     "text": [
      "/tmp/ipykernel_7352/2071744375.py:6: UserWarning: Boolean Series key will be reindexed to match DataFrame index.\n",
      "  remaining=remaining[mcl_df[\"Written\"]!=1]\n"
     ]
    },
    {
     "name": "stdout",
     "output_type": "stream",
     "text": [
      "SET 16624 INA INAC\n"
     ]
    },
    {
     "name": "stderr",
     "output_type": "stream",
     "text": [
      "/tmp/ipykernel_7352/2071744375.py:6: UserWarning: Boolean Series key will be reindexed to match DataFrame index.\n",
      "  remaining=remaining[mcl_df[\"Written\"]!=1]\n"
     ]
    },
    {
     "name": "stdout",
     "output_type": "stream",
     "text": [
      "SET 16513 EXP+FUM FUM+EXP\n"
     ]
    },
    {
     "name": "stderr",
     "output_type": "stream",
     "text": [
      "/tmp/ipykernel_7352/2071744375.py:6: UserWarning: Boolean Series key will be reindexed to match DataFrame index.\n",
      "  remaining=remaining[mcl_df[\"Written\"]!=1]\n"
     ]
    },
    {
     "name": "stdout",
     "output_type": "stream",
     "text": [
      "SET 15156 EXP+FUM FUM+EXP\n"
     ]
    },
    {
     "name": "stderr",
     "output_type": "stream",
     "text": [
      "/tmp/ipykernel_7352/2071744375.py:6: UserWarning: Boolean Series key will be reindexed to match DataFrame index.\n",
      "  remaining=remaining[mcl_df[\"Written\"]!=1]\n"
     ]
    },
    {
     "name": "stdout",
     "output_type": "stream",
     "text": [
      "SET 14339 EXP EXP\n"
     ]
    },
    {
     "name": "stderr",
     "output_type": "stream",
     "text": [
      "/tmp/ipykernel_7352/2071744375.py:6: UserWarning: Boolean Series key will be reindexed to match DataFrame index.\n",
      "  remaining=remaining[mcl_df[\"Written\"]!=1]\n"
     ]
    },
    {
     "name": "stdout",
     "output_type": "stream",
     "text": [
      "SET 14704 EXP EXP\n"
     ]
    },
    {
     "name": "stderr",
     "output_type": "stream",
     "text": [
      "/tmp/ipykernel_7352/2071744375.py:6: UserWarning: Boolean Series key will be reindexed to match DataFrame index.\n",
      "  remaining=remaining[mcl_df[\"Written\"]!=1]\n"
     ]
    },
    {
     "name": "stdout",
     "output_type": "stream",
     "text": [
      "SET 6482 FUM FUM\n"
     ]
    },
    {
     "name": "stderr",
     "output_type": "stream",
     "text": [
      "/tmp/ipykernel_7352/2071744375.py:6: UserWarning: Boolean Series key will be reindexed to match DataFrame index.\n",
      "  remaining=remaining[mcl_df[\"Written\"]!=1]\n"
     ]
    },
    {
     "name": "stdout",
     "output_type": "stream",
     "text": [
      "SET 18560 INA INAC\n"
     ]
    },
    {
     "name": "stderr",
     "output_type": "stream",
     "text": [
      "/tmp/ipykernel_7352/2071744375.py:6: UserWarning: Boolean Series key will be reindexed to match DataFrame index.\n",
      "  remaining=remaining[mcl_df[\"Written\"]!=1]\n"
     ]
    },
    {
     "name": "stdout",
     "output_type": "stream",
     "text": [
      "SET 7235 EXP+FUM FUM+EXP\n"
     ]
    },
    {
     "name": "stderr",
     "output_type": "stream",
     "text": [
      "/tmp/ipykernel_7352/2071744375.py:6: UserWarning: Boolean Series key will be reindexed to match DataFrame index.\n",
      "  remaining=remaining[mcl_df[\"Written\"]!=1]\n"
     ]
    },
    {
     "name": "stdout",
     "output_type": "stream",
     "text": [
      "SET 9913 FUM FUM\n"
     ]
    },
    {
     "name": "stderr",
     "output_type": "stream",
     "text": [
      "/tmp/ipykernel_7352/2071744375.py:6: UserWarning: Boolean Series key will be reindexed to match DataFrame index.\n",
      "  remaining=remaining[mcl_df[\"Written\"]!=1]\n"
     ]
    },
    {
     "name": "stdout",
     "output_type": "stream",
     "text": [
      "SET 18017 FUM FUM\n"
     ]
    },
    {
     "name": "stderr",
     "output_type": "stream",
     "text": [
      "/tmp/ipykernel_7352/2071744375.py:6: UserWarning: Boolean Series key will be reindexed to match DataFrame index.\n",
      "  remaining=remaining[mcl_df[\"Written\"]!=1]\n"
     ]
    },
    {
     "name": "stdout",
     "output_type": "stream",
     "text": [
      "SET 7743 EXP+FUM FUM+EXP\n"
     ]
    },
    {
     "name": "stderr",
     "output_type": "stream",
     "text": [
      "/tmp/ipykernel_7352/2071744375.py:6: UserWarning: Boolean Series key will be reindexed to match DataFrame index.\n",
      "  remaining=remaining[mcl_df[\"Written\"]!=1]\n"
     ]
    },
    {
     "name": "stdout",
     "output_type": "stream",
     "text": [
      "SET 3767 FUM FUM\n"
     ]
    },
    {
     "name": "stderr",
     "output_type": "stream",
     "text": [
      "/tmp/ipykernel_7352/2071744375.py:6: UserWarning: Boolean Series key will be reindexed to match DataFrame index.\n",
      "  remaining=remaining[mcl_df[\"Written\"]!=1]\n"
     ]
    },
    {
     "name": "stdout",
     "output_type": "stream",
     "text": [
      "SET 14131 INA INAC\n"
     ]
    },
    {
     "name": "stderr",
     "output_type": "stream",
     "text": [
      "/tmp/ipykernel_7352/2071744375.py:6: UserWarning: Boolean Series key will be reindexed to match DataFrame index.\n",
      "  remaining=remaining[mcl_df[\"Written\"]!=1]\n"
     ]
    },
    {
     "name": "stdout",
     "output_type": "stream",
     "text": [
      "SET 7498 FUM FUM\n"
     ]
    },
    {
     "name": "stderr",
     "output_type": "stream",
     "text": [
      "/tmp/ipykernel_7352/2071744375.py:6: UserWarning: Boolean Series key will be reindexed to match DataFrame index.\n",
      "  remaining=remaining[mcl_df[\"Written\"]!=1]\n"
     ]
    },
    {
     "name": "stdout",
     "output_type": "stream",
     "text": [
      "SET 16735 INA INAC\n"
     ]
    },
    {
     "name": "stderr",
     "output_type": "stream",
     "text": [
      "/tmp/ipykernel_7352/2071744375.py:6: UserWarning: Boolean Series key will be reindexed to match DataFrame index.\n",
      "  remaining=remaining[mcl_df[\"Written\"]!=1]\n"
     ]
    },
    {
     "name": "stdout",
     "output_type": "stream",
     "text": [
      "SET 5594 UNK UNK\n"
     ]
    },
    {
     "name": "stderr",
     "output_type": "stream",
     "text": [
      "/tmp/ipykernel_7352/2071744375.py:6: UserWarning: Boolean Series key will be reindexed to match DataFrame index.\n",
      "  remaining=remaining[mcl_df[\"Written\"]!=1]\n"
     ]
    },
    {
     "name": "stdout",
     "output_type": "stream",
     "text": [
      "SET 13338 UNK UNK\n"
     ]
    },
    {
     "name": "stderr",
     "output_type": "stream",
     "text": [
      "/tmp/ipykernel_7352/2071744375.py:6: UserWarning: Boolean Series key will be reindexed to match DataFrame index.\n",
      "  remaining=remaining[mcl_df[\"Written\"]!=1]\n"
     ]
    },
    {
     "name": "stdout",
     "output_type": "stream",
     "text": [
      "SET 20763 INA INAC\n"
     ]
    },
    {
     "name": "stderr",
     "output_type": "stream",
     "text": [
      "/tmp/ipykernel_7352/2071744375.py:6: UserWarning: Boolean Series key will be reindexed to match DataFrame index.\n",
      "  remaining=remaining[mcl_df[\"Written\"]!=1]\n"
     ]
    },
    {
     "name": "stdout",
     "output_type": "stream",
     "text": [
      "SET 15602 EXP+FUM FUM+EXP\n"
     ]
    },
    {
     "name": "stderr",
     "output_type": "stream",
     "text": [
      "/tmp/ipykernel_7352/2071744375.py:6: UserWarning: Boolean Series key will be reindexed to match DataFrame index.\n",
      "  remaining=remaining[mcl_df[\"Written\"]!=1]\n"
     ]
    },
    {
     "name": "stdout",
     "output_type": "stream",
     "text": [
      "SET 11248 EXP EXP\n"
     ]
    },
    {
     "name": "stderr",
     "output_type": "stream",
     "text": [
      "/tmp/ipykernel_7352/2071744375.py:6: UserWarning: Boolean Series key will be reindexed to match DataFrame index.\n",
      "  remaining=remaining[mcl_df[\"Written\"]!=1]\n"
     ]
    },
    {
     "name": "stdout",
     "output_type": "stream",
     "text": [
      "SET 3967 FUM FUM\n"
     ]
    },
    {
     "name": "stderr",
     "output_type": "stream",
     "text": [
      "/tmp/ipykernel_7352/2071744375.py:6: UserWarning: Boolean Series key will be reindexed to match DataFrame index.\n",
      "  remaining=remaining[mcl_df[\"Written\"]!=1]\n"
     ]
    },
    {
     "name": "stdout",
     "output_type": "stream",
     "text": [
      "SET 11655 FUM FUM\n"
     ]
    },
    {
     "name": "stderr",
     "output_type": "stream",
     "text": [
      "/tmp/ipykernel_7352/2071744375.py:6: UserWarning: Boolean Series key will be reindexed to match DataFrame index.\n",
      "  remaining=remaining[mcl_df[\"Written\"]!=1]\n"
     ]
    },
    {
     "name": "stdout",
     "output_type": "stream",
     "text": [
      "SET 9868 EXP+FUM FUM+EXP\n"
     ]
    },
    {
     "name": "stderr",
     "output_type": "stream",
     "text": [
      "/tmp/ipykernel_7352/2071744375.py:6: UserWarning: Boolean Series key will be reindexed to match DataFrame index.\n",
      "  remaining=remaining[mcl_df[\"Written\"]!=1]\n"
     ]
    },
    {
     "name": "stdout",
     "output_type": "stream",
     "text": [
      "SET 14024 EXP EXP\n"
     ]
    },
    {
     "name": "stderr",
     "output_type": "stream",
     "text": [
      "/tmp/ipykernel_7352/2071744375.py:6: UserWarning: Boolean Series key will be reindexed to match DataFrame index.\n",
      "  remaining=remaining[mcl_df[\"Written\"]!=1]\n"
     ]
    },
    {
     "name": "stdout",
     "output_type": "stream",
     "text": [
      "SET 13981 EXP EXP\n"
     ]
    },
    {
     "name": "stderr",
     "output_type": "stream",
     "text": [
      "/tmp/ipykernel_7352/2071744375.py:6: UserWarning: Boolean Series key will be reindexed to match DataFrame index.\n",
      "  remaining=remaining[mcl_df[\"Written\"]!=1]\n"
     ]
    },
    {
     "name": "stdout",
     "output_type": "stream",
     "text": [
      "SET 7790 FUM FUM\n"
     ]
    },
    {
     "name": "stderr",
     "output_type": "stream",
     "text": [
      "/tmp/ipykernel_7352/2071744375.py:6: UserWarning: Boolean Series key will be reindexed to match DataFrame index.\n",
      "  remaining=remaining[mcl_df[\"Written\"]!=1]\n"
     ]
    },
    {
     "name": "stdout",
     "output_type": "stream",
     "text": [
      "SET 4246 FUM FUM\n"
     ]
    },
    {
     "name": "stderr",
     "output_type": "stream",
     "text": [
      "/tmp/ipykernel_7352/2071744375.py:6: UserWarning: Boolean Series key will be reindexed to match DataFrame index.\n",
      "  remaining=remaining[mcl_df[\"Written\"]!=1]\n"
     ]
    },
    {
     "name": "stdout",
     "output_type": "stream",
     "text": [
      "SET 7221 FUM FUM\n"
     ]
    },
    {
     "name": "stderr",
     "output_type": "stream",
     "text": [
      "/tmp/ipykernel_7352/2071744375.py:6: UserWarning: Boolean Series key will be reindexed to match DataFrame index.\n",
      "  remaining=remaining[mcl_df[\"Written\"]!=1]\n"
     ]
    },
    {
     "name": "stdout",
     "output_type": "stream",
     "text": [
      "SET 13985 FUM FUM\n"
     ]
    },
    {
     "name": "stderr",
     "output_type": "stream",
     "text": [
      "/tmp/ipykernel_7352/2071744375.py:6: UserWarning: Boolean Series key will be reindexed to match DataFrame index.\n",
      "  remaining=remaining[mcl_df[\"Written\"]!=1]\n"
     ]
    },
    {
     "name": "stdout",
     "output_type": "stream",
     "text": [
      "SET 7806 EXP+FUM FUM+EXP\n"
     ]
    },
    {
     "name": "stderr",
     "output_type": "stream",
     "text": [
      "/tmp/ipykernel_7352/2071744375.py:6: UserWarning: Boolean Series key will be reindexed to match DataFrame index.\n",
      "  remaining=remaining[mcl_df[\"Written\"]!=1]\n"
     ]
    },
    {
     "name": "stdout",
     "output_type": "stream",
     "text": [
      "SET 4115 UNK UNK\n"
     ]
    },
    {
     "name": "stderr",
     "output_type": "stream",
     "text": [
      "/tmp/ipykernel_7352/2071744375.py:6: UserWarning: Boolean Series key will be reindexed to match DataFrame index.\n",
      "  remaining=remaining[mcl_df[\"Written\"]!=1]\n"
     ]
    },
    {
     "name": "stdout",
     "output_type": "stream",
     "text": [
      "SET 17664 EXP EXP\n"
     ]
    },
    {
     "name": "stderr",
     "output_type": "stream",
     "text": [
      "/tmp/ipykernel_7352/2071744375.py:6: UserWarning: Boolean Series key will be reindexed to match DataFrame index.\n",
      "  remaining=remaining[mcl_df[\"Written\"]!=1]\n"
     ]
    },
    {
     "name": "stdout",
     "output_type": "stream",
     "text": [
      "SET 13917 EXP+FUM FUM+EXP\n"
     ]
    },
    {
     "name": "stderr",
     "output_type": "stream",
     "text": [
      "/tmp/ipykernel_7352/2071744375.py:6: UserWarning: Boolean Series key will be reindexed to match DataFrame index.\n",
      "  remaining=remaining[mcl_df[\"Written\"]!=1]\n"
     ]
    },
    {
     "name": "stdout",
     "output_type": "stream",
     "text": [
      "SET 8904 EXP+FUM FUM+EXP\n"
     ]
    },
    {
     "name": "stderr",
     "output_type": "stream",
     "text": [
      "/tmp/ipykernel_7352/2071744375.py:6: UserWarning: Boolean Series key will be reindexed to match DataFrame index.\n",
      "  remaining=remaining[mcl_df[\"Written\"]!=1]\n"
     ]
    },
    {
     "name": "stdout",
     "output_type": "stream",
     "text": [
      "SET 3863 FUM FUM\n"
     ]
    },
    {
     "name": "stderr",
     "output_type": "stream",
     "text": [
      "/tmp/ipykernel_7352/2071744375.py:6: UserWarning: Boolean Series key will be reindexed to match DataFrame index.\n",
      "  remaining=remaining[mcl_df[\"Written\"]!=1]\n"
     ]
    },
    {
     "name": "stdout",
     "output_type": "stream",
     "text": [
      "SET 6323 FUM FUM\n"
     ]
    },
    {
     "name": "stderr",
     "output_type": "stream",
     "text": [
      "/tmp/ipykernel_7352/2071744375.py:6: UserWarning: Boolean Series key will be reindexed to match DataFrame index.\n",
      "  remaining=remaining[mcl_df[\"Written\"]!=1]\n"
     ]
    },
    {
     "name": "stdout",
     "output_type": "stream",
     "text": [
      "SET 15944 EXP EXP\n"
     ]
    },
    {
     "name": "stderr",
     "output_type": "stream",
     "text": [
      "/tmp/ipykernel_7352/2071744375.py:6: UserWarning: Boolean Series key will be reindexed to match DataFrame index.\n",
      "  remaining=remaining[mcl_df[\"Written\"]!=1]\n"
     ]
    },
    {
     "name": "stdout",
     "output_type": "stream",
     "text": [
      "SET 8325 FUM FUM\n"
     ]
    },
    {
     "name": "stderr",
     "output_type": "stream",
     "text": [
      "/tmp/ipykernel_7352/2071744375.py:6: UserWarning: Boolean Series key will be reindexed to match DataFrame index.\n",
      "  remaining=remaining[mcl_df[\"Written\"]!=1]\n"
     ]
    },
    {
     "name": "stdout",
     "output_type": "stream",
     "text": [
      "SET 16594 FUM FUM\n"
     ]
    },
    {
     "name": "stderr",
     "output_type": "stream",
     "text": [
      "/tmp/ipykernel_7352/2071744375.py:6: UserWarning: Boolean Series key will be reindexed to match DataFrame index.\n",
      "  remaining=remaining[mcl_df[\"Written\"]!=1]\n"
     ]
    },
    {
     "name": "stdout",
     "output_type": "stream",
     "text": [
      "SET 14603 FUM FUM\n"
     ]
    },
    {
     "name": "stderr",
     "output_type": "stream",
     "text": [
      "/tmp/ipykernel_7352/2071744375.py:6: UserWarning: Boolean Series key will be reindexed to match DataFrame index.\n",
      "  remaining=remaining[mcl_df[\"Written\"]!=1]\n"
     ]
    },
    {
     "name": "stdout",
     "output_type": "stream",
     "text": [
      "SET 7897 FUM FUM\n"
     ]
    },
    {
     "name": "stderr",
     "output_type": "stream",
     "text": [
      "/tmp/ipykernel_7352/2071744375.py:6: UserWarning: Boolean Series key will be reindexed to match DataFrame index.\n",
      "  remaining=remaining[mcl_df[\"Written\"]!=1]\n"
     ]
    },
    {
     "name": "stdout",
     "output_type": "stream",
     "text": [
      "SET 17457 FUM FUM\n"
     ]
    },
    {
     "name": "stderr",
     "output_type": "stream",
     "text": [
      "/tmp/ipykernel_7352/2071744375.py:6: UserWarning: Boolean Series key will be reindexed to match DataFrame index.\n",
      "  remaining=remaining[mcl_df[\"Written\"]!=1]\n"
     ]
    },
    {
     "name": "stdout",
     "output_type": "stream",
     "text": [
      "SET 1848 INA INAC\n"
     ]
    },
    {
     "name": "stderr",
     "output_type": "stream",
     "text": [
      "/tmp/ipykernel_7352/2071744375.py:6: UserWarning: Boolean Series key will be reindexed to match DataFrame index.\n",
      "  remaining=remaining[mcl_df[\"Written\"]!=1]\n"
     ]
    },
    {
     "name": "stdout",
     "output_type": "stream",
     "text": [
      "SET 12333 FUM FUM\n"
     ]
    },
    {
     "name": "stderr",
     "output_type": "stream",
     "text": [
      "/tmp/ipykernel_7352/2071744375.py:6: UserWarning: Boolean Series key will be reindexed to match DataFrame index.\n",
      "  remaining=remaining[mcl_df[\"Written\"]!=1]\n"
     ]
    },
    {
     "name": "stdout",
     "output_type": "stream",
     "text": [
      "SET 20803 FUM FUM\n"
     ]
    },
    {
     "name": "stderr",
     "output_type": "stream",
     "text": [
      "/tmp/ipykernel_7352/2071744375.py:6: UserWarning: Boolean Series key will be reindexed to match DataFrame index.\n",
      "  remaining=remaining[mcl_df[\"Written\"]!=1]\n"
     ]
    },
    {
     "name": "stdout",
     "output_type": "stream",
     "text": [
      "SET 13108 EXP+FUM FUM+EXP\n"
     ]
    },
    {
     "name": "stderr",
     "output_type": "stream",
     "text": [
      "/tmp/ipykernel_7352/2071744375.py:6: UserWarning: Boolean Series key will be reindexed to match DataFrame index.\n",
      "  remaining=remaining[mcl_df[\"Written\"]!=1]\n"
     ]
    },
    {
     "name": "stdout",
     "output_type": "stream",
     "text": [
      "SET 7533 EXP+FUM FUM+EXP\n"
     ]
    },
    {
     "name": "stderr",
     "output_type": "stream",
     "text": [
      "/tmp/ipykernel_7352/2071744375.py:6: UserWarning: Boolean Series key will be reindexed to match DataFrame index.\n",
      "  remaining=remaining[mcl_df[\"Written\"]!=1]\n"
     ]
    },
    {
     "name": "stdout",
     "output_type": "stream",
     "text": [
      "SET 9820 FUM FUM\n"
     ]
    },
    {
     "name": "stderr",
     "output_type": "stream",
     "text": [
      "/tmp/ipykernel_7352/2071744375.py:6: UserWarning: Boolean Series key will be reindexed to match DataFrame index.\n",
      "  remaining=remaining[mcl_df[\"Written\"]!=1]\n"
     ]
    },
    {
     "name": "stdout",
     "output_type": "stream",
     "text": [
      "SET 11672 FUM FUM\n"
     ]
    },
    {
     "name": "stderr",
     "output_type": "stream",
     "text": [
      "/tmp/ipykernel_7352/2071744375.py:6: UserWarning: Boolean Series key will be reindexed to match DataFrame index.\n",
      "  remaining=remaining[mcl_df[\"Written\"]!=1]\n"
     ]
    },
    {
     "name": "stdout",
     "output_type": "stream",
     "text": [
      "SET 8932 EXP+FUM FUM+EXP\n"
     ]
    },
    {
     "name": "stderr",
     "output_type": "stream",
     "text": [
      "/tmp/ipykernel_7352/2071744375.py:6: UserWarning: Boolean Series key will be reindexed to match DataFrame index.\n",
      "  remaining=remaining[mcl_df[\"Written\"]!=1]\n"
     ]
    },
    {
     "name": "stdout",
     "output_type": "stream",
     "text": [
      "SET 11544 EXP EXP\n"
     ]
    },
    {
     "name": "stderr",
     "output_type": "stream",
     "text": [
      "/tmp/ipykernel_7352/2071744375.py:6: UserWarning: Boolean Series key will be reindexed to match DataFrame index.\n",
      "  remaining=remaining[mcl_df[\"Written\"]!=1]\n"
     ]
    },
    {
     "name": "stdout",
     "output_type": "stream",
     "text": [
      "SET 10803 FUM FUM\n"
     ]
    },
    {
     "name": "stderr",
     "output_type": "stream",
     "text": [
      "/tmp/ipykernel_7352/2071744375.py:6: UserWarning: Boolean Series key will be reindexed to match DataFrame index.\n",
      "  remaining=remaining[mcl_df[\"Written\"]!=1]\n"
     ]
    },
    {
     "name": "stdout",
     "output_type": "stream",
     "text": [
      "SET 8102 FUM FUM\n"
     ]
    },
    {
     "name": "stderr",
     "output_type": "stream",
     "text": [
      "/tmp/ipykernel_7352/2071744375.py:6: UserWarning: Boolean Series key will be reindexed to match DataFrame index.\n",
      "  remaining=remaining[mcl_df[\"Written\"]!=1]\n"
     ]
    },
    {
     "name": "stdout",
     "output_type": "stream",
     "text": [
      "SET 18192 INA INAC\n"
     ]
    },
    {
     "name": "stderr",
     "output_type": "stream",
     "text": [
      "/tmp/ipykernel_7352/2071744375.py:6: UserWarning: Boolean Series key will be reindexed to match DataFrame index.\n",
      "  remaining=remaining[mcl_df[\"Written\"]!=1]\n"
     ]
    },
    {
     "name": "stdout",
     "output_type": "stream",
     "text": [
      "SET 20671 FUM FUM\n"
     ]
    },
    {
     "name": "stderr",
     "output_type": "stream",
     "text": [
      "/tmp/ipykernel_7352/2071744375.py:6: UserWarning: Boolean Series key will be reindexed to match DataFrame index.\n",
      "  remaining=remaining[mcl_df[\"Written\"]!=1]\n"
     ]
    },
    {
     "name": "stdout",
     "output_type": "stream",
     "text": [
      "SET 13574 EXP EXP\n"
     ]
    },
    {
     "name": "stderr",
     "output_type": "stream",
     "text": [
      "/tmp/ipykernel_7352/2071744375.py:6: UserWarning: Boolean Series key will be reindexed to match DataFrame index.\n",
      "  remaining=remaining[mcl_df[\"Written\"]!=1]\n"
     ]
    },
    {
     "name": "stdout",
     "output_type": "stream",
     "text": [
      "SET 6800 EXP EXP\n"
     ]
    },
    {
     "name": "stderr",
     "output_type": "stream",
     "text": [
      "/tmp/ipykernel_7352/2071744375.py:6: UserWarning: Boolean Series key will be reindexed to match DataFrame index.\n",
      "  remaining=remaining[mcl_df[\"Written\"]!=1]\n"
     ]
    },
    {
     "name": "stdout",
     "output_type": "stream",
     "text": [
      "SET 11502 UNK UNK\n"
     ]
    },
    {
     "name": "stderr",
     "output_type": "stream",
     "text": [
      "/tmp/ipykernel_7352/2071744375.py:6: UserWarning: Boolean Series key will be reindexed to match DataFrame index.\n",
      "  remaining=remaining[mcl_df[\"Written\"]!=1]\n"
     ]
    },
    {
     "name": "stdout",
     "output_type": "stream",
     "text": [
      "SET 19437 FUM FUM\n"
     ]
    },
    {
     "name": "stderr",
     "output_type": "stream",
     "text": [
      "/tmp/ipykernel_7352/2071744375.py:6: UserWarning: Boolean Series key will be reindexed to match DataFrame index.\n",
      "  remaining=remaining[mcl_df[\"Written\"]!=1]\n"
     ]
    },
    {
     "name": "stdout",
     "output_type": "stream",
     "text": [
      "SET 18037 UNK UNK\n"
     ]
    },
    {
     "name": "stderr",
     "output_type": "stream",
     "text": [
      "/tmp/ipykernel_7352/2071744375.py:6: UserWarning: Boolean Series key will be reindexed to match DataFrame index.\n",
      "  remaining=remaining[mcl_df[\"Written\"]!=1]\n"
     ]
    },
    {
     "name": "stdout",
     "output_type": "stream",
     "text": [
      "SET 7091 EXP+FUM FUM+EXP\n"
     ]
    },
    {
     "name": "stderr",
     "output_type": "stream",
     "text": [
      "/tmp/ipykernel_7352/2071744375.py:6: UserWarning: Boolean Series key will be reindexed to match DataFrame index.\n",
      "  remaining=remaining[mcl_df[\"Written\"]!=1]\n"
     ]
    },
    {
     "name": "stdout",
     "output_type": "stream",
     "text": [
      "SET 13863 FUM FUM\n"
     ]
    },
    {
     "name": "stderr",
     "output_type": "stream",
     "text": [
      "/tmp/ipykernel_7352/2071744375.py:6: UserWarning: Boolean Series key will be reindexed to match DataFrame index.\n",
      "  remaining=remaining[mcl_df[\"Written\"]!=1]\n"
     ]
    },
    {
     "name": "stdout",
     "output_type": "stream",
     "text": [
      "SET 10618 EXP EXP\n"
     ]
    },
    {
     "name": "stderr",
     "output_type": "stream",
     "text": [
      "/tmp/ipykernel_7352/2071744375.py:6: UserWarning: Boolean Series key will be reindexed to match DataFrame index.\n",
      "  remaining=remaining[mcl_df[\"Written\"]!=1]\n"
     ]
    },
    {
     "name": "stdout",
     "output_type": "stream",
     "text": [
      "SET 17225 EXP EXP\n"
     ]
    },
    {
     "name": "stderr",
     "output_type": "stream",
     "text": [
      "/tmp/ipykernel_7352/2071744375.py:6: UserWarning: Boolean Series key will be reindexed to match DataFrame index.\n",
      "  remaining=remaining[mcl_df[\"Written\"]!=1]\n"
     ]
    },
    {
     "name": "stdout",
     "output_type": "stream",
     "text": [
      "SET 18570 INA INAC\n"
     ]
    },
    {
     "name": "stderr",
     "output_type": "stream",
     "text": [
      "/tmp/ipykernel_7352/2071744375.py:6: UserWarning: Boolean Series key will be reindexed to match DataFrame index.\n",
      "  remaining=remaining[mcl_df[\"Written\"]!=1]\n"
     ]
    },
    {
     "name": "stdout",
     "output_type": "stream",
     "text": [
      "SET 15125 EXP+FUM FUM+EXP\n"
     ]
    },
    {
     "name": "stderr",
     "output_type": "stream",
     "text": [
      "/tmp/ipykernel_7352/2071744375.py:6: UserWarning: Boolean Series key will be reindexed to match DataFrame index.\n",
      "  remaining=remaining[mcl_df[\"Written\"]!=1]\n"
     ]
    },
    {
     "name": "stdout",
     "output_type": "stream",
     "text": [
      "SET 8424 EXP EXP\n"
     ]
    },
    {
     "name": "stderr",
     "output_type": "stream",
     "text": [
      "/tmp/ipykernel_7352/2071744375.py:6: UserWarning: Boolean Series key will be reindexed to match DataFrame index.\n",
      "  remaining=remaining[mcl_df[\"Written\"]!=1]\n"
     ]
    },
    {
     "name": "stdout",
     "output_type": "stream",
     "text": [
      "SET 13936 EXP+FUM FUM+EXP\n"
     ]
    },
    {
     "name": "stderr",
     "output_type": "stream",
     "text": [
      "/tmp/ipykernel_7352/2071744375.py:6: UserWarning: Boolean Series key will be reindexed to match DataFrame index.\n",
      "  remaining=remaining[mcl_df[\"Written\"]!=1]\n"
     ]
    },
    {
     "name": "stdout",
     "output_type": "stream",
     "text": [
      "SET 21586 FUM FUM\n"
     ]
    },
    {
     "name": "stderr",
     "output_type": "stream",
     "text": [
      "/tmp/ipykernel_7352/2071744375.py:6: UserWarning: Boolean Series key will be reindexed to match DataFrame index.\n",
      "  remaining=remaining[mcl_df[\"Written\"]!=1]\n"
     ]
    },
    {
     "name": "stdout",
     "output_type": "stream",
     "text": [
      "SET 8126 EXP+FUM FUM+EXP\n"
     ]
    },
    {
     "name": "stderr",
     "output_type": "stream",
     "text": [
      "/tmp/ipykernel_7352/2071744375.py:6: UserWarning: Boolean Series key will be reindexed to match DataFrame index.\n",
      "  remaining=remaining[mcl_df[\"Written\"]!=1]\n"
     ]
    },
    {
     "name": "stdout",
     "output_type": "stream",
     "text": [
      "SET 20523 EXP+FUM FUM+EXP\n"
     ]
    },
    {
     "name": "stderr",
     "output_type": "stream",
     "text": [
      "/tmp/ipykernel_7352/2071744375.py:6: UserWarning: Boolean Series key will be reindexed to match DataFrame index.\n",
      "  remaining=remaining[mcl_df[\"Written\"]!=1]\n"
     ]
    },
    {
     "name": "stdout",
     "output_type": "stream",
     "text": [
      "SET 12443 FUM FUM\n"
     ]
    },
    {
     "name": "stderr",
     "output_type": "stream",
     "text": [
      "/tmp/ipykernel_7352/2071744375.py:6: UserWarning: Boolean Series key will be reindexed to match DataFrame index.\n",
      "  remaining=remaining[mcl_df[\"Written\"]!=1]\n"
     ]
    },
    {
     "name": "stdout",
     "output_type": "stream",
     "text": [
      "SET 10599 FUM FUM\n"
     ]
    },
    {
     "name": "stderr",
     "output_type": "stream",
     "text": [
      "/tmp/ipykernel_7352/2071744375.py:6: UserWarning: Boolean Series key will be reindexed to match DataFrame index.\n",
      "  remaining=remaining[mcl_df[\"Written\"]!=1]\n"
     ]
    },
    {
     "name": "stdout",
     "output_type": "stream",
     "text": [
      "SET 10750 INA INAC\n"
     ]
    },
    {
     "name": "stderr",
     "output_type": "stream",
     "text": [
      "/tmp/ipykernel_7352/2071744375.py:6: UserWarning: Boolean Series key will be reindexed to match DataFrame index.\n",
      "  remaining=remaining[mcl_df[\"Written\"]!=1]\n"
     ]
    },
    {
     "name": "stdout",
     "output_type": "stream",
     "text": [
      "SET 15010 UNK UNK\n"
     ]
    },
    {
     "name": "stderr",
     "output_type": "stream",
     "text": [
      "/tmp/ipykernel_7352/2071744375.py:6: UserWarning: Boolean Series key will be reindexed to match DataFrame index.\n",
      "  remaining=remaining[mcl_df[\"Written\"]!=1]\n"
     ]
    },
    {
     "name": "stdout",
     "output_type": "stream",
     "text": [
      "SET 5178 FUM FUM\n"
     ]
    },
    {
     "name": "stderr",
     "output_type": "stream",
     "text": [
      "/tmp/ipykernel_7352/2071744375.py:6: UserWarning: Boolean Series key will be reindexed to match DataFrame index.\n",
      "  remaining=remaining[mcl_df[\"Written\"]!=1]\n"
     ]
    },
    {
     "name": "stdout",
     "output_type": "stream",
     "text": [
      "SET 7470 EXP EXP\n"
     ]
    },
    {
     "name": "stderr",
     "output_type": "stream",
     "text": [
      "/tmp/ipykernel_7352/2071744375.py:6: UserWarning: Boolean Series key will be reindexed to match DataFrame index.\n",
      "  remaining=remaining[mcl_df[\"Written\"]!=1]\n"
     ]
    },
    {
     "name": "stdout",
     "output_type": "stream",
     "text": [
      "SET 9333 EXP EXP\n"
     ]
    },
    {
     "name": "stderr",
     "output_type": "stream",
     "text": [
      "/tmp/ipykernel_7352/2071744375.py:6: UserWarning: Boolean Series key will be reindexed to match DataFrame index.\n",
      "  remaining=remaining[mcl_df[\"Written\"]!=1]\n"
     ]
    },
    {
     "name": "stdout",
     "output_type": "stream",
     "text": [
      "SET 16489 EXP EXP\n"
     ]
    },
    {
     "name": "stderr",
     "output_type": "stream",
     "text": [
      "/tmp/ipykernel_7352/2071744375.py:6: UserWarning: Boolean Series key will be reindexed to match DataFrame index.\n",
      "  remaining=remaining[mcl_df[\"Written\"]!=1]\n"
     ]
    },
    {
     "name": "stdout",
     "output_type": "stream",
     "text": [
      "SET 14002 EXP EXP\n"
     ]
    },
    {
     "name": "stderr",
     "output_type": "stream",
     "text": [
      "/tmp/ipykernel_7352/2071744375.py:6: UserWarning: Boolean Series key will be reindexed to match DataFrame index.\n",
      "  remaining=remaining[mcl_df[\"Written\"]!=1]\n"
     ]
    },
    {
     "name": "stdout",
     "output_type": "stream",
     "text": [
      "SET 14032 EXP+FUM FUM+EXP\n"
     ]
    },
    {
     "name": "stderr",
     "output_type": "stream",
     "text": [
      "/tmp/ipykernel_7352/2071744375.py:6: UserWarning: Boolean Series key will be reindexed to match DataFrame index.\n",
      "  remaining=remaining[mcl_df[\"Written\"]!=1]\n"
     ]
    },
    {
     "name": "stdout",
     "output_type": "stream",
     "text": [
      "SET 4840 UNK UNK\n"
     ]
    },
    {
     "name": "stderr",
     "output_type": "stream",
     "text": [
      "/tmp/ipykernel_7352/2071744375.py:6: UserWarning: Boolean Series key will be reindexed to match DataFrame index.\n",
      "  remaining=remaining[mcl_df[\"Written\"]!=1]\n"
     ]
    },
    {
     "name": "stdout",
     "output_type": "stream",
     "text": [
      "SET 2164 UNK UNK\n"
     ]
    },
    {
     "name": "stderr",
     "output_type": "stream",
     "text": [
      "/tmp/ipykernel_7352/2071744375.py:6: UserWarning: Boolean Series key will be reindexed to match DataFrame index.\n",
      "  remaining=remaining[mcl_df[\"Written\"]!=1]\n"
     ]
    },
    {
     "name": "stdout",
     "output_type": "stream",
     "text": [
      "SET 6843 FUM FUM\n"
     ]
    },
    {
     "name": "stderr",
     "output_type": "stream",
     "text": [
      "/tmp/ipykernel_7352/2071744375.py:6: UserWarning: Boolean Series key will be reindexed to match DataFrame index.\n",
      "  remaining=remaining[mcl_df[\"Written\"]!=1]\n"
     ]
    },
    {
     "name": "stdout",
     "output_type": "stream",
     "text": [
      "SET 18634 EXP EXP\n"
     ]
    },
    {
     "name": "stderr",
     "output_type": "stream",
     "text": [
      "/tmp/ipykernel_7352/2071744375.py:6: UserWarning: Boolean Series key will be reindexed to match DataFrame index.\n",
      "  remaining=remaining[mcl_df[\"Written\"]!=1]\n"
     ]
    },
    {
     "name": "stdout",
     "output_type": "stream",
     "text": [
      "SET 4853 UNK UNK\n"
     ]
    },
    {
     "name": "stderr",
     "output_type": "stream",
     "text": [
      "/tmp/ipykernel_7352/2071744375.py:6: UserWarning: Boolean Series key will be reindexed to match DataFrame index.\n",
      "  remaining=remaining[mcl_df[\"Written\"]!=1]\n"
     ]
    },
    {
     "name": "stdout",
     "output_type": "stream",
     "text": [
      "SET 5037 EXP EXP\n"
     ]
    },
    {
     "name": "stderr",
     "output_type": "stream",
     "text": [
      "/tmp/ipykernel_7352/2071744375.py:6: UserWarning: Boolean Series key will be reindexed to match DataFrame index.\n",
      "  remaining=remaining[mcl_df[\"Written\"]!=1]\n"
     ]
    },
    {
     "name": "stdout",
     "output_type": "stream",
     "text": [
      "SET 16762 EXP EXP\n"
     ]
    },
    {
     "name": "stderr",
     "output_type": "stream",
     "text": [
      "/tmp/ipykernel_7352/2071744375.py:6: UserWarning: Boolean Series key will be reindexed to match DataFrame index.\n",
      "  remaining=remaining[mcl_df[\"Written\"]!=1]\n"
     ]
    },
    {
     "name": "stdout",
     "output_type": "stream",
     "text": [
      "SET 20301 FUM FUM\n"
     ]
    },
    {
     "name": "stderr",
     "output_type": "stream",
     "text": [
      "/tmp/ipykernel_7352/2071744375.py:6: UserWarning: Boolean Series key will be reindexed to match DataFrame index.\n",
      "  remaining=remaining[mcl_df[\"Written\"]!=1]\n"
     ]
    },
    {
     "name": "stdout",
     "output_type": "stream",
     "text": [
      "SET 15180 INA INAC\n"
     ]
    },
    {
     "name": "stderr",
     "output_type": "stream",
     "text": [
      "/tmp/ipykernel_7352/2071744375.py:6: UserWarning: Boolean Series key will be reindexed to match DataFrame index.\n",
      "  remaining=remaining[mcl_df[\"Written\"]!=1]\n"
     ]
    },
    {
     "name": "stdout",
     "output_type": "stream",
     "text": [
      "SET 14670 INA INAC\n"
     ]
    },
    {
     "name": "stderr",
     "output_type": "stream",
     "text": [
      "/tmp/ipykernel_7352/2071744375.py:6: UserWarning: Boolean Series key will be reindexed to match DataFrame index.\n",
      "  remaining=remaining[mcl_df[\"Written\"]!=1]\n"
     ]
    },
    {
     "name": "stdout",
     "output_type": "stream",
     "text": [
      "SET 17035 EXP+FUM FUM+EXP\n"
     ]
    },
    {
     "name": "stderr",
     "output_type": "stream",
     "text": [
      "/tmp/ipykernel_7352/2071744375.py:6: UserWarning: Boolean Series key will be reindexed to match DataFrame index.\n",
      "  remaining=remaining[mcl_df[\"Written\"]!=1]\n"
     ]
    },
    {
     "name": "stdout",
     "output_type": "stream",
     "text": [
      "SET 6475 FUM FUM\n"
     ]
    },
    {
     "name": "stderr",
     "output_type": "stream",
     "text": [
      "/tmp/ipykernel_7352/2071744375.py:6: UserWarning: Boolean Series key will be reindexed to match DataFrame index.\n",
      "  remaining=remaining[mcl_df[\"Written\"]!=1]\n"
     ]
    },
    {
     "name": "stdout",
     "output_type": "stream",
     "text": [
      "SET 6476 FUM FUM\n"
     ]
    },
    {
     "name": "stderr",
     "output_type": "stream",
     "text": [
      "/tmp/ipykernel_7352/2071744375.py:6: UserWarning: Boolean Series key will be reindexed to match DataFrame index.\n",
      "  remaining=remaining[mcl_df[\"Written\"]!=1]\n"
     ]
    },
    {
     "name": "stdout",
     "output_type": "stream",
     "text": [
      "SET 13900 INA INAC\n"
     ]
    },
    {
     "name": "stderr",
     "output_type": "stream",
     "text": [
      "/tmp/ipykernel_7352/2071744375.py:6: UserWarning: Boolean Series key will be reindexed to match DataFrame index.\n",
      "  remaining=remaining[mcl_df[\"Written\"]!=1]\n"
     ]
    },
    {
     "name": "stdout",
     "output_type": "stream",
     "text": [
      "SET 20994 FUM FUM\n"
     ]
    },
    {
     "name": "stderr",
     "output_type": "stream",
     "text": [
      "/tmp/ipykernel_7352/2071744375.py:6: UserWarning: Boolean Series key will be reindexed to match DataFrame index.\n",
      "  remaining=remaining[mcl_df[\"Written\"]!=1]\n"
     ]
    },
    {
     "name": "stdout",
     "output_type": "stream",
     "text": [
      "SET 11516 EXP+FUM FUM+EXP\n"
     ]
    },
    {
     "name": "stderr",
     "output_type": "stream",
     "text": [
      "/tmp/ipykernel_7352/2071744375.py:6: UserWarning: Boolean Series key will be reindexed to match DataFrame index.\n",
      "  remaining=remaining[mcl_df[\"Written\"]!=1]\n"
     ]
    },
    {
     "name": "stdout",
     "output_type": "stream",
     "text": [
      "SET 19338 EXP+FUM FUM+EXP\n"
     ]
    },
    {
     "name": "stderr",
     "output_type": "stream",
     "text": [
      "/tmp/ipykernel_7352/2071744375.py:6: UserWarning: Boolean Series key will be reindexed to match DataFrame index.\n",
      "  remaining=remaining[mcl_df[\"Written\"]!=1]\n"
     ]
    },
    {
     "name": "stdout",
     "output_type": "stream",
     "text": [
      "SET 10427 EXP+FUM FUM+EXP\n"
     ]
    },
    {
     "name": "stderr",
     "output_type": "stream",
     "text": [
      "/tmp/ipykernel_7352/2071744375.py:6: UserWarning: Boolean Series key will be reindexed to match DataFrame index.\n",
      "  remaining=remaining[mcl_df[\"Written\"]!=1]\n"
     ]
    },
    {
     "name": "stdout",
     "output_type": "stream",
     "text": [
      "SET 14497 FUM FUM\n"
     ]
    },
    {
     "name": "stderr",
     "output_type": "stream",
     "text": [
      "/tmp/ipykernel_7352/2071744375.py:6: UserWarning: Boolean Series key will be reindexed to match DataFrame index.\n",
      "  remaining=remaining[mcl_df[\"Written\"]!=1]\n"
     ]
    },
    {
     "name": "stdout",
     "output_type": "stream",
     "text": [
      "SET 14028 EXP EXP\n"
     ]
    },
    {
     "name": "stderr",
     "output_type": "stream",
     "text": [
      "/tmp/ipykernel_7352/2071744375.py:6: UserWarning: Boolean Series key will be reindexed to match DataFrame index.\n",
      "  remaining=remaining[mcl_df[\"Written\"]!=1]\n"
     ]
    },
    {
     "name": "stdout",
     "output_type": "stream",
     "text": [
      "SET 14117 EXP EXP\n"
     ]
    },
    {
     "name": "stderr",
     "output_type": "stream",
     "text": [
      "/tmp/ipykernel_7352/2071744375.py:6: UserWarning: Boolean Series key will be reindexed to match DataFrame index.\n",
      "  remaining=remaining[mcl_df[\"Written\"]!=1]\n"
     ]
    },
    {
     "name": "stdout",
     "output_type": "stream",
     "text": [
      "SET 13346 EXP EXP\n"
     ]
    },
    {
     "name": "stderr",
     "output_type": "stream",
     "text": [
      "/tmp/ipykernel_7352/2071744375.py:6: UserWarning: Boolean Series key will be reindexed to match DataFrame index.\n",
      "  remaining=remaining[mcl_df[\"Written\"]!=1]\n"
     ]
    },
    {
     "name": "stdout",
     "output_type": "stream",
     "text": [
      "SET 9257 UNK UNK\n"
     ]
    },
    {
     "name": "stderr",
     "output_type": "stream",
     "text": [
      "/tmp/ipykernel_7352/2071744375.py:6: UserWarning: Boolean Series key will be reindexed to match DataFrame index.\n",
      "  remaining=remaining[mcl_df[\"Written\"]!=1]\n"
     ]
    },
    {
     "name": "stdout",
     "output_type": "stream",
     "text": [
      "SET 16711 EXP EXP\n"
     ]
    },
    {
     "name": "stderr",
     "output_type": "stream",
     "text": [
      "/tmp/ipykernel_7352/2071744375.py:6: UserWarning: Boolean Series key will be reindexed to match DataFrame index.\n",
      "  remaining=remaining[mcl_df[\"Written\"]!=1]\n"
     ]
    },
    {
     "name": "stdout",
     "output_type": "stream",
     "text": [
      "SET 7920 EXP EXP\n"
     ]
    },
    {
     "name": "stderr",
     "output_type": "stream",
     "text": [
      "/tmp/ipykernel_7352/2071744375.py:6: UserWarning: Boolean Series key will be reindexed to match DataFrame index.\n",
      "  remaining=remaining[mcl_df[\"Written\"]!=1]\n"
     ]
    },
    {
     "name": "stdout",
     "output_type": "stream",
     "text": [
      "SET 3815 EXP+FUM FUM+EXP\n"
     ]
    },
    {
     "name": "stderr",
     "output_type": "stream",
     "text": [
      "/tmp/ipykernel_7352/2071744375.py:6: UserWarning: Boolean Series key will be reindexed to match DataFrame index.\n",
      "  remaining=remaining[mcl_df[\"Written\"]!=1]\n"
     ]
    },
    {
     "name": "stdout",
     "output_type": "stream",
     "text": [
      "SET 10188 EXP EXP\n"
     ]
    },
    {
     "name": "stderr",
     "output_type": "stream",
     "text": [
      "/tmp/ipykernel_7352/2071744375.py:6: UserWarning: Boolean Series key will be reindexed to match DataFrame index.\n",
      "  remaining=remaining[mcl_df[\"Written\"]!=1]\n"
     ]
    },
    {
     "name": "stdout",
     "output_type": "stream",
     "text": [
      "SET 20670 FUM FUM\n"
     ]
    },
    {
     "name": "stderr",
     "output_type": "stream",
     "text": [
      "/tmp/ipykernel_7352/2071744375.py:6: UserWarning: Boolean Series key will be reindexed to match DataFrame index.\n",
      "  remaining=remaining[mcl_df[\"Written\"]!=1]\n"
     ]
    },
    {
     "name": "stdout",
     "output_type": "stream",
     "text": [
      "SET 20909 FUM FUM\n"
     ]
    },
    {
     "name": "stderr",
     "output_type": "stream",
     "text": [
      "/tmp/ipykernel_7352/2071744375.py:6: UserWarning: Boolean Series key will be reindexed to match DataFrame index.\n",
      "  remaining=remaining[mcl_df[\"Written\"]!=1]\n"
     ]
    },
    {
     "name": "stdout",
     "output_type": "stream",
     "text": [
      "SET 12634 EXP+FUM FUM+EXP\n"
     ]
    },
    {
     "name": "stderr",
     "output_type": "stream",
     "text": [
      "/tmp/ipykernel_7352/2071744375.py:6: UserWarning: Boolean Series key will be reindexed to match DataFrame index.\n",
      "  remaining=remaining[mcl_df[\"Written\"]!=1]\n"
     ]
    },
    {
     "name": "stdout",
     "output_type": "stream",
     "text": [
      "SET 12078 INA INAC\n"
     ]
    },
    {
     "name": "stderr",
     "output_type": "stream",
     "text": [
      "/tmp/ipykernel_7352/2071744375.py:6: UserWarning: Boolean Series key will be reindexed to match DataFrame index.\n",
      "  remaining=remaining[mcl_df[\"Written\"]!=1]\n"
     ]
    },
    {
     "name": "stdout",
     "output_type": "stream",
     "text": [
      "SET 9768 EXP EXP\n"
     ]
    },
    {
     "name": "stderr",
     "output_type": "stream",
     "text": [
      "/tmp/ipykernel_7352/2071744375.py:6: UserWarning: Boolean Series key will be reindexed to match DataFrame index.\n",
      "  remaining=remaining[mcl_df[\"Written\"]!=1]\n"
     ]
    },
    {
     "name": "stdout",
     "output_type": "stream",
     "text": [
      "SET 17328 EXP EXP\n"
     ]
    },
    {
     "name": "stderr",
     "output_type": "stream",
     "text": [
      "/tmp/ipykernel_7352/2071744375.py:6: UserWarning: Boolean Series key will be reindexed to match DataFrame index.\n",
      "  remaining=remaining[mcl_df[\"Written\"]!=1]\n"
     ]
    },
    {
     "name": "stdout",
     "output_type": "stream",
     "text": [
      "SET 13995 EXP EXP\n"
     ]
    },
    {
     "name": "stderr",
     "output_type": "stream",
     "text": [
      "/tmp/ipykernel_7352/2071744375.py:6: UserWarning: Boolean Series key will be reindexed to match DataFrame index.\n",
      "  remaining=remaining[mcl_df[\"Written\"]!=1]\n"
     ]
    },
    {
     "name": "stdout",
     "output_type": "stream",
     "text": [
      "SET 19665 EXP EXP\n"
     ]
    },
    {
     "name": "stderr",
     "output_type": "stream",
     "text": [
      "/tmp/ipykernel_7352/2071744375.py:6: UserWarning: Boolean Series key will be reindexed to match DataFrame index.\n",
      "  remaining=remaining[mcl_df[\"Written\"]!=1]\n"
     ]
    },
    {
     "name": "stdout",
     "output_type": "stream",
     "text": [
      "SET 11020 EXP EXP\n"
     ]
    },
    {
     "name": "stderr",
     "output_type": "stream",
     "text": [
      "/tmp/ipykernel_7352/2071744375.py:6: UserWarning: Boolean Series key will be reindexed to match DataFrame index.\n",
      "  remaining=remaining[mcl_df[\"Written\"]!=1]\n"
     ]
    },
    {
     "name": "stdout",
     "output_type": "stream",
     "text": [
      "SET 14649 EXP EXP\n"
     ]
    },
    {
     "name": "stderr",
     "output_type": "stream",
     "text": [
      "/tmp/ipykernel_7352/2071744375.py:6: UserWarning: Boolean Series key will be reindexed to match DataFrame index.\n",
      "  remaining=remaining[mcl_df[\"Written\"]!=1]\n"
     ]
    },
    {
     "name": "stdout",
     "output_type": "stream",
     "text": [
      "SET 733 INA INAC\n"
     ]
    },
    {
     "name": "stderr",
     "output_type": "stream",
     "text": [
      "/tmp/ipykernel_7352/2071744375.py:6: UserWarning: Boolean Series key will be reindexed to match DataFrame index.\n",
      "  remaining=remaining[mcl_df[\"Written\"]!=1]\n"
     ]
    },
    {
     "name": "stdout",
     "output_type": "stream",
     "text": [
      "SET 17366 EXP EXP\n"
     ]
    },
    {
     "name": "stderr",
     "output_type": "stream",
     "text": [
      "/tmp/ipykernel_7352/2071744375.py:6: UserWarning: Boolean Series key will be reindexed to match DataFrame index.\n",
      "  remaining=remaining[mcl_df[\"Written\"]!=1]\n"
     ]
    },
    {
     "name": "stdout",
     "output_type": "stream",
     "text": [
      "SET 17017 FUM FUM\n"
     ]
    },
    {
     "name": "stderr",
     "output_type": "stream",
     "text": [
      "/tmp/ipykernel_7352/2071744375.py:6: UserWarning: Boolean Series key will be reindexed to match DataFrame index.\n",
      "  remaining=remaining[mcl_df[\"Written\"]!=1]\n"
     ]
    },
    {
     "name": "stdout",
     "output_type": "stream",
     "text": [
      "SET 12260 UNK UNK\n"
     ]
    },
    {
     "name": "stderr",
     "output_type": "stream",
     "text": [
      "/tmp/ipykernel_7352/2071744375.py:6: UserWarning: Boolean Series key will be reindexed to match DataFrame index.\n",
      "  remaining=remaining[mcl_df[\"Written\"]!=1]\n"
     ]
    },
    {
     "name": "stdout",
     "output_type": "stream",
     "text": [
      "SET 478 UNK UNK\n"
     ]
    },
    {
     "name": "stderr",
     "output_type": "stream",
     "text": [
      "/tmp/ipykernel_7352/2071744375.py:6: UserWarning: Boolean Series key will be reindexed to match DataFrame index.\n",
      "  remaining=remaining[mcl_df[\"Written\"]!=1]\n"
     ]
    }
   ],
   "source": [
    "row,path=get_current_row()\n",
    "w,h=get_size(path)\n",
    "app = App(\n",
    "    height=h+25*6,\n",
    "    width=w, \n",
    "    bg=\"white\"\n",
    ")\n",
    "\n",
    "\n",
    "pic = Picture(app, image=path)\n",
    "TL1 = Text(app, text=\"[1]=Inactivo\")\n",
    "TL2 = Text(app, text=\"[2]=Explosión\")\n",
    "TL3 = Text(app, text=\"[3]=Fumarola\")\n",
    "TL4 = Text(app, text=\"[4]=Explosión Y Fumarola\")\n",
    "TL4 = Text(app, text=\"[5]=No sé\")\n",
    "TL5 = Text(app, text=f\"Modelo recomienda: {row['PredictedClass']} ({row['Certainty']:.02f}% seguro) | Actual: {row['RealClass']}\")\n",
    "\n",
    "classmap={\n",
    "    1:\"INAC\",\n",
    "    2:\"EXP\",\n",
    "    3:\"FUM\",\n",
    "    4:\"FUM+EXP\",\n",
    "    5:\"UNK\",\n",
    "}\n",
    "Input= TextBox(app, width=\"fill\", multiline=False)\n",
    "#Input.bg=\"black\"\n",
    "\n",
    "Barrier=False\n",
    "def textupdate():\n",
    "    global Barrier, row, path\n",
    "    if Barrier:\n",
    "        return\n",
    "    value=Input.value.strip()\n",
    "    Input.value=value\n",
    "    if len(value)==0 or value[-1]!=\".\":\n",
    "        return\n",
    "    Barrier=True\n",
    "    \n",
    "    class_=None\n",
    "    try:\n",
    "        num=int(value[:-1].strip())\n",
    "        class_=classmap[num]\n",
    "    except:\n",
    "        Input.value=\"\"\n",
    "        Barrier=False\n",
    "        return\n",
    "    df.to_feather(\"NN_INPUT.backup.feather\")\n",
    "    set_iclass(df,row.name,class_)\n",
    "    mcl_df.loc[row.name,\"Written\"]=1\n",
    "    #set_iclass(df,row.name,filtered[0])\n",
    "    df.to_feather(\"NN_INPUT.feather\")\n",
    "    print(\"SET\",row.name,get_iclass(df,row.name),class_)\n",
    "    while True:\n",
    "        try:\n",
    "            row,path=get_current_row()\n",
    "            pic.image=path\n",
    "            break\n",
    "        except Exception as E:\n",
    "            mcl_df.loc[row.name,\"Written\"]=1\n",
    "            print(\"FOUND ERROR\",E)\n",
    "        \n",
    "    TL5.clear()\n",
    "    TL5.append(f\"Modelo recomienda: {row['PredictedClass']} ({row['Certainty']:.02f}% seguro) | Actual: {row['RealClass']}\")\n",
    "    #print(\"NEXT:\",row)\n",
    "    #print(\"prev_y\",df.iloc[current_image_idx,-2])\n",
    "        \n",
    "    #Load another image and reset the input\n",
    "    #pic.image=get_next_image()\n",
    "\n",
    "    app.title=f'{remaining_ct} to go.'\n",
    "    Input.value=\"\"\n",
    "    Barrier=False\n",
    "Input.update_command(textupdate)\n",
    "Input.focus()\n",
    "\n",
    "    \n",
    "app.display()"
   ]
  },
  {
   "cell_type": "code",
   "execution_count": null,
   "id": "5e8d1941-278e-408a-9d10-9767f68f2d18",
   "metadata": {},
   "outputs": [],
   "source": []
  },
  {
   "cell_type": "code",
   "execution_count": null,
   "id": "8581c3a5-8094-49e3-8ec3-3bf17592987d",
   "metadata": {},
   "outputs": [],
   "source": []
  }
 ],
 "metadata": {
  "kernelspec": {
   "display_name": "Python 3 (ipykernel)",
   "language": "python",
   "name": "python3"
  },
  "language_info": {
   "codemirror_mode": {
    "name": "ipython",
    "version": 3
   },
   "file_extension": ".py",
   "mimetype": "text/x-python",
   "name": "python",
   "nbconvert_exporter": "python",
   "pygments_lexer": "ipython3",
   "version": "3.10.14"
  }
 },
 "nbformat": 4,
 "nbformat_minor": 5
}
