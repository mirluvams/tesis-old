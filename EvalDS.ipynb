{
 "cells": [
  {
   "cell_type": "code",
   "execution_count": 2,
   "id": "0b2a9321-7bc9-4b21-a04a-c6c4ef20d5f1",
   "metadata": {},
   "outputs": [],
   "source": [
    "from datasets import Dataset, ClassLabel, Image as dsImage"
   ]
  },
  {
   "cell_type": "code",
   "execution_count": 3,
   "id": "dba16c15-163a-4990-89bf-358008e5a87f",
   "metadata": {},
   "outputs": [],
   "source": [
    "import pandas as pd\n",
    "import numpy as np"
   ]
  },
  {
   "cell_type": "code",
   "execution_count": 4,
   "id": "55054bb8-89ab-422c-a7ac-ff32f70ca378",
   "metadata": {},
   "outputs": [],
   "source": [
    "import os"
   ]
  },
  {
   "cell_type": "code",
   "execution_count": 21,
   "id": "13e28360-964e-4cb7-8b02-dac483c4e381",
   "metadata": {},
   "outputs": [],
   "source": [
    "files=[]"
   ]
  },
  {
   "cell_type": "code",
   "execution_count": 22,
   "id": "42b53b91-4ff3-4f4d-a2c8-1c6665ff181b",
   "metadata": {},
   "outputs": [],
   "source": [
    "directory = 'images/2024/'\n",
    "for filename in os.listdir(directory):\n",
    "    filepath = os.path.join(directory, filename)\n",
    "    if os.path.isfile(filepath):\n",
    "        files.append(filepath)"
   ]
  },
  {
   "cell_type": "code",
   "execution_count": 23,
   "id": "d0b99bae-93f8-4a9c-8258-665447b598b1",
   "metadata": {},
   "outputs": [
    {
     "data": {
      "text/html": [
       "<div>\n",
       "<style scoped>\n",
       "    .dataframe tbody tr th:only-of-type {\n",
       "        vertical-align: middle;\n",
       "    }\n",
       "\n",
       "    .dataframe tbody tr th {\n",
       "        vertical-align: top;\n",
       "    }\n",
       "\n",
       "    .dataframe thead th {\n",
       "        text-align: right;\n",
       "    }\n",
       "</style>\n",
       "<table border=\"1\" class=\"dataframe\">\n",
       "  <thead>\n",
       "    <tr style=\"text-align: right;\">\n",
       "      <th></th>\n",
       "      <th>Path</th>\n",
       "      <th>auto_labels</th>\n",
       "      <th>labels</th>\n",
       "    </tr>\n",
       "  </thead>\n",
       "  <tbody>\n",
       "    <tr>\n",
       "      <th>0</th>\n",
       "      <td>images/2024/image_1.jpg</td>\n",
       "      <td></td>\n",
       "      <td></td>\n",
       "    </tr>\n",
       "    <tr>\n",
       "      <th>1</th>\n",
       "      <td>images/2024/image_10.jpg</td>\n",
       "      <td></td>\n",
       "      <td></td>\n",
       "    </tr>\n",
       "    <tr>\n",
       "      <th>2</th>\n",
       "      <td>images/2024/image_100.jpg</td>\n",
       "      <td></td>\n",
       "      <td></td>\n",
       "    </tr>\n",
       "    <tr>\n",
       "      <th>3</th>\n",
       "      <td>images/2024/image_101.jpg</td>\n",
       "      <td></td>\n",
       "      <td></td>\n",
       "    </tr>\n",
       "    <tr>\n",
       "      <th>4</th>\n",
       "      <td>images/2024/image_102.jpg</td>\n",
       "      <td></td>\n",
       "      <td></td>\n",
       "    </tr>\n",
       "    <tr>\n",
       "      <th>...</th>\n",
       "      <td>...</td>\n",
       "      <td>...</td>\n",
       "      <td>...</td>\n",
       "    </tr>\n",
       "    <tr>\n",
       "      <th>265</th>\n",
       "      <td>images/2024/image_95.jpg</td>\n",
       "      <td></td>\n",
       "      <td></td>\n",
       "    </tr>\n",
       "    <tr>\n",
       "      <th>266</th>\n",
       "      <td>images/2024/image_96.jpg</td>\n",
       "      <td></td>\n",
       "      <td></td>\n",
       "    </tr>\n",
       "    <tr>\n",
       "      <th>267</th>\n",
       "      <td>images/2024/image_97.jpg</td>\n",
       "      <td></td>\n",
       "      <td></td>\n",
       "    </tr>\n",
       "    <tr>\n",
       "      <th>268</th>\n",
       "      <td>images/2024/image_98.jpg</td>\n",
       "      <td></td>\n",
       "      <td></td>\n",
       "    </tr>\n",
       "    <tr>\n",
       "      <th>269</th>\n",
       "      <td>images/2024/image_99.jpg</td>\n",
       "      <td></td>\n",
       "      <td></td>\n",
       "    </tr>\n",
       "  </tbody>\n",
       "</table>\n",
       "<p>270 rows × 3 columns</p>\n",
       "</div>"
      ],
      "text/plain": [
       "                          Path auto_labels labels\n",
       "0      images/2024/image_1.jpg                   \n",
       "1     images/2024/image_10.jpg                   \n",
       "2    images/2024/image_100.jpg                   \n",
       "3    images/2024/image_101.jpg                   \n",
       "4    images/2024/image_102.jpg                   \n",
       "..                         ...         ...    ...\n",
       "265   images/2024/image_95.jpg                   \n",
       "266   images/2024/image_96.jpg                   \n",
       "267   images/2024/image_97.jpg                   \n",
       "268   images/2024/image_98.jpg                   \n",
       "269   images/2024/image_99.jpg                   \n",
       "\n",
       "[270 rows x 3 columns]"
      ]
     },
     "execution_count": 23,
     "metadata": {},
     "output_type": "execute_result"
    }
   ],
   "source": [
    "data=pd.DataFrame([files]).T\n",
    "data=pd.concat([data, pd.Series(np.full(data.shape[0], \"\")), pd.Series(np.full(data.shape[0], \"\"))], axis=1)\n",
    "data.columns=[\"Path\", \"auto_labels\", \"labels\"]\n",
    "data"
   ]
  },
  {
   "cell_type": "code",
   "execution_count": 24,
   "id": "cd041b9f-3109-474f-b971-637568d6956b",
   "metadata": {},
   "outputs": [],
   "source": [
    "#data.to_feather(\"eval_set.feather\")"
   ]
  },
  {
   "cell_type": "code",
   "execution_count": null,
   "id": "5fd33b10-6f44-449c-bfe9-1aec53759ea9",
   "metadata": {},
   "outputs": [],
   "source": []
  },
  {
   "cell_type": "code",
   "execution_count": 13,
   "id": "0d1834d4-7f52-4073-ac48-1e6d0bad86b1",
   "metadata": {},
   "outputs": [],
   "source": [
    "data=pd.read_feather(\"eval_set.feather\")"
   ]
  },
  {
   "cell_type": "code",
   "execution_count": 14,
   "id": "1c3c04ca-02b9-4041-ada0-0dc5aded3f4b",
   "metadata": {},
   "outputs": [],
   "source": [
    "data.drop(columns=[\"auto_labels\"], inplace=True)"
   ]
  },
  {
   "cell_type": "code",
   "execution_count": 15,
   "id": "65f22e17-b175-44a8-9293-eeed356e9f35",
   "metadata": {},
   "outputs": [],
   "source": [
    "def gen():\n",
    "    for i, row in data.iterrows():\n",
    "        yield {\n",
    "            \"image\":row[\"Path\"],\n",
    "            \"labels\":row[\"labels\"]\n",
    "        }\n",
    "        "
   ]
  },
  {
   "cell_type": "code",
   "execution_count": null,
   "id": "70d3bcb4-7fb9-44d3-80d6-13065e949103",
   "metadata": {},
   "outputs": [],
   "source": [
    "dataset=Dataset.from_generator(gen).cast_column(\"image\",dsImage()).cast_column(\"labels\",ClassLabel(names=data[\"labels\"].unique().tolist()))"
   ]
  },
  {
   "cell_type": "code",
   "execution_count": 25,
   "id": "4479b018-a2cc-4ec4-a476-7c1d7e99a83c",
   "metadata": {},
   "outputs": [
    {
     "data": {
      "image/png": "[encoded data removed]",
      "text/plain": [
       "<PIL.JpegImagePlugin.JpegImageFile image mode=L size=360x229 at 0x7F24140D22C0>"
      ]
     },
     "execution_count": 25,
     "metadata": {},
     "output_type": "execute_result"
    }
   ],
   "source": [
    "dataset[0][\"image\"]"
   ]
  },
  {
   "cell_type": "code",
   "execution_count": 26,
   "id": "1507a737-abcd-4442-820e-4eb0cd506ccf",
   "metadata": {},
   "outputs": [
    {
     "data": {
      "application/vnd.jupyter.widget-view+json": {
       "model_id": "12c0c5a7fdb742b5b184620c7affb588",
       "version_major": 2,
       "version_minor": 0
      },
      "text/plain": [
       "Saving the dataset (0/1 shards):   0%|          | 0/270 [00:00<?, ? examples/s]"
      ]
     },
     "metadata": {},
     "output_type": "display_data"
    }
   ],
   "source": [
    "dataset.save_to_disk(\"popocatepetl-eval-dataset\")"
   ]
  },
  {
   "cell_type": "code",
   "execution_count": null,
   "id": "74ceafd0-13fb-4545-adbe-259d24ca48f3",
   "metadata": {},
   "outputs": [],
   "source": []
  }
 ],
 "metadata": {
  "kernelspec": {
   "display_name": "Python 3 (ipykernel)",
   "language": "python",
   "name": "python3"
  },
  "language_info": {
   "codemirror_mode": {
    "name": "ipython",
    "version": 3
   },
   "file_extension": ".py",
   "mimetype": "text/x-python",
   "name": "python",
   "nbconvert_exporter": "python",
   "pygments_lexer": "ipython3",
   "version": "3.10.12"
  }
 },
 "nbformat": 4,
 "nbformat_minor": 5
}
